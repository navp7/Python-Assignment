{
 "cells": [
  {
   "cell_type": "markdown",
   "id": "03f16d5f-396f-4324-b7c3-01e660449e08",
   "metadata": {},
   "source": [
    "# 04 Feb Assignment"
   ]
  },
  {
   "cell_type": "markdown",
   "id": "1bd15e88-8468-4d40-999c-0a1219de0730",
   "metadata": {},
   "source": [
    "### Q1. Create a python program to sort the given list of tuples based on integer value using a lambda function.\n",
    "### [('Sachin Tendulkar', 34357), ('Ricky Ponting', 27483), ('Jack Kallis', 25534), ('Virat Kohli', 24936)]"
   ]
  },
  {
   "cell_type": "code",
   "execution_count": 19,
   "id": "d28b74a9-dbef-487f-866f-246874346aef",
   "metadata": {},
   "outputs": [
    {
     "name": "stdout",
     "output_type": "stream",
     "text": [
      "\n",
      "Sorting the List of Tuples:\n",
      "[('Virat Kohli', 24936), ('Jack Kallis', 25534), ('Ricky Ponting', 27483), ('Sachin Tendulkar', 34357)]\n"
     ]
    }
   ],
   "source": [
    "l = [('Sachin Tendulkar', 34357), ('Ricky Ponting', 27483), ('Jack Kallis', 25534), ('Virat Kohli', 24936)]\n",
    "l.sort(key = lambda x : x[1])\n",
    "print(\"\\nSorting the List of Tuples:\")\n",
    "print(l)"
   ]
  },
  {
   "cell_type": "markdown",
   "id": "c3dc63bd-2d23-470b-a432-eb7e15dbe0ba",
   "metadata": {},
   "source": [
    "## Q2. Write a Python Program to find the squares of all the numbers in the given list of integers using lambda and map functions.\n",
    "## [1, 2, 3, 4, 5, 6, 7, 8, 9, 10]"
   ]
  },
  {
   "cell_type": "code",
   "execution_count": 21,
   "id": "d4f4f5fb-5af2-439d-a5af-215c8d36b3fc",
   "metadata": {},
   "outputs": [],
   "source": [
    "l1 = [1, 2, 3, 4, 5, 6, 7, 8, 9, 10]"
   ]
  },
  {
   "cell_type": "code",
   "execution_count": 22,
   "id": "c1992193-ed0e-4a4a-8262-8a4d3484a12a",
   "metadata": {},
   "outputs": [
    {
     "data": {
      "text/plain": [
       "[1, 4, 9, 16, 25, 36, 49, 64, 81, 100]"
      ]
     },
     "execution_count": 22,
     "metadata": {},
     "output_type": "execute_result"
    }
   ],
   "source": [
    "list(map (lambda x:x**2,l1))"
   ]
  },
  {
   "cell_type": "markdown",
   "id": "1db6f849-1d53-4a21-ab89-275265bab3e5",
   "metadata": {},
   "source": [
    "## Q3. Write a python program to convert the given list of integers into a tuple of strings. Use map and lambda functions\n",
    "## Given String: [1, 2, 3, 4, 5, 6, 7, 8, 9, 10]"
   ]
  },
  {
   "cell_type": "code",
   "execution_count": 24,
   "id": "b022a2d4-5de3-4f7d-8a85-dd4114d25dbc",
   "metadata": {},
   "outputs": [
    {
     "data": {
      "text/plain": [
       "('1', '2', '3', '4', '5', '6', '7', '8', '9', '10')"
      ]
     },
     "execution_count": 24,
     "metadata": {},
     "output_type": "execute_result"
    }
   ],
   "source": [
    "l2 = [1, 2, 3, 4, 5, 6, 7, 8, 9, 10]\n",
    "tuple(map(lambda y: str(y) , l2))"
   ]
  },
  {
   "cell_type": "markdown",
   "id": "5222b905-159e-4468-bd26-ec0f92e95675",
   "metadata": {},
   "source": [
    "## Q4. Write a python program using reduce function to compute the product of a list containing numbers from 1 to 25."
   ]
  },
  {
   "cell_type": "code",
   "execution_count": 1,
   "id": "8f82c765-130a-419b-bf7b-730aaee1b826",
   "metadata": {},
   "outputs": [],
   "source": [
    "from functools import reduce \n",
    "l3 = [1,2,3,4,5,6,7,8,9,10,11,12,13,14,15,16,17,18,19,20,21,22,23,24,25]\n",
    "a = (reduce(lambda x,y : x*y ,l3))"
   ]
  },
  {
   "cell_type": "code",
   "execution_count": 2,
   "id": "cc9ba156-9fe1-4f84-aa85-600b79b14c7f",
   "metadata": {},
   "outputs": [
    {
     "name": "stdout",
     "output_type": "stream",
     "text": [
      "15511210043330985984000000\n"
     ]
    }
   ],
   "source": [
    "print(a)"
   ]
  },
  {
   "cell_type": "markdown",
   "id": "d955c8f4-e5a1-4f0b-b185-ed16c21d271f",
   "metadata": {},
   "source": [
    "### Q5. Write a python program to filter the numbers in a given list that are divisible by 2 and 3 using the filter function.\n",
    "### [2, 3, 6, 9, 27, 60, 90, 120, 55, 46]"
   ]
  },
  {
   "cell_type": "code",
   "execution_count": 28,
   "id": "7ef8a27f-fb3f-4572-8c7e-0e1c387ef385",
   "metadata": {},
   "outputs": [
    {
     "data": {
      "text/plain": [
       "[6, 60, 90, 120]"
      ]
     },
     "execution_count": 28,
     "metadata": {},
     "output_type": "execute_result"
    }
   ],
   "source": [
    "l4 = [2, 3, 6, 9, 27, 60, 90, 120, 55, 46]\n",
    "\n",
    "list(filter(lambda x: x%6==0, l4))\n",
    "           \n",
    "    "
   ]
  },
  {
   "cell_type": "markdown",
   "id": "343d9fcb-9a09-475c-9e26-274c379e535c",
   "metadata": {},
   "source": [
    "### Q6. Write a python program to find palindromes in the given list of strings using lambda and filter function.\n",
    "### ['python', 'php', 'aba', 'radar', 'level']"
   ]
  },
  {
   "cell_type": "code",
   "execution_count": 31,
   "id": "84e5efe8-a3d1-46c1-a3cc-a87ac090e6b8",
   "metadata": {},
   "outputs": [
    {
     "ename": "NameError",
     "evalue": "name 'reverse' is not defined",
     "output_type": "error",
     "traceback": [
      "\u001b[0;31m---------------------------------------------------------------------------\u001b[0m",
      "\u001b[0;31mNameError\u001b[0m                                 Traceback (most recent call last)",
      "Cell \u001b[0;32mIn[31], line 2\u001b[0m\n\u001b[1;32m      1\u001b[0m l5\u001b[38;5;241m=\u001b[39m[\u001b[38;5;124m'\u001b[39m\u001b[38;5;124mpython\u001b[39m\u001b[38;5;124m'\u001b[39m, \u001b[38;5;124m'\u001b[39m\u001b[38;5;124mphp\u001b[39m\u001b[38;5;124m'\u001b[39m, \u001b[38;5;124m'\u001b[39m\u001b[38;5;124maba\u001b[39m\u001b[38;5;124m'\u001b[39m, \u001b[38;5;124m'\u001b[39m\u001b[38;5;124mradar\u001b[39m\u001b[38;5;124m'\u001b[39m, \u001b[38;5;124m'\u001b[39m\u001b[38;5;124mlevel\u001b[39m\u001b[38;5;124m'\u001b[39m]\n\u001b[0;32m----> 2\u001b[0m \u001b[38;5;28;43mlist\u001b[39;49m\u001b[43m(\u001b[49m\u001b[38;5;28;43mfilter\u001b[39;49m\u001b[43m(\u001b[49m\u001b[38;5;28;43;01mlambda\u001b[39;49;00m\u001b[43m \u001b[49m\u001b[43mx\u001b[49m\u001b[43m:\u001b[49m\u001b[43m \u001b[49m\u001b[43mx\u001b[49m\u001b[38;5;241;43m==\u001b[39;49m\u001b[43mreverse\u001b[49m\u001b[43m(\u001b[49m\u001b[43mx\u001b[49m\u001b[43m)\u001b[49m\u001b[43m,\u001b[49m\u001b[43ml5\u001b[49m\u001b[43m)\u001b[49m\u001b[43m)\u001b[49m\n",
      "Cell \u001b[0;32mIn[31], line 2\u001b[0m, in \u001b[0;36m<lambda>\u001b[0;34m(x)\u001b[0m\n\u001b[1;32m      1\u001b[0m l5\u001b[38;5;241m=\u001b[39m[\u001b[38;5;124m'\u001b[39m\u001b[38;5;124mpython\u001b[39m\u001b[38;5;124m'\u001b[39m, \u001b[38;5;124m'\u001b[39m\u001b[38;5;124mphp\u001b[39m\u001b[38;5;124m'\u001b[39m, \u001b[38;5;124m'\u001b[39m\u001b[38;5;124maba\u001b[39m\u001b[38;5;124m'\u001b[39m, \u001b[38;5;124m'\u001b[39m\u001b[38;5;124mradar\u001b[39m\u001b[38;5;124m'\u001b[39m, \u001b[38;5;124m'\u001b[39m\u001b[38;5;124mlevel\u001b[39m\u001b[38;5;124m'\u001b[39m]\n\u001b[0;32m----> 2\u001b[0m \u001b[38;5;28mlist\u001b[39m(\u001b[38;5;28mfilter\u001b[39m(\u001b[38;5;28;01mlambda\u001b[39;00m x: x\u001b[38;5;241m==\u001b[39m\u001b[43mreverse\u001b[49m(x),l5))\n",
      "\u001b[0;31mNameError\u001b[0m: name 'reverse' is not defined"
     ]
    }
   ],
   "source": [
    "l5=['python', 'php', 'aba', 'radar', 'level']\n",
    "list(filter(lambda x: x==reverse(x),l5))"
   ]
  },
  {
   "cell_type": "code",
   "execution_count": null,
   "id": "0ffea03c-8d1a-4c13-a6fe-cba0ce6dc96a",
   "metadata": {},
   "outputs": [],
   "source": []
  }
 ],
 "metadata": {
  "kernelspec": {
   "display_name": "Python 3 (ipykernel)",
   "language": "python",
   "name": "python3"
  },
  "language_info": {
   "codemirror_mode": {
    "name": "ipython",
    "version": 3
   },
   "file_extension": ".py",
   "mimetype": "text/x-python",
   "name": "python",
   "nbconvert_exporter": "python",
   "pygments_lexer": "ipython3",
   "version": "3.10.8"
  }
 },
 "nbformat": 4,
 "nbformat_minor": 5
}
