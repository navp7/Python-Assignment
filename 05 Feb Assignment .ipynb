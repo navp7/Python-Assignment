{
 "cells": [
  {
   "cell_type": "markdown",
   "id": "131b0d9e-7799-4032-8262-06f5523dde8f",
   "metadata": {},
   "source": [
    "## 05 Feb Assignment"
   ]
  },
  {
   "cell_type": "markdown",
   "id": "5903a947-c918-445e-ac07-922f99357953",
   "metadata": {},
   "source": [
    "### Q1. Explain Class and Object with respect to Object-Oriented Programming. Give a suitable example."
   ]
  },
  {
   "cell_type": "markdown",
   "id": "b5639082-55a8-4423-96a4-b96ab653c3b7",
   "metadata": {},
   "source": [
    "#### Ans: \n",
    "#### A class is considered as a blueprint of objects. We can think of the class as a classification of any real world entity for example a bike. It contains many details like the model, engines, speed, etc.\n",
    "\n",
    "#### We use the class keyword to create a class in Python. For example,\n",
    "        class Bike:\n",
    "        name = \"Hero\"\n",
    "        gear = \"4-speed\"\n",
    "        Here,\n",
    "        Bike - the name of the class\n",
    "        name/gear - variables inside the class with default values \"Hero\" and \"4-speed\" respectively."
   ]
  },
  {
   "cell_type": "markdown",
   "id": "d6044d76-14e3-4b14-985c-1eb597157a80",
   "metadata": {},
   "source": [
    "#### An object is called an instance of a class. For example, suppose Bike is a class then we can create objects like bike1, bike2, etc from the class."
   ]
  },
  {
   "cell_type": "code",
   "execution_count": 4,
   "id": "971884c3-1d79-4027-984b-1dbc385e895b",
   "metadata": {},
   "outputs": [
    {
     "name": "stdout",
     "output_type": "stream",
     "text": [
      "Bike Name: kawasaki, Bike Gears: 5-speed \n",
      "Bike Name: Ducati, Bike Gears: 7-speed \n"
     ]
    }
   ],
   "source": [
    "# Example:\n",
    "# define a class\n",
    "class Bike:\n",
    "    gear = \"5-speed\"\n",
    "    name = \"kawasaki\"\n",
    "\n",
    "# create object of class\n",
    "bike1 = Bike()\n",
    "bike2 = Bike()\n",
    "# access attributes and assign new values\n",
    "bike2.gear = \"7-speed\"\n",
    "bike2.name = \"Ducati\"\n",
    "\n",
    "print(f\"Bike Name: {bike1.name}, Bike Gears: {bike1.gear} \")\n",
    "print(f\"Bike Name: {bike2.name}, Bike Gears: {bike2.gear} \")"
   ]
  },
  {
   "cell_type": "markdown",
   "id": "dbd18cf7-a024-467e-90f6-c5f521d0471c",
   "metadata": {},
   "source": [
    "### Q2. Name the four pillars of OOPs."
   ]
  },
  {
   "cell_type": "markdown",
   "id": "3dcd619a-7150-4a4d-9f26-067aa60191aa",
   "metadata": {},
   "source": [
    "#### Ans: \n",
    "####   1. Polymorphism\n",
    "####    2. Encapsulation\n",
    "####    3. Abstraction\n",
    "####   4. Inheritance"
   ]
  },
  {
   "cell_type": "markdown",
   "id": "bfe87459-0375-4f97-aa04-a3912712d8d9",
   "metadata": {},
   "source": [
    "## Q3. Explain why the __init__() function is used. Give a suitable example."
   ]
  },
  {
   "cell_type": "markdown",
   "id": "bf1eae5e-9be9-4865-ae16-67aff6d160f5",
   "metadata": {},
   "source": [
    "#### Ans : The __ init __ method is similar to constructors in C++ and Java. Constructors are used to initialize the object’s state. Like methods, a constructor also contains a collection of statements(i.e. instructions) that are executed at the time of Object creation. It runs as soon as an object of a class is instantiated. The method is useful to do any initialization you want to do with your object."
   ]
  },
  {
   "cell_type": "code",
   "execution_count": 6,
   "id": "afa698da-df8b-4302-b00e-12f028f4747c",
   "metadata": {},
   "outputs": [
    {
     "name": "stdout",
     "output_type": "stream",
     "text": [
      "Hello, my name is Navneet\n"
     ]
    }
   ],
   "source": [
    "#Example\n",
    "class person:\n",
    "\n",
    "\t# init method or constructor\n",
    "\tdef __init__(self, name):\n",
    "\t\tself.name = name\n",
    "\n",
    "\t# Sample Method\n",
    "\tdef say_hi(self):\n",
    "\t\tprint('Hello, my name is', self.name)\n",
    "\n",
    "\n",
    "p = person('Navneet')\n",
    "p.say_hi()\n"
   ]
  },
  {
   "cell_type": "markdown",
   "id": "28cae254-e554-4d72-ae0a-a93dfc512510",
   "metadata": {},
   "source": [
    "## Q4. Why self is used in OOPs?"
   ]
  },
  {
   "cell_type": "markdown",
   "id": "88daa503-b763-4dc5-ab94-ab67dfa3ff13",
   "metadata": {},
   "source": [
    "#### Ans : The self parameter is a reference to the current instance of the class, and is used to access variables that belongs to the class.\n",
    "\n",
    "#### It does not have to be named self , you can call it whatever you like, but it has to be the first parameter of any function in the class"
   ]
  },
  {
   "cell_type": "markdown",
   "id": "f3d42d21-a6b2-47fa-bb71-e09bc7846aa6",
   "metadata": {},
   "source": [
    "## Q5. What is inheritance? Give an example for each type of inheritance."
   ]
  },
  {
   "cell_type": "markdown",
   "id": "9ecdffc3-b4ee-4ebf-8a71-aedafd46712c",
   "metadata": {},
   "source": [
    "#### Ans: Inheritance is defined as the mechanism of inheriting the properties of the base class to the child class. "
   ]
  },
  {
   "cell_type": "markdown",
   "id": "97d7d490-7c69-4c72-b557-1d8f1a617eef",
   "metadata": {},
   "source": [
    "#### Types of Inheritance depend upon the number of child and parent classes involved. There are four types of inheritance in Python:"
   ]
  },
  {
   "cell_type": "markdown",
   "id": "0d95c6c9-1d53-4b88-af1f-17861352c1a8",
   "metadata": {},
   "source": [
    "#### 1. Single inheritance enables a derived class to inherit properties from a single parent class, thus enabling code reusability and the addition of new features to existing code"
   ]
  },
  {
   "cell_type": "code",
   "execution_count": 9,
   "id": "25908f13-f649-4f2e-8aa8-9d9eef78a073",
   "metadata": {},
   "outputs": [
    {
     "name": "stdout",
     "output_type": "stream",
     "text": [
      "This function is in parent class.\n",
      "This function is in child class.\n"
     ]
    }
   ],
   "source": [
    "# single inheritance\n",
    " \n",
    "# Base class\n",
    "class Parent:\n",
    "    def func1(self):\n",
    "        print(\"This function is in parent class.\")\n",
    " \n",
    "# Derived class\n",
    " \n",
    " \n",
    "class Child(Parent):\n",
    "    def func2(self):\n",
    "        print(\"This function is in child class.\")\n",
    " \n",
    " \n",
    "# Driver's code\n",
    "object = Child()\n",
    "object.func1()\n",
    "object.func2()"
   ]
  },
  {
   "cell_type": "markdown",
   "id": "b27e2cbb-271b-42fd-9c75-6919685de6c0",
   "metadata": {},
   "source": [
    "#### 2. Multiple Inheritance: When a class can be derived from more than one base class this type of inheritance is called multiple inheritances. In multiple inheritances, all the features of the base classes are inherited into the derived class. "
   ]
  },
  {
   "cell_type": "code",
   "execution_count": 12,
   "id": "e803d49b-443c-4a30-8529-3f9605c24b78",
   "metadata": {},
   "outputs": [
    {
     "name": "stdout",
     "output_type": "stream",
     "text": [
      "Father : RAM\n",
      "Mother : SITA\n"
     ]
    }
   ],
   "source": [
    "# multiple inheritance\n",
    " \n",
    "# Base class1\n",
    "class Mother:\n",
    "    mothername = \"\"\n",
    " \n",
    "    def mother(self):\n",
    "        print(self.mothername)\n",
    "\n",
    "# Base class2\n",
    " \n",
    "class Father:\n",
    "    fathername = \"\"\n",
    " \n",
    "    def father(self):\n",
    "        print(self.fathername)\n",
    "\n",
    "# Derived class\n",
    " \n",
    "class Son(Mother, Father):\n",
    "    def parents(self):\n",
    "        print(\"Father :\", self.fathername)\n",
    "        print(\"Mother :\", self.mothername)\n",
    " \n",
    " \n",
    "# Driver's code\n",
    "s1 = Son()\n",
    "s1.fathername = \"RAM\"\n",
    "s1.mothername = \"SITA\"\n",
    "s1.parents()"
   ]
  },
  {
   "cell_type": "markdown",
   "id": "75155e6b-9f9f-4d00-9ce3-78b7fe4c4332",
   "metadata": {},
   "source": [
    "#### 3. Multilevel Inheritance : It features such as the base class and the derived class are further inherited into the new derived class. This is similar to a relationship representing a child and a grandfather. "
   ]
  },
  {
   "cell_type": "code",
   "execution_count": 13,
   "id": "4ad3f08e-b325-49da-817d-3ad75a5c72ca",
   "metadata": {},
   "outputs": [
    {
     "name": "stdout",
     "output_type": "stream",
     "text": [
      "Lal mani\n",
      "Grandfather name : Lal mani\n",
      "Father name : Rampal\n",
      "Son name : Prince\n"
     ]
    }
   ],
   "source": [
    "#multilevel inheritance\n",
    " \n",
    "# Base class\n",
    " \n",
    "class Grandfather:\n",
    " \n",
    "    def __init__(self, grandfathername):\n",
    "        self.grandfathername = grandfathername\n",
    "\n",
    "#Intermediate class\n",
    " \n",
    "class Father(Grandfather):\n",
    "    def __init__(self, fathername, grandfathername):\n",
    "        self.fathername = fathername\n",
    " \n",
    "        # invoking constructor of Grandfather class\n",
    "        Grandfather.__init__(self, grandfathername)\n",
    "\n",
    "#Derived class\n",
    " \n",
    "class Son(Father):\n",
    "    def __init__(self, sonname, fathername, grandfathername):\n",
    "        self.sonname = sonname\n",
    " \n",
    "        # invoking constructor of Father class\n",
    "        Father.__init__(self, fathername, grandfathername)\n",
    " \n",
    "    def print_name(self):\n",
    "        print('Grandfather name :', self.grandfathername)\n",
    "        print(\"Father name :\", self.fathername)\n",
    "        print(\"Son name :\", self.sonname)\n",
    " \n",
    " \n",
    "#  Driver code\n",
    "s1 = Son('Prince', 'Rampal', 'Lal mani')\n",
    "print(s1.grandfathername)\n",
    "s1.print_name()"
   ]
  },
  {
   "cell_type": "markdown",
   "id": "9bb1bc95-cccf-480e-a475-1857dd51c944",
   "metadata": {},
   "source": [
    "#### 4. Hierarchical Inheritance: When more than one derived class are created from a single base this type of inheritance is called hierarchical inheritance. In this program, we have a parent (base) class and two child (derived) classes."
   ]
  },
  {
   "cell_type": "code",
   "execution_count": 14,
   "id": "4fd72c4e-0c93-46fd-a515-bd02fb78c161",
   "metadata": {},
   "outputs": [
    {
     "name": "stdout",
     "output_type": "stream",
     "text": [
      "This function is in parent class.\n",
      "This function is in child 1.\n",
      "This function is in parent class.\n",
      "This function is in child 2.\n"
     ]
    }
   ],
   "source": [
    "# Hierarchical inheritance\n",
    " \n",
    "#Base class\n",
    "class Parent:\n",
    "    def func1(self):\n",
    "        print(\"This function is in parent class.\")\n",
    "\n",
    "#Derived class1\n",
    " \n",
    "class Child1(Parent):\n",
    "    def func2(self):\n",
    "        print(\"This function is in child 1.\")\n",
    "\n",
    "#Derivied class2\n",
    " \n",
    "class Child2(Parent):\n",
    "    def func3(self):\n",
    "        print(\"This function is in child 2.\")\n",
    " \n",
    " \n",
    "# Driver's code\n",
    "object1 = Child1()\n",
    "object2 = Child2()\n",
    "object1.func1()\n",
    "object1.func2()\n",
    "object2.func1()\n",
    "object2.func3()"
   ]
  },
  {
   "cell_type": "markdown",
   "id": "bdb58997-14f1-4460-9653-7b60d9eabca4",
   "metadata": {},
   "source": [
    "#### 5. Hybrid Inheritance: Inheritance consisting of multiple types of inheritance is called hybrid inheritance."
   ]
  },
  {
   "cell_type": "code",
   "execution_count": 15,
   "id": "14856c55-e558-409d-87d3-4751a2f6b4b5",
   "metadata": {},
   "outputs": [
    {
     "name": "stdout",
     "output_type": "stream",
     "text": [
      "This function is in school.\n",
      "This function is in student 1. \n"
     ]
    }
   ],
   "source": [
    "# hybrid inheritance\n",
    " \n",
    "class School:\n",
    "    def func1(self):\n",
    "        print(\"This function is in school.\")\n",
    " \n",
    " \n",
    "class Student1(School):\n",
    "    def func2(self):\n",
    "        print(\"This function is in student 1. \")\n",
    " \n",
    " \n",
    "class Student2(School):\n",
    "    def func3(self):\n",
    "        print(\"This function is in student 2.\")\n",
    " \n",
    " \n",
    "class Student3(Student1, School):\n",
    "    def func4(self):\n",
    "        print(\"This function is in student 3.\")\n",
    " \n",
    " \n",
    "# Driver's code\n",
    "object = Student3()\n",
    "object.func1()\n",
    "object.func2()"
   ]
  },
  {
   "cell_type": "code",
   "execution_count": null,
   "id": "92640180-0ea6-4026-9e95-4334318d9321",
   "metadata": {},
   "outputs": [],
   "source": []
  }
 ],
 "metadata": {
  "kernelspec": {
   "display_name": "Python 3 (ipykernel)",
   "language": "python",
   "name": "python3"
  },
  "language_info": {
   "codemirror_mode": {
    "name": "ipython",
    "version": 3
   },
   "file_extension": ".py",
   "mimetype": "text/x-python",
   "name": "python",
   "nbconvert_exporter": "python",
   "pygments_lexer": "ipython3",
   "version": "3.10.8"
  }
 },
 "nbformat": 4,
 "nbformat_minor": 5
}
