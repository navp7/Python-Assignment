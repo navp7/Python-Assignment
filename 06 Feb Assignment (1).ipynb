{
 "cells": [
  {
   "cell_type": "markdown",
   "id": "c3a42b69-5756-4958-943b-42cf5cf51763",
   "metadata": {},
   "source": [
    "# 06 Feb Assignment"
   ]
  },
  {
   "cell_type": "markdown",
   "id": "3800932b-ce4f-42cf-ad2e-c863c073f096",
   "metadata": {},
   "source": [
    "### Q1. Create a function which will take a list as an argument and return the product of all the numbers after creating a flat list. Use the below-given list as an argument for your function.\n",
    "\n",
    "#### list1 = [1,2,3,4, [44,55,66, True], False, (34,56,78,89,34), {1,2,3,3,2,1}, {1:34, \"key2\": [55, 67, 78, 89], 4: (45, 22, 61, 34)}, [56, 'data science'], 'Machine Learning']\n",
    "#### Note: you must extract numeric keys and values of the dictionary also."
   ]
  },
  {
   "cell_type": "code",
   "execution_count": 19,
   "id": "9b8b9107-f990-4b51-9089-ea9cc8b120d7",
   "metadata": {},
   "outputs": [
    {
     "name": "stdout",
     "output_type": "stream",
     "text": [
      "Flatten list: [1, 2, 3, 4, 44, 55, 66, 34, 56, 78, 89, 34, 1, 2, 3, 34, 55, 67, 78, 89, 45, 22, 61, 34, 1, 4, 56]\n",
      "Multiplication of each elements: 4134711838987085478833841242112000\n"
     ]
    }
   ],
   "source": [
    "list1 = [1,2,3,4, [44,55,66, True], False, (34,56,78,89,34), {1,2,3,3,2,1}, \n",
    "         {1:34, \"key2\": [55, 67, 78, 89], 4: (45, 22, 61, 34)}, \n",
    "         [56, 'data science'], 'Machine Learning']\n",
    "\n",
    "a=[]\n",
    "x=[]\n",
    "#Iterating over the list1\n",
    "#Extracting integers from the list1\n",
    "for i in list1:        \n",
    "    if type(i)==int:  \n",
    "        a.append(i)\n",
    "        #Extracting integers within the nested list of list1\n",
    "    elif type(i)==list:                     \n",
    "        for j in i:\n",
    "            if type(j)==int:\n",
    "                a.append(j) \n",
    "        #Extracting integers within the nested tuple of list1\n",
    "    elif type(i)==tuple:\n",
    "        for k in i:\n",
    "            if type(k)==int:\n",
    "                a.append(k) \n",
    "        #Extracting integers within the nested set of list1\n",
    "    elif type(i)==set:\n",
    "        for l in i:\n",
    "            if type(l)==int:\n",
    "                a.append(l)\n",
    "        #Extracting integers within the nested dict of list1\n",
    "    elif type(i)==dict:\n",
    "        x = list(i.values())\n",
    "        t = list(i.keys())\n",
    "        x.append(t)\n",
    "        for x1 in x:\n",
    "            if type(x1)==int:\n",
    "                a.append(x1)\n",
    "            elif type(x1)==list:\n",
    "                for x2 in x1:\n",
    "                    if type(x2)==int:\n",
    "                        a.append(x2)\n",
    "            elif type(x1)==tuple:\n",
    "                for x3 in x1:\n",
    "                    if type(x3)==int:\n",
    "                        a.append(x3)\n",
    "\n",
    "#Converting into flatten list & mulitpling each elements\n",
    "from functools import reduce \n",
    "mul = reduce(lambda x, y: x * y, a)\n",
    "print(\"Flatten list:\", a)\n",
    "print('Multiplication of each elements:' ,mul)\n"
   ]
  },
  {
   "cell_type": "markdown",
   "id": "799d9f8c-bd17-4db8-a1a2-3877cd1eeda5",
   "metadata": {},
   "source": [
    "### Write a python program for encrypting a message sent to you by your friend. The logic of encryption should be such that, for a the output should be z. For b, the output should be y. For c, the output should be x respectively. Also, the whitespace should be replaced with a dollar sign. Keep the punctuation marks unchanged.\n",
    "### Input Sentence: I want to become a Data Scientist.\n",
    "### Encrypt the above input sentence using the program you just created.\n",
    "### Note: Convert the given input sentence into lowercase before encrypting. The final output should be lowercase."
   ]
  },
  {
   "cell_type": "code",
   "execution_count": 26,
   "id": "0d18a985-cb61-440b-8657-d23a6ca9a61c",
   "metadata": {},
   "outputs": [
    {
     "name": "stdout",
     "output_type": "stream",
     "text": [
      "Encrypted Message: i$wznt$to$yexome$z$dztz$sxientist.\n"
     ]
    }
   ],
   "source": [
    "# Code:\n",
    "\n",
    "# defining a function to create a encryption\n",
    "def enc(msg):\n",
    "\ttxt = msg.lower()\n",
    "\tx = txt.replace(\"a\", \"z\")\n",
    "\ty = x.replace(\"b\",\"y\") \n",
    "\tz = y.replace(\"c\",\"x\") \n",
    "\ta = z.replace(\" \",\"$\") \n",
    "\treturn(a)\n",
    "\n",
    "msg = \"I want to become a Data Scientist.\"\n",
    "print('Encrypted Message:', enc(msg))"
   ]
  },
  {
   "cell_type": "code",
   "execution_count": null,
   "id": "04d36575-271b-49e1-bbdd-60bc11cc0978",
   "metadata": {},
   "outputs": [],
   "source": []
  }
 ],
 "metadata": {
  "kernelspec": {
   "display_name": "Python 3 (ipykernel)",
   "language": "python",
   "name": "python3"
  },
  "language_info": {
   "codemirror_mode": {
    "name": "ipython",
    "version": 3
   },
   "file_extension": ".py",
   "mimetype": "text/x-python",
   "name": "python",
   "nbconvert_exporter": "python",
   "pygments_lexer": "ipython3",
   "version": "3.10.8"
  }
 },
 "nbformat": 4,
 "nbformat_minor": 5
}
