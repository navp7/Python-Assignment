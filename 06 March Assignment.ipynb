{
 "cells": [
  {
   "cell_type": "markdown",
   "id": "7cbeb9e3-6baf-45ec-a651-14897ed407c2",
   "metadata": {},
   "source": [
    "## Statistics Basic-1"
   ]
  },
  {
   "cell_type": "markdown",
   "id": "6609cdee-ba01-4f1f-a5dd-cdf57937a15c",
   "metadata": {},
   "source": [
    "### Q1. What is Statistics?"
   ]
  },
  {
   "cell_type": "markdown",
   "id": "5f5f2307-1c16-4fca-93c5-67d8714a4853",
   "metadata": {},
   "source": [
    "Ans: \n",
    "    \n",
    "Statistics is a branch of mathematics that deals with the collection, analysis, interpretation, presentation, and organization of data. Its primary purpose is to extract meaningful information from raw data and draw inferences or conclusions about a population based on the sample data.\n",
    "\n",
    "The main objectives of statistics are:\n",
    "\n",
    "1. Data Collection: This involves gathering information from various sources through surveys, experiments, observations, or other data collection methods.\n",
    "\n",
    "2. Data Organization: Once the data is collected, it needs to be organized in a systematic way for easier analysis. This can involve sorting, categorizing, and tabulating the data.\n",
    "\n",
    "3. Data Analysis: Statistical techniques are employed to analyze the data. This can include measures like averages, percentages, correlations, regression analysis, and more complex methods like hypothesis testing and inferential statistics.\n",
    "\n",
    "4. Data Interpretation: The results of the data analysis are then interpreted to draw meaningful conclusions and make informed decisions.\n",
    "\n",
    "5. Presentation of Findings: The final step is to present the analyzed data and conclusions in a clear and concise manner, often using charts, graphs, tables, and summary statistics.\n",
    "\n",
    "Statistics plays a crucial role in various fields, including scientific research, social sciences, economics, business, medicine, engineering, and many others. It helps researchers and decision-makers to understand patterns, trends, and relationships within data, make predictions, and test hypotheses. Moreover, statistics also aids in making informed decisions in the face of uncertainty and variability in the data."
   ]
  },
  {
   "cell_type": "markdown",
   "id": "53760c34-8361-4570-8c3b-3964b7c129fa",
   "metadata": {},
   "source": [
    "### Q2. Define the different types of statistics and give an example of when each type might be used."
   ]
  },
  {
   "cell_type": "markdown",
   "id": "fe87690d-6d34-4de1-986f-9b2b8d3ddddf",
   "metadata": {},
   "source": [
    "Statistics can be broadly categorized into two main types: descriptive statistics and inferential statistics.\n",
    "\n",
    "1. Descriptive Statistics:\n",
    "Descriptive statistics involve methods for summarizing and describing the main features of a dataset. They provide a clear and concise way to present and analyze data. Some common measures and techniques used in descriptive statistics include:\n",
    "\n",
    "a. Measures of Central Tendency: These measures represent the central or typical value of a dataset. Examples include the mean, median, and mode. For instance, the mean salary of employees in a company gives an idea of the average income of its workforce.\n",
    "\n",
    "b. Measures of Dispersion: These measures quantify the spread or variability of the data. Examples include the range, variance, and standard deviation. If a sales manager wants to understand how sales numbers fluctuate, they might use the standard deviation of monthly sales figures.\n",
    "\n",
    "c. Frequency Distributions: This involves organizing data into groups or intervals and counting the number of occurrences in each group. Histograms are a common way to visualize frequency distributions, showing the distribution of scores in different categories.\n",
    "\n",
    "d. Percentiles and Quartiles: These measures help identify specific points in a dataset. For instance, the 25th percentile represents the value below which 25% of the data falls.\n",
    "\n",
    "Example: Descriptive statistics can be used in market research to understand customer preferences. A survey might collect data on the age, gender, and purchasing habits of customers. Descriptive statistics can then be used to summarize the data, such as calculating the average age of customers or creating a frequency distribution of product preferences.\n",
    "\n",
    "2. Inferential Statistics:\n",
    "Inferential statistics involve making predictions or drawing conclusions about a population based on a sample of data. These techniques use probability theory to make inferences and test hypotheses. Some common methods used in inferential statistics include:\n",
    "\n",
    "a. Hypothesis Testing: This involves formulating a hypothesis about a population parameter and then testing it using sample data. For example, a pharmaceutical company may conduct an experiment to test whether a new drug is more effective than an existing one.\n",
    "\n",
    "b. Confidence Intervals: A confidence interval provides a range of values within which the true population parameter is likely to lie. For instance, a political poll might use a confidence interval to estimate the percentage of voters who support a particular candidate.\n",
    "\n",
    "c. Regression Analysis: This helps identify relationships between variables and can be used for prediction. For instance, a company may use regression analysis to predict sales based on advertising expenditure.\n",
    "\n",
    "d. Sampling Techniques: Inferential statistics heavily rely on appropriate sampling methods to ensure that the sample accurately represents the population of interest.\n",
    "\n",
    "Example: In medical research, inferential statistics can be used to determine the effectiveness of a new drug treatment. A randomized controlled trial might be conducted, and inferential statistics would be used to analyze the results and draw conclusions about whether the drug has a significant effect on the population's health compared to a placebo."
   ]
  },
  {
   "cell_type": "markdown",
   "id": "22b2d9f2-fba0-4e04-baca-efe4838215fb",
   "metadata": {},
   "source": [
    "### Q3. What are the different types of data and how do they differ from each other? Provide an example of each type of data."
   ]
  },
  {
   "cell_type": "markdown",
   "id": "2e327c4e-4559-4cc8-8c27-0381112b8b75",
   "metadata": {},
   "source": [
    "Data can be broadly categorized into four main types based on their nature and properties. These data types are nominal, ordinal, interval, and ratio. The key differences between these data types lie in the level of measurement and the operations that can be performed on them.\n",
    "\n",
    "1. Nominal Data:\n",
    "Nominal data is the simplest form of data and represents categories or names without any inherent order. Each value in nominal data is distinct and cannot be quantified. Nominal data is qualitative and can only be categorized into groups. Examples of nominal data include gender (e.g., male or female), colors (e.g., red, blue, green), and types of animals (e.g., dog, cat, bird).\n",
    "\n",
    "2. Ordinal Data:\n",
    "Ordinal data, unlike nominal data, has a natural order or ranking between the categories. However, the differences between the categories are not precisely quantifiable. The intervals between the values are unknown or not meaningful. Ordinal data is useful for ranking items or expressing preferences. Examples include rankings in a competition (1st place, 2nd place, etc.), education levels (e.g., high school, bachelor's, master's), or customer satisfaction ratings (e.g., very dissatisfied, neutral, very satisfied).\n",
    "\n",
    "3. Interval Data:\n",
    "Interval data has a clear order between the values, and the intervals between the values are equal and meaningful. However, there is no true zero point in interval data. In other words, the absence of a value does not indicate a complete absence of the characteristic being measured. Common examples of interval data include temperature measured in Celsius or Fahrenheit. The difference between 20°C and 30°C is the same as the difference between 30°C and 40°C, but 0°C does not mean an absence of temperature.\n",
    "\n",
    "4. Ratio Data:\n",
    "Ratio data has a clear order between values, equal intervals, and a true zero point, where zero represents the absence of the characteristic being measured. Ratio data allows for meaningful ratios between values. Common examples of ratio data include height, weight, age, income, and time. For instance, if someone's age is 30 years old, and another person's age is 60 years old, we can say the second person is twice as old as the first person."
   ]
  },
  {
   "cell_type": "markdown",
   "id": "8fff3f98-f601-4151-9295-bc38a783c6c2",
   "metadata": {},
   "source": [
    "### Q4. Categorise the following datasets with respect to quantitative and qualitative data types:\n",
    "\n",
    "(i) Grading in exam: A+, A, B+, B, C+, C, D, E\n",
    "\n",
    "(ii) Colour of mangoes: yellow, green, orange, red\n",
    "\n",
    "(iii) Height data of a class: [178.9, 179, 179.5, 176, 177.2, 178.3, 175.8,...]\n",
    "\n",
    "(iv) Number of mangoes exported by a farm: [500, 600, 478, 672, ...]"
   ]
  },
  {
   "cell_type": "markdown",
   "id": "92128610-0c4c-4b93-a7cc-e8272cc4f3ed",
   "metadata": {},
   "source": [
    "#### Quantitative Data:\n",
    "    \n",
    "1. Height data of a class: [178.9, 179, 179.5, 176, 177.2, 178.3, 175.8,...]\n",
    "\n",
    "2. Number of mangoes exported by a farm: [500, 600, 478, 672, ...]\n",
    "\n",
    "#### Qualitative Date:\n",
    "    \n",
    "1. Colour of mangoes: yellow, green, orange, red\n",
    "\n",
    "2. Grading in exam: A+, A, B+, B, C+, C, D, E"
   ]
  },
  {
   "cell_type": "markdown",
   "id": "b6f509fe-da30-4cc9-b6ce-d798f88af1d6",
   "metadata": {},
   "source": [
    "### Q5. Explain the concept of levels of measurement and give an example of a variable for each level."
   ]
  },
  {
   "cell_type": "markdown",
   "id": "dba4fb36-2237-4fa7-8236-817c0ca314bc",
   "metadata": {},
   "source": [
    "The concept of levels of measurement, also known as \"scales of measurement\" or \"data types,\" refers to the different ways in which data can be categorized based on the properties and characteristics of the variables being measured. There are four primary levels of measurement: nominal, ordinal, interval, and ratio. Each level has distinct features that determine the types of operations that can be performed on the data and the level of mathematical sophistication involved in the analysis.\n",
    "\n",
    "1. Nominal Level of Measurement:\n",
    "At the nominal level, data is categorized into distinct categories or groups. The values are merely labels or names, and there is no inherent order or ranking among the categories. Nominal data is qualitative and can only be used for counting and categorization. Examples of variables at the nominal level are:\n",
    "\n",
    "- Eye Color: Categories could be \"blue,\" \"brown,\" \"green,\" etc.\n",
    "- Marital Status: Categories could be \"single,\" \"married,\" \"divorced,\" \"widowed,\" etc.\n",
    "\n",
    "2. Ordinal Level of Measurement:\n",
    "Ordinal data has a natural order or ranking among the categories, but the differences between the values are not precisely quantifiable. It allows for comparisons of relative magnitude but does not provide information about the actual intervals between the values. Examples of variables at the ordinal level are:\n",
    "\n",
    "- Educational Levels: Categories could be \"elementary school,\" \"high school,\" \"associate's degree,\" \"bachelor's degree,\" \"master's degree,\" \"Ph.D. degree,\" etc.\n",
    "- Performance Rating: Categories could be \"poor,\" \"fair,\" \"good,\" \"excellent,\" etc.\n",
    "\n",
    "3. Interval Level of Measurement:\n",
    "Interval data has a clear order between values, and the intervals between the values are equal and meaningful. However, it lacks a true zero point, meaning that zero does not indicate a complete absence of the characteristic being measured. Interval data allows for mathematical operations like addition and subtraction but not multiplication or division. Examples of variables at the interval level are:\n",
    "\n",
    "- Temperature (Celsius or Fahrenheit): Values like 20°C, 30°C, and 40°C have equal intervals between them, but 0°C does not indicate the complete absence of temperature.\n",
    "- Calendar Dates: Differences between dates like January 1st and January 15th are meaningful, but a date of 0 does not exist.\n",
    "\n",
    "4. Ratio Level of Measurement:\n",
    "Ratio data possesses all the properties of interval data, but it also has a true zero point, indicating an absolute absence of the characteristic being measured. This level allows for all mathematical operations. Examples of variables at the ratio level are:\n",
    "\n",
    "- Height: Measured in centimeters or inches, where a value of 0 indicates no height (a person's height cannot be negative).\n",
    "- Weight: Measured in kilograms or pounds, with a value of 0 indicating no weight.\n",
    "\n",
    "Understanding the levels of measurement is crucial for selecting appropriate statistical analysis methods and interpreting the results accurately based on the nature of the data being analyzed."
   ]
  },
  {
   "cell_type": "markdown",
   "id": "ddb7f655-8cbe-4ffa-9b6d-680e021c28fb",
   "metadata": {},
   "source": [
    "### Q6. Why is it important to understand the level of measurement when analyzing data? Provide an example to illustrate your answer."
   ]
  },
  {
   "cell_type": "markdown",
   "id": "44bfe7c2-b6a0-4182-9856-9c2a4343ddc8",
   "metadata": {},
   "source": [
    "Understanding the level of measurement when analyzing data is crucial because it determines the appropriate statistical methods that can be applied and the level of mathematical operations that can be performed on the data. Using an inappropriate analysis method based on the data's level of measurement can lead to inaccurate conclusions and misinterpretations of the results.\n",
    "\n",
    "Here's an example to illustrate the importance of understanding the level of measurement:\n",
    "\n",
    "Let's consider a study that aims to assess the satisfaction levels of customers in a restaurant. The researchers collect data from 100 customers and ask them to rate their dining experience using the following options: \"very dissatisfied,\" \"somewhat dissatisfied,\" \"neutral,\" \"satisfied,\" and \"very satisfied.\"\n",
    "\n",
    "1. If the data is analyzed without considering the level of measurement:\n",
    "If the researchers treat this ordinal data as nominal data (simply categories without any order), they might convert the responses to numerical codes (e.g., 1 for \"very dissatisfied,\" 2 for \"somewhat dissatisfied,\" and so on) and calculate the mean of these codes. This approach would not be appropriate because the numbers assigned do not represent any meaningful quantity or interval. Calculating the mean would imply that the \"average\" opinion falls somewhere between categories, which does not make sense in this context.\n",
    "\n",
    "2. If the data is appropriately analyzed at the ordinal level:\n",
    "Recognizing that the data is ordinal, the researchers should use non-parametric statistical tests like the Mann-Whitney U-test or Kruskal-Wallis test to compare satisfaction levels between different groups (e.g., different days of the week or meal times). These tests consider the ranking of data without assuming equal intervals between the response categories, making the analysis appropriate for ordinal data.\n",
    "\n",
    "3. If the data is mistakenly treated as interval data:\n",
    "Treating the data as interval when it's actually ordinal could lead to false conclusions. For example, if the researchers calculate the mean satisfaction score, assuming equal intervals between the response categories, they might conclude that the average satisfaction level is the \"neutral\" category. However, this conclusion would be misleading because the \"neutral\" category may not have a precise numerical meaning, and the gaps between categories are not necessarily equal.\n",
    "\n",
    "By understanding the level of measurement, researchers can apply the appropriate statistical techniques and ensure the accuracy and reliability of their findings. This knowledge helps in making informed decisions based on the data's true nature, leading to more meaningful insights and conclusions."
   ]
  },
  {
   "cell_type": "markdown",
   "id": "126c149f-10f5-4f2c-85e2-c3297ec38ddd",
   "metadata": {},
   "source": [
    "### Q7. How nominal data type is different from ordinal data type."
   ]
  },
  {
   "cell_type": "markdown",
   "id": "c08973ab-cb66-4eec-94ff-b6bcd574258d",
   "metadata": {},
   "source": [
    "1. Nominal Data:\n",
    "Nominal data is the simplest form of categorical data. In this level of measurement, data is organized into distinct categories or groups without any inherent order or ranking among them. The values in nominal data are typically labels or names used to differentiate between different groups. Nominal data is qualitative in nature and can only be categorized into classes. Here are some key features of nominal data:\n",
    "\n",
    "- No Order: There is no natural or meaningful order or ranking between the categories. They are merely different labels or groups.\n",
    "- Equality of Categories: All categories in nominal data are considered equally important and do not have any quantitative significance.\n",
    "- Examples: Gender (male, female), Colors (red, blue, green), Marital Status (single, married, divorced).\n",
    "\n",
    "2. Ordinal Data:\n",
    "Ordinal data, on the other hand, includes the properties of nominal data but goes a step further by having a natural order or ranking among the categories. While the differences between the values are not precisely quantifiable, ordinal data allows for comparisons of relative magnitude or preference. Here are the key characteristics of ordinal data:\n",
    "\n",
    "- Order or Ranking: The categories in ordinal data have a specific sequence or rank that represents the order of importance or preference.\n",
    "- Differences Not Quantifiable: Although there is a relative ranking, the intervals between the values are unknown or not meaningful in terms of measurement.\n",
    "- Examples: Educational Levels (elementary, high school, bachelor's, master's), Rating Scales (poor, fair, good, excellent), Ranks in a Competition (1st place, 2nd place, 3rd place).\n",
    "\n",
    "The main difference between nominal and ordinal data lies in the presence of order or ranking. Nominal data has distinct categories with no inherent order, while ordinal data has categories with a natural order, but the intervals between them are not precisely measurable. Understanding these differences is essential for appropriate data analysis and choosing the correct statistical methods when dealing with categorical data."
   ]
  },
  {
   "cell_type": "markdown",
   "id": "99e3895b-0636-4b44-9d15-fa3bb0a7a065",
   "metadata": {},
   "source": [
    "### Q8. Which type of plot can be used to display data in terms of range?"
   ]
  },
  {
   "cell_type": "markdown",
   "id": "b5739869-0f21-4ba2-aab4-2e02947170b0",
   "metadata": {},
   "source": [
    "A type of plot that can be used to display data in terms of range is the \"box plot,\" also known as a \"box-and-whisker plot.\" Box plots are particularly useful for visualizing the distribution of numerical data and understanding the spread or variability of the data points.\n",
    "\n",
    "A box plot displays the following key statistics of a dataset:\n",
    "\n",
    "1. Median (Q2): The middle value of the data, which separates the lower 50% of the data from the upper 50%.\n",
    "\n",
    "2. Quartiles (Q1 and Q3): The first quartile (Q1) represents the 25th percentile, and the third quartile (Q3) represents the 75th percentile. These values divide the data into four equal parts.\n",
    "\n",
    "3. Interquartile Range (IQR): The IQR is the range between the first and third quartiles (Q3 - Q1) and represents the middle 50% of the data.\n",
    "\n",
    "4. Minimum and Maximum Values: The smallest and largest data points within a specified range, excluding any outliers.\n",
    "\n",
    "The box plot is created using a rectangular box, where the box represents the IQR, and a line inside the box represents the median. \"Whiskers\" extend from the edges of the box to indicate the range of the data, excluding outliers. Outliers are represented as individual points beyond the whiskers.\n",
    "\n",
    "Box plots are helpful for identifying the spread and skewness of the data and for detecting potential outliers. They allow for quick comparisons between different groups or distributions in a dataset."
   ]
  },
  {
   "cell_type": "markdown",
   "id": "c2a1c9b0-92c7-4802-bbe9-df756f579a89",
   "metadata": {},
   "source": [
    "### Q9. Describe the difference between descriptive and inferential statistics. Give an example of each type of statistics and explain how they are used."
   ]
  },
  {
   "cell_type": "markdown",
   "id": "98928f27-fa10-4827-b295-4c19cafad060",
   "metadata": {},
   "source": [
    "Descriptive Statistics:\n",
    "Descriptive statistics involves the methods and techniques used to summarize, organize, and present data in a meaningful and concise manner. It helps to describe the main features of a dataset, such as its central tendency, dispersion, and shape. Descriptive statistics provide a snapshot of the data and do not involve making inferences or generalizations about a larger population. It is primarily concerned with the properties of the sample data itself. Some common examples of descriptive statistics include:\n",
    "\n",
    "1. Mean: The average value of a set of numbers. For example, calculating the mean score of a class on a test to understand the overall performance.\n",
    "\n",
    "2. Standard Deviation: A measure of how much the data points deviate from the mean. It indicates the variability or spread of the data. For instance, determining the standard deviation of sales figures to understand how sales fluctuate.\n",
    "\n",
    "3. Histogram: A graphical representation of the frequency distribution of data. It shows the number of data points that fall into various intervals or bins. Histograms help visualize the distribution of data.\n",
    "\n",
    "Inferential Statistics:\n",
    "Inferential statistics involves making predictions, drawing conclusions, and making generalizations about a population based on a sample of data. It uses probability theory to estimate population parameters and test hypotheses. Inferential statistics allows researchers to go beyond the specific data they have and make broader inferences. Some common examples of inferential statistics include:\n",
    "\n",
    "1. Hypothesis Testing: A statistical technique used to test a hypothesis or claim about a population. For example, determining whether a new drug is more effective than the current treatment by conducting a clinical trial.\n",
    "\n",
    "2. Confidence Intervals: These provide a range of values within which the true population parameter is likely to lie with a certain level of confidence. For instance, calculating a 95% confidence interval for the average income of a city's residents.\n",
    "\n",
    "3. Regression Analysis: A method used to model and analyze the relationship between two or more variables. For example, predicting sales based on advertising expenditure using linear regression.\n",
    "\n",
    "Example Explanation:\n",
    "\n",
    "Descriptive Statistics Example:\n",
    "Suppose a researcher collects data on the heights of students in a school class. They calculate the mean height, which gives an average height for that particular class. This descriptive statistic provides a summary of the heights of the students in that specific class without making any generalizations about other classes or the overall population.\n",
    "\n",
    "Inferential Statistics Example:\n",
    "Let's say a pollster conducts a survey to estimate the proportion of voters who support a particular political candidate in a city. They collect data from a sample of registered voters and calculate the proportion of supporters in the sample. Using inferential statistics, they can then use this sample proportion to estimate the proportion of supporters in the entire population of voters in the city and provide a confidence interval to indicate the level of certainty in their estimation."
   ]
  },
  {
   "cell_type": "markdown",
   "id": "bef8a60d-f9df-410c-9499-843b9922b612",
   "metadata": {},
   "source": [
    "### Q10. What are some common measures of central tendency and variability used in statistics? Explain how each measure can be used to describe a dataset."
   ]
  },
  {
   "cell_type": "markdown",
   "id": "21e3dd2a-fdfc-4556-a38e-6444b38e3c73",
   "metadata": {},
   "source": [
    "Measures of Central Tendency:\n",
    "Measures of central tendency are used to describe the center or typical value of a dataset. They provide a single representative value around which the data tends to cluster. The three common measures of central tendency are:\n",
    "\n",
    "1. Mean: The mean is the arithmetic average of a set of data points. To calculate the mean, you add up all the values and divide by the number of data points. The mean is sensitive to extreme values (outliers) and provides a balanced representation of the data.\n",
    "\n",
    "Example: If you have test scores of 80, 85, 90, 70, and 95, the mean score would be (80 + 85 + 90 + 70 + 95) / 5 = 84.\n",
    "\n",
    "2. Median: The median is the middle value of a dataset when it is arranged in ascending or descending order. If there is an odd number of data points, the median is the middle value. If there is an even number of data points, the median is the average of the two middle values.\n",
    "\n",
    "Example: In the same set of test scores as before (80, 85, 90, 70, 95), the median score is 85, which is the middle value.\n",
    "\n",
    "3. Mode: The mode is the value that occurs most frequently in a dataset. A dataset can have one mode (unimodal), two modes (bimodal), or more than two modes (multimodal).\n",
    "\n",
    "Example: For the test scores (80, 85, 90, 70, 95, 90), the mode is 90 since it appears twice, more than any other score.\n",
    "\n",
    "Measures of Variability:\n",
    "Measures of variability describe the spread or dispersion of data points in a dataset. They help understand how much the individual values deviate from the central tendency measures. Common measures of variability include:\n",
    "\n",
    "1. Range: The range is the difference between the maximum and minimum values in a dataset. It gives an idea of the spread of the data but is sensitive to outliers.\n",
    "\n",
    "Example: For the test scores (80, 85, 90, 70, 95), the range would be 95 - 70 = 25.\n",
    "\n",
    "2. Variance: Variance measures the average squared deviation of each data point from the mean. A higher variance indicates greater variability in the data.\n",
    "\n",
    "Example: To calculate the variance, first, find the mean (84 in this case). Then, calculate the squared difference between each score and the mean: (80 - 84)^2, (85 - 84)^2, (90 - 84)^2, (70 - 84)^2, (95 - 84)^2. Add up these squared differences and divide by the number of data points.\n",
    "\n",
    "3. Standard Deviation: The standard deviation is the square root of the variance. It is a widely used measure of variability as it is in the same unit as the data and provides a clearer understanding of the spread.\n",
    "\n",
    "Example: Continuing from the variance example, after calculating the variance, take the square root to find the standard deviation."
   ]
  },
  {
   "cell_type": "code",
   "execution_count": null,
   "id": "6b5fd776-132c-49bc-a170-b7e778a1f40b",
   "metadata": {},
   "outputs": [],
   "source": []
  }
 ],
 "metadata": {
  "kernelspec": {
   "display_name": "Python 3 (ipykernel)",
   "language": "python",
   "name": "python3"
  },
  "language_info": {
   "codemirror_mode": {
    "name": "ipython",
    "version": 3
   },
   "file_extension": ".py",
   "mimetype": "text/x-python",
   "name": "python",
   "nbconvert_exporter": "python",
   "pygments_lexer": "ipython3",
   "version": "3.10.8"
  }
 },
 "nbformat": 4,
 "nbformat_minor": 5
}
