{
 "cells": [
  {
   "cell_type": "markdown",
   "id": "76dd7c4e-fb76-41ce-894f-1d1c426e775e",
   "metadata": {},
   "source": [
    "### Q1. You are writing code for a company. The requirement of the company is that you create a python function that will check whether the password entered by the user is correct or not. The function should take the password as input and return the string “Valid Password” if the entered password follows the below-given password guidelines else it should return “Invalid Password”.\n",
    "Note:\n",
    "1. The Password should contain at least two uppercase letters and at least two lowercase letters.\n",
    "2. The Password should contain at least a number and three special characters.\n",
    "3. The length of the password should be 10 characters long."
   ]
  },
  {
   "cell_type": "code",
   "execution_count": 2,
   "id": "fa1ecda0-8517-4cdb-8c01-16fcd2ddf2aa",
   "metadata": {},
   "outputs": [],
   "source": [
    "#Code\n",
    "#Creating a function:\n",
    "def pasw(msg):\n",
    "    upper_count=0\n",
    "    lower_count=0\n",
    "    int_count=0\n",
    "    spl_count=0\n",
    "    for i in msg:\n",
    "        if i.isupper()==True:     # Checking UpperCase letters in Password\n",
    "            upper_count+=1         \n",
    "        \n",
    "        elif i.islower()==True:   # Checking LowerCase letters in Password\n",
    "            lower_count+=1\n",
    "        \n",
    "        elif i.isdigit()==True:    # Checking numeric elements in Password\n",
    "            int_count+=1\n",
    "\n",
    "    s='[@_!#$%^&*()<>?/\\|}\"{~:]'    # Checking special characters in Password\n",
    "    l=len(msg)\n",
    "    for j in range(l):\n",
    "        if msg[j] in s:\n",
    "            spl_count+=1\n",
    "\n",
    "     # Combining all conditions:\n",
    "    if upper_count>=2 and lower_count>=2 and int_count>=1 and spl_count>=3 and l>=10:\n",
    "         return ('Valid Password')\n",
    "    else:\n",
    "        return ('Invalid Password')"
   ]
  },
  {
   "cell_type": "code",
   "execution_count": 3,
   "id": "681ccf49-e6e3-4bd2-9c95-265fccf73ccb",
   "metadata": {},
   "outputs": [
    {
     "data": {
      "text/plain": [
       "'Valid Password'"
      ]
     },
     "execution_count": 3,
     "metadata": {},
     "output_type": "execute_result"
    }
   ],
   "source": [
    "pasw('@#$QWer123')"
   ]
  },
  {
   "cell_type": "markdown",
   "id": "2887ad31-8697-4b1d-9043-f190ed00de6e",
   "metadata": {},
   "source": [
    "### Q2. Solve the below-given questions using at least one of the following:\n",
    "1. Lambda function\n",
    "2. Filter function\n",
    "3. Map function\n",
    "4. List Comprehension\n",
    "\n",
    "* Check if the string starts with a particular letter.\n",
    "* Check if the string is numeric.\n",
    "* Sort a list of tuples having fruit names and their quantity. [(\"mango\",99),(\"orange\",80), (\"grapes\", 1000)]\n",
    "* Find the squares of numbers from 1 to 10.\n",
    "* Find the cube root of numbers from 1 to 10.\n",
    "* Check if a given number is even.\n",
    "* Filter odd numbers from the given list.\n",
    "[1,2,3,4,5,6,7,8,9,10]\n",
    "* Sort a list of integers into positive and negative integers lists.\n",
    "[1,2,3,4,5,6,-1,-2,-3,-4,-5,0]"
   ]
  },
  {
   "cell_type": "code",
   "execution_count": null,
   "id": "29dc9ee9-ab88-409b-947c-f20efb19e1ce",
   "metadata": {},
   "outputs": [],
   "source": [
    "#Check if a given string starts with a letter.\n",
    "\n",
    "l = str(input())\n",
    "y = lambda x : not(x[0].isnumeric()) \n",
    "y(l)"
   ]
  },
  {
   "cell_type": "code",
   "execution_count": 12,
   "id": "73627ccc-f37c-417d-833c-3738d1616b2f",
   "metadata": {},
   "outputs": [
    {
     "name": "stdin",
     "output_type": "stream",
     "text": [
      " 1567\n"
     ]
    },
    {
     "data": {
      "text/plain": [
       "True"
      ]
     },
     "execution_count": 12,
     "metadata": {},
     "output_type": "execute_result"
    }
   ],
   "source": [
    "#Check if a given string is numeric.\n",
    "\n",
    "l = str(input())\n",
    "y = lambda x : x.isnumeric()\n",
    "y(l)"
   ]
  },
  {
   "cell_type": "code",
   "execution_count": 13,
   "id": "37cacede-8230-4dbf-b55d-726f2010a7ab",
   "metadata": {},
   "outputs": [
    {
     "name": "stdout",
     "output_type": "stream",
     "text": [
      "[('orange', 80), ('mango', 99), ('grapes', 1000)]\n"
     ]
    }
   ],
   "source": [
    "# Sort list of tuples\n",
    "lst = [(\"mango\",99),(\"orange\",80), (\"grapes\", 1000)]\n",
    "lst.sort(key=lambda x:x[1])\n",
    "print(lst)"
   ]
  },
  {
   "cell_type": "code",
   "execution_count": null,
   "id": "48a17f08-f326-4b64-a453-4e143e940794",
   "metadata": {},
   "outputs": [
    {
     "name": "stdout",
     "output_type": "stream",
     "text": [
      "[1, 4, 9, 16, 25, 36, 49, 64, 81, 100]\n"
     ]
    }
   ],
   "source": [
    "#Squares of number:\n",
    "\n",
    "l=[1,2,3,4,5,6,7,8,9,10]\n",
    "y = map(lambda x : x*x , l)\n",
    "print(list(y))"
   ]
  },
  {
   "cell_type": "code",
   "execution_count": 17,
   "id": "0b565b7a-851c-46a7-b6cf-d4bdb148b5a8",
   "metadata": {},
   "outputs": [
    {
     "name": "stdout",
     "output_type": "stream",
     "text": [
      "[1.0, 1.2599210498948732, 1.4422495703074083, 1.5874010519681994, 1.7099759466766968, 1.8171205928321397, 1.912931182772389, 2.0, 2.080083823051904, 2.154434690031884]\n"
     ]
    }
   ],
   "source": [
    "#Cube roots of number:\n",
    "\n",
    "l=[1,2,3,4,5,6,7,8,9,10]\n",
    "y = map(lambda x : x**(1/3) , l)\n",
    "print(list(y))"
   ]
  },
  {
   "cell_type": "code",
   "execution_count": 3,
   "id": "581b075e-1aa0-4c09-8f64-b84bd956917e",
   "metadata": {},
   "outputs": [
    {
     "name": "stdout",
     "output_type": "stream",
     "text": [
      "[1, 3, 5, 7, 9]\n"
     ]
    }
   ],
   "source": [
    "# Filter odd numbers;\n",
    "\n",
    "l=[1,2,3,4,5,6,7,8,9,10]\n",
    "\n",
    "y = filter(lambda x : x%2!=0,l)\n",
    "print(list(y))"
   ]
  },
  {
   "cell_type": "code",
   "execution_count": 7,
   "id": "ea054249-f3ba-4d8e-b795-51ed6c3c60ae",
   "metadata": {},
   "outputs": [
    {
     "name": "stdout",
     "output_type": "stream",
     "text": [
      "Positive List: [0, 1, 2, 3, 4, 5, 6]\n",
      "Negative List: [-5, -4, -3, -2, -1]\n"
     ]
    }
   ],
   "source": [
    "#Sorting positive and negative integer list\n",
    "\n",
    "l2=[1,2,3,4,5,6,-1,-2,-3,-4,-5,0]\n",
    "\n",
    "pos = list(filter(lambda x : x>=0 , l2))\n",
    "neg = list(filter(lambda y : y<0 , l2))\n",
    "pos.sort()\n",
    "neg.sort()\n",
    "print('Positive List:', pos)\n",
    "print('Negative List:',neg)"
   ]
  },
  {
   "cell_type": "code",
   "execution_count": null,
   "id": "6f505593-1dbc-4e5d-9f67-31be757bdd88",
   "metadata": {},
   "outputs": [],
   "source": []
  }
 ],
 "metadata": {
  "kernelspec": {
   "display_name": "Python 3 (ipykernel)",
   "language": "python",
   "name": "python3"
  },
  "language_info": {
   "codemirror_mode": {
    "name": "ipython",
    "version": 3
   },
   "file_extension": ".py",
   "mimetype": "text/x-python",
   "name": "python",
   "nbconvert_exporter": "python",
   "pygments_lexer": "ipython3",
   "version": "3.10.8"
  }
 },
 "nbformat": 4,
 "nbformat_minor": 5
}
