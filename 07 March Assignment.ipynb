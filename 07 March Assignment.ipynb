{
 "cells": [
  {
   "cell_type": "markdown",
   "id": "8d56905f-20ac-430b-a869-7945226836d5",
   "metadata": {},
   "source": [
    "## Statistics Basic-2"
   ]
  },
  {
   "cell_type": "markdown",
   "id": "0fc9d4e1-d397-4822-b432-b3cb2e2f9db3",
   "metadata": {},
   "source": [
    "### Q1. What are the three measures of central tendency?"
   ]
  },
  {
   "cell_type": "markdown",
   "id": "dd90420e-31ec-4d0d-b8c7-f283f6b88a69",
   "metadata": {},
   "source": [
    "The three measures of central tendency are:\n",
    "\n",
    "1. Mean: The mean is the arithmetic average of a set of data points. To calculate the mean, you add up all the values and then divide by the number of data points. It is the most commonly used measure of central tendency.\n",
    "\n",
    "2. Median: The median is the middle value of a dataset when it is arranged in ascending or descending order. If there is an odd number of data points, the median is the middle value. If there is an even number of data points, the median is the average of the two middle values.\n",
    "\n",
    "3. Mode: The mode is the value that occurs most frequently in a dataset. A dataset can have one mode (unimodal), two modes (bimodal), or more than two modes (multimodal)."
   ]
  },
  {
   "cell_type": "markdown",
   "id": "ea94e0d1-a212-4a0c-a416-e700f0411be1",
   "metadata": {},
   "source": [
    "### Q2. What is the difference between the mean, median, and mode? How are they used to measure the central tendency of a dataset?"
   ]
  },
  {
   "cell_type": "markdown",
   "id": "09b712a5-bbfe-431e-8b2a-d6197cc1a1f5",
   "metadata": {},
   "source": [
    "The mean, median, and mode are three different measures of central tendency used to describe the center or typical value of a dataset. They provide different ways of representing the central tendency, and each measure is appropriate under different circumstances. Here's a comparison of the three measures and how they are used:\n",
    "\n",
    "1. Mean:\n",
    "- Definition: The mean is the arithmetic average of a set of data points. To calculate the mean, you add up all the values and then divide by the number of data points.\n",
    "- Sensitivity to Outliers: The mean is sensitive to extreme values (outliers) since it takes into account every data point in the calculation. Outliers can significantly influence the mean.\n",
    "- Use: The mean is commonly used when the data is roughly symmetrically distributed and there are no extreme values that heavily skew the data. It is the most commonly used measure of central tendency and is particularly useful when dealing with continuous numerical data.\n",
    "\n",
    "2. Median:\n",
    "- Definition: The median is the middle value of a dataset when it is arranged in ascending or descending order. If there is an odd number of data points, the median is the middle value. If there is an even number of data points, the median is the average of the two middle values.\n",
    "- Sensitivity to Outliers: The median is less affected by outliers since it only considers the middle values. Outliers do not significantly influence the median.\n",
    "- Use: The median is useful when the data is skewed or has extreme values. It provides a value that is representative of the middle of the dataset and is less influenced by extreme observations. It is commonly used when dealing with ordinal or interval data.\n",
    "\n",
    "3. Mode:\n",
    "- Definition: The mode is the value that occurs most frequently in a dataset. A dataset can have one mode (unimodal), two modes (bimodal), or more than two modes (multimodal).\n",
    "- Sensitivity to Outliers: The mode is not affected by outliers at all since it only considers the frequency of occurrence of values.\n",
    "- Use: The mode is useful for identifying the most common observation or value in a dataset. It is commonly used with categorical data (nominal data) but can also be applied to numerical data. The mode can be used when there is interest in finding the most prevalent category or when dealing with discrete data."
   ]
  },
  {
   "cell_type": "markdown",
   "id": "881ce0f5-f0f6-4e6c-b188-515c428e7d75",
   "metadata": {},
   "source": [
    "### Q3. Measure the three measures of central tendency for the given height data:\n",
    "[178,177,176,177,178.2,178,175,179,180,175,178.9,176.2,177,172.5,178,176.5]"
   ]
  },
  {
   "cell_type": "code",
   "execution_count": 8,
   "id": "4ecd4003-788c-4af3-802b-9d95142844fb",
   "metadata": {},
   "outputs": [
    {
     "name": "stdout",
     "output_type": "stream",
     "text": [
      "Mean = 177.01875\n",
      "Median = 177.0\n",
      "Mode = 178\n"
     ]
    }
   ],
   "source": [
    "# Calculate Mean:\n",
    "\n",
    "import numpy as np\n",
    "height  = [178,177,176,177,178.2,178,175,179,180,175,178.9,176.2,177,172.5,178,176.5]\n",
    "mean = np.mean(height)\n",
    "print(\"Mean =\", mean)\n",
    "\n",
    "# Calculate Median:\n",
    "median = np.median(height)\n",
    "print(\"Median =\", median)\n",
    "\n",
    "# Calculate Mode:\n",
    "from collections import Counter\n",
    "height_counts = Counter(height)\n",
    "mode = max(height_counts, key=height_counts.get)\n",
    "print(\"Mode =\", mode)"
   ]
  },
  {
   "cell_type": "markdown",
   "id": "063ad460-9da8-4e9e-afb6-860d0bd8f747",
   "metadata": {},
   "source": [
    "### Q4. Find the standard deviation for the given data:\n",
    "[178,177,176,177,178.2,178,175,179,180,175,178.9,176.2,177,172.5,178,176.5]"
   ]
  },
  {
   "cell_type": "code",
   "execution_count": 10,
   "id": "9d9cd600-afa5-42d3-8501-e5410ff480b2",
   "metadata": {},
   "outputs": [
    {
     "name": "stdout",
     "output_type": "stream",
     "text": [
      "STD = 1.7885814036548633\n"
     ]
    }
   ],
   "source": [
    "# Calculate STD:\n",
    "\n",
    "import numpy as np\n",
    "height  = [178,177,176,177,178.2,178,175,179,180,175,178.9,176.2,177,172.5,178,176.5]\n",
    "std = np.std(height)\n",
    "print(\"STD =\", std)"
   ]
  },
  {
   "cell_type": "markdown",
   "id": "4c95bd44-3787-4656-8751-bb09a0dfa715",
   "metadata": {},
   "source": [
    "### Q5. How are measures of dispersion such as range, variance, and standard deviation used to describe the spread of a dataset? Provide an example."
   ]
  },
  {
   "cell_type": "markdown",
   "id": "0a79e0a8-64f4-4e4f-8a87-31bbf5a9ae29",
   "metadata": {},
   "source": [
    "Measures of dispersion, such as range, variance, and standard deviation, are used to describe the spread or variability of a dataset. They provide insights into how much the individual data points deviate from the central tendency measures (like the mean or median). A larger dispersion indicates a wider spread of data points, while a smaller dispersion indicates data points are closely packed around the central value.\n",
    "\n",
    "1. Range:\n",
    "The range is the simplest measure of dispersion and is calculated as the difference between the largest and smallest values in the dataset. It provides a quick understanding of how spread out the data is from the minimum to the maximum value.\n",
    "\n",
    "Example:\n",
    "Consider a dataset representing the daily temperatures (in Celsius) for a city over a week:\n",
    "[15, 18, 14, 20, 17, 22, 16]\n",
    "\n",
    "The range is calculated as:\n",
    "Range = Maximum value - Minimum value\n",
    "Range = 22 - 14 = 8\n",
    "\n",
    "The range of 8 indicates that the temperatures varied by 8 degrees Celsius over the week, which represents the spread of temperature values.\n",
    "\n",
    "2. Variance:\n",
    "Variance measures the average squared deviation of each data point from the mean. It quantifies the dispersion of data points from the central value (mean). A larger variance indicates greater variability in the data, while a smaller variance suggests that data points are closer to the mean.\n",
    "\n",
    "Example:\n",
    "Suppose we have a dataset representing the heights (in centimeters) of five students in a class:\n",
    "[160, 165, 155, 170, 158]\n",
    "\n",
    "Step 1: Calculate the mean height:\n",
    "Mean = (160 + 165 + 155 + 170 + 158) / 5 = 161.6\n",
    "\n",
    "Step 2: Calculate the variance:\n",
    "Variance = [Σ (data point - mean)^2] / number of data points\n",
    "Variance = [(160 - 161.6)^2 + (165 - 161.6)^2 + (155 - 161.6)^2 + (170 - 161.6)^2 + (158 - 161.6)^2] / 5\n",
    "Variance ≈ 42.96\n",
    "\n",
    "The variance of approximately 42.96 indicates that the heights in the class are spread out from the mean height of 161.6.\n",
    "\n",
    "3. Standard Deviation:\n",
    "The standard deviation is the square root of the variance. It is a widely used measure of dispersion as it is in the same unit as the data and provides a clearer understanding of the spread. A larger standard deviation implies greater variability in the data, while a smaller standard deviation suggests that data points are closer to the mean.\n",
    "\n",
    "Example:\n",
    "Using the same height dataset as above, we found the variance to be approximately 42.96.\n",
    "\n",
    "Step 3: Calculate the standard deviation:\n",
    "Standard Deviation = √Variance ≈ √42.96 ≈ 6.55 (rounded to two decimal places)\n",
    "\n",
    "The standard deviation of approximately 6.55 indicates the spread of heights around the mean height of 161.6 cm.\n",
    "\n",
    "In summary, measures of dispersion such as range, variance, and standard deviation provide valuable insights into the spread and variability of a dataset, complementing the central tendency measures like the mean or median in describing the overall characteristics of the data."
   ]
  },
  {
   "cell_type": "markdown",
   "id": "4052f5e5-8557-49a3-a7ae-14b788b8ee9c",
   "metadata": {},
   "source": [
    "### Q6. What is a Venn diagram?"
   ]
  },
  {
   "cell_type": "markdown",
   "id": "5ee82425-370d-436c-b99e-993a5e4e7b78",
   "metadata": {},
   "source": [
    "A Venn diagram is a graphical representation used to visualize the relationships between different sets or groups of data. It consists of overlapping circles or ellipses, each representing a specific set. The overlapping areas, if present, represent elements that belong to more than one set, illustrating the intersections between the sets.\n",
    "\n",
    "Key features of a Venn diagram:\n",
    "\n",
    "1. Circles/Ellipses: Each circle or ellipse in a Venn diagram represents a separate set of elements or items.\n",
    "\n",
    "2. Overlapping Areas: If there are intersections between the sets, overlapping regions are created. These areas represent elements that belong to multiple sets simultaneously.\n",
    "\n",
    "3. Non-overlapping Areas: The regions outside the intersections represent elements that belong to only one specific set.\n",
    "\n",
    "4. Universal Set: The space or region enclosing all the circles or ellipses represents the \"universal set,\" which includes all possible elements under consideration.\n",
    "\n",
    "Using Venn diagrams, it becomes easy to compare sets and visualize the relationships between them. They are particularly helpful for illustrating set operations, such as union (elements in either set), intersection (elements common to both sets), and complement (elements in one set but not in the other). Venn diagrams can be used to solve problems related to set theory, logical reasoning, and data classification."
   ]
  },
  {
   "cell_type": "markdown",
   "id": "3cfc98dc-7b52-4e2f-9628-d2b8553ae9ab",
   "metadata": {},
   "source": [
    "### Q7. For the two given sets A = (2,3,4,5,6,7) & B = (0,2,6,8,10). Find:\n",
    "(i) A ∩ B\n",
    "(ii) A ⋃ B"
   ]
  },
  {
   "cell_type": "markdown",
   "id": "e76997d3-0b2f-4e61-8dea-8b30ba35061e",
   "metadata": {},
   "source": [
    "A ∩ B = (2,6)\n",
    "\n",
    "A U B = (0,2,3,4,5,6,7,8,10)"
   ]
  },
  {
   "cell_type": "markdown",
   "id": "bb050bb1-dd8e-44de-8cf2-6b438791bdfe",
   "metadata": {},
   "source": [
    "### Q8. What do you understand about skewness in data?"
   ]
  },
  {
   "cell_type": "markdown",
   "id": "d2f88f7b-cc38-4389-a747-5a7d1b4518ef",
   "metadata": {},
   "source": [
    "Skewness in data refers to the asymmetry or lack of symmetry in the distribution of values in a dataset. It is a descriptive statistic that measures the degree to which the data deviates from a symmetric (bell-shaped) distribution around its mean. Skewness can help identify the direction and extent of any tail elongation or concentration in a dataset, which can provide valuable insights into the nature of the data distribution.\n",
    "\n",
    "There are three types of skewness:\n",
    "\n",
    "1. Positive Skewness (Right Skewness):\n",
    "In a positively skewed distribution, the tail on the right-hand side is longer or stretched out, while the left tail is shorter. The majority of the data is concentrated on the left side of the distribution, with a few larger values on the right side.\n",
    "\n",
    "Example of a positively skewed distribution:\n",
    "Consider a dataset representing the income levels of a group of people. Most individuals may have moderate or lower incomes, but a few individuals with very high incomes (outliers) can cause a longer tail on the right side of the distribution.\n",
    "\n",
    "2. Negative Skewness (Left Skewness):\n",
    "In a negatively skewed distribution, the tail on the left-hand side is longer or stretched out, while the right tail is shorter. The majority of the data is concentrated on the right side of the distribution, with a few smaller values on the left side.\n",
    "\n",
    "Example of a negatively skewed distribution:\n",
    "Consider a dataset representing the reaction times of participants in a study. Most participants may have relatively fast reaction times, but a few participants with very slow reaction times (outliers) can cause a longer tail on the left side of the distribution.\n",
    "\n",
    "3. Zero Skewness:\n",
    "A distribution is considered to have zero skewness if it is perfectly symmetrical, with equal frequency of data points on both sides of the mean.\n",
    "\n",
    "Understanding skewness is essential in data analysis as it impacts the choice of appropriate statistical techniques and models. For instance, in positively skewed data, the mean tends to be higher than the median, and in negatively skewed data, the mean tends to be lower than the median. Therefore, knowing the skewness helps in selecting central tendency measures that best represent the data. Additionally, some statistical tests and models may assume normality, and skewness can indicate deviations from normality, influencing the suitability of these methods.\n",
    "\n",
    "Visualizing data through histograms, box plots, or other graphical tools can help assess the skewness and gain a better understanding of the data's distributional characteristics."
   ]
  },
  {
   "cell_type": "markdown",
   "id": "ec8c1aa5-a154-414d-b484-0f06b0c6449f",
   "metadata": {},
   "source": [
    "### Q9. If a data is right skewed then what will be the position of median with respect to mean?"
   ]
  },
  {
   "cell_type": "markdown",
   "id": "421880a0-5827-495a-98d6-02cae633a9be",
   "metadata": {},
   "source": [
    "If a dataset is right-skewed, the position of the median will be to the left of the mean. In other words, the median will be smaller than the mean.\n",
    "\n",
    "In a right-skewed distribution, the majority of the data points are clustered on the left side, and the tail extends toward larger values on the right side. This elongated tail on the right is often caused by a few extreme or outlier values that pull the mean to the right, making it larger than the median.\n",
    "\n",
    "To understand this better, let's consider the following example:\n",
    "\n",
    "Suppose we have a dataset representing the income of a group of individuals:\n",
    "\n",
    "[10, 20, 25, 30, 35, 40, 100]\n",
    "\n",
    "The mean income can be calculated as:\n",
    "\n",
    "Mean = (10 + 20 + 25 + 30 + 35 + 40 + 100) / 7 ≈ 37.14\n",
    "\n",
    "The median income, in this case, is the middle value, which is 30.\n",
    "\n",
    "As we can see, the mean (37.14) is larger than the median (30) because the presence of the outlier value (100) has pulled the mean to the right. This situation is indicative of a right-skewed distribution. The median, being the middle value, is less affected by the outliers, and therefore, it is located to the left of the mean in right-skewed data.\n",
    "\n",
    "In summary, in a right-skewed distribution, the median will be smaller and to the left of the mean."
   ]
  },
  {
   "cell_type": "markdown",
   "id": "407c9c20-913b-4091-b828-876b3d9d3bf2",
   "metadata": {},
   "source": [
    "### Q10. Explain the difference between covariance and correlation. How are these measures used in statistical analysis?"
   ]
  },
  {
   "cell_type": "markdown",
   "id": "21dc7ac6-d880-4b7e-a7c3-8cd8f1cd0b16",
   "metadata": {},
   "source": [
    "1. Covariance:\n",
    "Covariance measures the extent to which two variables vary together. It indicates whether an increase in one variable is associated with an increase or decrease in the other variable. The sign of the covariance (+ or -) indicates the direction of the relationship, while the magnitude indicates the strength of the relationship. A positive covariance suggests that the variables tend to increase together, while a negative covariance suggests that as one variable increases, the other tends to decrease.\n",
    "\n",
    "Formula for Covariance between two variables X and Y:\n",
    "Cov(X, Y) = Σ [(Xᵢ - X̄)(Yᵢ - Ȳ)] / n\n",
    "\n",
    "where Xᵢ and Yᵢ are individual data points, X̄ and Ȳ are the means of X and Y respectively, and n is the number of data points.\n",
    "\n",
    "However, covariance does not provide a standardized measure, making it challenging to interpret the strength of the relationship. The magnitude of covariance depends on the scales of the variables, making comparisons difficult between different datasets.\n",
    "\n",
    "2. Correlation:\n",
    "Correlation, on the other hand, is a standardized measure that quantifies the strength and direction of the linear relationship between two variables. It scales the covariance to a range between -1 and 1. A correlation coefficient of +1 indicates a perfect positive linear relationship, -1 indicates a perfect negative linear relationship, and 0 indicates no linear relationship.\n",
    "\n",
    "There are different types of correlation coefficients, with the most common being Pearson correlation coefficient (r), which is used for continuous numerical variables. There are also other correlation coefficients like Spearman's rank correlation coefficient and Kendall's rank correlation coefficient, which are used for ordinal data.\n",
    "\n",
    "Formula for Pearson correlation coefficient (r) between two variables X and Y:\n",
    "r = Cov(X, Y) / (σₓ * σᵧ)\n",
    "\n",
    "where Cov(X, Y) is the covariance between X and Y, and σₓ and σᵧ are the standard deviations of X and Y, respectively.\n",
    "\n",
    "Correlation is widely used in statistical analysis because it provides a standardized measure of association, allowing for easier comparison between different datasets. It is particularly useful in identifying the strength and direction of linear relationships between variables. Correlation can be used to assess the degree of association between variables, identify patterns, predict one variable from another, and select relevant variables for further analysis.\n",
    "\n",
    "In summary, covariance measures the extent to which two variables vary together, while correlation provides a standardized measure of the strength and direction of the relationship. Correlation is more commonly used in statistical analysis due to its standardized nature and ease of interpretation."
   ]
  },
  {
   "cell_type": "markdown",
   "id": "26bb17a9-f4b2-4443-a2c8-c8a97f0a728f",
   "metadata": {},
   "source": [
    "### Q11. What is the formula for calculating the sample mean? Provide an example calculation for a dataset."
   ]
  },
  {
   "cell_type": "markdown",
   "id": "d0e7c3d2-c45c-49b4-8f82-43e04f2f1441",
   "metadata": {},
   "source": [
    "The formula for calculating the sample mean (often denoted as x̄) is the sum of all individual data points divided by the number of data points in the sample. Mathematically, it can be expressed as:\n",
    "\n",
    "Sample Mean (x̄) = (Σx) / n\n",
    "\n",
    "where:\n",
    "x̄ = Sample Mean\n",
    "Σx = Sum of all individual data points in the sample\n",
    "n = Number of data points in the sample\n",
    "\n",
    "Example Calculation:\n",
    "Let's say we have a dataset representing the test scores of a group of students:\n",
    "[80, 85, 90, 70, 95]\n",
    "\n",
    "To find the sample mean, follow these steps:\n",
    "\n",
    "Step 1: Add all the data points:\n",
    "Sum of all data points (Σx) = 80 + 85 + 90 + 70 + 95 = 420\n",
    "\n",
    "Step 2: Count the number of data points (n):\n",
    "Number of data points (n) = 5\n",
    "\n",
    "Step 3: Calculate the sample mean (x̄):\n",
    "Sample Mean (x̄) = Σx / n = 420 / 5 = 84\n",
    "\n",
    "The sample mean for this dataset is 84. Therefore, the average test score for the group of students is 84."
   ]
  },
  {
   "cell_type": "markdown",
   "id": "00c4276e-f3ab-45cd-89be-7d3bcbd83642",
   "metadata": {},
   "source": [
    "### Q12. For a normal distribution data what is the relationship between its measure of central tendency?"
   ]
  },
  {
   "cell_type": "markdown",
   "id": "06ac265b-ec63-4af3-bf05-b9df7a60b1dd",
   "metadata": {},
   "source": [
    "For a normal distribution, the measures of central tendency (mean, median, and mode) are all equal and located at the center of the distribution. In a perfectly symmetrical normal distribution, the peak of the distribution (mode) coincides with the center of the distribution, and both the mean and median are also positioned at the same central point"
   ]
  },
  {
   "cell_type": "markdown",
   "id": "a27f8717-515c-4cd5-a2a6-96b503070435",
   "metadata": {},
   "source": [
    "### Q13. How is covariance different from correlation?"
   ]
  },
  {
   "cell_type": "markdown",
   "id": "4cf2a10a-0816-4d50-bbcd-4d0af08507d5",
   "metadata": {},
   "source": [
    "Covariance and correlation are both measures used to assess the relationship between two variables. However, they have some key differences in their interpretation, scale, and usefulness.\n",
    "\n",
    "1. Scale:\n",
    "- Covariance: Covariance values have no fixed range, and the magnitude is influenced by the units of the variables. It is not standardized, making it difficult to compare covariances between different datasets or variables with different scales.\n",
    "- Correlation: Correlation coefficients are standardized, ranging from -1 to +1, regardless of the units of the variables. This standardization allows for easy comparison between different datasets and makes it suitable for identifying the strength and direction of linear relationships.\n",
    "\n",
    "2. Interpretation:\n",
    "- Covariance: Covariance alone does not provide a clear indication of the strength of the relationship between variables. A positive covariance may indicate a positive association, but it could also result from unrelated variability between the two variables.\n",
    "- Correlation: Correlation coefficients provide a clear and standardized measure of the strength and direction of the linear relationship between variables. The magnitude of the correlation coefficient indicates the strength of the relationship, while the sign indicates the direction.\n",
    "\n",
    "3. Application:\n",
    "- Covariance: Covariance is useful for understanding the direction of association between two variables. However, it has limited use in comparing the strength of the relationship between different datasets due to the lack of standardization.\n",
    "- Correlation: Correlation is widely used in statistical analysis because it provides a standardized measure of association, allowing for easier comparison between different datasets. It is particularly useful in identifying the strength and direction of linear relationships between variables.\n",
    "\n",
    "In summary, covariance measures the extent to which two variables vary together, while correlation provides a standardized measure of the strength and direction of the relationship. Correlation is more commonly used in statistical analysis due to its standardized nature and ease of interpretation."
   ]
  },
  {
   "cell_type": "markdown",
   "id": "e058c300-b96e-4625-8cbe-a4b6dc89dbc2",
   "metadata": {},
   "source": [
    "### Q14. How do outliers affect measures of central tendency and dispersion? Provide an example."
   ]
  },
  {
   "cell_type": "markdown",
   "id": "03bdbedf-e2b5-48cb-bac3-efb8f80a0787",
   "metadata": {},
   "source": [
    "Outliers can have a significant impact on measures of central tendency and dispersion in a dataset. An outlier is an observation that deviates significantly from the other data points in the dataset. It can be an unusually high or low value that is distant from the rest of the data. Outliers can distort the typical characteristics of a dataset, affecting both the measures of central tendency (mean, median, and mode) and measures of dispersion (range, variance, and standard deviation).\n",
    "\n",
    "Let's consider an example to understand how outliers can affect measures of central tendency and dispersion:\n",
    "\n",
    "Example:\n",
    "Suppose we have a dataset representing the ages of a group of individuals:\n",
    "\n",
    "[25, 28, 30, 31, 32, 33, 35, 36, 38, 40, 150]\n",
    "\n",
    "In this dataset, all the ages are within a reasonable range, except for the last value, which is 150. This value is significantly higher than the other ages and can be considered an outlier.\n",
    "\n",
    "Measures of Central Tendency:\n",
    "1. Mean: The mean is the arithmetic average of the data. In this case, the mean would be:\n",
    "\n",
    "Mean = (25 + 28 + 30 + 31 + 32 + 33 + 35 + 36 + 38 + 40 + 150) / 11 ≈ 49.36\n",
    "\n",
    "As we can see, the mean is heavily influenced by the outlier (150), resulting in a mean age that is much higher than most of the other ages in the dataset.\n",
    "\n",
    "2. Median: The median is the middle value of the data when it is arranged in ascending or descending order. In this case, the median would be:\n",
    "\n",
    "Median = 33\n",
    "\n",
    "The median is less affected by outliers, and it gives a more representative value of the central tendency. It is not influenced by extreme values like the mean.\n",
    "\n",
    "3. Mode: The mode is the value that occurs most frequently in the dataset. In this case, there is no mode, as all values appear only once.\n",
    "\n",
    "Measures of Dispersion:\n",
    "1. Range: The range is the difference between the maximum and minimum values in the dataset. In this case, the range would be:\n",
    "\n",
    "Range = 150 - 25 = 125\n",
    "\n",
    "The presence of the outlier (150) significantly increases the range, as it is much higher than the rest of the data.\n",
    "\n",
    "2. Variance: Variance measures the average squared deviation of each data point from the mean. In this case, the variance would be:\n",
    "\n",
    "Variance ≈ 1206.36\n",
    "\n",
    "The variance is heavily affected by the presence of the outlier, as the squared differences between the outlier and the mean contribute to the overall variance.\n",
    "\n",
    "3. Standard Deviation: The standard deviation is the square root of the variance. In this case, the standard deviation would be:\n",
    "\n",
    "Standard Deviation ≈ 34.69\n",
    "\n",
    "Similar to variance, the standard deviation is influenced by the outlier, resulting in a larger value.\n",
    "\n",
    "In summary, outliers can significantly impact measures of central tendency by pulling the mean away from the majority of the data points and less so the median and mode. Outliers can also influence measures of dispersion, such as range, variance, and standard deviation, by increasing their values. Therefore, it is crucial to identify and handle outliers appropriately in data analysis to ensure that the calculated statistics accurately represent the underlying characteristics of the dataset."
   ]
  },
  {
   "cell_type": "code",
   "execution_count": null,
   "id": "faa06547-51bb-4ad2-8ebd-839e936bff82",
   "metadata": {},
   "outputs": [],
   "source": []
  }
 ],
 "metadata": {
  "kernelspec": {
   "display_name": "Python 3 (ipykernel)",
   "language": "python",
   "name": "python3"
  },
  "language_info": {
   "codemirror_mode": {
    "name": "ipython",
    "version": 3
   },
   "file_extension": ".py",
   "mimetype": "text/x-python",
   "name": "python",
   "nbconvert_exporter": "python",
   "pygments_lexer": "ipython3",
   "version": "3.10.8"
  }
 },
 "nbformat": 4,
 "nbformat_minor": 5
}
