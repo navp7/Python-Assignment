{
 "cells": [
  {
   "cell_type": "markdown",
   "id": "7ee8aaf4-e22f-4639-8b3c-69c913a662ad",
   "metadata": {},
   "source": [
    "## 09 Feb ASSIGNMENT"
   ]
  },
  {
   "cell_type": "markdown",
   "id": "16147dee-398b-47de-a2f8-7f06f1d7ef56",
   "metadata": {},
   "source": [
    "### Q1, Create a vehicle class with an init method having instance variables as name_of_vehicle, max_speed and average_of_vehicle."
   ]
  },
  {
   "cell_type": "code",
   "execution_count": 2,
   "id": "0d22c584-d513-493e-bd6a-874140fff237",
   "metadata": {},
   "outputs": [
    {
     "name": "stdout",
     "output_type": "stream",
     "text": [
      "Ford\n",
      "100 kmph\n",
      "10 kmpl\n"
     ]
    }
   ],
   "source": [
    "#Code\n",
    "\n",
    "class vehicle():\n",
    "    \n",
    "    def __init__(self, name_of_vehicle, max_speed, average_of_vehicle):\n",
    "        self.name_of_vehicle = name_of_vehicle\n",
    "        self.max_speed = max_speed\n",
    "        self.average_of_vehicle = average_of_vehicle\n",
    "        \n",
    "v1 = vehicle('Ford' , '100 kmph' , '10 kmpl')\n",
    "\n",
    "print(v1.name_of_vehicle)\n",
    "print(v1.max_speed)\n",
    "print(v1.average_of_vehicle)"
   ]
  },
  {
   "cell_type": "markdown",
   "id": "9f8b798a-beea-4318-a551-57d26f868163",
   "metadata": {},
   "source": [
    "## Q2. Create a child class car from the vehicle class created in Que 1, which will inherit the vehicle class. Create a method named seating_capacity which takes capacity as an argument and returns the name of the vehicle and its seating capacity."
   ]
  },
  {
   "cell_type": "code",
   "execution_count": 15,
   "id": "f5af051d-a6ff-49f3-ad81-887137b0952b",
   "metadata": {},
   "outputs": [
    {
     "data": {
      "text/plain": [
       "('Ferrari', '4')"
      ]
     },
     "execution_count": 15,
     "metadata": {},
     "output_type": "execute_result"
    }
   ],
   "source": [
    "class vehicle():\n",
    "    \n",
    "    def __init__(self, name_of_vehicle, max_speed, average_of_vehicle):\n",
    "        self.name_of_vehicle = name_of_vehicle\n",
    "        self.max_speed = max_speed\n",
    "        self.average_of_vehicle = average_of_vehicle\n",
    "\n",
    "v1 = vehicle('Ford' , '100 kmph' , '10 kmpl')\n",
    "        \n",
    "class car(vehicle):\n",
    "    \n",
    "    def __init__(self, name_of_vehicle, max_speed, average_of_vehicle, capacity):\n",
    "        self.capacity = capacity\n",
    "        \n",
    "        vehicle.__init__(self, name_of_vehicle, max_speed, average_of_vehicle)\n",
    "        \n",
    "    def seating_capacity(self):   \n",
    "        return(self.name_of_vehicle , self.capacity)\n",
    "        \n",
    "    \n",
    "c1 = car('Ferrari' , '100 kmph' , '10 kmpl','4')\n",
    "c1.seating_capacity()\n"
   ]
  },
  {
   "cell_type": "markdown",
   "id": "7e37f821-c90b-4fcc-9d63-c1e7ffbf16ef",
   "metadata": {},
   "source": [
    "## Q3. What is multiple inheritance? Write a python code to demonstrate multiple inheritance."
   ]
  },
  {
   "cell_type": "markdown",
   "id": "70f34c91-5961-447d-af37-27a0e9862174",
   "metadata": {},
   "source": [
    "#### Ans: A class can be derived from more than one superclass in Python. This is called multiple inheritance.\n",
    "\n",
    "#### For example, A class Bat is derived from superclasses Mammal and WingedAnimal. It makes sense because bat is a mammal as well as a winged animal.\n",
    "\n"
   ]
  },
  {
   "cell_type": "code",
   "execution_count": 16,
   "id": "bbec60c7-f5f8-4b7e-95a9-403672d75fd9",
   "metadata": {},
   "outputs": [
    {
     "name": "stdout",
     "output_type": "stream",
     "text": [
      "Mammals can give direct birth.\n",
      "Winged animals can flap.\n"
     ]
    }
   ],
   "source": [
    "class Mammal:\n",
    "    def mammal_info(self):\n",
    "        print(\"Mammals can give direct birth.\")\n",
    "\n",
    "class Wing_Animal:\n",
    "    def wing_animal_info(self):\n",
    "        print(\"Winged animals can flap.\")\n",
    "\n",
    "class Bat(Mammal, Wing_Animal):\n",
    "    pass\n",
    "\n",
    "b1 = Bat()\n",
    "\n",
    "b1.mammal_info()\n",
    "b1.wing_animal_info()"
   ]
  },
  {
   "cell_type": "markdown",
   "id": "c0bc0a61-2447-491d-9037-73f49c450ee4",
   "metadata": {},
   "source": [
    "## Q4. What are getter and setter in python? Create a class and create a getter and a setter method in this class."
   ]
  },
  {
   "cell_type": "markdown",
   "id": "2d300ea3-7d26-4877-af2d-b7068b2c7438",
   "metadata": {},
   "source": [
    "#### Ans:\n",
    "#### Getter: A method that allows you to access an attribute in a given class\n",
    "#### Setter: A method that allows you to set or mutate the value of an attribute in a class\n",
    "#### In OOP, the getter and setter pattern suggests that public attributes should be used only when you’re sure that no one will ever need to attach behavior to them. If an attribute is likely to change its internal implementation, then you should use getter and setter methods.\n",
    "#### Implementing the getter and setter pattern requires:\n",
    "#### 1.Making your attributes non-public\n",
    "#### 2.Writing getter and setter methods for each attribute"
   ]
  },
  {
   "cell_type": "code",
   "execution_count": 26,
   "id": "194d6d5d-e1f7-40e8-a2f4-03f6a684741e",
   "metadata": {},
   "outputs": [],
   "source": [
    "class name:\n",
    "    def __init__(self, first_name, last_name):\n",
    "        self._first_name = first_name\n",
    "        self._last_name = last_name\n",
    "\n",
    "    def get_first_name(self):\n",
    "        return self._first_name\n",
    "\n",
    "    def set_first_name(self, value):\n",
    "        self._first_name = value\n",
    "\n",
    "    def get_last_name(self):\n",
    "        return self._last_name\n",
    "\n",
    "    def set_last_name(self, value):\n",
    "        self._last_namet = value"
   ]
  },
  {
   "cell_type": "code",
   "execution_count": 30,
   "id": "3b364885-5fe4-422a-9ed4-43f978cf9494",
   "metadata": {},
   "outputs": [
    {
     "data": {
      "text/plain": [
       "'Harry'"
      ]
     },
     "execution_count": 30,
     "metadata": {},
     "output_type": "execute_result"
    }
   ],
   "source": [
    "person = name(\"Harry\", \"Porter\")\n",
    "person.get_first_name()"
   ]
  },
  {
   "cell_type": "code",
   "execution_count": 32,
   "id": "e17cf2bb-ec20-4928-82d6-6bdc6ecf08c7",
   "metadata": {},
   "outputs": [
    {
     "data": {
      "text/plain": [
       "'Donald'"
      ]
     },
     "execution_count": 32,
     "metadata": {},
     "output_type": "execute_result"
    }
   ],
   "source": [
    "person.set_first_name('Donald')\n",
    "person.get_first_name()"
   ]
  },
  {
   "cell_type": "code",
   "execution_count": 33,
   "id": "c02eebf7-855d-4998-b827-2acd6b29e279",
   "metadata": {},
   "outputs": [
    {
     "data": {
      "text/plain": [
       "'Porter'"
      ]
     },
     "execution_count": 33,
     "metadata": {},
     "output_type": "execute_result"
    }
   ],
   "source": [
    "person.get_last_name()"
   ]
  },
  {
   "cell_type": "markdown",
   "id": "bae5ca81-267a-4840-8031-80be1ebad05a",
   "metadata": {},
   "source": [
    "## Q5.What is method overriding in python? Write a python code to demonstrate method overriding."
   ]
  },
  {
   "cell_type": "markdown",
   "id": "40e202a5-f68b-4529-b77c-e9aeae6a3c79",
   "metadata": {},
   "source": [
    "#### Ans:\n",
    "#### Method Overriding in Python is an OOPs concept closely related to inheritance. When a child class method overrides(or, provides it's own implementation) the parent class method of the same name, parameters and return type, it is known as method overriding.\n",
    "\n",
    "#### In this case, the child class's method is called the overriding method and the parent class's method is called the overriden method.\n",
    "\n",
    "#### There are certain prerequisites for method overriding in Python. \n",
    "\n",
    "1. Method overriding cannot be done within a class. So,we need to derive a child class from a parent class. Hence Inheritance is mandatory.\n",
    "2. The method must have the same name as in the parent class\n",
    "3. The method must have the same number of parameters as in the parent class."
   ]
  },
  {
   "cell_type": "code",
   "execution_count": 34,
   "id": "28e5b3a7-fb2c-483f-abcb-7a563c874f85",
   "metadata": {},
   "outputs": [
    {
     "name": "stdout",
     "output_type": "stream",
     "text": [
      "The method Walk here is overridden in the code\n",
      "Hello, I am the child class\n",
      "Hello, I am the parent class\n"
     ]
    }
   ],
   "source": [
    "# Example:\n",
    "\n",
    "class Animal:\n",
    "    def Walk(self):\n",
    "        print('Hello, I am the parent class')\n",
    "\n",
    "class Dog(Animal):\n",
    "    def Walk(self):\n",
    "        print('Hello, I am the child class')\n",
    "        \n",
    "print('The method Walk here is overridden in the code')\n",
    "\n",
    "#Invoking Child class through object r\n",
    "\n",
    "r = Dog()\n",
    "r.Walk()\n",
    "\n",
    "#Invoking Parent class through object r\n",
    "\n",
    "r = Animal()\n",
    "r.Walk()"
   ]
  },
  {
   "cell_type": "code",
   "execution_count": null,
   "id": "bd1e2478-6c9d-4c69-839d-099b98c3c4c0",
   "metadata": {},
   "outputs": [],
   "source": []
  }
 ],
 "metadata": {
  "kernelspec": {
   "display_name": "Python 3 (ipykernel)",
   "language": "python",
   "name": "python3"
  },
  "language_info": {
   "codemirror_mode": {
    "name": "ipython",
    "version": 3
   },
   "file_extension": ".py",
   "mimetype": "text/x-python",
   "name": "python",
   "nbconvert_exporter": "python",
   "pygments_lexer": "ipython3",
   "version": "3.10.8"
  }
 },
 "nbformat": 4,
 "nbformat_minor": 5
}
