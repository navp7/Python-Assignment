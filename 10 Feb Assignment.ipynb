{
 "cells": [
  {
   "cell_type": "markdown",
   "id": "2166f17f-7825-4b83-9f36-49e847192dd3",
   "metadata": {},
   "source": [
    "## 10 Feb Assignment"
   ]
  },
  {
   "cell_type": "markdown",
   "id": "b856c76a-8a81-48b9-a736-ce718ae9c4aa",
   "metadata": {},
   "source": [
    "## Q1. Which function is used to open a file? What are the different modes of opening a file? Explain each mode of file opening."
   ]
  },
  {
   "cell_type": "markdown",
   "id": "c6bf2040-4ba9-467c-b197-0b2748e9d284",
   "metadata": {},
   "source": [
    "#### Opening a file refers to getting the file ready either for reading or for writing. This can be done using the open() function. This function returns a file object and takes two arguments, one that accepts the file name and another that accepts the mode(Access Mode).\n",
    "#### These modes also define the location of the File Handle in the file. File handle is like a cursor, which defines from where the data has to be read or written in the file. There are 6 access modes in python.\n",
    "\n",
    "Read Only (‘r’): Open text file for reading. The handle is positioned at the beginning of the file. If the file does not exist, raises an I/O error. This is also the default mode in which the file is opened.\n",
    "\n",
    "Read and Write (‘r+’): Open the file for reading and writing. The handle is positioned at the beginning of the file. Raises I/O error if the file does not exist.\n",
    "\n",
    "Write Only (‘w’): Open the file for writing. For the existing files, the data is truncated and over-written. The handle is positioned at the beginning of the file. Creates the file if the file does not exist.\n",
    "\n",
    "Write and Read (‘w+’): Open the file for reading and writing. For existing files, data is truncated and over-written. The handle is positioned at the beginning of the file.\n",
    "\n",
    "Append Only (‘a’): Open the file for writing. The file is created if it does not exist. The handle is positioned at the end of the file. The data being written will be inserted at the end, after the existing data.\n",
    "\n",
    "Append and Read (‘a+’): Open the file for reading and writing. The file is created if it does not exist. The handle is positioned at the end of the file. The data being written will be inserted at the end, after the existing data.\n",
    "\n",
    "Read Only in Binary format(‘rb’):  It lets the user open the file for reading in binary format.\n",
    "\n",
    "Read and Write in Binary Format(‘rb+’): It lets the user open the file for reading and writing in binary format.\n",
    "\n",
    "Write Only in Binary Format(‘wb’): It lets the user open the file for writing in binary format. When a file gets opened in this mode, there are two things that can happen mostly. A new file gets created if the file does not exist. The content within the file will get overwritten if the file exists and has some data stored in it. \n",
    "\n",
    "Write and Read in Binary Format(‘wb+’):  It lets the user open the file for reading as well as writing in binary format. When a file gets opened in this mode, there are two things that can mostly happen. A new file gets created for writing and reading if the file does not exist. The content within the file will get overwritten if the file exists and has some data stored in it. \n",
    "\n",
    "Append only in Binary Format(‘ab’): It lets the user open the file for appending in binary format. A new file gets created if there is no file. The data will be inserted at the end if the file exists and has some data stored in it. \n",
    "\n",
    "Append and Read in Binary Format(‘ab+’): It lets the user open the file for appending and reading in binary format. A new file will be created for reading and appending if the file does not exist. We can read and append if the file exists and has some data stored in it.  "
   ]
  },
  {
   "cell_type": "markdown",
   "id": "13b4dc29-8460-4234-828d-78ab605f5b27",
   "metadata": {},
   "source": [
    "## Q2. Why close() function is used? Why is it important to close a file?"
   ]
  },
  {
   "cell_type": "markdown",
   "id": "f4640b4a-1d04-4f53-b8a0-25022580ad38",
   "metadata": {},
   "source": [
    "#### When a file is opened using open() function and all the operation has been done on the file, then the file object or handler must be closed using the close() function to break the linkage of file from the program.\n",
    "\n",
    "#### The syntax of close() function to close a file in Python is:\n",
    "\n",
    "#### close(fh)\n",
    "\n",
    "where fh indicates to the file handler or file object.\n",
    "\n",
    "#### This method is used to close the opened file. Also, a closed file cannot be read or written, and doing so can raise errors like 'ValueError' exceptions. We can also call the close() file Python more than once. \n",
    "#### When we use the close() file Python method over a file object then it flushes any unwritten information and eventually closes the file object. This makes sure that no more writing can be done in that file."
   ]
  },
  {
   "cell_type": "markdown",
   "id": "731b9a48-ff51-4c90-9c52-8609f6d2cf03",
   "metadata": {},
   "source": [
    "## Q3. Write a python program to create a text file. Write ‘I want to become a Data Scientist’ in that file. Then close the file. Open this file and read the content of the file."
   ]
  },
  {
   "cell_type": "code",
   "execution_count": 6,
   "id": "d5219835-8cc2-425d-8e24-c9df53e69856",
   "metadata": {},
   "outputs": [
    {
     "name": "stdout",
     "output_type": "stream",
     "text": [
      "I want to become a Data Scientist\n"
     ]
    }
   ],
   "source": [
    "f1 = open(\"file1.txt\" , \"w\")\n",
    "f1.write(\"I want to become a Data Scientist\")\n",
    "f1.close()\n",
    "    \n",
    "with open(\"file1.txt\" , \"r\") as f2:\n",
    "    print(f2.read())\n",
    "    \n"
   ]
  },
  {
   "cell_type": "markdown",
   "id": "80b279c7-7e57-4a9b-9d84-aa8dd4c0ced4",
   "metadata": {},
   "source": [
    "## Q4. Explain the following with python code: read(), readline() and readlines()."
   ]
  },
  {
   "cell_type": "markdown",
   "id": "4dd82804-93a6-4262-89d2-3847b19aa774",
   "metadata": {},
   "source": [
    "#### read(): The read method reads the entire contents of a file and returns it as a string.\n",
    "#### readline(): The readline method reads a single line from a file and returns it as a string. This means that if you use readline, you can read the contents of a file line by line, which can be useful for processing large files that do not fit in memory.\n",
    "#### readlines():  The readlines method reads the entire contents of a file and returns it as a list of strings, where each element of the list is a single line of the file.\n"
   ]
  },
  {
   "cell_type": "markdown",
   "id": "dd08123b-c619-4ac3-b241-aa59aa506552",
   "metadata": {},
   "source": [
    "## Q5. Explain why with statement is used with open(). What is the advantage of using with statement and open() together?"
   ]
  },
  {
   "cell_type": "markdown",
   "id": "fdc5fbba-38fb-42e1-8a29-606d15d078f6",
   "metadata": {},
   "source": [
    "#### Unlike open() where you have to close the file with the close() method, the with statement closes the file for you without you telling it to.\n",
    "\n",
    "#### This is because the with statement calls 2 built-in methods behind the scene – __enter()__ and __exit()__.\n",
    "\n",
    "#### The __exit()__ method closes the file when the operation you specify is done."
   ]
  },
  {
   "cell_type": "markdown",
   "id": "6ced3e43-129a-4749-8dfc-718826a21b93",
   "metadata": {},
   "source": [
    "## Q6. Explain the write() and writelines() functions. Give a suitable example."
   ]
  },
  {
   "cell_type": "markdown",
   "id": "dc306fa7-a623-49da-b805-5bec9269a21a",
   "metadata": {},
   "source": [
    "#### The write() function will write the content in the file without adding any extra characters.\n",
    "\n",
    "Syntax: file_name.write(content) \n",
    "\n",
    "#### As per the syntax, the string that is passed to the write() function is written into the opened file. The string may include numbers, special characters, or symbols. While writing data to a file, we must know that the write function does not add a newline character(\\n) to the end of the string. The write() function returns None."
   ]
  },
  {
   "cell_type": "code",
   "execution_count": 7,
   "id": "da0e5353-f6db-4fbd-b23c-12385a74d302",
   "metadata": {},
   "outputs": [
    {
     "name": "stdin",
     "output_type": "stream",
     "text": [
      "Enter the name of the players:  Dhoni\n",
      "Enter the name of the players:  Virat\n"
     ]
    },
    {
     "name": "stdout",
     "output_type": "stream",
     "text": [
      "Data is written into the file.\n",
      "Dhoni\n",
      "Virat\n",
      "\n"
     ]
    }
   ],
   "source": [
    "file = open(\"file2.txt\", \"w\")\n",
    "  \n",
    "for i in range(2):\n",
    "   name = input(\"Enter the name of the Teams: \")\n",
    "   file.write(name)\n",
    "   file.write(\"\\n\")\n",
    "     \n",
    "file.close()\n",
    "  \n",
    "print(\"Data is written into the file.\")\n",
    "\n",
    "with open(\"file2.txt\" , \"r\") as f3:\n",
    "    print(f3.read())"
   ]
  },
  {
   "cell_type": "markdown",
   "id": "866c80a2-2927-407f-a53a-aa912f0ef6f0",
   "metadata": {},
   "source": [
    "#### writelines() function\n",
    "#### This function writes the content of a list to a file.\n",
    "Syntax:   file_name.writelines(list_of_lines)\n",
    "\n",
    "#### As per the syntax, the list of strings that is passed to the writelines() function is written into the opened file. Similar to the write() function, the writelines() function does not add a newline character(\\n) to the end of the string."
   ]
  },
  {
   "cell_type": "code",
   "execution_count": 12,
   "id": "46b90a1e-5086-4f31-a238-dbb0434b7357",
   "metadata": {},
   "outputs": [
    {
     "name": "stdin",
     "output_type": "stream",
     "text": [
      "Enter the name of the players:  Dhoni\n",
      "Enter the name of the players:  Virat\n",
      "Enter the name of the players:  Rohit\n"
     ]
    },
    {
     "name": "stdout",
     "output_type": "stream",
     "text": [
      "Data is written into the file.\n",
      "Dhoni\n",
      "Virat\n",
      "Rohit\n",
      "\n"
     ]
    }
   ],
   "source": [
    "\n",
    "file1 = open(\"file3.txt\", \"w\")\n",
    "lst = []\n",
    "for i in range(3):\n",
    "    name = input(\"Enter the name of the players: \")\n",
    "    lst.append(name + '\\n')\n",
    "      \n",
    "file1.writelines(lst)\n",
    "file1.close()\n",
    "print(\"Data is written into the file.\") \n",
    "\n",
    "with open(\"file3.txt\" , \"r\") as f3:\n",
    "    print(f3.read())"
   ]
  },
  {
   "cell_type": "code",
   "execution_count": null,
   "id": "a02e9044-7762-4be2-9736-7e78b2506123",
   "metadata": {},
   "outputs": [],
   "source": []
  }
 ],
 "metadata": {
  "kernelspec": {
   "display_name": "Python 3 (ipykernel)",
   "language": "python",
   "name": "python3"
  },
  "language_info": {
   "codemirror_mode": {
    "name": "ipython",
    "version": 3
   },
   "file_extension": ".py",
   "mimetype": "text/x-python",
   "name": "python",
   "nbconvert_exporter": "python",
   "pygments_lexer": "ipython3",
   "version": "3.10.8"
  }
 },
 "nbformat": 4,
 "nbformat_minor": 5
}
