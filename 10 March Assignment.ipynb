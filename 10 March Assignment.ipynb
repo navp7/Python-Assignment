{
 "cells": [
  {
   "cell_type": "markdown",
   "id": "252614ac-747e-4ebc-87ff-d302131471c6",
   "metadata": {},
   "source": [
    "## 10 March Assignment"
   ]
  },
  {
   "cell_type": "markdown",
   "id": "0c7a7499-29da-4fa6-934e-356e13830573",
   "metadata": {},
   "source": [
    "## Statistics Advance-3"
   ]
  },
  {
   "cell_type": "markdown",
   "id": "91ec3fc7-791b-4aef-a25b-7abf8ab6b1e6",
   "metadata": {},
   "source": [
    "### Q1: What is Estimation Statistics? Explain point estimate and interval estimate."
   ]
  },
  {
   "cell_type": "markdown",
   "id": "4feb0262-9ae0-4926-abe6-2e45dcd2f522",
   "metadata": {},
   "source": [
    "Estimation in statistics involves the process of estimating population parameters (such as mean, variance, proportion, etc.) based on sample data. point estimate and interval estimate.\n",
    "\n",
    "1. **Point Estimate:**\n",
    "A point estimate is a single value that is used to approximate an unknown population parameter. It's essentially the best \"guess\" based on the sample data. For example, if you want to estimate the population mean (μ) based on a sample mean (x̄), the sample mean would serve as the point estimate for the population mean.\n",
    "\n",
    "Point estimates are easy to compute and understand, but they don't provide any information about the uncertainty or variability associated with the estimate. They also don't give a sense of how close the estimate is likely to be to the true population parameter.\n",
    "\n",
    "2. **Interval Estimate (Confidence Interval):**\n",
    "An interval estimate, often referred to as a confidence interval, is a range of values within which the true population parameter is likely to fall. It provides a measure of uncertainty associated with the estimate. The interval estimate consists of two values: a lower bound and an upper bound. The confidence level associated with the interval expresses the level of confidence that the parameter lies within the interval.\n",
    "\n",
    "For example, a 95% confidence interval for the population mean (μ) would be written as (x̄ - E, x̄ + E), where x̄ is the sample mean and E is the margin of error that depends on the sample size and the desired level of confidence. This interval suggests that we are 95% confident that the true population mean lies within this range."
   ]
  },
  {
   "cell_type": "markdown",
   "id": "8ffe2595-f326-491e-9197-a3ffbcf7a48f",
   "metadata": {},
   "source": [
    "### Q2. Write a Python function to estimate the population mean using a sample mean and standard deviation."
   ]
  },
  {
   "cell_type": "markdown",
   "id": "611e15d8-dd29-4b10-90c0-9b32325eb7b3",
   "metadata": {},
   "source": [
    "    Estimate the population mean using a sample mean, sample standard deviation, and sample size.\n",
    "    \n",
    "    Parameters:\n",
    "    sample_mean (float): The mean of the sample.\n",
    "    sample_stddev (float): The standard deviation of the sample.\n",
    "    sample_size (int): The size of the sample.\n",
    "    confidence_level (float, optional): The desired confidence level for the interval estimate.\n",
    "                                        Default is 0.95 (95% confidence level).\n",
    "    \n",
    "    Returns:\n",
    "    tuple: Estimated population mean, lower bound of confidence interval, upper bound of confidence interval.\n"
   ]
  },
  {
   "cell_type": "code",
   "execution_count": 4,
   "id": "15219760-1c6b-4b2a-9cc2-d8c62ac7999f",
   "metadata": {},
   "outputs": [
    {
     "name": "stdout",
     "output_type": "stream",
     "text": [
      "Estimated Population Mean: 65.2\n",
      "Confidence Interval: (64.51401260541098, 65.88598739458902)\n"
     ]
    }
   ],
   "source": [
    "import scipy.stats as stats\n",
    "\n",
    "def estimate_population_mean(sample_mean, sample_stddev, sample_size, confidence_level=0.95):\n",
    "    \n",
    "    z_critical = stats.norm.ppf(1 - (1 - confidence_level) / 2)\n",
    "    margin_of_error = z_critical * (sample_stddev / (sample_size ** 0.5))\n",
    "    \n",
    "    lower_bound = sample_mean - margin_of_error\n",
    "    upper_bound = sample_mean + margin_of_error\n",
    "    \n",
    "    return sample_mean, lower_bound, upper_bound\n",
    "\n",
    "# Example usage\n",
    "sample_mean = 65.2\n",
    "sample_stddev = 3.5\n",
    "sample_size = 100\n",
    "confidence_level = 0.95\n",
    "\n",
    "estimated_mean, lower_bound, upper_bound = estimate_population_mean(sample_mean, sample_stddev, sample_size, confidence_level)\n",
    "print(f\"Estimated Population Mean: {estimated_mean}\")\n",
    "print(f\"Confidence Interval: ({lower_bound}, {upper_bound})\")\n"
   ]
  },
  {
   "cell_type": "markdown",
   "id": "f0da0b26-92bf-4107-b591-212230a989df",
   "metadata": {},
   "source": [
    "### Q3: What is Hypothesis testing? Why is it used? State the importance of Hypothesis testing."
   ]
  },
  {
   "cell_type": "markdown",
   "id": "76380eb3-851d-47ba-88a7-33d8f1ad0a34",
   "metadata": {},
   "source": [
    "Hypothesis testing is a fundamental concept in statistics that involves making decisions or drawing inferences about a population based on a sample of data. It's a structured and formal process used to evaluate claims or hypotheses about population parameters. The main goal of hypothesis testing is to determine whether the evidence from the sample data supports or contradicts a specific claim (hypothesis) about a population characteristic.\n",
    "\n",
    "Hypothesis testing consists of the following key steps:\n",
    "\n",
    "1. **Formulating Hypotheses:**\n",
    "   - Null Hypothesis (H0): This is the default hypothesis that there is no effect or no difference. It represents the status quo or the claim to be tested.\n",
    "   - Alternative Hypothesis (Ha): This is the hypothesis that contradicts the null hypothesis and represents the claim the researcher is trying to find evidence for.\n",
    "\n",
    "2. **Collecting and Analyzing Data:**\n",
    "   A sample is collected from the population of interest, and statistical analysis is performed on the sample data.\n",
    "\n",
    "3. **Calculating Test Statistic:**\n",
    "   A test statistic is calculated based on the sample data and the assumptions about the population distribution.\n",
    "\n",
    "4. **Determining a Critical Region:**\n",
    "   A critical region is defined in the distribution of the test statistic. It represents the extreme values of the test statistic that would lead to the rejection of the null hypothesis.\n",
    "\n",
    "5. **Making a Decision:**\n",
    "   The test statistic is compared to the critical region. If the test statistic falls within the critical region, the null hypothesis is rejected in favor of the alternative hypothesis. If it doesn't, there is not enough evidence to reject the null hypothesis.\n",
    "\n",
    "6. **Drawing Conclusions:**\n",
    "   Based on the decision made in step 5, conclusions are drawn regarding the validity of the claim being tested.\n",
    "\n",
    "The Importance of Hypothesis Testing:\n",
    "\n",
    "1. **Informed Decision Making:** Hypothesis testing provides a structured approach to making informed decisions based on evidence from sample data. It helps avoid making arbitrary judgments or decisions.\n",
    "\n",
    "2. **Scientific Research:** Hypothesis testing is crucial in scientific research to evaluate new theories, hypotheses, or treatments. It allows researchers to objectively assess whether their findings are statistically significant.\n",
    "\n",
    "3. **Quality Control and Process Improvement:** Industries use hypothesis testing to ensure the quality of products and processes. It helps identify issues and improvements in manufacturing and operations.\n",
    "\n",
    "4. **Medical and Health Sciences:** Hypothesis testing is used to assess the effectiveness of medical treatments and interventions, leading to evidence-based medical practices.\n",
    "\n",
    "5. **Social Sciences:** Hypothesis testing is employed to study various social phenomena, behaviors, and trends, helping researchers understand human behavior and society.\n",
    "\n",
    "6. **Policy Making:** In economics and public policy, hypothesis testing provides evidence for policy decisions by analyzing the impact of policies on various parameters.\n",
    "\n",
    "7. **Legal and Criminal Justice System:** Hypothesis testing is used in legal cases to determine guilt or innocence based on evidence presented in court.\n",
    "\n",
    "8. **Market Research:** Businesses use hypothesis testing to analyze consumer preferences, market trends, and the effectiveness of marketing strategies.\n",
    "\n",
    "Overall, hypothesis testing plays a central role in making objective and data-driven decisions across various fields, ensuring that conclusions are drawn based on statistical evidence rather than intuition or chance."
   ]
  },
  {
   "cell_type": "markdown",
   "id": "fa280391-14de-475c-8438-aa35fb31f36b",
   "metadata": {},
   "source": [
    "### Q4. Create a hypothesis that states whether the average weight of male college students is greater than the average weight of female college students."
   ]
  },
  {
   "cell_type": "markdown",
   "id": "f0ab924a-fa4f-4e4a-a817-ea443c3f391e",
   "metadata": {},
   "source": [
    "Hypothesis:\n",
    "Null Hypothesis (H0): The average weight of male college students is equal to or less than the average weight of female college students.\n",
    "Alternative Hypothesis (Ha): The average weight of male college students is greater than the average weight of female college students.\n",
    "\n",
    "Symbolically:\n",
    "H0: μ_male ≤ μ_female\n",
    "Ha: μ_male > μ_female\n",
    "\n",
    "In words:\n",
    "Null Hypothesis (H0): The population mean weight of male college students (μ_male) is less than or equal to the population mean weight of female college students (μ_female).\n",
    "Alternative Hypothesis (Ha): The population mean weight of male college students (μ_male) is greater than the population mean weight of female college students (μ_female).\n",
    "\n",
    "This hypothesis sets up the framework for a one-tailed hypothesis test to determine if there is sufficient evidence to support the claim that male college students, on average, weigh more than female college students. The null hypothesis assumes that there is no significant difference or that male students might even weigh less on average. The alternative hypothesis suggests that there is a significant difference favoring higher average weight among male students."
   ]
  },
  {
   "cell_type": "markdown",
   "id": "078e08f7-70e2-4523-a2e5-d8cfc9bcebd5",
   "metadata": {},
   "source": [
    "### Q5. Write a Python script to conduct a hypothesis test on the difference between two population means, given a sample from each population."
   ]
  },
  {
   "cell_type": "markdown",
   "id": "fb07ed3b-fe67-42e3-b041-f4e06623b5fc",
   "metadata": {},
   "source": [
    "\n",
    "    Conduct a two-sample t-test for the difference between population means.\n",
    "    \n",
    "    Parameters:\n",
    "    sample1 (list or array): Sample data for population 1.\n",
    "    sample2 (list or array): Sample data for population 2.\n",
    "    alpha (float, optional): Significance level. Default is 0.05.\n",
    "    \n",
    "    Returns:\n",
    "    tuple: t-statistic, p-value, degrees of freedom, and whether null hypothesis is rejected.\n",
    "    "
   ]
  },
  {
   "cell_type": "code",
   "execution_count": 5,
   "id": "a335535a-e3d6-4f85-b1f8-e489cf61d59c",
   "metadata": {},
   "outputs": [
    {
     "name": "stdout",
     "output_type": "stream",
     "text": [
      "Two-Sample T-Test Results:\n",
      "Sample 1 Mean: 69.5\n",
      "Sample 2 Mean: 63.75\n",
      "T-Statistic: 10.734181499701702\n",
      "P-Value: 3.0501499296937113e-09\n",
      "Degrees of Freedom: 18\n",
      "Reject Null Hypothesis: True\n"
     ]
    }
   ],
   "source": [
    "import scipy.stats as stats\n",
    "\n",
    "def two_sample_t_test(sample1, sample2, alpha=0.05):\n",
    "\n",
    "    t_statistic, p_value = stats.ttest_ind(sample1, sample2, equal_var=False)\n",
    "    degrees_of_freedom = len(sample1) + len(sample2) - 2\n",
    "    reject_null = p_value < alpha\n",
    "    \n",
    "    return t_statistic, p_value, degrees_of_freedom, reject_null\n",
    "\n",
    "# Example usage\n",
    "sample1 = [67.5, 68.2, 70.1, 69.8, 71.5, 68.9, 70.3, 68.7, 70.8, 69.2]\n",
    "sample2 = [61.8, 63.5, 64.2, 62.9, 64.8, 62.7, 63.9, 65.4, 63.1, 65.2]\n",
    "\n",
    "alpha = 0.05\n",
    "t_stat, p_val, dof, reject_null = two_sample_t_test(sample1, sample2, alpha)\n",
    "\n",
    "print(\"Two-Sample T-Test Results:\")\n",
    "print(f\"Sample 1 Mean: {sum(sample1) / len(sample1)}\")\n",
    "print(f\"Sample 2 Mean: {sum(sample2) / len(sample2)}\")\n",
    "print(f\"T-Statistic: {t_stat}\")\n",
    "print(f\"P-Value: {p_val}\")\n",
    "print(f\"Degrees of Freedom: {dof}\")\n",
    "print(f\"Reject Null Hypothesis: {reject_null}\")\n"
   ]
  },
  {
   "cell_type": "markdown",
   "id": "5b3115e1-c082-4480-a1a4-775ff345c247",
   "metadata": {},
   "source": [
    "### Q6: What is a null and alternative hypothesis? Give some examples."
   ]
  },
  {
   "cell_type": "markdown",
   "id": "c30eb80f-9d1f-4208-9ac7-d68b65d8ea3f",
   "metadata": {},
   "source": [
    "In hypothesis testing, the null hypothesis (H0) and the alternative hypothesis (Ha) are two complementary statements that help guide the statistical analysis and decision-making process. They represent competing claims about a population parameter or the effect of an intervention, and the goal is to determine which hypothesis has more evidence based on the sample data.\n",
    "\n",
    "1. **Null Hypothesis (H0):**\n",
    "The null hypothesis is the default assumption or claim that there is no effect, no difference, or no change. It represents the absence of any interesting or significant phenomenon. In hypothesis testing, the null hypothesis is often a statement of no effect or no difference between groups.\n",
    "\n",
    "Examples:\n",
    "- H0: The average height of male and female students is the same.\n",
    "- H0: There is no relationship between the number of hours studied and exam performance.\n",
    "- H0: A new drug has no effect on reducing blood pressure.\n",
    "\n",
    "2. **Alternative Hypothesis (Ha):**\n",
    "The alternative hypothesis is the statement that contradicts the null hypothesis. It represents the claim that there is an effect, a difference, or a change. The alternative hypothesis is what the researcher is trying to find evidence for.\n",
    "\n",
    "Examples:\n",
    "- Ha: The average height of male and female students is different.\n",
    "- Ha: There is a positive relationship between the number of hours studied and exam performance.\n",
    "- Ha: The new drug significantly reduces blood pressure.\n",
    "\n",
    "In these examples, the null hypothesis asserts that there is no significant difference or effect, while the alternative hypothesis suggests that there is a significant difference or effect. The goal of hypothesis testing is to determine whether the evidence from the sample data supports the alternative hypothesis enough to reject the null hypothesis.\n",
    "\n",
    "When conducting hypothesis tests, the decision-making process involves comparing the test statistic (calculated from the sample data) with a critical value or calculating a p-value. If the test statistic falls in the critical region or if the p-value is below a predetermined significance level (alpha), the null hypothesis is rejected in favor of the alternative hypothesis. If there is not enough evidence, the null hypothesis is not rejected."
   ]
  },
  {
   "cell_type": "markdown",
   "id": "59032c80-ca41-4744-9f2d-89138f072cb5",
   "metadata": {},
   "source": [
    "### Q7: Write down the steps involved in hypothesis testing."
   ]
  },
  {
   "cell_type": "markdown",
   "id": "39fef17b-27b0-4bed-ac0f-caf61c9936ac",
   "metadata": {},
   "source": [
    "Hypothesis testing consists of the following key steps:\n",
    "\n",
    "1. **Formulating Hypotheses:**\n",
    "   - Null Hypothesis (H0): This is the default hypothesis that there is no effect or no difference. It represents the status quo or the claim to be tested.\n",
    "   - Alternative Hypothesis (Ha): This is the hypothesis that contradicts the null hypothesis and represents the claim the researcher is trying to find evidence for.\n",
    "\n",
    "2. **Collecting and Analyzing Data:**\n",
    "   A sample is collected from the population of interest, and statistical analysis is performed on the sample data.\n",
    "\n",
    "3. **Calculating Test Statistic:**\n",
    "   A test statistic is calculated based on the sample data and the assumptions about the population distribution.\n",
    "\n",
    "4. **Determining a Critical Region:**\n",
    "   A critical region is defined in the distribution of the test statistic. It represents the extreme values of the test statistic that would lead to the rejection of the null hypothesis.\n",
    "\n",
    "5. **Making a Decision:**\n",
    "   The test statistic is compared to the critical region. If the test statistic falls within the critical region, the null hypothesis is rejected in favor of the alternative hypothesis. If it doesn't, there is not enough evidence to reject the null hypothesis.\n",
    "\n",
    "6. **Drawing Conclusions:**\n",
    "   Based on the decision made in step 5, conclusions are drawn regarding the validity of the claim being tested."
   ]
  },
  {
   "cell_type": "markdown",
   "id": "e4a99f39-4792-419b-aa2c-aabae439d08b",
   "metadata": {},
   "source": [
    "### Q8. Define p-value and explain its significance in hypothesis testing."
   ]
  },
  {
   "cell_type": "markdown",
   "id": "4c7db2d0-a6c4-4206-aa85-33ade73d7c3d",
   "metadata": {},
   "source": [
    "The p-value, short for \"probability value,\" is a measure of the strength of evidence against the null hypothesis in a hypothesis test. It quantifies the likelihood of obtaining the observed sample data (or more extreme data) under the assumption that the null hypothesis is true. In other words, the p-value helps us assess whether the observed data is consistent with the null hypothesis or if it provides enough evidence to reject the null hypothesis in favor of the alternative hypothesis.\n",
    "\n",
    "Here's how the p-value is typically interpreted in hypothesis testing:\n",
    "\n",
    "Small p-value (p < alpha):\n",
    "If the calculated p-value is very small (typically smaller than a predetermined significance level, often denoted as alpha), it suggests that the observed data is unlikely to have occurred if the null hypothesis were true. In this case, we say that the data provides strong evidence against the null hypothesis, and we may reject the null hypothesis in favor of the alternative hypothesis.\n",
    "\n",
    "Large p-value (p ≥ alpha):\n",
    "If the calculated p-value is relatively large (greater than or equal to alpha), it suggests that the observed data is reasonably likely to occur even if the null hypothesis is true. In this case, we do not have enough evidence to reject the null hypothesis, and we do not conclude that there is a significant effect or difference.\n",
    "\n",
    "The significance of the p-value in hypothesis testing can be summarized as follows:\n",
    "\n",
    "A small p-value indicates that the observed data is unlikely to have occurred by random chance alone under the assumption that the null hypothesis is true. This suggests that there is strong evidence against the null hypothesis.\n",
    "\n",
    "A large p-value indicates that the observed data is reasonably consistent with the null hypothesis. It suggests that the data does not provide strong evidence to reject the null hypothesis."
   ]
  },
  {
   "cell_type": "markdown",
   "id": "aa0ca49a-2f8e-4a61-9f70-b3bc6098f161",
   "metadata": {},
   "source": [
    "### Q9. Generate a Student's t-distribution plot using Python's matplotlib library, with the degrees of freedom parameter set to 10."
   ]
  },
  {
   "cell_type": "code",
   "execution_count": 1,
   "id": "24e29dde-e2dd-41db-8f4d-77e384067d81",
   "metadata": {},
   "outputs": [
    {
     "data": {
      "image/png": "[encoded data removed]",
      "text/plain": [
       "<Figure size 800x600 with 1 Axes>"
      ]
     },
     "metadata": {},
     "output_type": "display_data"
    }
   ],
   "source": [
    "import numpy as np\n",
    "import matplotlib.pyplot as plt\n",
    "import scipy.stats as stats\n",
    "\n",
    "x = np.linspace(-5, 5, 1000)\n",
    "\n",
    "pdf = stats.t.pdf(x, df=10)\n",
    "\n",
    "# Create the plot\n",
    "plt.figure(figsize=(8, 6))\n",
    "plt.plot(x, pdf, label='df = 10')\n",
    "plt.title(\"Student's t-Distribution (Degrees of Freedom = 10)\")\n",
    "plt.xlabel('x')\n",
    "plt.ylabel('Probability Density')\n",
    "plt.legend()\n",
    "plt.grid(True)\n",
    "plt.show()"
   ]
  },
  {
   "cell_type": "markdown",
   "id": "2ed8ae4f-0c4a-4b95-917d-3bacf065a51c",
   "metadata": {},
   "source": [
    "### Q10. Write a Python program to calculate the two-sample t-test for independent samples, given two random samples of equal size and a null hypothesis that the population means are equal."
   ]
  },
  {
   "cell_type": "markdown",
   "id": "8bea72ec-0a2e-471f-8505-8ac8104168e7",
   "metadata": {},
   "source": [
    "     \n",
    "    Perform a two-sample t-test for independent samples with equal variances.\n",
    "    \n",
    "    Parameters:\n",
    "    sample1 (array-like): First sample data.\n",
    "    sample2 (array-like): Second sample data.\n",
    "    \n",
    "    Returns:\n",
    "    float: Calculated t-statistic.\n",
    "    float: Calculated p-value."
   ]
  },
  {
   "cell_type": "code",
   "execution_count": 2,
   "id": "198e687b-361c-43ab-b508-8890fd7e426c",
   "metadata": {},
   "outputs": [
    {
     "name": "stdout",
     "output_type": "stream",
     "text": [
      "Two-Sample T-Test Results:\n",
      "T-Statistic: -1.1062594996413757\n",
      "P-Value: 0.27318165657487037\n",
      "Fail to reject the null hypothesis. The data does not provide enough evidence.\n"
     ]
    }
   ],
   "source": [
    "import numpy as np\n",
    "import scipy.stats as stats\n",
    "\n",
    "def two_sample_t_test(sample1, sample2):\n",
    "   \n",
    "    t_statistic, p_value = stats.ttest_ind(sample1, sample2, equal_var=True)\n",
    "    return t_statistic, p_value\n",
    "\n",
    "# Generate two random samples of equal size\n",
    "sample_size = 30\n",
    "sample1 = np.random.normal(65, 5, sample_size)\n",
    "sample2 = np.random.normal(68, 6, sample_size)\n",
    "\n",
    "# Calculate the t-test\n",
    "t_stat, p_val = two_sample_t_test(sample1, sample2)\n",
    "\n",
    "# Display results\n",
    "print(\"Two-Sample T-Test Results:\")\n",
    "print(f\"T-Statistic: {t_stat}\")\n",
    "print(f\"P-Value: {p_val}\")\n",
    "\n",
    "# Interpret the results\n",
    "alpha = 0.05\n",
    "if p_val < alpha:\n",
    "    print(\"Reject the null hypothesis. There is evidence of a significant difference.\")\n",
    "else:\n",
    "    print(\"Fail to reject the null hypothesis. The data does not provide enough evidence.\")\n"
   ]
  },
  {
   "cell_type": "markdown",
   "id": "6c9fea2a-84c7-47ad-9572-93fff83bc1c3",
   "metadata": {},
   "source": [
    "### Q11: What is Student’s t distribution? When to use the t-Distribution."
   ]
  },
  {
   "cell_type": "markdown",
   "id": "aa4fe22f-6f56-40a2-99f0-ace5783f7e8a",
   "metadata": {},
   "source": [
    "The Student's t-distribution, commonly referred to as the t-distribution, is a probability distribution that is used in statistics to make inferences about population means when dealing with small sample sizes or situations where the population standard deviation is unknown. It is a fundamental tool in hypothesis testing and confidence interval estimation.\n",
    "\n",
    "The t-distribution is similar in shape to the normal distribution but has thicker tails. This thicker tail allows for greater variability in the sample data, which is often observed in smaller samples. The shape of the t-distribution is determined by a parameter known as degrees of freedom (df), which represents the number of independent observations available in the sample.\n",
    "\n",
    "When to use the t-Distribution:\n",
    "\n",
    "1. **Small Sample Sizes:** The t-distribution is particularly useful when working with small sample sizes (typically less than 30) where the sample size is not large enough to rely on the Central Limit Theorem. In such cases, the t-distribution provides a more accurate description of the sampling distribution of the sample mean.\n",
    "\n",
    "2. **Unknown Population Standard Deviation:** When the population standard deviation is unknown and needs to be estimated from the sample, the t-distribution is used to account for the uncertainty introduced by the estimation.\n",
    "\n",
    "3. **Comparing Means:** When comparing means of two independent samples (such as in a two-sample t-test) or a single sample against a known or hypothesized value (one-sample t-test), the t-distribution is used to determine the probability of observing the sample mean(s) under different scenarios.\n",
    "\n",
    "4. **Confidence Intervals:** When constructing confidence intervals for the population mean, especially with small sample sizes, the t-distribution is used to account for the uncertainty in the estimate of the population standard deviation.\n",
    "\n",
    "5. **Real-World Data:** In many real-world scenarios, data might not follow a perfectly normal distribution, and the t-distribution can provide a more accurate model for making statistical inferences.\n",
    "\n",
    "6. **Quality Control:** The t-distribution is employed in quality control processes to monitor and assess the variability of a process or product using small sample sizes.\n"
   ]
  },
  {
   "cell_type": "markdown",
   "id": "10936305-6424-432a-8265-993c696c6dbf",
   "metadata": {},
   "source": [
    "### Q12: What is t-statistic? State the formula for t-statistic."
   ]
  },
  {
   "cell_type": "markdown",
   "id": "51b57aa1-682b-4087-945e-267e03e3670b",
   "metadata": {},
   "source": [
    "The t-statistic (also known as the t-score or t-value) is a measure used in hypothesis testing to quantify how far the sample estimate (such as the sample mean) deviates from the null hypothesis expectation (such as the population mean) in terms of standard errors. It helps us assess the strength of evidence against the null hypothesis.\n",
    "\n",
    "The formula for calculating the t-statistic depends on the specific hypothesis test being performed. Here are two common scenarios:\n",
    "\n",
    "1. **One-Sample t-Test:**\n",
    "   In a one-sample t-test, you compare the sample mean to a known or hypothesized population mean. The formula for the t-statistic in this case is:\n",
    "\n",
    "   ![One-Sample t-Test Formula](https://latex.codecogs.com/png.image?%5Cdpi%7B150%7D%20t%20%3D%20%5Cfrac%7B%5Cbar%7Bx%7D%20-%20%5Cmu%7D%7Bs%20%2F%20%5Csqrt%7Bn%7D%7D)\n",
    "   \n",
    "\n",
    "   Where:\n",
    "   - t: t-statistic\n",
    "   - \\(\\bar{x}\\): Sample mean\n",
    "   - \\(\\mu\\): Population mean under the null hypothesis\n",
    "   - s: Sample standard deviation\n",
    "   - n: Sample size\n",
    "\n",
    "2. **Independent Two-Sample t-Test:**\n",
    "   In an independent two-sample t-test, you compare the means of two independent samples. The formula for the t-statistic in this case is:\n",
    "\n",
    "   ![Independent Two-Sample t-Test Formula](https://latex.codecogs.com/png.image?%5Cdpi%7B150%7D%20t%20%3D%20%5Cfrac%7B%5Cbar%7Bx%7D_1%20-%20%5Cbar%7Bx%7D_2%7D%7B%5Csqrt%7B%5Cfrac%7Bs_1%5E2%7D%7Bn_1%7D%20%2B%20%5Cfrac%7Bs_2%5E2%7D%7Bn_2%7D%7D%7D)\n",
    "\n",
    "   Where:\n",
    "   - t: t-statistic\n",
    "   - \\(\\bar{x}_1\\): Sample mean of the first sample\n",
    "   - \\(\\bar{x}_2\\): Sample mean of the second sample\n",
    "   - \\(s_1\\): Sample standard deviation of the first sample\n",
    "   - \\(s_2\\): Sample standard deviation of the second sample\n",
    "   - \\(n_1\\): Sample size of the first sample\n",
    "   - \\(n_2\\): Sample size of the second sample\n",
    "\n",
    "The t-statistic measures the difference between the sample statistic (such as the mean) and the population parameter under the null hypothesis, normalized by the variability of the sample and adjusted for the sample size. It provides a way to assess whether the observed difference is statistically significant and whether the null hypothesis should be rejected in favor of the alternative hypothesis."
   ]
  },
  {
   "cell_type": "markdown",
   "id": "f3c584ff-57ae-4e57-8bc3-2f8a0b8550c1",
   "metadata": {},
   "source": [
    "### Q13. A coffee shop owner wants to estimate the average daily revenue for their shop. They take a random sample of 50 days and find the sample mean revenue to be dollars 500 with a standard deviation of dollar 50. Estimate the population mean revenue with a 95% confidence interval."
   ]
  },
  {
   "cell_type": "code",
   "execution_count": 3,
   "id": "4251bf06-021d-4fc8-8908-e90beaa54aa7",
   "metadata": {},
   "outputs": [
    {
     "name": "stdout",
     "output_type": "stream",
     "text": [
      "Estimated Population Mean: $500\n",
      "Confidence Interval: ($486.1409617565032, $513.8590382434968)\n"
     ]
    }
   ],
   "source": [
    "#Code\n",
    "import scipy.stats as stats\n",
    "\n",
    "def estimate_population_mean(sample_mean, sample_stddev, sample_size, confidence_level=0.95):\n",
    "    \n",
    "    z_critical = stats.norm.ppf(1 - (1 - confidence_level) / 2)\n",
    "    margin_of_error = z_critical * (sample_stddev / (sample_size ** 0.5))\n",
    "    \n",
    "    lower_bound = sample_mean - margin_of_error\n",
    "    upper_bound = sample_mean + margin_of_error\n",
    "    \n",
    "    return sample_mean, lower_bound, upper_bound\n",
    "\n",
    "# Given Data\n",
    "sample_mean = 500\n",
    "sample_stddev = 50\n",
    "sample_size = 50\n",
    "confidence_level = 0.95\n",
    "\n",
    "estimated_mean, lower_bound, upper_bound = estimate_population_mean(sample_mean, sample_stddev, sample_size, confidence_level)\n",
    "print(f\"Estimated Population Mean: ${estimated_mean}\")\n",
    "print(f\"Confidence Interval: (${lower_bound}, ${upper_bound})\")\n"
   ]
  },
  {
   "cell_type": "markdown",
   "id": "79ad2ef9-4490-4af1-a0ff-b3ff2ef6077c",
   "metadata": {},
   "source": [
    "### Q14. A researcher hypothesizes that a new drug will decrease blood pressure by 10 mmHg. They conduct a clinical trial with 100 patients and find that the sample mean decrease in blood pressure is 8 mmHg with a standard deviation of 3 mmHg. Test the hypothesis with a significance level of 0.05."
   ]
  },
  {
   "cell_type": "markdown",
   "id": "b90d67fd-ff32-4473-a86d-99359a32e94a",
   "metadata": {},
   "source": [
    "The null hypothesis (H0) is that the drug does not decrease blood pressure by 10 mmHg (μ=−10). \n",
    "The alternative hypothesis (Ha) is that the drug does decrease blood pressure by 10 mmHg (μ<−10)"
   ]
  },
  {
   "cell_type": "code",
   "execution_count": 4,
   "id": "60e017d7-8be8-488f-b2e8-f7f4feeb03c4",
   "metadata": {},
   "outputs": [
    {
     "name": "stdout",
     "output_type": "stream",
     "text": [
      "T-Test Results:\n",
      "T-Statistic: 0.6\n",
      "P-Value: 0.7250614285460044\n",
      "Fail to reject the null hypothesis. The data does not provide enough evidence.\n"
     ]
    }
   ],
   "source": [
    "import numpy as np\n",
    "import scipy.stats as stats\n",
    "\n",
    "# Provided Data\n",
    "sample_size = 100\n",
    "pop_mean = -10\n",
    "sample_mean = 8 \n",
    "sample_std = 3\n",
    "dof = sample_size - 1\n",
    "\n",
    "# Calculate the t-test & p-value\n",
    "t_stat = (sample_mean - pop_mean)/((sample_std)*((100)**0.5))\n",
    "p_val = stats.t.cdf(t_stat, df=dof)\n",
    "\n",
    "\n",
    "\n",
    "# Display results\n",
    "print(\"T-Test Results:\")\n",
    "print(f\"T-Statistic: {t_stat}\")\n",
    "print(f\"P-Value: {p_val}\")\n",
    "\n",
    "# Interpret the results\n",
    "alpha = 0.05\n",
    "if p_val < alpha:\n",
    "    print(\"Reject the null hypothesis. There is evidence of a significant difference.\")\n",
    "else:\n",
    "    print(\"Fail to reject the null hypothesis. The data does not provide enough evidence.\")\n"
   ]
  },
  {
   "cell_type": "markdown",
   "id": "be71e7bc-fb0f-42d6-a7e9-a90aac49ed81",
   "metadata": {},
   "source": [
    "### Q15. An electronics company produces a certain type of product with a mean weight of 5 pounds and a standard deviation of 0.5 pounds. A random sample of 25 products is taken, and the sample mean weight is found to be 4.8 pounds. Test the hypothesis that the true mean weight of the products is less than 5 pounds with a significance level of 0.01."
   ]
  },
  {
   "cell_type": "markdown",
   "id": "bdbf221c-8b0e-42dc-a9d6-1ab350be9aa7",
   "metadata": {},
   "source": [
    "The null hypothesis (H0) is that the mean weight is 5 (μ=5). \n",
    "The alternative hypothesis (Ha) is that the mean weight is less than 5 (μ<5)"
   ]
  },
  {
   "cell_type": "code",
   "execution_count": 1,
   "id": "e1555416-17a1-4798-9281-2c2c8e2bac59",
   "metadata": {},
   "outputs": [
    {
     "name": "stdout",
     "output_type": "stream",
     "text": [
      "T-Test Results:\n",
      "T-Statistic: -2.0000000000000018\n",
      "P-Value: 0.02846992496829572\n",
      "Fail to reject the null hypothesis. The true mean weight is less than 5 pounds.\n"
     ]
    }
   ],
   "source": [
    "import numpy as np\n",
    "import scipy.stats as stats\n",
    "\n",
    "# Provided Data\n",
    "sample_size = 25\n",
    "pop_mean = 5\n",
    "sample_mean = 4.8\n",
    "sample_std = 0.5\n",
    "dof = sample_size - 1\n",
    "\n",
    "# Calculate the t-test & p-value\n",
    "t_stat = (sample_mean - pop_mean) / (sample_std / (sample_size ** 0.5))\n",
    "p_val = stats.t.cdf(t_stat, df=dof)\n",
    "\n",
    "\n",
    "\n",
    "# Display results\n",
    "print(\"T-Test Results:\")\n",
    "print(f\"T-Statistic: {t_stat}\")\n",
    "print(f\"P-Value: {p_val}\")\n",
    "\n",
    "# Interpret the results\n",
    "alpha = 0.01\n",
    "if p_val < alpha:\n",
    "    print(\"Reject the null hypothesis. The true mean weight less 5 pounds.\")\n",
    "else:\n",
    "    print(\"Fail to reject the null hypothesis. The true mean weight is equal to 5 pounds.\")\n"
   ]
  },
  {
   "cell_type": "markdown",
   "id": "002ee7b0-1548-4b9a-85d1-8fc0290b819a",
   "metadata": {},
   "source": [
    "### Q16. Two groups of students are given different study materials to prepare for a test. The first group (n1 =30) has a mean score of 80 with a standard deviation of 10, and the second group (n2 = 40) has a mean score of 75 with a standard deviation of 8. Test the hypothesis that the population means for the two groups are equal with a significance level of 0.01."
   ]
  },
  {
   "cell_type": "markdown",
   "id": "565a6bc1-5e86-4daf-9a19-534d314f8534",
   "metadata": {},
   "source": [
    "The null hypothesis (H0) is that the mean of both groups are equal. \n",
    "The alternative hypothesis (Ha) is that the mean of both groups are not equal."
   ]
  },
  {
   "cell_type": "code",
   "execution_count": 1,
   "id": "58d64f36-b089-4e88-b7b4-7e234c80b49c",
   "metadata": {},
   "outputs": [
    {
     "name": "stdout",
     "output_type": "stream",
     "text": [
      "Independent Two-Sample t-Test Results:\n",
      "T-Statistic: 0.031636914637910955\n",
      "P-Value: 0.9748542806800207\n",
      "Conclusion: Fail to reject the null hypothesis. There is no significant difference in population means for the two groups.\n"
     ]
    }
   ],
   "source": [
    "import scipy.stats as stats\n",
    "\n",
    "# Given data for Group 1\n",
    "mean1 = 80\n",
    "stddev1 = 10\n",
    "sample_size1 = 30\n",
    "\n",
    "# Given data for Group 2\n",
    "mean2 = 75\n",
    "stddev2 = 8\n",
    "sample_size2 = 40\n",
    "\n",
    "# Significance level\n",
    "alpha = 0.01\n",
    "\n",
    "# Calculate pooled standard deviation\n",
    "pooled_stddev = ((sample_size1 - 1) * stddev1 ** 2 + (sample_size2 - 1) * stddev2 ** 2) / (sample_size1 + sample_size2 - 2) ** 0.5\n",
    "\n",
    "# Calculate t-statistic\n",
    "t_statistic = (mean1 - mean2) / (pooled_stddev * (1 / sample_size1 + 1 / sample_size2) ** 0.5)\n",
    "\n",
    "# Calculate degrees of freedom\n",
    "degrees_of_freedom = sample_size1 + sample_size2 - 2\n",
    "\n",
    "# Calculate p-value (using cumulative distribution function for a two-sided test)\n",
    "p_value = 2 * (1 - stats.t.cdf(abs(t_statistic), df=degrees_of_freedom))\n",
    "\n",
    "# Determine if null hypothesis is rejected\n",
    "if p_value < alpha:\n",
    "    conclusion = \"Reject the null hypothesis. The population means for the two groups are not equal.\"\n",
    "else:\n",
    "    conclusion = \"Fail to reject the null hypothesis. There is no significant difference in population means for the two groups.\"\n",
    "\n",
    "# Display results\n",
    "print(\"Independent Two-Sample t-Test Results:\")\n",
    "print(f\"T-Statistic: {t_statistic}\")\n",
    "print(f\"P-Value: {p_value}\")\n",
    "print(\"Conclusion:\", conclusion)\n"
   ]
  },
  {
   "cell_type": "markdown",
   "id": "60532502-a64d-472e-8b82-9d24a0d2e228",
   "metadata": {},
   "source": [
    "### Q17. A marketing company wants to estimate the average number of ads watched by viewers during a TV program. They take a random sample of 50 viewers and find that the sample mean is 4 with a standard deviation of 1.5. Estimate the population mean with a 99% confidence interval."
   ]
  },
  {
   "cell_type": "code",
   "execution_count": 3,
   "id": "1e440167-7d81-4015-8ee8-1b45907342d4",
   "metadata": {},
   "outputs": [
    {
     "name": "stdout",
     "output_type": "stream",
     "text": [
      "Estimated Population Mean: 4\n",
      "Confidence Interval: (3.4535840896844654, 4.546415910315535)\n"
     ]
    }
   ],
   "source": [
    "#Code\n",
    "import scipy.stats as stats\n",
    "\n",
    "def estimate_population_mean(sample_mean, sample_stddev, sample_size, confidence_level=0.99):\n",
    "    \n",
    "    z_critical = stats.norm.ppf(1 - (1 - confidence_level) / 2)\n",
    "    margin_of_error = z_critical * (sample_stddev / (sample_size ** 0.5))\n",
    "    \n",
    "    lower_bound = sample_mean - margin_of_error\n",
    "    upper_bound = sample_mean + margin_of_error\n",
    "    \n",
    "    return sample_mean, lower_bound, upper_bound\n",
    "\n",
    "# Given Data\n",
    "sample_mean = 4\n",
    "sample_stddev = 1.5\n",
    "sample_size = 50\n",
    "confidence_level = 0.99\n",
    "\n",
    "estimated_mean, lower_bound, upper_bound = estimate_population_mean(sample_mean, sample_stddev, sample_size, confidence_level)\n",
    "print(f\"Estimated Population Mean: {estimated_mean}\")\n",
    "print(f\"Confidence Interval: ({lower_bound}, {upper_bound})\")\n"
   ]
  },
  {
   "cell_type": "code",
   "execution_count": null,
   "id": "a91f5b1c-1423-4607-8cfc-3f687731e87a",
   "metadata": {},
   "outputs": [],
   "source": []
  }
 ],
 "metadata": {
  "kernelspec": {
   "display_name": "Python 3 (ipykernel)",
   "language": "python",
   "name": "python3"
  },
  "language_info": {
   "codemirror_mode": {
    "name": "ipython",
    "version": 3
   },
   "file_extension": ".py",
   "mimetype": "text/x-python",
   "name": "python",
   "nbconvert_exporter": "python",
   "pygments_lexer": "ipython3",
   "version": "3.10.8"
  }
 },
 "nbformat": 4,
 "nbformat_minor": 5
}
