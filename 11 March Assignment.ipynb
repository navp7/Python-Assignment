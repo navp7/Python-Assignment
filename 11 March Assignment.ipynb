{
 "cells": [
  {
   "cell_type": "markdown",
   "id": "0f51f83b-e3ae-4f49-b1a9-9d609ba98673",
   "metadata": {},
   "source": [
    "## 11th March Assignment"
   ]
  },
  {
   "cell_type": "markdown",
   "id": "c33b358a-4f95-4e0f-8022-83ca2d8c508a",
   "metadata": {},
   "source": [
    "## Statistics Advance-4"
   ]
  },
  {
   "cell_type": "markdown",
   "id": "72c21a83-6abb-4c7d-ae85-af0f4981b5d0",
   "metadata": {},
   "source": [
    "### Q1: What is the difference between a t-test and a z-test? Provide an example scenario where you would use each type of test."
   ]
  },
  {
   "cell_type": "markdown",
   "id": "21fc4b14-48f2-4413-8fb5-dc0368c26616",
   "metadata": {},
   "source": [
    "Both t-tests and z-tests are statistical tests used for hypothesis testing and making inferences about population parameters based on sample data. \n",
    "\n",
    "**T-Test:**\n",
    "A t-test is used when the population standard deviation is unknown and needs to be estimated from the sample data. It is also suitable for small sample sizes. There are different types of t-tests, including one-sample t-test, independent two-sample t-test, and paired two-sample t-test.\n",
    "\n",
    "**Z-Test:**\n",
    "A z-test is used when the population standard deviation is known or when the sample size is large enough for the Central Limit Theorem to apply. It assumes that the population follows a normal distribution.\n",
    "\n",
    "Here's an example scenario for each type of test:\n",
    "\n",
    "**T-Test Example:**\n",
    "Suppose you want to test the effectiveness of a new drug in reducing blood pressure. You collect blood pressure measurements from a sample of 20 patients before and after administering the drug. You want to determine if there is a significant difference in blood pressure before and after treatment. Since you have a small sample size and the population standard deviation is unknown, you would use a paired two-sample t-test to compare the means of the paired measurements.\n",
    "\n",
    "**Z-Test Example:**\n",
    "Imagine you work for an electronics company that produces a specific component. You want to assess whether the mean lifespan of your component is consistent with a specified value of 500 hours. You have a large dataset of component lifespans and know the population standard deviation is 50 hours. In this case, you could use a one-sample z-test to compare the sample mean lifespan to the specified value, as the large sample size and known population standard deviation make the z-test appropriate.\n",
    "\n",
    "In summary, the choice between a t-test and a z-test depends on factors such as sample size and knowledge of the population standard deviation. If the population standard deviation is known and the sample size is large, a z-test is appropriate. If the population standard deviation is unknown or the sample size is small, a t-test is more suitable."
   ]
  },
  {
   "cell_type": "markdown",
   "id": "62922181-791a-4f90-92e7-95aabbe318bb",
   "metadata": {},
   "source": [
    "### Q2: Differentiate between one-tailed and two-tailed tests."
   ]
  },
  {
   "cell_type": "markdown",
   "id": "4c5255b2-cbb3-47d1-9cc6-da491cc4a170",
   "metadata": {},
   "source": [
    "**One-Tailed Test:**\n",
    "In a one-tailed test, the alternative hypothesis is formulated to test for a specific direction of difference or effect. The critical region is located in only one tail of the probability distribution. This type of test is used when you are interested in determining whether the sample data is significantly greater than or significantly less than a certain value.\n",
    "\n",
    "There are two types of one-tailed tests:\n",
    "1. **Right-Tailed Test:** The critical region is in the right tail of the distribution. This is used when you want to determine if the sample data is significantly greater than a certain value.\n",
    "2. **Left-Tailed Test:** The critical region is in the left tail of the distribution. This is used when you want to determine if the sample data is significantly less than a certain value.\n",
    "\n",
    "**Two-Tailed Test:**\n",
    "In a two-tailed test, the alternative hypothesis is formulated to test for any difference or effect in either direction. The critical region is split into two tails of the probability distribution. This type of test is used when you are interested in determining whether the sample data is significantly different from a certain value, without specifying whether it is greater or less.\n",
    "\n",
    "To summarize:\n",
    "\n",
    "- **One-Tailed Test:** Used to test for a specific direction of difference or effect (greater than or less than). The critical region is in one tail of the distribution.\n",
    "  - Right-Tailed Test: Critical region in the right tail.\n",
    "  - Left-Tailed Test: Critical region in the left tail.\n",
    "\n",
    "- **Two-Tailed Test:** Used to test for any difference or effect in either direction (greater than or less than). The critical region is split into two tails of the distribution.\n",
    "\n",
    "Example scenarios:\n",
    "- One-Tailed Test (Right-Tailed): Testing whether a new treatment improves a condition more than an existing treatment.\n",
    "- One-Tailed Test (Left-Tailed): Testing whether a new manufacturing process produces products with lower defect rates than the current process.\n",
    "- Two-Tailed Test: Testing whether a coin is biased by comparing the observed proportion of heads to the expected proportion of 0.5.\n"
   ]
  },
  {
   "cell_type": "markdown",
   "id": "808977f3-cbe4-4b8a-8973-12fbd3ff3098",
   "metadata": {},
   "source": [
    "### Q3: Explain the concept of Type 1 and Type 2 errors in hypothesis testing. Provide an example scenario for each type of error."
   ]
  },
  {
   "cell_type": "markdown",
   "id": "a7857632-419f-42d8-afb2-da74d2452fa9",
   "metadata": {},
   "source": [
    "**Type 1 Error (False Positive):**\n",
    "A Type 1 error occurs when the null hypothesis is incorrectly rejected when it is actually true. In other words, it's a false alarm where you conclude that there is a significant effect or difference when there is none in the population. The probability of committing a Type 1 error is denoted as \\(\\alpha\\) (alpha) and is the chosen significance level (typically set before conducting the test).\n",
    "\n",
    "**Example Scenario for Type 1 Error:**\n",
    "Imagine a medical trial for a new drug. The null hypothesis (\\(H_0\\)) is that the drug has no effect, while the alternative hypothesis (\\(H_a\\)) is that the drug is effective. A Type 1 error occurs if the trial concludes that the drug is effective (rejects \\(H_0\\)) when, in reality, the drug has no effect on the condition being treated.\n",
    "\n",
    "**Type 2 Error (False Negative):**\n",
    "A Type 2 error occurs when the null hypothesis is incorrectly failed to be rejected when it is actually false. In other words, it's a missed opportunity to detect a significant effect or difference that truly exists in the population. The probability of committing a Type 2 error is denoted as \\(\\beta\\) (beta).\n",
    "\n",
    "**Example Scenario for Type 2 Error:**\n",
    "Continuing with the medical trial example, a Type 2 error occurs if the trial fails to conclude that the drug is effective (fails to reject \\(H_0\\)) when, in reality, the drug does have a positive effect on the condition. This might happen if the sample size is too small to detect the effect or if the effect size is very small.\n",
    "\n",
    "In summary:\n",
    "\n",
    "- **Type 1 Error (False Positive):** Rejecting the null hypothesis when it is actually true.\n",
    "  - Probability of Type 1 Error (\\(\\alpha\\)): Chosen significance level.\n",
    "\n",
    "- **Type 2 Error (False Negative):** Failing to reject the null hypothesis when it is actually false.\n",
    "  - Probability of Type 2 Error (\\(\\beta\\)): Depends on the effect size, sample size, and chosen significance level.\n",
    "\n",
    "Balancing these two types of errors is essential in hypothesis testing. Researchers often set a significance level (\\(\\alpha\\)) to control the risk of committing a Type 1 error, and they consider factors such as sample size and effect size to minimize the risk of committing a Type 2 error. The relationship between Type 1 and Type 2 errors is often described using the \"power\" of a test, which is the probability of correctly rejecting the null hypothesis when it is false (i.e., \\(1 - \\beta\\))."
   ]
  },
  {
   "cell_type": "markdown",
   "id": "f1dcc45c-7eb4-40a0-ba4e-f18710027b09",
   "metadata": {},
   "source": [
    "### Q4: Explain Bayes's theorem with an example."
   ]
  },
  {
   "cell_type": "markdown",
   "id": "c5f35463-e0e6-4cc6-a494-b0389cf3b5f5",
   "metadata": {},
   "source": [
    "Bayes's Theorem is a fundamental concept in probability theory and statistics that describes how to update the probability of a hypothesis based on new evidence or information. It provides a framework for incorporating prior beliefs and new data to make more informed decisions. The theorem is named after the Reverend Thomas Bayes, who developed an early version of the formula.\n",
    "\n",
    "The formula for Bayes's Theorem is given by:\n",
    "\n",
    "\\[ P(A|B) = {P(B|A)* P(A)}/{P(B)} \\]\n",
    "\n",
    "Where:\n",
    "- \\( P(A|B) \\) is the probability of hypothesis \\( A \\) being true given evidence \\( B \\).\n",
    "- \\( P(B|A) \\) is the probability of evidence \\( B \\) occurring given that hypothesis \\( A \\) is true.\n",
    "- \\( P(A) \\) is the prior probability of hypothesis \\( A \\) being true.\n",
    "- \\( P(B) \\) is the probability of evidence \\( B \\) occurring.\n",
    "\n",
    "Let's illustrate Bayes's Theorem with a classic example known as the \"drug test\" problem:\n",
    "\n",
    "**Example: Drug Test**\n",
    "Suppose there is a new medical test for a rare disease. The disease affects 0.1% of the population. The test is 99% accurate when a person has the disease (true positive rate) and 95% accurate when a person does not have the disease (true negative rate). You are tested positive for the disease. What is the probability that you actually have the disease?\n",
    "\n",
    "Let's use Bayes's Theorem to calculate this probability.\n",
    "\n",
    "**Hypotheses:**\n",
    "- \\( A \\): You have the disease.\n",
    "- \\( B \\): You test positive for the disease.\n",
    "\n",
    "**Given Data:**\n",
    "- \\( P(A) \\): Prior probability of having the disease = 0.001 (0.1%)\n",
    "- \\( P(\\neg A) \\): Prior probability of not having the disease = 0.999\n",
    "- \\( P(B|A) \\): Probability of testing positive given that you have the disease = 0.99 (99% accuracy)\n",
    "- \\( P(B|\\neg A) \\): Probability of testing positive given that you don't have the disease = 0.05 (5% false positive rate)\n",
    "\n",
    "We want to find \\( P(A|B) \\), the probability of having the disease given that you tested positive.\n",
    "\n",
    "Using Bayes's Theorem:\n",
    "\n",
    "\\[ P(A|B) = {P(B|A)*P(A)}/{P(B)} \\]\n",
    "\n",
    "First, calculate the denominator \\( P(B) \\):\n",
    "\n",
    "\\[ P(B) = P(B|A) \\cdot P(A) + P(B|\\neg A) \\cdot P(\\neg A) \\]\n",
    "\\[ P(B) = (0.99 \\cdot 0.001) + (0.05 \\cdot 0.999) \\]\n",
    "\\[ P(B) = 0.00099 + 0.04995 \\]\n",
    "\\[ P(B) = 0.05094 \\]\n",
    "\n",
    "Now, calculate \\( P(A|B) \\):\n",
    "\n",
    "\\[ P(A|B) = \\frac{P(B|A) \\cdot P(A)}{P(B)} \\]\n",
    "\\[ P(A|B) = \\frac{0.99 \\cdot 0.001}{0.05094} \\]\n",
    "\\[ P(A|B) \\approx 0.0194 \\]\n",
    "\n",
    "So, even if you tested positive, the probability that you actually have the disease is approximately 0.0194, or about 1.94%. This example highlights the importance of considering both the accuracy of the test and the rarity of the disease when interpreting test results."
   ]
  },
  {
   "cell_type": "markdown",
   "id": "af62ea43-92d6-4798-8ba7-6f480b00021c",
   "metadata": {},
   "source": [
    "### Q5: What is a confidence interval? How to calculate the confidence interval, explain with an example."
   ]
  },
  {
   "cell_type": "markdown",
   "id": "aaf2c075-10ea-4e34-9b25-b9db84395a9e",
   "metadata": {},
   "source": [
    "A confidence interval is a range of values that is calculated from a sample of data and is used to estimate the true population parameter with a certain level of confidence. It provides a measure of the uncertainty associated with the sample estimate. In other words, a confidence interval indicates the range within which we expect the true population parameter to lie.\n",
    "\n",
    "Confidence intervals are commonly used in statistics to quantify the precision of sample estimates, such as the mean or proportion, and to provide a sense of the variability in the data. The confidence level associated with the interval represents the probability that the true population parameter falls within the calculated interval.\n",
    "\n",
    "Here's how to calculate a confidence interval with an example:\n",
    "\n",
    "**Example: Calculating a Confidence Interval for Mean**\n",
    "\n",
    "Suppose a company wants to estimate the average time (in minutes) its customers spend on their website per session. They collect a random sample of 50 customer sessions and record the time spent. The sample mean is 28 minutes, and the sample standard deviation is 5 minutes. They want to calculate a 95% confidence interval for the true average time spent on the website.\n",
    "\n",
    "**Step 1: Determine the Confidence Level**\n",
    "In this case, the confidence level is 95%.\n",
    "\n",
    "**Step 2: Calculate the Margin of Error**\n",
    "The margin of error (\\(E\\)) is calculated using the formula:\n",
    "\\[ E = Z \\cdot \\frac{s}{\\sqrt{n}} \\]\n",
    "where\n",
    "- \\( Z \\) is the critical value associated with the confidence level (for a 95% confidence level, \\( Z \\) is approximately 1.96).\n",
    "- \\( s \\) is the sample standard deviation.\n",
    "- \\( n \\) is the sample size.\n",
    "\n",
    "Plugging in the values:\n",
    "\\[ E = 1.96 \\cdot \\frac{5}{\\sqrt{50}} \\approx 1.38 \\]\n",
    "\n",
    "**Step 3: Calculate the Confidence Interval**\n",
    "The confidence interval is calculated as:\n",
    "\\[ \\text{Confidence Interval} = \\text{Sample Mean} \\pm \\text{Margin of Error} \\]\n",
    "\n",
    "Plugging in the values:\n",
    "\\[ \\text{Confidence Interval} = 28 \\pm 1.38 \\]\n",
    "\\[ \\text{Confidence Interval} = (26.62, 29.38) \\]\n",
    "\n",
    "**Step 4: Interpret the Confidence Interval**\n",
    "The 95% confidence interval for the true average time spent on the website per session is (26.62, 29.38) minutes. This means that we can be 95% confident that the true population average time falls within this interval.\n",
    "\n",
    "In this example, if we were to repeat the process of collecting samples and calculating confidence intervals many times, we would expect that approximately 95% of those intervals would contain the true population mean.\n",
    "\n",
    "Remember that the confidence interval provides a range of plausible values, but it does not guarantee that the true population parameter falls within that range. It only quantifies the level of confidence associated with the estimate."
   ]
  },
  {
   "cell_type": "markdown",
   "id": "a8519076-0e1f-4240-87db-81d19aee44e0",
   "metadata": {},
   "source": [
    "### Q6. Use Bayes' Theorem to calculate the probability of an event occurring given prior knowledge of the event's probability and new evidence. Provide a sample problem and solution."
   ]
  },
  {
   "cell_type": "markdown",
   "id": "84082a32-13e1-4530-80f1-417482e63b1f",
   "metadata": {},
   "source": [
    "**Sample Problem: Medical Test**\n",
    "\n",
    "Suppose a certain medical test is designed to detect a rare disease. The disease affects 1% of the population. The test has a true positive rate of 95% (it correctly detects the disease when it's present) and a false positive rate of 10% (it indicates the disease is present when it's not). If a person tests positive for the disease, what is the probability that they actually have the disease?\n",
    "\n",
    "**Hypotheses:**\n",
    "- \\( A \\): The person has the disease.\n",
    "- \\( B \\): The person tests positive for the disease.\n",
    "\n",
    "**Given Data:**\n",
    "- \\( P(A) \\): Prior probability of having the disease = 0.01 (1%)\n",
    "- \\( P(\\neg A) \\): Prior probability of not having the disease = 0.99\n",
    "- \\( P(B|A) \\): Probability of testing positive given that the person has the disease = 0.95 (95% true positive rate)\n",
    "- \\( P(B|\\neg A) \\): Probability of testing positive given that the person doesn't have the disease = 0.10 (10% false positive rate)\n",
    "\n",
    "We want to find \\( P(A|B) \\), the probability that the person has the disease given that they tested positive.\n",
    "\n",
    "Using Bayes' Theorem:\n",
    "\n",
    "P(A|B) = {P(B|A) * P(A)}/{P(B)}\n",
    "\n",
    "Step 1: Calculate the denominator (P(B)):\n",
    "\n",
    "P(B) = P(B|A) * P(A) + P(B|\\neg A) * P(\\neg A)\n",
    "P(B) = (0.95 * 0.01) + (0.10 * 0.99) \n",
    "P(B) = 0.0095 + 0.099\n",
    "P(B) = 0.1085\n",
    "\n",
    "Step 2: Calculate  P(A|B):\n",
    "\n",
    "P(A|B) = {P(B|A) * P(A)}/{P(B)} \n",
    "P(A|B) = {0.95 * 0.01}/{0.1085}\n",
    "P(A|B) = 0.0876\n",
    "\n",
    "So, the probability that a person actually has the disease given that they tested positive is approximately 0.0876, or about 8.76%. This means that even if a person tests positive, there's still only about an 8.76% chance that they truly have the disease, due to the low prevalence of the disease and the false positive rate of the test.\n",
    "\n",
    "Bayes' Theorem allows us to update our beliefs or probabilities based on new evidence, taking into account both the prior probabilities and the accuracy of the test."
   ]
  },
  {
   "cell_type": "markdown",
   "id": "5d6078bf-4c15-4ad5-b704-cab41e2c55ba",
   "metadata": {},
   "source": [
    "### Q7. Calculate the 95% confidence interval for a sample of data with a mean of 50 and a standard deviation of 5. Interpret the results."
   ]
  },
  {
   "cell_type": "markdown",
   "id": "8ce0564c-06cb-4dc8-986f-7247419fae2a",
   "metadata": {},
   "source": [
    "To calculate the 95% confidence interval for a sample of data with a mean of 50 and a standard deviation of 5, we'll use the formula for the confidence interval for a population mean:\n",
    "\n",
    "{Confidence Interval} = {Sample Mean} ± Z *({Sample Standard Deviation}/{sqrt{\\text{Sample Size}}}\n",
    "\n",
    "Where:\n",
    "- Sample Mean = 50\n",
    "- Sample Standard Deviation = 5\n",
    "- Sample Size (\\(n\\)) is not provided, so let's assume a reasonable sample size, e.g., \\(n = 100\\).\n",
    "- \\(Z\\) is the critical value associated with the 95% confidence level. For a 95% confidence level, \\(Z \\approx 1.96\\).\n",
    "\n",
    "Let's calculate the confidence interval:\n",
    "\n",
    "{Confidence Interval} = 50 ± 1.96 *( {5}/{\\sqrt{100}})\n",
    "\n",
    "{Confidence Interval} = 50 ± 0.98 \n",
    "\n",
    "The lower bound of the confidence interval is \\(50 - 0.98 = 49.02\\), and the upper bound is \\(50 + 0.98 = 50.98\\).\n",
    "\n",
    "Interpretation:\n",
    "We are 95% confident that the true population mean lies within the interval (49.02, 50.98). This means that if we were to take many samples from the same population and calculate 95% confidence intervals for each sample, approximately 95% of those intervals would contain the true population mean.\n",
    "\n",
    "In practical terms, this confidence interval suggests that the population mean could reasonably range from 49.02 to 50.98, based on the sample mean of 50 and a sample size of 100. The larger the sample size, the narrower the confidence interval would be, indicating higher precision in our estimate of the population mean."
   ]
  },
  {
   "cell_type": "markdown",
   "id": "a78631e2-5ce4-4564-9355-7ba648ae7892",
   "metadata": {},
   "source": [
    "### Q8. What is the margin of error in a confidence interval? How does sample size affect the margin of error? Provide an example of a scenario where a larger sample size would result in a smaller margin of error."
   ]
  },
  {
   "cell_type": "markdown",
   "id": "f4575c32-af32-46c1-99be-f063245dcb3e",
   "metadata": {},
   "source": [
    "The margin of error (MOE) in a confidence interval is a measure of the range within which we expect the true population parameter to fall, based on the sample data. It quantifies the uncertainty associated with the estimate obtained from the sample. In other words, it indicates how much the sample estimate could vary from the true population parameter.\n",
    "\n",
    "The formula for calculating the margin of error for a confidence interval for the population mean (\\(\\mu\\)) is given by:\n",
    "\n",
    "{Margin of Error} = Z *( {Sample Standard Deviation}/{sqrt{Sample Size}}\n",
    "\n",
    "Where:\n",
    "- \\( Z \\) is the critical value associated with the chosen confidence level (e.g., 1.96 for a 95% confidence level).\n",
    "- Sample Standard Deviation (\\( s \\)) is an estimate of the population standard deviation based on the sample.\n",
    "- Sample Size (\\( n \\)) is the number of observations in the sample.\n",
    "\n",
    "The margin of error provides a buffer around the sample estimate, and the confidence interval is constructed by adding and subtracting the margin of error from the sample estimate.\n",
    "\n",
    "**Effect of Sample Size on Margin of Error:**\n",
    "As the sample size (\\( n \\)) increases, the margin of error {MOE} decreases. In other words, a larger sample size leads to a more precise estimate and a narrower confidence interval. This is because larger samples tend to provide more representative and reliable information about the population, reducing the variability in the sample estimate.\n",
    "\n",
    "**Example Scenario:**\n",
    "Suppose you are conducting a survey to estimate the average income of households in a city. You collect two samples: one with a sample size of 100 and another with a sample size of 500.\n",
    "\n",
    "For the sample with 100 observations:\n",
    "- Sample Mean = $55,000\n",
    "- Sample Standard Deviation = $10,000\n",
    "\n",
    "For the sample with 500 observations:\n",
    "- Sample Mean = $55,000\n",
    "- Sample Standard Deviation = $8,000\n",
    "\n",
    "Let's calculate the margin of error for a 95% confidence interval for both samples using the formula mentioned earlier:\n",
    "\n",
    "For the sample with 100 observations:\n",
    "{MOE} = 1.96 *( {10,000}/{\\sqrt{100}}  = 1.96 * 1,000 = 1,960\n",
    "\n",
    "For the sample with 500 observations:\n",
    "{MOE} = 1.96*({8,000}/{\\sqrt{500}} =  703.24\n",
    "\n",
    "As you can see, the margin of error for the sample with a larger size (500) is smaller than the margin of error for the sample with a smaller size (100). This means that the 95% confidence interval for the average income of households is narrower for the larger sample, indicating higher precision and a more accurate estimate."
   ]
  },
  {
   "cell_type": "markdown",
   "id": "6945e91c-5062-4b8b-955e-47b0efd132e1",
   "metadata": {},
   "source": [
    "### Q9. Calculate the z-score for a data point with a value of 75, a population mean of 70, and a population standard deviation of 5. Interpret the results."
   ]
  },
  {
   "cell_type": "markdown",
   "id": "d6fc9a96-afbb-4b13-b8df-8f6ae68f7322",
   "metadata": {},
   "source": [
    "The z-score (also known as the standard score) measures how many standard deviations a data point is away from the mean of a population. It is calculated using the formula:\n",
    "\n",
    " z = {x - \\mu}/{\\sigma} \n",
    "\n",
    "Where:\n",
    "- \\( x \\) is the data point's value\n",
    "- \\( \\mu \\) is the population mean\n",
    "- \\( \\sigma \\) is the population standard deviation\n",
    "\n",
    "Given the values in your question:\n",
    "- Data point value (\\( x \\)) = 75\n",
    "- Population mean (\\( \\mu \\)) = 70\n",
    "- Population standard deviation (\\( \\sigma \\)) = 5\n",
    "\n",
    "Let's calculate the z-score:\n",
    "\n",
    "z = {75 - 70}/{5} = 1 \n",
    "\n",
    "Interpretation:\n",
    "The calculated z-score of 1 indicates that the data point with a value of 75 is 1 standard deviation above the mean of the population. In other words, it is higher than the average value by an amount equal to one standard deviation. Z-scores are useful for standardizing data and comparing values from different populations or distributions. A positive z-score suggests that the data point is above the mean, while a negative z-score would indicate that the data point is below the mean."
   ]
  },
  {
   "cell_type": "markdown",
   "id": "35e138ca-b9cb-4ff7-b78c-fef2141377df",
   "metadata": {},
   "source": [
    "### Q10. In a study of the effectiveness of a new weight loss drug, a sample of 50 participants lost an average of 6 pounds with a standard deviation of 2.5 pounds. Conduct a hypothesis test to determine if the drug is significantly effective at a 95% confidence level using a t-test."
   ]
  },
  {
   "cell_type": "code",
   "execution_count": 2,
   "id": "50d7b7fb-70e6-41a4-90d0-eeb60062edca",
   "metadata": {},
   "outputs": [
    {
     "name": "stdout",
     "output_type": "stream",
     "text": [
      "Sample Mean: 6\n",
      "Sample Standard Error: 0.35355339059327373\n",
      "Degrees of Freedom: 49\n",
      "Calculated t-test Statistic: 16.970562748477143\n",
      "Critical t-value: -1.6765508919142629\n",
      "p-value: 3.7168840835270203e-22\n",
      "Is Significant: True\n",
      "Conclusion: The new weight loss drug is significantly effective at a 95% confidence level.\n"
     ]
    }
   ],
   "source": [
    "import scipy.stats as stats\n",
    "\n",
    "# Given data\n",
    "sample_mean = 6\n",
    "population_mean = 0\n",
    "sample_std_dev = 2.5\n",
    "sample_size = 50\n",
    "confidence_level = 0.95\n",
    "\n",
    "# Calculate the t-test statistic\n",
    "sample_standard_error = sample_std_dev / (sample_size ** 0.5)\n",
    "t_test_statistic = (sample_mean - population_mean) / sample_standard_error\n",
    "degrees_of_freedom = sample_size - 1\n",
    "\n",
    "# Find the critical t-value\n",
    "critical_t_value = stats.t.ppf(1 - confidence_level, degrees_of_freedom)\n",
    "\n",
    "# Calculate the p-value\n",
    "p_value = stats.t.sf(abs(t_test_statistic), degrees_of_freedom) * 2\n",
    "\n",
    "# Determine if the result is significant\n",
    "is_significant = p_value < (1 - confidence_level)\n",
    "\n",
    "# Print results\n",
    "print(\"Sample Mean:\", sample_mean)\n",
    "print(\"Sample Standard Error:\", sample_standard_error)\n",
    "print(\"Calculated t-test Statistic:\", t_test_statistic)\n",
    "print(\"Critical t-value:\", critical_t_value)\n",
    "print(\"p-value:\", p_value)\n",
    "print(\"Is Significant:\", is_significant)\n",
    "\n",
    "# Conclusion\n",
    "if is_significant:\n",
    "    print(\"Conclusion: The new weight loss drug is significantly effective at a 95% confidence level.\")\n",
    "else:\n",
    "    print(\"Conclusion: There is no significant evidence that the new weight loss drug is effective at a 95% confidence level.\")\n"
   ]
  },
  {
   "cell_type": "markdown",
   "id": "23c645b4-6733-4b41-8e3e-7b6744f58414",
   "metadata": {},
   "source": [
    "### Q11. In a survey of 500 people, 65% reported being satisfied with their current job. Calculate the 95% confidence interval for the true proportion of people who are satisfied with their job."
   ]
  },
  {
   "cell_type": "code",
   "execution_count": 3,
   "id": "d4061cd6-8e54-4ba1-b258-f74a8028cb51",
   "metadata": {},
   "outputs": [
    {
     "name": "stdout",
     "output_type": "stream",
     "text": [
      "Sample Proportion: 0.65\n",
      "Standard Error: 0.02133072900770154\n",
      "Critical Z-value: 1.959963984540054\n",
      "Margin of Error: 0.04180746061907883\n",
      "Confidence Interval: (0.6081925393809212, 0.6918074606190788)\n"
     ]
    }
   ],
   "source": [
    "import math\n",
    "\n",
    "# Given data\n",
    "sample_proportion = 0.65\n",
    "sample_size = 500\n",
    "confidence_level = 0.95\n",
    "\n",
    "# Calculate the critical Z value\n",
    "critical_z_value = stats.norm.ppf(1 - (1 - confidence_level) / 2)\n",
    "\n",
    "# Calculate the standard error\n",
    "standard_error = math.sqrt((sample_proportion * (1 - sample_proportion)) / sample_size)\n",
    "\n",
    "# Calculate the margin of error\n",
    "margin_of_error = critical_z_value * standard_error\n",
    "\n",
    "# Calculate the confidence interval\n",
    "confidence_interval_lower = sample_proportion - margin_of_error\n",
    "confidence_interval_upper = sample_proportion + margin_of_error\n",
    "\n",
    "# Print results\n",
    "print(\"Sample Proportion:\", sample_proportion)\n",
    "print(\"Standard Error:\", standard_error)\n",
    "print(\"Critical Z-value:\", critical_z_value)\n",
    "print(\"Margin of Error:\", margin_of_error)\n",
    "print(\"Confidence Interval:\", (confidence_interval_lower, confidence_interval_upper))\n"
   ]
  },
  {
   "cell_type": "markdown",
   "id": "dce7695b-647d-4ee9-a6cf-745140353559",
   "metadata": {},
   "source": [
    "### Q12. A researcher is testing the effectiveness of two different teaching methods on student performance. Sample A has a mean score of 85 with a standard deviation of 6, while sample B has a mean score of 82 with a standard deviation of 5. Conduct a hypothesis test to determine if the two teaching methods have a significant difference in student performance using a t-test with a significance level of 0.01."
   ]
  },
  {
   "cell_type": "code",
   "execution_count": 5,
   "id": "8a6d130e-4e24-44f0-802e-b096d05063b8",
   "metadata": {},
   "outputs": [
    {
     "name": "stdout",
     "output_type": "stream",
     "text": [
      "Sample A Mean: 85\n",
      "Sample B Mean: 82\n",
      "Sample A Standard Deviation: 6\n",
      "Sample B Standard Deviation: 5\n",
      "Sample A Size: 30\n",
      "Sample B Size: 30\n",
      "Calculated t-test Statistic: 2.1038606199548298\n",
      "Critical t-value: 2.756385903670335\n",
      "p-value: 0.0441779623620329\n",
      "Conclusion: Fail to reject the null hypothesis. There is no significant difference in student performance between the two teaching methods.\n"
     ]
    }
   ],
   "source": [
    "import scipy.stats as stats\n",
    "\n",
    "# Given data for Sample A\n",
    "sample_mean_a = 85\n",
    "sample_std_dev_a = 6\n",
    "sample_size_a = 30  # Assumed sample size\n",
    "\n",
    "# Given data for Sample B\n",
    "sample_mean_b = 82\n",
    "sample_std_dev_b = 5\n",
    "sample_size_b = 30  # Assumed sample size\n",
    "\n",
    "# Significance level\n",
    "significance_level = 0.01\n",
    "\n",
    "# Calculate the t-test statistic\n",
    "numerator = sample_mean_a - sample_mean_b\n",
    "denominator = ((sample_std_dev_a**2 / sample_size_a) + (sample_std_dev_b**2 / sample_size_b)) ** 0.5\n",
    "t_test_statistic = numerator / denominator\n",
    "\n",
    "# Degrees of freedom\n",
    "degrees_of_freedom = min(sample_size_a - 1, sample_size_b - 1)\n",
    "\n",
    "# Calculate the critical t-value for a two-tailed test\n",
    "critical_t_value = stats.t.ppf(1 - significance_level / 2, degrees_of_freedom)\n",
    "\n",
    "# Calculate the p-value\n",
    "p_value = stats.t.sf(abs(t_test_statistic), degrees_of_freedom) * 2\n",
    "\n",
    "# Print results\n",
    "print(\"Sample A Mean:\", sample_mean_a)\n",
    "print(\"Sample B Mean:\", sample_mean_b)\n",
    "print(\"Sample A Standard Deviation:\", sample_std_dev_a)\n",
    "print(\"Sample B Standard Deviation:\", sample_std_dev_b)\n",
    "print(\"Sample A Size:\", sample_size_a)\n",
    "print(\"Sample B Size:\", sample_size_b)\n",
    "print(\"Calculated t-test Statistic:\", t_test_statistic)\n",
    "print(\"Critical t-value:\", critical_t_value)\n",
    "print(\"p-value:\", p_value)\n",
    "\n",
    "# Make a decision based on the p-value and significance level\n",
    "if p_value < significance_level:\n",
    "    print(\"Conclusion: Reject the null hypothesis. There is a significant difference in student performance between the two teaching methods.\")\n",
    "else:\n",
    "    print(\"Conclusion: Fail to reject the null hypothesis. There is no significant difference in student performance between the two teaching methods.\")\n"
   ]
  },
  {
   "cell_type": "markdown",
   "id": "87d37221-408f-4a88-8671-54fc5b7623f7",
   "metadata": {},
   "source": [
    "### Q13. A population has a mean of 60 and a standard deviation of 8. A sample of 50 observations has a mean of 65. Calculate the 90% confidence interval for the true population mean."
   ]
  },
  {
   "cell_type": "code",
   "execution_count": 6,
   "id": "82a3abae-6c26-48ed-bb03-c63ae8f72872",
   "metadata": {},
   "outputs": [
    {
     "name": "stdout",
     "output_type": "stream",
     "text": [
      "Sample Mean: 65\n",
      "Standard Error: 1.131370849898476\n",
      "Critical Z-value: 1.6448536269514722\n",
      "Margin of Error: 1.860939445882678\n",
      "Confidence Interval: (63.13906055411732, 66.86093944588268)\n"
     ]
    }
   ],
   "source": [
    "import scipy.stats as stats\n",
    "\n",
    "# Given data\n",
    "sample_mean = 65\n",
    "population_std_dev = 8\n",
    "sample_size = 50\n",
    "confidence_level = 0.90\n",
    "\n",
    "# Calculate the critical Z value\n",
    "critical_z_value = stats.norm.ppf(1 - (1 - confidence_level) / 2)\n",
    "\n",
    "# Calculate the standard error\n",
    "standard_error = population_std_dev / (sample_size ** 0.5)\n",
    "\n",
    "# Calculate the margin of error\n",
    "margin_of_error = critical_z_value * standard_error\n",
    "\n",
    "# Calculate the confidence interval\n",
    "confidence_interval_lower = sample_mean - margin_of_error\n",
    "confidence_interval_upper = sample_mean + margin_of_error\n",
    "\n",
    "# Print results\n",
    "print(\"Sample Mean:\", sample_mean)\n",
    "print(\"Standard Error:\", standard_error)\n",
    "print(\"Critical Z-value:\", critical_z_value)\n",
    "print(\"Margin of Error:\", margin_of_error)\n",
    "print(\"Confidence Interval:\", (confidence_interval_lower, confidence_interval_upper))\n"
   ]
  },
  {
   "cell_type": "markdown",
   "id": "9e979372-8636-4c3c-9aa4-3e9f56e9aa45",
   "metadata": {},
   "source": [
    "### Q14. In a study of the effects of caffeine on reaction time, a sample of 30 participants had an average reaction time of 0.25 seconds with a standard deviation of 0.05 seconds. Conduct a hypothesis test to determine if the caffeine has a significant effect on reaction time at a 90% confidence level using a t-test."
   ]
  },
  {
   "cell_type": "code",
   "execution_count": 7,
   "id": "72020676-9136-4ad7-90f8-c6cce9a3e8c0",
   "metadata": {},
   "outputs": [
    {
     "name": "stdout",
     "output_type": "stream",
     "text": [
      "Sample Mean: 65\n",
      "Standard Error: 1.131370849898476\n",
      "Critical Z-value: 1.6448536269514722\n",
      "Margin of Error: 1.860939445882678\n",
      "Confidence Interval: (63.13906055411732, 66.86093944588268)\n"
     ]
    }
   ],
   "source": [
    "import scipy.stats as stats\n",
    "\n",
    "# Given data\n",
    "sample_mean = 65\n",
    "population_std_dev = 8\n",
    "sample_size = 50\n",
    "confidence_level = 0.90\n",
    "\n",
    "# Calculate the critical Z value\n",
    "critical_z_value = stats.norm.ppf(1 - (1 - confidence_level) / 2)\n",
    "\n",
    "# Calculate the standard error\n",
    "standard_error = population_std_dev / (sample_size ** 0.5)\n",
    "\n",
    "# Calculate the margin of error\n",
    "margin_of_error = critical_z_value * standard_error\n",
    "\n",
    "# Calculate the confidence interval\n",
    "confidence_interval_lower = sample_mean - margin_of_error\n",
    "confidence_interval_upper = sample_mean + margin_of_error\n",
    "\n",
    "# Print results\n",
    "print(\"Sample Mean:\", sample_mean)\n",
    "print(\"Standard Error:\", standard_error)\n",
    "print(\"Critical Z-value:\", critical_z_value)\n",
    "print(\"Margin of Error:\", margin_of_error)\n",
    "print(\"Confidence Interval:\", (confidence_interval_lower, confidence_interval_upper))\n"
   ]
  },
  {
   "cell_type": "code",
   "execution_count": null,
   "id": "2471b6b3-7447-4b87-b6c3-0d71ece7d12c",
   "metadata": {},
   "outputs": [],
   "source": []
  }
 ],
 "metadata": {
  "kernelspec": {
   "display_name": "Python 3 (ipykernel)",
   "language": "python",
   "name": "python3"
  },
  "language_info": {
   "codemirror_mode": {
    "name": "ipython",
    "version": 3
   },
   "file_extension": ".py",
   "mimetype": "text/x-python",
   "name": "python",
   "nbconvert_exporter": "python",
   "pygments_lexer": "ipython3",
   "version": "3.10.8"
  }
 },
 "nbformat": 4,
 "nbformat_minor": 5
}
