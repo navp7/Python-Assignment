{
 "cells": [
  {
   "cell_type": "markdown",
   "id": "375488f8-a468-437f-8d80-edcf5708d45a",
   "metadata": {},
   "source": [
    "## 12th March Assignment"
   ]
  },
  {
   "cell_type": "markdown",
   "id": "48c25c0b-3621-418c-be7d-b38d3ab9e869",
   "metadata": {},
   "source": [
    "## Statistics Advance-5"
   ]
  },
  {
   "cell_type": "markdown",
   "id": "ae551d0a-995b-48cd-b9de-386aacd4e085",
   "metadata": {},
   "source": [
    "### Q1. Calculate the 95% confidence interval for a sample of data with a mean of 50 and a standard deviation of 5 using Python. Interpret the results."
   ]
  },
  {
   "cell_type": "code",
   "execution_count": 2,
   "id": "873d728d-270c-4484-8d2b-6bdcbacf38a8",
   "metadata": {},
   "outputs": [
    {
     "name": "stdout",
     "output_type": "stream",
     "text": [
      "Sample Mean: 50\n",
      "Sample Standard Deviation: 5\n",
      "Sample Size: 100\n",
      "Calculated t-test Statistic: 1.959963984540054\n",
      "Margin of Error: 0.979981992270027\n",
      "Confidence Interval: (49.02001800772997, 50.97998199227003)\n"
     ]
    }
   ],
   "source": [
    "import scipy.stats as stats\n",
    "\n",
    "# Given data\n",
    "sample_mean = 50\n",
    "sample_std_dev = 5\n",
    "sample_size = 100\n",
    "confidence_level = 0.95\n",
    "\n",
    "# Calculate the critical Z value\n",
    "critical_z_value = stats.norm.ppf(1 - (1 - confidence_level) / 2)\n",
    "\n",
    "# Calculate the standard error\n",
    "standard_error = sample_std_dev / (sample_size ** 0.5)\n",
    "\n",
    "# Calculate the margin of error\n",
    "margin_of_error = critical_z_value * standard_error\n",
    "\n",
    "# Calculate the confidence interval\n",
    "confidence_interval_lower = sample_mean - margin_of_error\n",
    "confidence_interval_upper = sample_mean + margin_of_error\n",
    "\n",
    "# Print results\n",
    "print(\"Sample Mean:\", sample_mean)\n",
    "print(\"Sample Standard Deviation:\", sample_std_dev)\n",
    "print(\"Sample Size:\", sample_size)\n",
    "print(\"Calculated t-test Statistic:\", critical_z_value)\n",
    "print(\"Margin of Error:\", margin_of_error)\n",
    "print(\"Confidence Interval:\", (confidence_interval_lower, confidence_interval_upper))\n"
   ]
  },
  {
   "cell_type": "markdown",
   "id": "6b144bdb-a5d0-498a-98d1-8a49a1c8f31a",
   "metadata": {},
   "source": [
    "### Q2. Conduct a chi-square goodness of fit test to determine if the distribution of colors of M&Ms in a bag matches the expected distribution of 20% blue, 20% orange, 20% green, 10% yellow, 10% red, and 20% brown. Use Python to perform the test with a significance level of 0.05."
   ]
  },
  {
   "cell_type": "code",
   "execution_count": 4,
   "id": "ab776f69-5637-4b75-893d-3af728953c6a",
   "metadata": {},
   "outputs": [
    {
     "name": "stdout",
     "output_type": "stream",
     "text": [
      "Observed Frequencies: [45, 50, 55, 30, 35, 60]\n",
      "Expected Frequencies: [55.0, 55.0, 55.0, 27.5, 27.5, 55.0]\n",
      "Chi-Square Statistic: 4.999999999999999\n",
      "p-value: 0.4158801869955081\n",
      "Conclusion: Fail to reject the null hypothesis. The distribution of colors of M&Ms matches the expected distribution.\n"
     ]
    }
   ],
   "source": [
    "import scipy.stats as stats\n",
    "\n",
    "# Observed frequencies\n",
    "observed_frequencies = [45, 50, 55, 30, 35, 60]  # Example observed frequencies for each color\n",
    "\n",
    "# Expected frequencies based on the expected distribution\n",
    "expected_frequencies = [0.20, 0.20, 0.20, 0.10, 0.10, 0.20]\n",
    "total_observed = sum(observed_frequencies)\n",
    "expected_frequencies = [total_observed * freq for freq in expected_frequencies]\n",
    "\n",
    "# Calculate the chi-square statistic and p-value\n",
    "chi2_statistic, p_value = stats.chisquare(observed_frequencies, expected_frequencies)\n",
    "\n",
    "# Significance level\n",
    "significance_level = 0.05\n",
    "\n",
    "# Print results\n",
    "print(\"Observed Frequencies:\", observed_frequencies)\n",
    "print(\"Expected Frequencies:\", expected_frequencies)\n",
    "print(\"Chi-Square Statistic:\", chi2_statistic)\n",
    "print(\"p-value:\", p_value)\n",
    "\n",
    "# Make a decision based on the p-value and significance level\n",
    "if p_value < significance_level:\n",
    "    print(\"Conclusion: Reject the null hypothesis. The distribution of colors of M&Ms does not match the expected distribution.\")\n",
    "else:\n",
    "    print(\"Conclusion: Fail to reject the null hypothesis. The distribution of colors of M&Ms matches the expected distribution.\")\n"
   ]
  },
  {
   "cell_type": "markdown",
   "id": "0a970a9a-a574-4944-9c54-77d5e3094c79",
   "metadata": {},
   "source": [
    "### Q3. Use Python to calculate the chi-square statistic and p-value for a contingency table with the following data:\n",
    "### Group A = [20,10,15]\n",
    "### Group B = [15,25,20]\n",
    "### Interpret the results of the test."
   ]
  },
  {
   "cell_type": "code",
   "execution_count": 5,
   "id": "285980c8-c9d4-4255-b5d6-5a11c1ae9510",
   "metadata": {},
   "outputs": [
    {
     "name": "stdout",
     "output_type": "stream",
     "text": [
      "Contingency Table:\n",
      "[[20 10 15]\n",
      " [15 25 20]]\n",
      "Chi-Square Statistic: 5.833333333333334\n",
      "p-value: 0.05411376622282158\n",
      "\n",
      "Significance level: 0.05\n",
      "Degrees of Freedom: 2\n",
      "Conclusion: Fail to reject the null hypothesis. There is no significant association between the groups.\n"
     ]
    }
   ],
   "source": [
    "import numpy as np\n",
    "import scipy.stats as stats\n",
    "\n",
    "# Contingency table data\n",
    "observed = np.array([[20, 10, 15],\n",
    "                     [15, 25, 20]])\n",
    "\n",
    "# Calculate the chi-square statistic and p-value\n",
    "chi2_statistic, p_value, dof, expected = stats.chi2_contingency(observed)\n",
    "\n",
    "# Print results\n",
    "print(\"Contingency Table:\")\n",
    "print(observed)\n",
    "print(\"Chi-Square Statistic:\", chi2_statistic)\n",
    "print(\"p-value:\", p_value)\n",
    "\n",
    "# Interpret the results\n",
    "alpha = 0.05\n",
    "print(\"\\nSignificance level:\", alpha)\n",
    "print(\"Degrees of Freedom:\", dof)\n",
    "\n",
    "if p_value < alpha:\n",
    "    print(\"Conclusion: Reject the null hypothesis. There is a significant association between the groups.\")\n",
    "else:\n",
    "    print(\"Conclusion: Fail to reject the null hypothesis. There is no significant association between the groups.\")\n"
   ]
  },
  {
   "cell_type": "markdown",
   "id": "d34f8a1e-5dbe-4852-9c31-d933d1e02601",
   "metadata": {},
   "source": [
    "### Q4. A study of the prevalence of smoking in a population of 500 individuals found that 60 individuals smoked. Use Python to calculate the 95% confidence interval for the true proportion of individuals in the population who smoke."
   ]
  },
  {
   "cell_type": "code",
   "execution_count": 6,
   "id": "2cb9e8b3-c9c5-4284-8b1f-ebf1be15c69e",
   "metadata": {},
   "outputs": [
    {
     "name": "stdout",
     "output_type": "stream",
     "text": [
      "Sample Proportion: 0.12\n",
      "Standard Error: 0.014532721699667961\n",
      "Critical Z-value: 1.959963984540054\n",
      "Margin of Error: 0.028483611128692923\n",
      "Confidence Interval: (0.09151638887130707, 0.1484836111286929)\n"
     ]
    }
   ],
   "source": [
    "import scipy.stats as stats\n",
    "\n",
    "# Given data\n",
    "sample_proportion = 60 / 500\n",
    "sample_size = 500\n",
    "confidence_level = 0.95\n",
    "\n",
    "# Calculate the critical Z value\n",
    "critical_z_value = stats.norm.ppf(1 - (1 - confidence_level) / 2)\n",
    "\n",
    "# Calculate the standard error\n",
    "standard_error = (sample_proportion * (1 - sample_proportion)) ** 0.5 / (sample_size ** 0.5)\n",
    "\n",
    "# Calculate the margin of error\n",
    "margin_of_error = critical_z_value * standard_error\n",
    "\n",
    "# Calculate the confidence interval\n",
    "confidence_interval_lower = sample_proportion - margin_of_error\n",
    "confidence_interval_upper = sample_proportion + margin_of_error\n",
    "\n",
    "# Print results\n",
    "print(\"Sample Proportion:\", sample_proportion)\n",
    "print(\"Standard Error:\", standard_error)\n",
    "print(\"Critical Z-value:\", critical_z_value)\n",
    "print(\"Margin of Error:\", margin_of_error)\n",
    "print(\"Confidence Interval:\", (confidence_interval_lower, confidence_interval_upper))\n"
   ]
  },
  {
   "cell_type": "markdown",
   "id": "abccb20c-aa87-4f0d-ac7b-51c13131eeaf",
   "metadata": {},
   "source": [
    "### Q5. Calculate the 90% confidence interval for a sample of data with a mean of 75 and a standard deviation of 12 using Python. Interpret the results."
   ]
  },
  {
   "cell_type": "code",
   "execution_count": 7,
   "id": "bd82930f-4637-4b47-bf26-0012c7540161",
   "metadata": {},
   "outputs": [
    {
     "name": "stdout",
     "output_type": "stream",
     "text": [
      "Sample Mean: 75\n",
      "Sample Standard Deviation: 12\n",
      "Sample Size: 100\n",
      "Calculated t-test Statistic: 1.6448536269514722\n",
      "Margin of Error: 1.9738243523417665\n",
      "Confidence Interval: (73.02617564765823, 76.97382435234177)\n"
     ]
    }
   ],
   "source": [
    "import scipy.stats as stats\n",
    "\n",
    "# Given data\n",
    "sample_mean = 75\n",
    "sample_std_dev = 12\n",
    "sample_size = 100\n",
    "confidence_level = 0.90\n",
    "\n",
    "# Calculate the critical Z value\n",
    "critical_z_value = stats.norm.ppf(1 - (1 - confidence_level) / 2)\n",
    "\n",
    "# Calculate the standard error\n",
    "standard_error = sample_std_dev / (sample_size ** 0.5)\n",
    "\n",
    "# Calculate the margin of error\n",
    "margin_of_error = critical_z_value * standard_error\n",
    "\n",
    "# Calculate the confidence interval\n",
    "confidence_interval_lower = sample_mean - margin_of_error\n",
    "confidence_interval_upper = sample_mean + margin_of_error\n",
    "\n",
    "# Print results\n",
    "print(\"Sample Mean:\", sample_mean)\n",
    "print(\"Sample Standard Deviation:\", sample_std_dev)\n",
    "print(\"Sample Size:\", sample_size)\n",
    "print(\"Calculated t-test Statistic:\", critical_z_value)\n",
    "print(\"Margin of Error:\", margin_of_error)\n",
    "print(\"Confidence Interval:\", (confidence_interval_lower, confidence_interval_upper))\n"
   ]
  },
  {
   "cell_type": "markdown",
   "id": "b240ea73-a9f0-41c9-ae72-08591bca46b1",
   "metadata": {},
   "source": [
    "### Q6. Use Python to plot the chi-square distribution with 10 degrees of freedom. Label the axes and shade the area corresponding to a chi-square statistic of 15."
   ]
  },
  {
   "cell_type": "code",
   "execution_count": 8,
   "id": "5b6c72ed-348a-4f11-bba8-51d7520e52ed",
   "metadata": {},
   "outputs": [
    {
     "data": {
      "image/png": "[encoded data removed]",
      "text/plain": [
       "<Figure size 800x600 with 1 Axes>"
      ]
     },
     "metadata": {},
     "output_type": "display_data"
    }
   ],
   "source": [
    "import numpy as np\n",
    "import matplotlib.pyplot as plt\n",
    "import scipy.stats as stats\n",
    "\n",
    "# Degrees of freedom\n",
    "df = 10\n",
    "\n",
    "# Generate x values for the plot\n",
    "x = np.linspace(0, 30, 500)\n",
    "\n",
    "# Calculate the chi-square probability density function (PDF)\n",
    "chi2_pdf = stats.chi2.pdf(x, df)\n",
    "\n",
    "# Create the plot\n",
    "plt.figure(figsize=(8, 6))\n",
    "plt.plot(x, chi2_pdf, label=f'Chi-Square Distribution (df={df})')\n",
    "\n",
    "# Shade the area corresponding to chi-square statistic of 15\n",
    "x_shaded = np.linspace(0, 15, 500)\n",
    "chi2_pdf_shaded = stats.chi2.pdf(x_shaded, df)\n",
    "plt.fill_between(x_shaded, chi2_pdf_shaded, color='skyblue', alpha=0.5, label='Chi-Square Statistic of 15')\n",
    "\n",
    "# Add labels and legend\n",
    "plt.xlabel('Chi-Square Value')\n",
    "plt.ylabel('Probability Density')\n",
    "plt.title('Chi-Square Distribution')\n",
    "plt.legend()\n",
    "\n",
    "# Show the plot\n",
    "plt.grid(True)\n",
    "plt.show()"
   ]
  },
  {
   "cell_type": "markdown",
   "id": "9c910176-dc89-4a60-a3cd-795191530477",
   "metadata": {},
   "source": [
    "### Q7. A random sample of 1000 people was asked if they preferred Coke or Pepsi. Of the sample, 520 preferred Coke. Calculate a 99% confidence interval for the true proportion of people in the population who prefer Coke."
   ]
  },
  {
   "cell_type": "code",
   "execution_count": 9,
   "id": "55451a38-48a2-457e-b816-a34a5af9cabd",
   "metadata": {},
   "outputs": [
    {
     "name": "stdout",
     "output_type": "stream",
     "text": [
      "Sample Proportion: 0.52\n",
      "Standard Error: 0.0157987341265052\n",
      "Critical Z-value: 2.5758293035489004\n",
      "Margin of Error: 0.040694842322030134\n",
      "Confidence Interval: (0.4793051576779699, 0.5606948423220302)\n"
     ]
    }
   ],
   "source": [
    "import scipy.stats as stats\n",
    "\n",
    "# Given data\n",
    "sample_proportion = 520 / 1000\n",
    "sample_size = 1000\n",
    "confidence_level = 0.99\n",
    "\n",
    "# Calculate the critical Z value\n",
    "critical_z_value = stats.norm.ppf(1 - (1 - confidence_level) / 2)\n",
    "\n",
    "# Calculate the standard error\n",
    "standard_error = (sample_proportion * (1 - sample_proportion)) ** 0.5 / (sample_size ** 0.5)\n",
    "\n",
    "# Calculate the margin of error\n",
    "margin_of_error = critical_z_value * standard_error\n",
    "\n",
    "# Calculate the confidence interval\n",
    "confidence_interval_lower = sample_proportion - margin_of_error\n",
    "confidence_interval_upper = sample_proportion + margin_of_error\n",
    "\n",
    "# Print results\n",
    "print(\"Sample Proportion:\", sample_proportion)\n",
    "print(\"Standard Error:\", standard_error)\n",
    "print(\"Critical Z-value:\", critical_z_value)\n",
    "print(\"Margin of Error:\", margin_of_error)\n",
    "print(\"Confidence Interval:\", (confidence_interval_lower, confidence_interval_upper))\n"
   ]
  },
  {
   "cell_type": "markdown",
   "id": "a8dff157-afe0-49f5-849f-71bf3f91a34f",
   "metadata": {},
   "source": [
    "### Q8. A researcher hypothesizes that a coin is biased towards tails. They flip the coin 100 times and observe 45 tails. Conduct a chi-square goodness of fit test to determine if the observed frequencies match the expected frequencies of a fair coin. Use a significance level of 0.05."
   ]
  },
  {
   "cell_type": "code",
   "execution_count": 10,
   "id": "f6051814-0277-4315-a3af-028a4a770d25",
   "metadata": {},
   "outputs": [
    {
     "name": "stdout",
     "output_type": "stream",
     "text": [
      "Observed Frequencies: [45, 55]\n",
      "Expected Frequencies: [50.0, 50.0]\n",
      "Chi-Square Statistic: 1.0\n",
      "p-value: 0.31731050786291115\n",
      "Conclusion: Fail to reject the null hypothesis. The observed frequencies match the expected frequencies of a fair coin.\n"
     ]
    }
   ],
   "source": [
    "import scipy.stats as stats\n",
    "\n",
    "# Observed frequencies\n",
    "observed_tails = 45\n",
    "observed_heads = 100 - observed_tails\n",
    "\n",
    "# Expected frequencies for a fair coin (50% tails, 50% heads)\n",
    "expected_tails = 0.50 * 100\n",
    "expected_heads = 100 - expected_tails\n",
    "\n",
    "# Create the observed and expected frequency arrays\n",
    "observed_frequencies = [observed_tails, observed_heads]\n",
    "expected_frequencies = [expected_tails, expected_heads]\n",
    "\n",
    "# Calculate the chi-square statistic and p-value\n",
    "chi2_statistic, p_value = stats.chisquare(observed_frequencies, expected_frequencies)\n",
    "\n",
    "# Significance level\n",
    "significance_level = 0.05\n",
    "\n",
    "# Print results\n",
    "print(\"Observed Frequencies:\", observed_frequencies)\n",
    "print(\"Expected Frequencies:\", expected_frequencies)\n",
    "print(\"Chi-Square Statistic:\", chi2_statistic)\n",
    "print(\"p-value:\", p_value)\n",
    "\n",
    "# Make a decision based on the p-value and significance level\n",
    "if p_value < significance_level:\n",
    "    print(\"Conclusion: Reject the null hypothesis. The observed frequencies do not match the expected frequencies of a fair coin.\")\n",
    "else:\n",
    "    print(\"Conclusion: Fail to reject the null hypothesis. The observed frequencies match the expected frequencies of a fair coin.\")\n"
   ]
  },
  {
   "cell_type": "markdown",
   "id": "bc48449e-3d10-4587-a192-b9e1120bab2f",
   "metadata": {
    "tags": []
   },
   "source": [
    "### Q9. A study was conducted to determine if there is an association between smoking status (smoker or non-smoker) and lung cancer diagnosis (yes or no). The results are shown in the contingency table below. Conduct a chi-square test for independence to determine if there is a significant association between smoking status and lung cancer diagnosis. Use a significance level of 0.05.\n",
    "\n",
    "### Smoker with lung cancer: 60\n",
    "### Smoker with no lung cancer: 140\n",
    "### Non-Smoker with lung cancer: 30\n",
    "### Non-Smoker with no lung cancer: 170"
   ]
  },
  {
   "cell_type": "code",
   "execution_count": 11,
   "id": "6e480132-3f79-42e8-80fa-658dddfcadc9",
   "metadata": {},
   "outputs": [
    {
     "name": "stdout",
     "output_type": "stream",
     "text": [
      "Observed Frequencies:\n",
      "[60, 140]\n",
      "[30, 170]\n",
      "\n",
      "Expected Frequencies:\n",
      "[ 45. 155.]\n",
      "[ 45. 155.]\n",
      "\n",
      "Chi-Square Statistic: 12.057347670250895\n",
      "p-value: 0.0005158863863703744\n",
      "Degrees of Freedom: 1\n",
      "Conclusion: Reject the null hypothesis. There is a significant association between smoking status and lung cancer diagnosis.\n"
     ]
    }
   ],
   "source": [
    "import scipy.stats as stats\n",
    "\n",
    "# Observed frequencies in the contingency table\n",
    "observed = [[60, 140],\n",
    "            [30, 170]]\n",
    "\n",
    "# Calculate the chi-square statistic, p-value, degrees of freedom, and expected frequencies\n",
    "chi2_statistic, p_value, dof, expected = stats.chi2_contingency(observed)\n",
    "\n",
    "# Significance level\n",
    "significance_level = 0.05\n",
    "\n",
    "# Print results\n",
    "print(\"Observed Frequencies:\")\n",
    "for row in observed:\n",
    "    print(row)\n",
    "\n",
    "print(\"\\nExpected Frequencies:\")\n",
    "for row in expected:\n",
    "    print(row)\n",
    "\n",
    "print(\"\\nChi-Square Statistic:\", chi2_statistic)\n",
    "print(\"p-value:\", p_value)\n",
    "print(\"Degrees of Freedom:\", dof)\n",
    "\n",
    "# Make a decision based on the p-value and significance level\n",
    "if p_value < significance_level:\n",
    "    print(\"Conclusion: Reject the null hypothesis. There is a significant association between smoking status and lung cancer diagnosis.\")\n",
    "else:\n",
    "    print(\"Conclusion: Fail to reject the null hypothesis. There is no significant association between smoking status and lung cancer diagnosis.\")\n"
   ]
  },
  {
   "cell_type": "markdown",
   "id": "1f390ba5-9db7-4685-b266-d903e3068ccd",
   "metadata": {},
   "source": [
    "### Q10. A study was conducted to determine if the proportion of people who prefer milk chocolate, dark chocolate, or white chocolate is different in the U.S. versus the U.K. A random sample of 500 people from the U.S. and a random sample of 500 people from the U.K. were surveyed. The results are shown in the contingency table below. Conduct a chi-square test for independence to determine if there is a significant association between chocolate preference and country of origin. Use a significance level of 0.01.\n",
    "\n",
    "### U.S. (n=500) = [200, 150, 150]\n",
    "### U.K. (n=500) = [225, 175, 100]"
   ]
  },
  {
   "cell_type": "code",
   "execution_count": 14,
   "id": "d5d0a3be-c26b-453d-856c-d852ae8366aa",
   "metadata": {},
   "outputs": [
    {
     "name": "stdout",
     "output_type": "stream",
     "text": [
      "Observed Frequencies:\n",
      "[200, 150, 150]\n",
      "[225, 175, 100]\n",
      "\n",
      "Expected Frequencies:\n",
      "[212.5 162.5 125. ]\n",
      "[212.5 162.5 125. ]\n",
      "\n",
      "Chi-Square Statistic: 13.393665158371041\n",
      "p-value: 0.0012348168997745918\n",
      "Degrees of Freedom: 2\n",
      "Conclusion: Reject the null hypothesis. There is a significant association between country origin and chocolate preference.\n"
     ]
    }
   ],
   "source": [
    "import scipy.stats as stats\n",
    "\n",
    "# Observed frequencies in the contingency table\n",
    "observed = [[200, 150, 150],\n",
    "            [225, 175, 100]]\n",
    "\n",
    "# Calculate the chi-square statistic, p-value, degrees of freedom, and expected frequencies\n",
    "chi2_statistic, p_value, dof, expected = stats.chi2_contingency(observed)\n",
    "\n",
    "# Significance level\n",
    "significance_level = 0.01\n",
    "\n",
    "# Print results\n",
    "print(\"Observed Frequencies:\")\n",
    "for row in observed:\n",
    "    print(row)\n",
    "\n",
    "print(\"\\nExpected Frequencies:\")\n",
    "for row in expected:\n",
    "    print(row)\n",
    "\n",
    "print(\"\\nChi-Square Statistic:\", chi2_statistic)\n",
    "print(\"p-value:\", p_value)\n",
    "print(\"Degrees of Freedom:\", dof)\n",
    "\n",
    "# Make a decision based on the p-value and significance level\n",
    "if p_value < significance_level:\n",
    "    print(\"Conclusion: Reject the null hypothesis. There is a significant association between country origin and chocolate preference.\")\n",
    "else:\n",
    "    print(\"Conclusion: Fail to reject the null hypothesis. There is no significant association between scountry origin and chocolate preference.\")\n"
   ]
  },
  {
   "cell_type": "markdown",
   "id": "bc974776-f764-4db5-bd7e-d9f3f40c581d",
   "metadata": {},
   "source": [
    "### Q11. A random sample of 30 people was selected from a population with an unknown mean and standard deviation. The sample mean was found to be 72 and the sample standard deviation was found to be 10. Conduct a hypothesis test to determine if the population mean is significantly different from 70. Use a significance level of 0.05."
   ]
  },
  {
   "cell_type": "code",
   "execution_count": 16,
   "id": "67f7f6c4-f0d0-4006-8a34-a950dfaeefa8",
   "metadata": {},
   "outputs": [
    {
     "name": "stdout",
     "output_type": "stream",
     "text": [
      "Sample Mean: 72\n",
      "Sample Standard Deviation: 10\n",
      "Sample Size: 30\n",
      "Population Mean: 70\n",
      "Degrees of Freedom: 29\n",
      "Calculated t-statistic: 1.0954451150103321\n",
      "Critical t-value: 2.045229642132703\n",
      "p-value: 0.2823362372860698\n",
      "Conclusion: Fail to reject the null hypothesis. There is no significant difference between the population mean and 70.\n"
     ]
    }
   ],
   "source": [
    "import scipy.stats as stats\n",
    "\n",
    "# Given data\n",
    "sample_mean = 72\n",
    "sample_std_dev = 10\n",
    "sample_size = 30\n",
    "population_mean = 70\n",
    "significance_level = 0.05\n",
    "\n",
    "# Calculate the t-statistic\n",
    "t_statistic = (sample_mean - population_mean) / (sample_std_dev / (sample_size ** 0.5))\n",
    "\n",
    "# Calculate the degrees of freedom\n",
    "degrees_of_freedom = sample_size - 1\n",
    "\n",
    "# Calculate the critical t-value\n",
    "critical_t_value = stats.t.ppf(1 - significance_level / 2, df=degrees_of_freedom)\n",
    "\n",
    "# Calculate the p-value\n",
    "p_value = 2 * (1 - stats.t.cdf(abs(t_statistic), df=degrees_of_freedom))\n",
    "\n",
    "# Print results\n",
    "print(\"Sample Mean:\", sample_mean)\n",
    "print(\"Sample Standard Deviation:\", sample_std_dev)\n",
    "print(\"Sample Size:\", sample_size)\n",
    "print(\"Population Mean:\", population_mean)\n",
    "print(\"Degrees of Freedom:\", degrees_of_freedom)\n",
    "print(\"Calculated t-statistic:\", t_statistic)\n",
    "print(\"Critical t-value:\", critical_t_value)\n",
    "print(\"p-value:\", p_value)\n",
    "\n",
    "# Make a decision based on the p-value and significance level\n",
    "if p_value < significance_level:\n",
    "    print(\"Conclusion: Reject the null hypothesis. The population mean is significantly different from 70.\")\n",
    "else:\n",
    "    print(\"Conclusion: Fail to reject the null hypothesis. There is no significant difference between the population mean and 70.\")\n"
   ]
  },
  {
   "cell_type": "code",
   "execution_count": null,
   "id": "f4cf1274-f90c-4ac1-babd-0e790bf0afbe",
   "metadata": {},
   "outputs": [],
   "source": []
  }
 ],
 "metadata": {
  "kernelspec": {
   "display_name": "Python 3 (ipykernel)",
   "language": "python",
   "name": "python3"
  },
  "language_info": {
   "codemirror_mode": {
    "name": "ipython",
    "version": 3
   },
   "file_extension": ".py",
   "mimetype": "text/x-python",
   "name": "python",
   "nbconvert_exporter": "python",
   "pygments_lexer": "ipython3",
   "version": "3.10.8"
  }
 },
 "nbformat": 4,
 "nbformat_minor": 5
}
