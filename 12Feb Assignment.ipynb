{
 "cells": [
  {
   "cell_type": "markdown",
   "id": "695bb74d-930e-4fdc-b9b3-d5f52545ab5b",
   "metadata": {},
   "source": [
    "# 12 Feb Assignment"
   ]
  },
  {
   "cell_type": "markdown",
   "id": "6ab735f5-f827-4207-8f73-2849d114c105",
   "metadata": {},
   "source": [
    "## Q1. What is an Exception in python? Write the difference between Exceptions and Syntax errors"
   ]
  },
  {
   "cell_type": "markdown",
   "id": "ab6d39c9-8e05-4d18-8b4b-0972c6e4aa86",
   "metadata": {},
   "source": [
    "#### Ans: \n",
    "#### An exception is an event, which occurs during the execution of a program that disrupts the normal flow of the program's instructions. In general, when a Python script encounters a situation that it cannot cope with, it raises an exception. An exception is a Python object that represents an error.\n",
    "\n",
    "#### Difference:\n",
    "### An error is an issue in a program that prevents the program from completing its task. In comparison, an exception is a condition that interrupts the normal flow of the program. Both errors and exceptions are a type of runtime error, which means they occur during the execution of a program. \n",
    "\n",
    "#### In simple words, the error is a critical issue that a normal application should not catch, while an exception is a condition that a program should catch. "
   ]
  },
  {
   "cell_type": "markdown",
   "id": "9fcd6890-d931-48f9-9f13-a9696612cb75",
   "metadata": {},
   "source": [
    "## Q2. What happens when an exception is not handled? Explain with an example."
   ]
  },
  {
   "cell_type": "markdown",
   "id": "21669300-5687-4bed-9bad-8a4072daf9f1",
   "metadata": {},
   "source": [
    "#### Ans:\n",
    "#### When an exception is not handled it interrupts the normal flow of the program and it ends abruptly. \n",
    "\n",
    "#### The try...except block is used to handle exceptions in Python.\n",
    "#### Example: Exception Handling Using try...except\n",
    "\n",
    "try:\n",
    "    numerator = 10\n",
    "    denominator = 0\n",
    "\n",
    "    result = numerator/denominator\n",
    "\n",
    "    print(result)\n",
    "except:\n",
    "    print(\"Error: Denominator cannot be 0.\")\n",
    "\n",
    "#>> Output: Error: Denominator cannot be 0. \n",
    "\n",
    "\n",
    "#### In the example, we are trying to divide a number by 0. Here, this code generates an exception.\n",
    "\n",
    "#### To handle the exception, we have put the code, result = numerator/denominator inside the try block. Now when an exception occurs, the rest of the code inside the try block is skipped.\n",
    "\n",
    "#### The except block catches the exception and statements inside the except block are executed.\n",
    "\n",
    "#### If none of the statements in the try block generates an exception, the except block is skipped."
   ]
  },
  {
   "cell_type": "markdown",
   "id": "f715866b-c6b9-4308-bd1b-7ab13b04d10f",
   "metadata": {},
   "source": [
    "## Q3. Which Python statements are used to catch and handle exceptions? Explain with an example."
   ]
  },
  {
   "cell_type": "markdown",
   "id": "9a608a95-77b8-4a60-918b-67a482391f00",
   "metadata": {},
   "source": [
    "#### Ans:\n",
    "\n",
    "#### The try...except block is used to handle exceptions in Python. Here's the syntax of try...except block:\n",
    "\n",
    "try:\n",
    "    # code that may cause exception\n",
    "except:\n",
    "    # code to run when exception occurs\n",
    "    \n",
    "#### Here, we have placed the code that might generate an exception inside the try block. Every try block is followed by an except block. When an exception occurs, it is caught by the except block. The except block cannot be used without the try block.\n",
    "\n",
    "#### Example: Exception Handling Using try...except\n",
    "\n",
    "try:\n",
    "    numerator = 10\n",
    "    denominator = 0\n",
    "\n",
    "    result = numerator/denominator\n",
    "\n",
    "    print(result)\n",
    "except:\n",
    "    print(\"Error: Denominator cannot be 0.\")\n",
    "\n",
    "#>> Output: Error: Denominator cannot be 0. \n",
    "\n",
    "\n",
    "#### In the example, we are trying to divide a number by 0. Here, this code generates an exception.\n",
    "\n",
    "#### To handle the exception, we have put the code, result = numerator/denominator inside the try block. Now when an exception occurs, the rest of the code inside the try block is skipped.\n",
    "\n",
    "#### The except block catches the exception and statements inside the except block are executed.\n",
    "\n",
    "#### If none of the statements in the try block generates an exception, the except block is skipped."
   ]
  },
  {
   "cell_type": "markdown",
   "id": "efd193ef-68b4-4c5e-ac62-89957d9d1663",
   "metadata": {},
   "source": [
    "## Q4. Explain with an example:\n",
    "\n",
    "## a. try and else\n",
    "## b. finally\n",
    "## c. raise"
   ]
  },
  {
   "cell_type": "markdown",
   "id": "ff5a9a41-9991-49dc-9f0b-c2454a894af9",
   "metadata": {},
   "source": [
    "#### Ans: \n",
    " \n",
    "### a. try and else:\n",
    "#### The try statement has an optional else clause with the following syntax:\n",
    "\n",
    "try:\n",
    "    # code that may cause errors\n",
    "except:\n",
    "    # code that handle exceptions\n",
    "else:\n",
    "    # code that executes when no exception occurs\n",
    "    \n",
    "#### If an exception occurs in the try clause, Python skips the rest of the statements in the try clause and the except statement execute.\n",
    "\n",
    "#### In case no exception occurs in the try clause, the else clause will execute.\n",
    "\n",
    "#### When you include the finally clause, the else clause executes after the try clause and before the finally clause.\n",
    "\n",
    "#### Example:\n",
    "#The try block does not raise any errors, so the else block is executed:\n",
    "\n",
    "try:\n",
    "  print(\"Hello\")\n",
    "  \n",
    "except:\n",
    "  print(\"Something went wrong\")\n",
    "  \n",
    "else:\n",
    "  print(\"Nothing went wrong\")\n"
   ]
  },
  {
   "cell_type": "markdown",
   "id": "0ced550b-558f-437b-ae47-79ea35c4bffd",
   "metadata": {},
   "source": [
    "### b. finally:\n",
    "#### Python provides a keyword finally, which is always executed after try and except blocks. The finally block always executes after normal termination of try block or after try block terminates due to some exception. Even if you return in the except block still the finally block will execute\n"
   ]
  },
  {
   "cell_type": "code",
   "execution_count": 2,
   "id": "46a158a8-c7b9-4633-94b1-5cbb1fe3b475",
   "metadata": {},
   "outputs": [
    {
     "name": "stdout",
     "output_type": "stream",
     "text": [
      "Yeah ! Your answer is : 1\n",
      "This is always executed\n",
      "Sorry ! You are dividing by zero \n",
      "This is always executed\n"
     ]
    }
   ],
   "source": [
    "#Example:\n",
    "# working of finally() \n",
    "def divide(x, y):\n",
    "    try:\n",
    "        # Floor Division : Gives only Fractional\n",
    "        # Part as Answer\n",
    "        result = x // y\n",
    "    except ZeroDivisionError:\n",
    "        print(\"Sorry ! You are dividing by zero \")\n",
    "    else:\n",
    "        print(\"Yeah ! Your answer is :\", result)\n",
    "    finally: \n",
    "        # this block is always executed  \n",
    "        # regardless of exception generation. \n",
    "        print('This is always executed')  \n",
    " \n",
    "# Look at parameters and note the working of Program\n",
    "divide(3, 2)\n",
    "divide(3, 0)"
   ]
  },
  {
   "cell_type": "markdown",
   "id": "5549dbde-b4b8-4c2e-afc1-7b1c892fe242",
   "metadata": {},
   "source": [
    "### c. raise\n",
    "\n",
    "#### The raise keyword is used to raise an exception.\n",
    "\n",
    "#### You can define what kind of error to raise, and the text to print to the user."
   ]
  },
  {
   "cell_type": "code",
   "execution_count": 3,
   "id": "c442bf6f-89a7-4f64-945c-f0847223db6d",
   "metadata": {},
   "outputs": [
    {
     "ename": "TypeError",
     "evalue": "Only integers are allowed",
     "output_type": "error",
     "traceback": [
      "\u001b[0;31m---------------------------------------------------------------------------\u001b[0m",
      "\u001b[0;31mTypeError\u001b[0m                                 Traceback (most recent call last)",
      "Cell \u001b[0;32mIn[3], line 5\u001b[0m\n\u001b[1;32m      2\u001b[0m x \u001b[38;5;241m=\u001b[39m \u001b[38;5;124m\"\u001b[39m\u001b[38;5;124mhello\u001b[39m\u001b[38;5;124m\"\u001b[39m\n\u001b[1;32m      4\u001b[0m \u001b[38;5;28;01mif\u001b[39;00m \u001b[38;5;129;01mnot\u001b[39;00m \u001b[38;5;28mtype\u001b[39m(x) \u001b[38;5;129;01mis\u001b[39;00m \u001b[38;5;28mint\u001b[39m:\n\u001b[0;32m----> 5\u001b[0m   \u001b[38;5;28;01mraise\u001b[39;00m \u001b[38;5;167;01mTypeError\u001b[39;00m(\u001b[38;5;124m\"\u001b[39m\u001b[38;5;124mOnly integers are allowed\u001b[39m\u001b[38;5;124m\"\u001b[39m)\n",
      "\u001b[0;31mTypeError\u001b[0m: Only integers are allowed"
     ]
    }
   ],
   "source": [
    "#Example:\n",
    "x = \"hello\"\n",
    "\n",
    "if not type(x) is int:\n",
    "  raise TypeError(\"Only integers are allowed\")"
   ]
  },
  {
   "cell_type": "markdown",
   "id": "5be4eece-6175-4aef-8b5e-c450f969b098",
   "metadata": {},
   "source": [
    "## Q5. What are Custom Exceptions in Python? Why do we need Custom Exceptions? Explain with example."
   ]
  },
  {
   "cell_type": "markdown",
   "id": "68238cab-db0a-49da-92aa-72713ec0b55c",
   "metadata": {},
   "source": [
    "#### Ans:\n",
    "    \n",
    "#### In Python, we can define custom exceptions by creating a new class that is derived from the built-in Exception class.\n",
    "\n",
    "#### Here's the syntax to define custom exceptions:"
   ]
  },
  {
   "cell_type": "code",
   "execution_count": 4,
   "id": "d0b5f46d-ddf8-4d35-beb5-af6b28fcff20",
   "metadata": {},
   "outputs": [],
   "source": [
    "class CustomError(Exception):\n",
    "    ...\n",
    "    pass\n",
    "\n",
    "try:\n",
    "   ...\n",
    "\n",
    "except CustomError:\n",
    "    ..."
   ]
  },
  {
   "cell_type": "markdown",
   "id": "4c1dd8e9-463f-4e93-9540-42b3fd5ff52f",
   "metadata": {},
   "source": [
    "#### Here, CustomError is a user-defined error which inherits from the Exception class.\n",
    "\n",
    "#### Like standard exception classes, custom exceptions are also classes. Hence, you can add functionality to the custom exception classes like:\n",
    "\n",
    "1.Adding attributes and properties.\n",
    "\n",
    "2.Adding methods e.g., log the exception, format the output, etc.\n",
    "\n",
    "3.Overriding the __str__ and __repr__ methods\n",
    "\n",
    "4.And doing anything else that you can do with regular classes.\n",
    "\n",
    "#### In practice, we keep the custom exceptions organized by creating a custom exception hierarchy. The custom exception hierarchy allows you to catch exceptions at multiple levels, like the standard exception classes."
   ]
  },
  {
   "cell_type": "code",
   "execution_count": 12,
   "id": "8484ff0b-2158-45f7-a869-3c24a0300a40",
   "metadata": {},
   "outputs": [
    {
     "name": "stdin",
     "output_type": "stream",
     "text": [
      "Enter name Data Science\n",
      "Enter id DSA\n"
     ]
    },
    {
     "name": "stdout",
     "output_type": "stream",
     "text": [
      "Sorry you are not eligible for voting invalid literal for int() with base 10: 'DSA'\n"
     ]
    }
   ],
   "source": [
    "# exception class\n",
    "class VotingPerson(Exception):\n",
    "#   Raised when the input age is less than 18\n",
    "    def __inti__(self, name, id, age):\n",
    "       self.name = name\n",
    "       self.id = id\n",
    "       self.age = age\n",
    "  \n",
    "    # try taking details of the users, \n",
    "    # if the age is inappropriate, throw an exception\n",
    "    \n",
    "try:\n",
    "    name = input(\"Enter name\")\n",
    "    id = int(input(\"Enter id\"))\n",
    "    age = int(input(\"Enter age\"))\n",
    "    if age<18 :\n",
    "        raise VotingPerson\n",
    "    vote1 = VotingPerson(name,id,age)\n",
    "    print(\"Thanks for Voting\")\n",
    "except Exception as e:\n",
    "    print(\"Sorry you are not eligible for voting\",e)\n"
   ]
  },
  {
   "cell_type": "markdown",
   "id": "2006f658-4b21-4c63-ba52-778758f6f19e",
   "metadata": {},
   "source": [
    "## Q6.Create a custom exception class. Use this class to handle exception."
   ]
  },
  {
   "cell_type": "code",
   "execution_count": 11,
   "id": "cb28e31f-624d-4436-9212-74383759734d",
   "metadata": {},
   "outputs": [
    {
     "name": "stdin",
     "output_type": "stream",
     "text": [
      "Enter a temperature in Fahrenheit: 225\n"
     ]
    },
    {
     "name": "stdout",
     "output_type": "stream",
     "text": [
      "The 225.0 is not in a valid range (32, 212)\n"
     ]
    }
   ],
   "source": [
    "#Example Fahrenheit to Celsius:\n",
    "\n",
    "class FahrenheitError(Exception):\n",
    "    min_f = 32\n",
    "    max_f = 212\n",
    "\n",
    "    def __init__(self, f, *args):\n",
    "        super().__init__(args)\n",
    "        self.f = f\n",
    "\n",
    "    def __str__(self):\n",
    "        return f'The {self.f} is not in a valid range {self.min_f, self.max_f}'\n",
    "\n",
    "\n",
    "def fahrenheit_to_celsius(f: float) -> float:\n",
    "    if f < FahrenheitError.min_f or f > FahrenheitError.max_f:\n",
    "        raise FahrenheitError(f)\n",
    "\n",
    "    return (f - 32) * 5 / 9\n",
    "\n",
    "\n",
    "if __name__ == '__main__':\n",
    "    f = input('Enter a temperature in Fahrenheit:')\n",
    "    try:\n",
    "        f = float(f)\n",
    "    except ValueError as ex:\n",
    "        print(ex)\n",
    "    else:\n",
    "        try:\n",
    "            c = fahrenheit_to_celsius(float(f))\n",
    "        except FahrenheitError as ex:\n",
    "            print(ex)\n",
    "        else:\n",
    "            print(f'{f} Fahrenheit = {c:.4f} Celsius')"
   ]
  },
  {
   "cell_type": "code",
   "execution_count": null,
   "id": "b37a6c44-0bc0-4b62-aa25-429c84104d02",
   "metadata": {},
   "outputs": [],
   "source": []
  }
 ],
 "metadata": {
  "kernelspec": {
   "display_name": "Python 3 (ipykernel)",
   "language": "python",
   "name": "python3"
  },
  "language_info": {
   "codemirror_mode": {
    "name": "ipython",
    "version": 3
   },
   "file_extension": ".py",
   "mimetype": "text/x-python",
   "name": "python",
   "nbconvert_exporter": "python",
   "pygments_lexer": "ipython3",
   "version": "3.10.8"
  }
 },
 "nbformat": 4,
 "nbformat_minor": 5
}
