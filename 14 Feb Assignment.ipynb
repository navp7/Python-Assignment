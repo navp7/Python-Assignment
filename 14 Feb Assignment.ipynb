{
 "cells": [
  {
   "cell_type": "markdown",
   "id": "c87b5152-4db8-4724-9707-dbd0b50ff736",
   "metadata": {},
   "source": [
    "## 14 Feb Assignment"
   ]
  },
  {
   "cell_type": "markdown",
   "id": "f6195222-ab50-498c-af78-70c5bb7d7f81",
   "metadata": {},
   "source": [
    "### Q1. What is multithreading in python? Why is it used? Name the module used to handle threads in python"
   ]
  },
  {
   "cell_type": "markdown",
   "id": "44689471-c7dc-43ff-9c82-bcb9ca83fccf",
   "metadata": {},
   "source": [
    "#### Ans: Multithreading in Python refers to the concurrent execution of multiple threads within a single program. A thread is a lightweight unit of execution that can perform tasks concurrently with other threads, allowing for improved performance and responsiveness in certain scenarios.\n",
    "\n",
    "#### Multithreading is used in Python for various reasons, including:\n",
    "\n",
    "1. Concurrent execution: Multithreading allows different parts of a program to run simultaneously, enabling concurrent execution of multiple tasks or operations. This can lead to improved efficiency and faster execution, especially when dealing with I/O-bound or CPU-bound tasks.\n",
    "\n",
    "2. Responsiveness: By using threads, a program can remain responsive even while performing time-consuming or blocking operations. For example, a user interface can continue accepting user input while background tasks or computations are running in separate threads.\n",
    "\n",
    "3. Parallelism: Multithreading can be used to achieve parallelism, where multiple threads execute different portions of a program simultaneously on multi-core or multi-processor systems. This can lead to significant performance gains for computationally intensive tasks.\n",
    "\n",
    "#### The module used to handle threads in Python is called threading. It provides a high-level interface for creating and managing threads in Python.\n"
   ]
  },
  {
   "cell_type": "markdown",
   "id": "644be8ae-eb93-4b3e-b943-8f1afc5898a4",
   "metadata": {},
   "source": [
    "### Q2. Why threading module used? Write the use of the following functions:\n",
    "### 1.activeCount()\n",
    "### 2.currentThread()\n",
    "### 3.enumerate() "
   ]
  },
  {
   "cell_type": "markdown",
   "id": "d6c05be1-0c76-4eef-91ba-a141b58dc23a",
   "metadata": {},
   "source": [
    "#### Ans. \n",
    "#### The threading module in Python is used for creating and managing threads. It provides a high-level interface and functionality to work with threads in a convenient and efficient manner. It allows to create and start threads, synchronize their execution, communicate between threads, and handle thread-related operations such as joining and setting thread names."
   ]
  },
  {
   "cell_type": "markdown",
   "id": "5a4e7603-0aab-41ac-94ad-b1c142d88593",
   "metadata": {},
   "source": [
    "#### activeCount(): This function returns the number of Thread objects currently alive. This can be useful for monitoring and managing the number of threads in a program.\n",
    "\n",
    "#### currentThread(): This function returns the currently executing Thread object. It allows you to obtain a reference to the Thread object representing the thread in which the function is called. This can be useful for accessing and manipulating properties or invoking methods specific to the current thread.\n",
    "\n",
    "#### enumerate(): This function returns a list of all currently active Thread objects. It provides a way to retrieve a list of all threads that are alive and created using the threading module. This can be helpful for inspection, monitoring, or manipulating multiple threads simultaneously.\n",
    "\n",
    "#### Overall, the threading module, along with its functions like activeCount(), currentThread(), and enumerate(), allows for effective management and utilization of threads in Python programs, enabling concurrent execution, responsiveness, and potential performance gains through parallelism."
   ]
  },
  {
   "cell_type": "markdown",
   "id": "420d963f-c17e-4659-a088-5eefc17025c7",
   "metadata": {},
   "source": [
    "### Q3. Explain the following functions:\n",
    "    \n",
    "### 1. run()\n",
    "### 2. start()\n",
    "### 3. join()\n",
    "### 4. isAlive()"
   ]
  },
  {
   "cell_type": "markdown",
   "id": "546c459e-0f7c-43f4-85f5-dcc615bb10ae",
   "metadata": {
    "tags": []
   },
   "source": [
    "#### Ans:\n",
    "\n",
    "#### run(): The run() method is the entry point for the execution of a thread. When a thread is started using the start() method, it calls the run() method internally to execute the target function or code block associated with the thread. We should not call the run() method directly; instead, it is invoked automatically when the thread is started.\n",
    "\n",
    "#### start(): The start() method is used to start the execution of a thread. When called on a Thread object, it creates a new operating system thread and invokes the run() method of the thread. The start() method does not block the main thread; instead, it returns immediately, and the newly created thread runs concurrently alongside the main thread. Each thread should be started only once using the start() method.\n",
    "\n",
    "#### join(): The join() method is used to wait for a thread to complete its execution. When called on a Thread object, it blocks the calling thread (usually the main thread) until the target thread terminates. This ensures that the calling thread does not proceed further until the desired thread has finished its execution. The join() method can also optionally specify a timeout parameter, indicating the maximum time to wait for the thread to complete.\n",
    "\n",
    "#### isAlive(): The isAlive() method is used to check whether a thread is currently executing or alive. When called on a Thread object, it returns a boolean value indicating whether the thread is currently running (True) or has completed its execution (False). It can be useful to determine the status of a thread, especially when used in conjunction with the join() method to wait for a thread to complete."
   ]
  },
  {
   "cell_type": "markdown",
   "id": "07a59321-185a-4ae0-9064-3adcdb43f7bf",
   "metadata": {},
   "source": [
    "#### Q4. Write a python program to create two threads. Thread one must print the list of squares and thread two must print the list of cubes."
   ]
  },
  {
   "cell_type": "code",
   "execution_count": 2,
   "id": "08b7534b-9feb-495b-a1bc-818174e65cca",
   "metadata": {},
   "outputs": [
    {
     "name": "stdout",
     "output_type": "stream",
     "text": [
      "Square of 1: 1\n",
      "Square of 2: 4\n",
      "Square of 3: 9\n",
      "Square of 4: 16\n",
      "Square of 5: 25\n",
      "Square of 6: 36\n",
      "Square of 7: 49\n",
      "Square of 8: 64\n",
      "Square of 9: 81\n",
      "Square of 10: 100\n",
      "Cube of 1: 1\n",
      "Cube of 2: 8\n",
      "Cube of 3: 27\n",
      "Cube of 4: 64\n",
      "Cube of 5: 125\n",
      "Cube of 6: 216\n",
      "Cube of 7: 343\n",
      "Cube of 8: 512\n",
      "Cube of 9: 729\n",
      "Cube of 10: 1000\n",
      "Main thread finished.\n"
     ]
    }
   ],
   "source": [
    "# Code:\n",
    "\n",
    "import threading\n",
    "\n",
    "def print_squares():\n",
    "    for num in range(1, 11):\n",
    "        square = num ** 2\n",
    "        print(f\"Square of {num}: {square}\")\n",
    "\n",
    "def print_cubes():\n",
    "    for num in range(1, 11):\n",
    "        cube = num ** 3\n",
    "        print(f\"Cube of {num}: {cube}\")\n",
    "\n",
    "# Create the first thread for printing squares\n",
    "thread1 = threading.Thread(target=print_squares)\n",
    "\n",
    "# Create the second thread for printing cubes\n",
    "thread2 = threading.Thread(target=print_cubes)\n",
    "\n",
    "# Start both threads\n",
    "thread1.start()\n",
    "thread2.start()\n",
    "\n",
    "# Wait for both threads to finish\n",
    "thread1.join()\n",
    "thread2.join()\n",
    "\n",
    "print(\"Main thread finished.\")"
   ]
  },
  {
   "cell_type": "markdown",
   "id": "6d19dbb8-2f22-474c-acd1-728168cef00b",
   "metadata": {},
   "source": [
    "### Q5. State advantages and disadvantages of multithreading."
   ]
  },
  {
   "cell_type": "markdown",
   "id": "633057d4-02a6-4d5d-a514-db60c88cd604",
   "metadata": {},
   "source": [
    "#### Ans: \n",
    "\n",
    "#### Following are some of the common advantages of multithreading:\n",
    "\n",
    "1. Enhanced performance by decreased development time\n",
    "2. Simplified and streamlined program coding\n",
    "3. Improvised GUI responsiveness\n",
    "4. Simultaneous and parallelized occurrence of tasks\n",
    "5. Better use of cache storage by utilization of resources\n",
    "6. Decreased cost of maintenance\n",
    "7. Better use of CPU resource\n",
    "\n",
    "\n",
    "#### Following are some of the disadvantages of multithreading:\n",
    "\n",
    "1. Complex debugging and testing processes\n",
    "2. Overhead switching of context\n",
    "3. Increased potential for deadlock occurrence\n",
    "4. Increased difficulty level in writing a program\n",
    "5. Unpredictable results\n",
    "\n"
   ]
  },
  {
   "cell_type": "markdown",
   "id": "561cfaf9-5776-47ed-bc5d-658487b4bc27",
   "metadata": {},
   "source": [
    "### Q6. Explain deadlocks and race conditions."
   ]
  },
  {
   "cell_type": "markdown",
   "id": "6937571c-ea91-4d73-b155-a6d2317c352b",
   "metadata": {},
   "source": [
    "#### Ans:\n",
    "\n",
    "#### Deadlocks:\n",
    "#### A deadlock occurs when two or more threads or processes are blocked indefinitely, waiting for each other to release resources. In other words, it's a situation where two or more threads are stuck, unable to proceed, because each thread is holding a resource that another thread needs and vice versa.\n",
    "\n",
    "#### Deadlocks typically occur when the following conditions are present simultaneously:\n",
    "\n",
    "1. Mutual Exclusion: Resources cannot be shared simultaneously. Each resource can be exclusively accessed by only one thread at a time.\n",
    "2. Hold and Wait: A thread holds a resource while waiting for another resource.\n",
    "3. No Preemption: Resources cannot be forcefully taken away from threads.\n",
    "4. Circular Wait: A circular chain of threads exists, where each thread is waiting for a resource held by another thread in the chain.\n",
    "\n",
    "#### Deadlocks can lead to a program freezing or becoming unresponsive. To prevent deadlocks, proper synchronization mechanisms and resource allocation strategies need to be implemented, such as avoiding circular wait conditions and enforcing a proper resource allocation order.\n",
    "\n",
    "#### Race Conditions:\n",
    "#### A race condition occurs when two or more threads access a shared resource or variable concurrently, and the final outcome depends on the order or timing of their execution. The result of the program becomes unpredictable because different threads may execute in an unexpected interleaved manner.\n",
    "\n",
    "#### Race conditions typically happen when:\n",
    "\n",
    "1. Multiple threads access or modify shared data simultaneously.\n",
    "2. At least one of the accesses is a write operation.\n",
    "\n",
    "#### Race conditions can lead to incorrect results, data corruption, or program crashes. To mitigate race conditions, synchronization techniques like locks, semaphores, or atomic operations can be employed to ensure that critical sections of code are executed atomically or in a mutually exclusive manner."
   ]
  },
  {
   "cell_type": "code",
   "execution_count": null,
   "id": "b94c7682-e074-4da9-8858-276f116068be",
   "metadata": {},
   "outputs": [],
   "source": []
  }
 ],
 "metadata": {
  "kernelspec": {
   "display_name": "Python 3 (ipykernel)",
   "language": "python",
   "name": "python3"
  },
  "language_info": {
   "codemirror_mode": {
    "name": "ipython",
    "version": 3
   },
   "file_extension": ".py",
   "mimetype": "text/x-python",
   "name": "python",
   "nbconvert_exporter": "python",
   "pygments_lexer": "ipython3",
   "version": "3.10.8"
  }
 },
 "nbformat": 4,
 "nbformat_minor": 5
}
