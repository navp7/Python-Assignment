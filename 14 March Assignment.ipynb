{
 "cells": [
  {
   "cell_type": "markdown",
   "id": "1b35dcc4-4637-4539-a028-9f5a419b3c9f",
   "metadata": {},
   "source": [
    "## 14 March Assignment"
   ]
  },
  {
   "cell_type": "markdown",
   "id": "3eff82b9-07c3-4dd5-9c1f-53f2a15ebe08",
   "metadata": {},
   "source": [
    "## Statistics Advance-7"
   ]
  },
  {
   "cell_type": "markdown",
   "id": "e66ba319-7251-419d-b062-a4604f337cbf",
   "metadata": {},
   "source": [
    "### Q1. Write a Python function that takes in two arrays of data and calculates the F-value for a variance ratio test. The function should return the F-value and the corresponding p-value for the test."
   ]
  },
  {
   "cell_type": "code",
   "execution_count": 1,
   "id": "5c3b7127-36e4-4fa2-93e9-90bc28220ea3",
   "metadata": {},
   "outputs": [
    {
     "name": "stdout",
     "output_type": "stream",
     "text": [
      "F-value: 1.008695652173913\n",
      "p-value: 0.993506534069867\n"
     ]
    }
   ],
   "source": [
    "import numpy as np\n",
    "import scipy.stats as stats\n",
    "\n",
    "def variance_ratio_test(data1, data2):\n",
    "    # Calculate variances\n",
    "    var1 = np.var(data1, ddof=1)\n",
    "    var2 = np.var(data2, ddof=1)\n",
    "    \n",
    "    # Calculate F-value and p-value\n",
    "    f_value = var1 / var2 if var1 >= var2 else var2 / var1\n",
    "    df1 = len(data1) - 1\n",
    "    df2 = len(data2) - 1\n",
    "    p_value = 2 * min(stats.f.cdf(f_value, df1, df2), 1 - stats.f.cdf(f_value, df1, df2))\n",
    "    \n",
    "    return f_value, p_value\n",
    "\n",
    "# Example usage\n",
    "data_group1 = [20, 25, 28, 32, 35]\n",
    "data_group2 = [15, 18, 23, 27, 29]\n",
    "\n",
    "f_value, p_value = variance_ratio_test(data_group1, data_group2)\n",
    "print(\"F-value:\", f_value)\n",
    "print(\"p-value:\", p_value)"
   ]
  },
  {
   "cell_type": "markdown",
   "id": "f23196c1-81b5-4f05-9da8-7ef7b35c7368",
   "metadata": {},
   "source": [
    "### Q2. Given a significance level of 0.05 and the degrees of freedom for the numerator and denominator of an F-distribution, write a Python function that returns the critical F-value for a two-tailed test."
   ]
  },
  {
   "cell_type": "code",
   "execution_count": 2,
   "id": "204aa368-2699-4df5-b2a0-3d39c96d7ac6",
   "metadata": {},
   "outputs": [
    {
     "name": "stdout",
     "output_type": "stream",
     "text": [
      "Critical F-value: 3.8586986662732143\n"
     ]
    }
   ],
   "source": [
    "import scipy.stats as stats\n",
    "\n",
    "def critical_f_value(significance_level, df1, df2):\n",
    "   \n",
    "    alpha = significance_level / 2  # Divide alpha by 2 for a two-tailed test\n",
    "    critical_f = stats.f.ppf(1 - alpha, df1, df2)\n",
    "    \n",
    "    return critical_f\n",
    "\n",
    "# Example usage\n",
    "significance_level = 0.05\n",
    "numerator_df = 3\n",
    "denominator_df = 20\n",
    "\n",
    "critical_f = critical_f_value(significance_level, numerator_df, denominator_df)\n",
    "print(\"Critical F-value:\", critical_f)\n"
   ]
  },
  {
   "cell_type": "markdown",
   "id": "4b390326-9a48-4418-ae6e-57f09ea80eb2",
   "metadata": {},
   "source": [
    "### Q3. Write a Python program that generates random samples from two normal distributions with known variances and uses an F-test to determine if the variances are equal. The program should output the F- value, degrees of freedom, and p-value for the test."
   ]
  },
  {
   "cell_type": "code",
   "execution_count": 3,
   "id": "61b507d7-0ea6-4dd9-b75a-1d3c61194964",
   "metadata": {},
   "outputs": [
    {
     "name": "stdout",
     "output_type": "stream",
     "text": [
      "F-value: 1.3378687039598216\n",
      "Degrees of Freedom (numerator): 29\n",
      "Degrees of Freedom (denominator): 29\n",
      "p-value: 0.43794277355585454\n",
      "Fail to reject the null hypothesis. Variances are equal.\n"
     ]
    }
   ],
   "source": [
    "import numpy as np\n",
    "import scipy.stats as stats\n",
    "\n",
    "def f_test_for_equal_variances(data1, data2):\n",
    "   \n",
    "    # Calculate variances\n",
    "    var1 = np.var(data1, ddof=1)\n",
    "    var2 = np.var(data2, ddof=1)\n",
    "    \n",
    "    # Calculate degrees of freedom\n",
    "    df1 = len(data1) - 1\n",
    "    df2 = len(data2) - 1\n",
    "    \n",
    "    # Calculate F-value and p-value\n",
    "    f_value = var1 / var2 if var1 >= var2 else var2 / var1\n",
    "    p_value = 2 * min(stats.f.cdf(f_value, df1, df2), 1 - stats.f.cdf(f_value, df1, df2))\n",
    "    \n",
    "    return f_value, df1, df2, p_value\n",
    "\n",
    "# Generate random samples from two normal distributions\n",
    "np.random.seed(42)  # For reproducibility\n",
    "sample_size = 30\n",
    "mean1 = 5\n",
    "variance1 = 2\n",
    "data1 = np.random.normal(mean1, np.sqrt(variance1), sample_size)\n",
    "\n",
    "mean2 = 5\n",
    "variance2 = 2.5\n",
    "data2 = np.random.normal(mean2, np.sqrt(variance2), sample_size)\n",
    "\n",
    "# Perform F-test for equal variances\n",
    "f_value, df1, df2, p_value = f_test_for_equal_variances(data1, data2)\n",
    "\n",
    "# Output results\n",
    "print(\"F-value:\", f_value)\n",
    "print(\"Degrees of Freedom (numerator):\", df1)\n",
    "print(\"Degrees of Freedom (denominator):\", df2)\n",
    "print(\"p-value:\", p_value)\n",
    "\n",
    "# Interpret the results\n",
    "alpha = 0.05\n",
    "if p_value < alpha:\n",
    "    print(\"Reject the null hypothesis. Variances are not equal.\")\n",
    "else:\n",
    "    print(\"Fail to reject the null hypothesis. Variances are equal.\")\n"
   ]
  },
  {
   "cell_type": "markdown",
   "id": "8bebfa91-0fc5-411d-8200-97b70247fb3c",
   "metadata": {},
   "source": [
    "### Q4.The variances of two populations are known to be 10 and 15. A sample of 12 observations is taken from each population. Conduct an F-test at the 5% significance level to determine if the variances are significantly different."
   ]
  },
  {
   "cell_type": "code",
   "execution_count": 4,
   "id": "cd979fcf-7a85-48ce-8392-308d048f8315",
   "metadata": {},
   "outputs": [
    {
     "name": "stdout",
     "output_type": "stream",
     "text": [
      "F-statistic: 1.5\n",
      "Critical F-value: 3.473699051085809\n",
      "p-value: 0.5123897987357995\n",
      "Fail to reject the null hypothesis. Variances are not significantly different.\n"
     ]
    }
   ],
   "source": [
    "import scipy.stats as stats\n",
    "\n",
    "# Given variances and sample sizes\n",
    "variance1 = 10\n",
    "variance2 = 15\n",
    "sample_size = 12\n",
    "\n",
    "# Degrees of freedom\n",
    "df1 = sample_size - 1\n",
    "df2 = sample_size - 1\n",
    "\n",
    "# Calculate F-statistic\n",
    "f_statistic = max(variance1, variance2) / min(variance1, variance2)\n",
    "\n",
    "# Calculate critical F-value at 5% significance level\n",
    "alpha = 0.05\n",
    "critical_f = stats.f.ppf(1 - alpha / 2, df1, df2)\n",
    "\n",
    "# Calculate p-value\n",
    "p_value = 2 * min(stats.f.cdf(f_statistic, df1, df2), 1 - stats.f.cdf(f_statistic, df1, df2))\n",
    "\n",
    "# Compare F-statistic to critical F-value\n",
    "if f_statistic > critical_f:\n",
    "    result = \"Reject the null hypothesis. Variances are significantly different.\"\n",
    "else:\n",
    "    result = \"Fail to reject the null hypothesis. Variances are not significantly different.\"\n",
    "\n",
    "# Output results\n",
    "print(\"F-statistic:\", f_statistic)\n",
    "print(\"Critical F-value:\", critical_f)\n",
    "print(\"p-value:\", p_value)\n",
    "print(result)"
   ]
  },
  {
   "cell_type": "markdown",
   "id": "d269a6aa-c9ed-4aa0-98f4-4f3cd383491c",
   "metadata": {},
   "source": [
    "### Q5. A manufacturer claims that the variance of the diameter of a certain product is 0.005. A sample of 25 products is taken, and the sample variance is found to be 0.006. Conduct an F-test at the 1% significance level to determine if the claim is justified."
   ]
  },
  {
   "cell_type": "code",
   "execution_count": 5,
   "id": "58c0d10d-0666-4027-834c-59a62b35eb2e",
   "metadata": {},
   "outputs": [
    {
     "name": "stdout",
     "output_type": "stream",
     "text": [
      "F-statistic: 1.2\n",
      "Critical F-value: 2.966741631292762\n",
      "p-value: 0.6587309365634488\n",
      "Fail to reject the null hypothesis. The claim is justified.\n"
     ]
    }
   ],
   "source": [
    "import scipy.stats as stats\n",
    "\n",
    "# Given variances and sample size\n",
    "claimed_variance = 0.005\n",
    "sample_variance = 0.006\n",
    "sample_size = 25\n",
    "\n",
    "# Degrees of freedom\n",
    "df1 = sample_size - 1\n",
    "df2 = sample_size - 1\n",
    "\n",
    "# Calculate F-statistic\n",
    "f_statistic = sample_variance / claimed_variance\n",
    "\n",
    "# Calculate critical F-value at 1% significance level\n",
    "alpha = 0.01\n",
    "critical_f = stats.f.ppf(1 - alpha / 2, df1, df2)\n",
    "\n",
    "# Calculate p-value\n",
    "p_value = 2 * min(stats.f.cdf(f_statistic, df1, df2), 1 - stats.f.cdf(f_statistic, df1, df2))\n",
    "\n",
    "# Compare F-statistic to critical F-value\n",
    "if f_statistic > critical_f:\n",
    "    result = \"Reject the null hypothesis. The claim is not justified.\"\n",
    "else:\n",
    "    result = \"Fail to reject the null hypothesis. The claim is justified.\"\n",
    "\n",
    "# Output results\n",
    "print(\"F-statistic:\", f_statistic)\n",
    "print(\"Critical F-value:\", critical_f)\n",
    "print(\"p-value:\", p_value)\n",
    "print(result)\n"
   ]
  },
  {
   "cell_type": "markdown",
   "id": "c06ce078-ec67-462b-bb62-8d8dfd507274",
   "metadata": {},
   "source": [
    "### Q6. Write a Python function that takes in the degrees of freedom for the numerator and denominator of an F-distribution and calculates the mean and variance of the distribution. The function should return the mean and variance as a tuple."
   ]
  },
  {
   "cell_type": "code",
   "execution_count": 6,
   "id": "32812b6f-a41b-4eac-8a5d-f8f199307151",
   "metadata": {},
   "outputs": [
    {
     "name": "stdout",
     "output_type": "stream",
     "text": [
      "Mean: 1.25\n",
      "Variance: 1.5625\n"
     ]
    }
   ],
   "source": [
    "def f_distribution_mean_and_variance(df1, df2):\n",
    "   \n",
    "    if df2 <= 2:\n",
    "        raise ValueError(\"Degrees of freedom for the denominator (df2) must be greater than 2.\")\n",
    "    \n",
    "    mean = df2 / (df2 - 2)\n",
    "    variance = (2 * (df2 ** 2) * (df1 + df2 - 2)) / (df1 * (df2 - 2) ** 2 * (df2 - 4))\n",
    "    \n",
    "    return mean, variance\n",
    "\n",
    "# Example usage\n",
    "df1 = 4\n",
    "df2 = 10\n",
    "mean, variance = f_distribution_mean_and_variance(df1, df2)\n",
    "print(\"Mean:\", mean)\n",
    "print(\"Variance:\", variance)\n"
   ]
  },
  {
   "cell_type": "markdown",
   "id": "45b5782a-14b3-4d5c-ab81-bfb4ed4f2678",
   "metadata": {},
   "source": [
    "### Q7. A random sample of 10 measurements is taken from a normal population with unknown variance. The sample variance is found to be 25. Another random sample of 15 measurements is taken from another normal population with unknown variance, and the sample variance is found to be 20. Conduct an F-test at the 10% significance level to determine if the variances are significantly different."
   ]
  },
  {
   "cell_type": "code",
   "execution_count": 7,
   "id": "12f7f541-2592-4491-a34a-4dfb665a19c1",
   "metadata": {},
   "outputs": [
    {
     "name": "stdout",
     "output_type": "stream",
     "text": [
      "F-statistic: 1.25\n",
      "Critical F-value: 2.6457907352338195\n",
      "p-value: 0.6832194382585954\n",
      "Fail to reject the null hypothesis. Variances are not significantly different.\n"
     ]
    }
   ],
   "source": [
    "import scipy.stats as stats\n",
    "\n",
    "# Given sample variances and sample sizes\n",
    "sample_variance1 = 25\n",
    "sample_size1 = 10\n",
    "\n",
    "sample_variance2 = 20\n",
    "sample_size2 = 15\n",
    "\n",
    "# Degrees of freedom\n",
    "df1 = sample_size1 - 1\n",
    "df2 = sample_size2 - 1\n",
    "\n",
    "# Calculate F-statistic\n",
    "f_statistic = max(sample_variance1, sample_variance2) / min(sample_variance1, sample_variance2)\n",
    "\n",
    "# Calculate critical F-value at 10% significance level\n",
    "alpha = 0.10\n",
    "critical_f = stats.f.ppf(1 - alpha / 2, df1, df2)\n",
    "\n",
    "# Calculate p-value\n",
    "p_value = 2 * min(stats.f.cdf(f_statistic, df1, df2), 1 - stats.f.cdf(f_statistic, df1, df2))\n",
    "\n",
    "# Compare F-statistic to critical F-value\n",
    "if f_statistic > critical_f:\n",
    "    result = \"Reject the null hypothesis. Variances are significantly different.\"\n",
    "else:\n",
    "    result = \"Fail to reject the null hypothesis. Variances are not significantly different.\"\n",
    "\n",
    "# Output results\n",
    "print(\"F-statistic:\", f_statistic)\n",
    "print(\"Critical F-value:\", critical_f)\n",
    "print(\"p-value:\", p_value)\n",
    "print(result)\n"
   ]
  },
  {
   "cell_type": "markdown",
   "id": "5bc38cac-7723-4540-af53-a15f306ee84b",
   "metadata": {},
   "source": [
    "### Q8. The following data represent the waiting times in minutes at two different restaurants on a Saturday night: Restaurant A: 24, 25, 28, 23, 22, 20, 27; Restaurant B: 31, 33, 35, 30, 32, 36. Conduct an F-test at the 5% significance level to determine if the variances are significantly different."
   ]
  },
  {
   "cell_type": "code",
   "execution_count": 8,
   "id": "8b54f098-dd30-494a-8919-7bc788d0f283",
   "metadata": {},
   "outputs": [
    {
     "name": "stdout",
     "output_type": "stream",
     "text": [
      "F-statistic: 1.4551907719609583\n",
      "Critical F-value: 6.977701858535566\n",
      "p-value: 0.6974815747937484\n",
      "Fail to reject the null hypothesis. Variances are not significantly different.\n"
     ]
    }
   ],
   "source": [
    "import numpy as np\n",
    "import scipy.stats as stats\n",
    "\n",
    "# Given data\n",
    "data_restaurant_a = np.array([24, 25, 28, 23, 22, 20, 27])\n",
    "data_restaurant_b = np.array([31, 33, 35, 30, 32, 36])\n",
    "\n",
    "# Sample variances and sample sizes\n",
    "sample_variance_a = np.var(data_restaurant_a, ddof=1)\n",
    "sample_size_a = len(data_restaurant_a)\n",
    "\n",
    "sample_variance_b = np.var(data_restaurant_b, ddof=1)\n",
    "sample_size_b = len(data_restaurant_b)\n",
    "\n",
    "# Degrees of freedom\n",
    "df1 = sample_size_a - 1\n",
    "df2 = sample_size_b - 1\n",
    "\n",
    "# Calculate F-statistic\n",
    "f_statistic = max(sample_variance_a, sample_variance_b) / min(sample_variance_a, sample_variance_b)\n",
    "\n",
    "# Calculate critical F-value at 5% significance level\n",
    "alpha = 0.05\n",
    "critical_f = stats.f.ppf(1 - alpha / 2, df1, df2)\n",
    "\n",
    "# Calculate p-value\n",
    "p_value = 2 * min(stats.f.cdf(f_statistic, df1, df2), 1 - stats.f.cdf(f_statistic, df1, df2))\n",
    "\n",
    "# Compare F-statistic to critical F-value\n",
    "if f_statistic > critical_f:\n",
    "    result = \"Reject the null hypothesis. Variances are significantly different.\"\n",
    "else:\n",
    "    result = \"Fail to reject the null hypothesis. Variances are not significantly different.\"\n",
    "\n",
    "# Output results\n",
    "print(\"F-statistic:\", f_statistic)\n",
    "print(\"Critical F-value:\", critical_f)\n",
    "print(\"p-value:\", p_value)\n",
    "print(result)\n"
   ]
  },
  {
   "cell_type": "markdown",
   "id": "de4244ff-0a28-468c-beb6-b0836aab585d",
   "metadata": {},
   "source": [
    "### Q9. The following data represent the test scores of two groups of students: Group A: 80, 85, 90, 92, 87, 83; Group B: 75, 78, 82, 79, 81, 84. Conduct an F-test at the 1% significance level to determine if the variances are significantly different."
   ]
  },
  {
   "cell_type": "code",
   "execution_count": 9,
   "id": "3a3d3802-96a4-4fdc-b057-3b949c837b85",
   "metadata": {},
   "outputs": [
    {
     "name": "stdout",
     "output_type": "stream",
     "text": [
      "F-statistic: 1.9442622950819677\n",
      "Critical F-value: 14.939605459912224\n",
      "p-value: 0.4831043549070688\n",
      "Fail to reject the null hypothesis. Variances are not significantly different.\n"
     ]
    }
   ],
   "source": [
    "import numpy as np\n",
    "import scipy.stats as stats\n",
    "\n",
    "# Given data\n",
    "data_group_a = np.array([80, 85, 90, 92, 87, 83])\n",
    "data_group_b = np.array([75, 78, 82, 79, 81, 84])\n",
    "\n",
    "# Sample variances and sample sizes\n",
    "sample_variance_a = np.var(data_group_a, ddof=1)\n",
    "sample_size_a = len(data_group_a)\n",
    "\n",
    "sample_variance_b = np.var(data_group_b, ddof=1)\n",
    "sample_size_b = len(data_group_b)\n",
    "\n",
    "# Degrees of freedom\n",
    "df1 = sample_size_a - 1\n",
    "df2 = sample_size_b - 1\n",
    "\n",
    "# Calculate F-statistic\n",
    "f_statistic = max(sample_variance_a, sample_variance_b) / min(sample_variance_a, sample_variance_b)\n",
    "\n",
    "# Calculate critical F-value at 1% significance level\n",
    "alpha = 0.01\n",
    "critical_f = stats.f.ppf(1 - alpha / 2, df1, df2)\n",
    "\n",
    "# Calculate p-value\n",
    "p_value = 2 * min(stats.f.cdf(f_statistic, df1, df2), 1 - stats.f.cdf(f_statistic, df1, df2))\n",
    "\n",
    "# Compare F-statistic to critical F-value\n",
    "if f_statistic > critical_f:\n",
    "    result = \"Reject the null hypothesis. Variances are significantly different.\"\n",
    "else:\n",
    "    result = \"Fail to reject the null hypothesis. Variances are not significantly different.\"\n",
    "\n",
    "# Output results\n",
    "print(\"F-statistic:\", f_statistic)\n",
    "print(\"Critical F-value:\", critical_f)\n",
    "print(\"p-value:\", p_value)\n",
    "print(result)\n"
   ]
  },
  {
   "cell_type": "code",
   "execution_count": null,
   "id": "b33acc5e-284e-402a-a1d0-887fabf384e1",
   "metadata": {},
   "outputs": [],
   "source": []
  }
 ],
 "metadata": {
  "kernelspec": {
   "display_name": "Python 3 (ipykernel)",
   "language": "python",
   "name": "python3"
  },
  "language_info": {
   "codemirror_mode": {
    "name": "ipython",
    "version": 3
   },
   "file_extension": ".py",
   "mimetype": "text/x-python",
   "name": "python",
   "nbconvert_exporter": "python",
   "pygments_lexer": "ipython3",
   "version": "3.10.8"
  }
 },
 "nbformat": 4,
 "nbformat_minor": 5
}
