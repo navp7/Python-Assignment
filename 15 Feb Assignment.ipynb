{
 "cells": [
  {
   "cell_type": "markdown",
   "id": "1b5ddd4f-859d-4df8-93ec-35fe07c61d33",
   "metadata": {},
   "source": [
    "## 15 Feb Assignment"
   ]
  },
  {
   "cell_type": "markdown",
   "id": "39fc0195-effe-4cbe-b38c-0b8af4738962",
   "metadata": {},
   "source": [
    "### Q1. What is multiprocessing in python? Why is it useful?"
   ]
  },
  {
   "cell_type": "markdown",
   "id": "10f4647e-f4db-4c1f-a301-8990f5d90dbf",
   "metadata": {},
   "source": [
    "#### Ans:\n",
    "\n",
    "#### In Python, multiprocessing is a module that allows to write programs that can execute multiple processes concurrently. It provides a way to leverage the full capabilities of modern multicore processors and distribute the workload across multiple CPUs or CPU cores.\n",
    "\n",
    "#### Multiprocessing is useful for several reasons:\n",
    "\n",
    "#### Increased performance: By using multiple processes, you can take advantage of parallelism to execute tasks simultaneously. This can significantly improve the performance of CPU-bound tasks, where the execution time is mainly determined by the amount of computation involved.\n",
    "\n",
    "#### Improved responsiveness: When you perform computationally intensive tasks in a single process, it can make your program unresponsive or sluggish. By offloading these tasks to separate processes, your main program can remain responsive and continue executing other tasks.\n",
    "\n",
    "#### Utilization of multiple CPU cores: Multiprocessing allows you to distribute the workload across the CPU cores, making efficient use of the available hardware resources and potentially reducing the overall execution time.\n",
    "\n",
    "#### Isolation of processes: Each process runs in its own memory space, which provides a level of isolation. This can be useful when dealing with tasks that require separate memory contexts or when you want to ensure that errors or crashes in one process do not affect others.\n",
    "\n",
    "#### Python's multiprocessing module provides a process class that allows to create and manage individual processes. It also offers various mechanisms for interprocess communication and synchronization, such as pipes, queues, and shared memory, to facilitate coordination and data exchange between processes.\n",
    "\n",
    "\n",
    "\n",
    "\n",
    "\n"
   ]
  },
  {
   "cell_type": "markdown",
   "id": "1eccaa43-cdad-4b18-b944-73eb148b3b81",
   "metadata": {},
   "source": [
    "### Q2. What are the differences between multiprocessing and multithreading?"
   ]
  },
  {
   "cell_type": "markdown",
   "id": "b4b195e4-cc65-4313-8edc-a8744f3e3c54",
   "metadata": {},
   "source": [
    "#### Ans.\n",
    "\n",
    "#### Multiprocessing and multithreading are both techniques used to achieve concurrency in programming, but they differ in how they manage and execute multiple tasks. Here are the key differences between multiprocessing and multithreading:\n",
    "\n",
    "#### Execution model: In multiprocessing, multiple processes are created, each running independently and having their own memory space. Each process has its own Python interpreter, resources, and state. On the other hand, multithreading involves creating multiple threads within a single process. Threads share the same memory space and resources of the parent process and can access and modify the same data.\n",
    "\n",
    "#### Concurrency: In multiprocessing, processes can execute in parallel on separate CPU cores, leveraging the power of multiple processors or cores. This enables true parallelism, as each process can execute simultaneously. In multithreading, multiple threads run within the same process, and they share the same CPU core. Although threads can run concurrently, they typically take turns executing in a time-sliced manner, known as time-sharing or interleaved execution. This allows each thread to make progress but not necessarily simultaneously.\n",
    "\n",
    "#### Communication and synchronization: In multiprocessing, communication and data sharing between processes are typically done through mechanisms like pipes, queues, or shared memory. Processes may communicate through message passing or shared data structures. In multithreading, since threads share the same memory space, communication and data sharing can be done directly through shared variables or objects. However, this can introduce challenges such as race conditions and the need for synchronization mechanisms like locks or semaphores to ensure data consistency and avoid conflicts.\n",
    "\n",
    "#### Isolation: Each process in multiprocessing has its own memory space, which provides a high level of isolation. If one process crashes or encounters an error, it does not affect other processes. In multithreading, since threads share the same memory space, a crash or error in one thread can potentially affect the entire process and other threads.\n",
    "\n",
    "#### Complexity: Multiprocessing tends to be more complex than multithreading due to the need for managing multiple processes, interprocess communication, and synchronization. Managing processes involves more overhead, as each process has its own memory space and interpreter. Multithreading, on the other hand, has lower overhead and can be simpler to implement, but it requires careful handling of shared resources to avoid concurrency issues.\n",
    "\n",
    "#### In summary, multiprocessing allows true parallel execution across multiple processes with separate memory spaces, while multithreading enables concurrent execution within a single process with shared memory. The choice between multiprocessing and multithreading depends on the specific requirements of your application, the type of tasks you want to parallelize, and the trade-offs between performance, resource utilization, and complexity."
   ]
  },
  {
   "cell_type": "markdown",
   "id": "4401d8cb-c4f7-4133-bf98-3f4e032a2783",
   "metadata": {},
   "source": [
    "### Q3. Write a python code to create a process using the multiprocessing module."
   ]
  },
  {
   "cell_type": "code",
   "execution_count": 1,
   "id": "787adef0-a9cd-4312-a9e9-31ff735fd93e",
   "metadata": {},
   "outputs": [
    {
     "name": "stdout",
     "output_type": "stream",
     "text": [
      "This is a child process.\n",
      "The child process has finished.\n"
     ]
    }
   ],
   "source": [
    "# Code\n",
    "\n",
    "import multiprocessing\n",
    "\n",
    "def my_process():\n",
    "    # Code to be executed in the process\n",
    "    print(\"This is a child process.\")\n",
    "\n",
    "if __name__ == '__main__':\n",
    "    # Create a process\n",
    "    process = multiprocessing.Process(target=my_process)\n",
    "\n",
    "    # Start the process\n",
    "    process.start()\n",
    "\n",
    "    # Wait for the process to finish\n",
    "    process.join()\n",
    "\n",
    "    # The process has finished\n",
    "    print(\"The child process has finished.\")\n"
   ]
  },
  {
   "cell_type": "markdown",
   "id": "f476ef1f-c6e3-49a5-ac32-1a1702324df5",
   "metadata": {},
   "source": [
    "### Q4. What is a multiprocessing pool in python? Why is it used?"
   ]
  },
  {
   "cell_type": "markdown",
   "id": "c43da685-e637-4dc4-8406-48b1fa293262",
   "metadata": {},
   "source": [
    "#### Ans. In Python's multiprocessing module, a multiprocessing pool is a mechanism that provides a convenient way to distribute and parallelize the execution of tasks across multiple processes. It allows you to create a pool of worker processes that can concurrently execute tasks from a queue or an iterable.\n",
    "\n",
    "#### The multiprocessing pool is represented by the Pool class, which provides methods to submit tasks to the pool and manage their execution. Here's an example of how to use a multiprocessing pool:"
   ]
  },
  {
   "cell_type": "code",
   "execution_count": 2,
   "id": "17fd2ff5-74d1-4dec-be7c-bde3971b9e7f",
   "metadata": {},
   "outputs": [
    {
     "name": "stdout",
     "output_type": "stream",
     "text": [
      "[0, 1, 4, 9, 16, 25, 36, 49, 64, 81]\n"
     ]
    }
   ],
   "source": [
    "import multiprocessing\n",
    "\n",
    "def my_task(x):\n",
    "    # Code to be executed by each worker process\n",
    "    return x**2\n",
    "\n",
    "if __name__ == '__main__':\n",
    "    # Create a multiprocessing pool with 4 worker processes\n",
    "    pool = multiprocessing.Pool(processes=4)\n",
    "\n",
    "    # Submit tasks to the pool\n",
    "    results = pool.map(my_task, range(10))\n",
    "\n",
    "    # Close the pool to prevent any more tasks from being submitted\n",
    "    pool.close()\n",
    "\n",
    "    # Wait for all the tasks to complete\n",
    "    pool.join()\n",
    "\n",
    "    # Print the results\n",
    "    print(results)\n"
   ]
  },
  {
   "cell_type": "markdown",
   "id": "7e7eeb2c-6c53-4306-8ccb-075555caa9a9",
   "metadata": {},
   "source": [
    "### Q5. How can we create a pool of worker processes in python using the multiprocessing module?"
   ]
  },
  {
   "cell_type": "code",
   "execution_count": 3,
   "id": "10ea77a5-a281-4960-ad9c-4fc5121a1d3d",
   "metadata": {},
   "outputs": [
    {
     "name": "stdout",
     "output_type": "stream",
     "text": [
      "[0, 1, 4, 9, 16, 25, 36, 49, 64, 81, 100, 121, 144, 169, 196, 225, 256, 289, 324, 361]\n"
     ]
    }
   ],
   "source": [
    "import multiprocessing\n",
    "\n",
    "def my_task(x):\n",
    "    # Code to be executed by each worker process\n",
    "    return x**2\n",
    "\n",
    "if __name__ == '__main__':\n",
    "    # Create a multiprocessing pool with 4 worker processes\n",
    "    pool = multiprocessing.Pool(processes=4)\n",
    "\n",
    "    # Submit tasks to the pool\n",
    "    results = pool.map(my_task, range(20))\n",
    "\n",
    "    # Close the pool to prevent any more tasks from being submitted\n",
    "    pool.close()\n",
    "\n",
    "    # Wait for all the tasks to complete\n",
    "    pool.join()\n",
    "\n",
    "    # Print the results\n",
    "    print(results)\n"
   ]
  },
  {
   "cell_type": "markdown",
   "id": "8ff4926c-df3d-443f-aed8-a6d15e2fac6c",
   "metadata": {},
   "source": [
    "### Q6. Write a python program to create 4 processes, each process should print a different number using the multiprocessing module in python."
   ]
  },
  {
   "cell_type": "code",
   "execution_count": 20,
   "id": "f187db3b-a601-4dd2-a9b5-58753b07ae1a",
   "metadata": {},
   "outputs": [
    {
     "name": "stdout",
     "output_type": "stream",
     "text": [
      "Process ID: 3147\n",
      "Number: 1\n",
      "Process ID: 3150\n",
      "Number: 2\n",
      "Process ID: 3157\n",
      "Number: 3\n",
      "Process ID: 3166\n",
      "Number: 4\n"
     ]
    }
   ],
   "source": [
    "import multiprocessing\n",
    "import sys\n",
    "\n",
    "def print_number(number, lock):\n",
    "    with lock:\n",
    "        print(\"Process ID:\", multiprocessing.current_process().pid)\n",
    "        print(\"Number:\", number)\n",
    "        sys.stdout.flush()  # Ensures immediate printing\n",
    "\n",
    "if __name__ == '__main__':\n",
    "    processes = []\n",
    "    numbers = [1, 2, 3, 4]\n",
    "    lock = multiprocessing.Lock()\n",
    "\n",
    "    for number in numbers:\n",
    "        process = multiprocessing.Process(target=print_number, args=(number, lock))\n",
    "        processes.append(process)\n",
    "        process.start()\n",
    "\n",
    "    for process in processes:\n",
    "        process.join()\n"
   ]
  },
  {
   "cell_type": "code",
   "execution_count": null,
   "id": "84821577-1d24-4c8a-a888-38d8843bb8f3",
   "metadata": {},
   "outputs": [],
   "source": []
  }
 ],
 "metadata": {
  "kernelspec": {
   "display_name": "Python 3 (ipykernel)",
   "language": "python",
   "name": "python3"
  },
  "language_info": {
   "codemirror_mode": {
    "name": "ipython",
    "version": 3
   },
   "file_extension": ".py",
   "mimetype": "text/x-python",
   "name": "python",
   "nbconvert_exporter": "python",
   "pygments_lexer": "ipython3",
   "version": "3.10.8"
  }
 },
 "nbformat": 4,
 "nbformat_minor": 5
}
