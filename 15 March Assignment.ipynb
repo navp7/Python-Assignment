{
 "cells": [
  {
   "cell_type": "markdown",
   "id": "be2531b4-da7b-4c0d-be06-cbe9d9e7f54f",
   "metadata": {},
   "source": [
    "## 15th March Assignment"
   ]
  },
  {
   "cell_type": "markdown",
   "id": "96cbb6bd-9693-4f98-8f95-deee47ff2b19",
   "metadata": {},
   "source": [
    "## Introduction to Machine Learning-1"
   ]
  },
  {
   "cell_type": "markdown",
   "id": "b02eda85-0174-4360-9dbf-f1b8edcca395",
   "metadata": {},
   "source": [
    "### Q1- Explain the following with an Example:\n",
    "a) Artificial Intelligence\n",
    "b)  Machine Learning\n",
    "c) Deep Learning"
   ]
  },
  {
   "cell_type": "markdown",
   "id": "ae8c1f8a-ca79-4cb3-a5a0-558f8bfcbe14",
   "metadata": {},
   "source": [
    "a) Artificial Intelligence (AI): Artificial Intelligence refers to the creation of intelligent agents that can mimic human cognitive functions such as learning, reasoning, problem-solving, and decision-making. These agents can process and analyze large amounts of data to make informed decisions. For example, AI is used in virtual personal assistants like Apple's Siri, which can understand natural language and perform tasks like setting reminders, sending messages, and providing weather updates.\n",
    "\n",
    "b) Machine Learning (ML): Machine Learning is a subset of AI that focuses on enabling computers to learn from data without explicit programming. ML algorithms can identify patterns in data and use those patterns to make predictions or decisions. A notable example is email spam filtering. A machine learning model can be trained on a dataset of labeled emails (spam or not spam) and learn to classify new, incoming emails as either spam or not spam based on the patterns it has learned.\n",
    "\n",
    "c) Deep Learning (DL): Deep Learning is a subset of machine learning that involves neural networks with multiple layers, known as deep neural networks. These networks can automatically learn hierarchical representations of data, allowing them to handle complex tasks like image and speech recognition. An example is image classification, where deep learning models can accurately identify objects in images by learning intricate features at different levels of abstraction."
   ]
  },
  {
   "cell_type": "markdown",
   "id": "053e3d37-e91e-4f4f-add3-81e19eff6c83",
   "metadata": {},
   "source": [
    "### Q2- What is supervised Learning? List some examples of supervised Learning."
   ]
  },
  {
   "cell_type": "markdown",
   "id": "dd2c5cf5-fbc3-4bf1-85f0-c09572a6e3f1",
   "metadata": {},
   "source": [
    "Supervised learning is a machine learning paradigm where the algorithm is trained on labeled data, meaning that each input data point is associated with the correct output label. The goal is for the model to learn the mapping between inputs and outputs, enabling it to make accurate predictions on new, unseen data. Examples of supervised learning tasks include:\n",
    "\n",
    "1. Image Classification: Training a model to classify images into specific categories, such as identifying whether an image contains a cat or a dog.\n",
    "2. Sentiment Analysis: Predicting the sentiment (positive, negative, neutral) of a given text, such as determining whether a product review is positive or negative.\n",
    "3. Regression: Predicting a continuous value, like estimating the price of a house based on features like size, location, and number of bedrooms.\n",
    "4. Language Translation: Teaching a model to translate text from one language to another by providing pairs of translated sentences for training.\n"
   ]
  },
  {
   "cell_type": "markdown",
   "id": "c571db08-9426-461a-989a-bbf56d9717de",
   "metadata": {},
   "source": [
    "### Q3- What is unsupervised Learning? List some examples of unsupervised Learning"
   ]
  },
  {
   "cell_type": "markdown",
   "id": "876aa57c-2814-440d-b005-64ebae3f4577",
   "metadata": {},
   "source": [
    "Unsupervised learning is a machine learning approach where the algorithm is tasked with finding patterns or structure in unlabeled data. Unlike supervised learning, there are no predefined output labels, and the algorithm aims to uncover inherent relationships within the data. Examples of unsupervised learning tasks include:\n",
    "\n",
    "1. Clustering: Grouping similar data points together based on their features, such as segmenting customers into distinct groups for targeted marketing.\n",
    "2. Dimensionality Reduction: Reducing the number of features in a dataset while preserving its essential information, often used for data visualization and compression.\n",
    "3. Anomaly Detection: Identifying rare or unusual instances in a dataset that do not conform to expected patterns, useful for fraud detection or manufacturing quality control.\n",
    "4. Topic Modeling: Analyzing and categorizing large textual datasets into distinct topics or themes, without any predefined labels."
   ]
  },
  {
   "cell_type": "markdown",
   "id": "34e8cb9e-de68-4189-92b4-ad91270fd787",
   "metadata": {},
   "source": [
    "### Q4- What is the difference between AI, ML, DL, and DS? "
   ]
  },
  {
   "cell_type": "markdown",
   "id": "50fdaa40-7060-4330-a33a-76e739ef83f2",
   "metadata": {},
   "source": [
    "AI (Artificial Intelligence) is the overarching concept of creating intelligent machines that can perform tasks requiring human-like cognitive abilities.\n",
    "\n",
    "ML (Machine Learning) is a subset of AI focused on training algorithms to improve their performance on a specific task by learning from data.\n",
    "\n",
    "DL (Deep Learning) is a subset of ML that uses neural networks with multiple layers to handle complex patterns and tasks. \n",
    "\n",
    "DS (Data Science) involves extracting insights and knowledge from data using a combination of techniques, including AI, ML, and statistical analysis."
   ]
  },
  {
   "cell_type": "markdown",
   "id": "3787e65f-a7f4-4a7f-a3a7-0784d163176c",
   "metadata": {},
   "source": [
    "### Q5- What are the main differences between supervised, unsupervised, and semi-supervised Learning? "
   ]
  },
  {
   "cell_type": "markdown",
   "id": "8c375a37-5f87-47da-be6e-2ac8f03da107",
   "metadata": {},
   "source": [
    "Supervised learning uses labeled data for training and aims to predict or classify new data based on learned patterns.\n",
    "\n",
    "Unsupervised learning involves finding patterns or structures in unlabeled data, often used for clustering and dimensionality reduction. \n",
    "\n",
    "Semi-supervised learning is a combination of both, where a model is trained on a small amount of labeled data and a larger amount of unlabeled data. It leverages the limited labeled data to improve the model's performance on unsupervised tasks."
   ]
  },
  {
   "cell_type": "markdown",
   "id": "fbccaee6-434a-4e8d-93aa-cfdeca15c30c",
   "metadata": {},
   "source": [
    "### Q6- What is train, test, and validation split? Explain the importance of each term: The train-test-validation split is a fundamental concept in machine learning model development."
   ]
  },
  {
   "cell_type": "markdown",
   "id": "9d6fb7af-fe21-4955-a6a3-eea9dd830d50",
   "metadata": {},
   "source": [
    "- Training Set: The training set is used to train the model's parameters. It contains labeled examples that the model learns from. The model adjusts its internal parameters to minimize the error between its predictions and the actual labels.\n",
    "\n",
    "- Validation Set: The validation set is used to fine-tune hyperparameters and prevent overfitting. During training, the model's performance on the validation set helps in selecting the best hyperparameters and detecting potential overfitting.\n",
    "\n",
    "- Test Set: The test set is used to assess the model's final performance and generalization to new, unseen data. It provides an unbiased evaluation of how well the model will perform in real-world scenarios.\n",
    "\n",
    "The separation of data into these sets helps in evaluating a model's performance objectively, preventing it from memorizing the training data and enabling it to make accurate predictions on new data."
   ]
  },
  {
   "cell_type": "markdown",
   "id": "5985c187-80d6-4ac8-9ef9-9957756bae4d",
   "metadata": {},
   "source": [
    "### Q7- How can unsupervised Learning be used in anomaly detection? "
   ]
  },
  {
   "cell_type": "markdown",
   "id": "5159c7db-deda-4e90-9824-606f03fe790f",
   "metadata": {},
   "source": [
    "Unsupervised learning can be employed for anomaly detection by training a model on normal data and then identifying instances that deviate significantly from the learned patterns. \n",
    "\n",
    "For instance, in credit card fraud detection, an unsupervised algorithm can learn the normal spending behavior of legitimate users. When a transaction significantly deviates from this norm, it can be flagged as a potential anomaly and subjected to further investigation."
   ]
  },
  {
   "cell_type": "markdown",
   "id": "821789b9-01eb-4dbf-9215-9bb4b9ea8e0a",
   "metadata": {},
   "source": [
    "### Q8- List down some commonly used supervised Learning algorithms and unsupervised Learning algorithms."
   ]
  },
  {
   "cell_type": "markdown",
   "id": "ad58193d-648a-48d3-9377-d792d56810d9",
   "metadata": {},
   "source": [
    "Common Supervised Learning Algorithms:\n",
    "1. Decision Trees\n",
    "2. Random Forest\n",
    "3. Support Vector Machines (SVM)\n",
    "4. Naive Bayes\n",
    "5. K-Nearest Neighbors (KNN)\n",
    "6. Linear Regression\n",
    "7. Logistic Regression\n",
    "\n",
    "Common Unsupervised Learning Algorithms:\n",
    "1. K-Means Clustering\n",
    "2. Hierarchical Clustering\n",
    "3. Principal Component Analysis (PCA)\n",
    "4. Autoencoders\n",
    "5. Gaussian Mixture Models (GMM)\n",
    "6. t-Distributed Stochastic Neighbor Embedding (t-SNE)\n",
    "\n",
    "These algorithms play key roles in solving various machine learning tasks, from classification and regression to clustering and dimensionality reduction."
   ]
  },
  {
   "cell_type": "code",
   "execution_count": null,
   "id": "5f41f59a-134b-4460-8d03-5f6262229ce4",
   "metadata": {},
   "outputs": [],
   "source": []
  }
 ],
 "metadata": {
  "kernelspec": {
   "display_name": "Python 3 (ipykernel)",
   "language": "python",
   "name": "python3"
  },
  "language_info": {
   "codemirror_mode": {
    "name": "ipython",
    "version": 3
   },
   "file_extension": ".py",
   "mimetype": "text/x-python",
   "name": "python",
   "nbconvert_exporter": "python",
   "pygments_lexer": "ipython3",
   "version": "3.10.8"
  }
 },
 "nbformat": 4,
 "nbformat_minor": 5
}
