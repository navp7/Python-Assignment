{
 "cells": [
  {
   "cell_type": "markdown",
   "id": "01b62968-0c97-4cbb-bf57-4db17f840803",
   "metadata": {},
   "source": [
    "### Q1. What is Gradient Boosting Regression?\n"
   ]
  },
  {
   "cell_type": "markdown",
   "id": "6e7480f6-69a1-4174-945e-d62892f6df68",
   "metadata": {},
   "source": [
    "Gradient Boosting Regression, often referred to as Gradient Boosting Machines (GBM), is a powerful machine learning technique used for regression tasks. It belongs to the family of ensemble methods, where multiple weak learners (typically decision trees) are combined to create a strong predictive model. Gradient Boosting Regression, specifically, is used for modeling and predicting continuous numeric values, making it a popular choice for regression problems.\n",
    "\n",
    "Here's how Gradient Boosting Regression works:\n",
    "\n",
    "1. **Base Model:** GBM starts with an initial model, typically a simple one, like a single decision tree with a fixed depth. This initial model serves as a weak learner.\n",
    "\n",
    "2. **Residual Calculation:** GBM identifies the errors or residuals between the actual target values and the predictions made by the initial model.\n",
    "\n",
    "3. **Building Ensembles:** A new weak learner (decision tree) is trained to predict the residuals from the previous step. The new model focuses on the errors made by the initial model and aims to correct them.\n",
    "\n",
    "4. **Update Predictions:** The predictions from the new weak learner are added to the predictions of the initial model to improve the overall model's predictions. The process of updating predictions by learning from residuals is repeated iteratively.\n",
    "\n",
    "5. **Gradient Descent:** GBM uses a gradient descent-like approach to minimize the loss function, optimizing the model to predict the target values more accurately with each iteration.\n",
    "\n",
    "6. **Stopping Criteria:** GBM continues this iterative process until a predefined stopping criteria are met, such as the number of weak learners or a specified level of performance improvement.\n",
    "\n",
    "The result is an ensemble of multiple decision trees, each of which is focused on correcting the errors made by the previous trees. The combined model provides a highly accurate and robust prediction for regression tasks.\n",
    "\n",
    "Some popular implementations of Gradient Boosting Regression include Gradient Boosting Machines (GBM), XGBoost, LightGBM, and CatBoost. These libraries provide efficient and optimized implementations of the algorithm, making it easy to use in various regression problems."
   ]
  },
  {
   "cell_type": "markdown",
   "id": "dbb6e68c-c6f7-4881-b78d-d2f8a9346261",
   "metadata": {},
   "source": [
    "### Q2. Implement a simple gradient boosting algorithm from scratch using Python and NumPy. Use a simple regression problem as an example and train the model on a small dataset. Evaluate the model's performance using metrics such as mean squared error and R-squared.\n"
   ]
  },
  {
   "cell_type": "code",
   "execution_count": 28,
   "id": "3ccd3d93-bd3b-438b-80f2-21a63f0e94a8",
   "metadata": {},
   "outputs": [],
   "source": [
    "import numpy as np \n",
    "import pandas as pd\n",
    "import matplotlib.pyplot as plt\n",
    "import seaborn as sns\n",
    "%matplotlib inline\n",
    "import warnings\n",
    "warnings.filterwarnings('ignore')\n",
    "from sklearn.metrics import mean_squared_error , r2_score"
   ]
  },
  {
   "cell_type": "code",
   "execution_count": 2,
   "id": "5a1bcb32-4514-4021-bd34-a3779d43f56a",
   "metadata": {},
   "outputs": [],
   "source": [
    "#generating data for simple linear regression\n",
    "np.random.seed(1)\n",
    "\n",
    "X=np.random.randn(1000,1)  \n",
    "w=np.random.randn()\n",
    "b=np.random.randn()\n",
    "\n",
    "y=X*w+b +(np.random.randn(1000,1)*0.09)  #this last term of np.random.randn() is to add noise in data"
   ]
  },
  {
   "cell_type": "code",
   "execution_count": 3,
   "id": "d2811677-2de4-40b1-8381-357a2827ce82",
   "metadata": {},
   "outputs": [
    {
     "data": {
      "text/plain": [
       "((700, 1), (300, 1))"
      ]
     },
     "execution_count": 3,
     "metadata": {},
     "output_type": "execute_result"
    }
   ],
   "source": [
    "# Splitting Test and Train Data:\n",
    "\n",
    "from sklearn.model_selection import train_test_split\n",
    "\n",
    "X_train, X_test, y_train, y_test = train_test_split(X, y, test_size = 0.30, random_state = 30)\n",
    "X_train.shape, X_test.shape"
   ]
  },
  {
   "cell_type": "code",
   "execution_count": 4,
   "id": "3ee8fd7b-16c6-4463-a7f9-29be12c02219",
   "metadata": {},
   "outputs": [],
   "source": [
    "from sklearn.preprocessing import StandardScaler\n",
    "scaler = StandardScaler()\n",
    "\n",
    "X_arr = scaler.fit_transform(X_train)\n",
    "X_test_arr= scaler.transform(X_test)\n",
    "\n",
    "y_arr = scaler.fit_transform(y_train)\n",
    "y_test_arr= scaler.transform(y_test)\n"
   ]
  },
  {
   "cell_type": "markdown",
   "id": "17778c37-93b5-461e-9976-c337b9ce5968",
   "metadata": {},
   "source": [
    "## Manual Gradient Boosting Code"
   ]
  },
  {
   "cell_type": "code",
   "execution_count": 5,
   "id": "dece0889-fad5-4f0b-8368-b022ad1f59a7",
   "metadata": {},
   "outputs": [],
   "source": [
    "from sklearn.tree import DecisionTreeRegressor\n",
    "\n",
    "#---------------------------------------------------------------------------------------------------------\n",
    "#Loss func\n",
    "def loss_calc(y_true,y_pred):\n",
    "    \n",
    "    loss = (1/len(y_true)) * 0.5*np.sum(np.square(y_true-y_pred))\n",
    "        \n",
    "    return loss\n",
    "\n",
    "#---------------------------------------------------------------------------------------------------------\n",
    "#Gradient Calc\n",
    "def gradient_calc(y_true,y_pred):\n",
    "    \n",
    "    grad = -(y_true-y_pred)\n",
    "    \n",
    "    return grad\n",
    "\n",
    "#---------------------------------------------------------------------------------------------------------\n",
    "#The base estimator\n",
    "def tree_creator(r_state,X,y):\n",
    "    \n",
    "    d_tree = DecisionTreeRegressor(random_state=r_state,criterion='squared_error',\n",
    "                                    max_depth=2,min_samples_split=5,\n",
    "                                    min_samples_leaf=5,max_features=3)\n",
    "    d_tree.fit(X,y)\n",
    "    \n",
    "    return d_tree\n",
    "\n",
    "#---------------------------------------------------------------------------------------------------------\n",
    "#Predicting through gradient boosting regression\n",
    "def predict_grad_boost(models_tray,alpha,test_x=X_test_arr,train_y=y_arr):\n",
    "    \n",
    "    initial_pred = np.array([np.mean(train_y)] * len(test_x))\n",
    "        \n",
    "    final_pred = initial_pred.reshape(len(initial_pred),1)\n",
    "    #print(final_pred.shape)\n",
    "    \n",
    "    for i in range(len(models_tray)):\n",
    "        \n",
    "        model = models_tray[i]\n",
    "        temp_pred = (model.predict(test_x)).reshape(len(test_x),1)\n",
    "        #print(temp_pred.shape)\n",
    "        final_pred -= alpha * temp_pred\n",
    "    \n",
    "    return final_pred"
   ]
  },
  {
   "cell_type": "code",
   "execution_count": 6,
   "id": "21cda334-af2f-4194-b29c-ea42264b9109",
   "metadata": {},
   "outputs": [],
   "source": [
    "def grad_boost_train(train_x,train_y,alpha=0.01,r_state=100,n_iters=101):\n",
    "\n",
    "    model_tray = [] #Tray to collect the trained boosted stage estimators\n",
    "    loss_counter = [] #Tray for loss capture\n",
    "\n",
    "    \n",
    "    initial_pred = np.array([np.mean(train_y)] * len(train_y))\n",
    "\n",
    "    print('Initial val :',initial_pred.shape)\n",
    "    model_pred = initial_pred.reshape(len(initial_pred),1)\n",
    "\n",
    "    for epoch in range(n_iters): #Unit iteration\n",
    "\n",
    "        if epoch%100==0:\n",
    "            print('#---------- Epoch number :',epoch,' -----------#')\n",
    "        \n",
    "        #Calculating loss\n",
    "        loss = loss_calc(y_true=train_y,\n",
    "                         y_pred=model_pred)\n",
    "\n",
    "        loss_counter.append(loss)\n",
    "        \n",
    "        #Calculating the gradient (residuals)\n",
    "        grads = gradient_calc(y_true=train_y,\n",
    "                              y_pred=model_pred)\n",
    "        #print(grads.shape)\n",
    "        #Building the regression tree on the gradient (residuals)\n",
    "        tree_grad = tree_creator(r_state=r_state,\n",
    "                                 X=train_x,\n",
    "                                 y=grads)\n",
    "        #print(train_x.shape)\n",
    "        #print(tree_grad.predict(train_x).shape)\n",
    "        \n",
    "        #Predicting the residuals according to the tree fit above\n",
    "        pred_m = (tree_grad.predict(train_x)).reshape(len(train_x),1)\n",
    "        \n",
    "        #Updating model through learning rate\n",
    "        model_pred -= alpha * pred_m\n",
    "        \n",
    "        #Appending the model into tray\n",
    "        model_tray.append(tree_grad)\n",
    "        \n",
    "    return model_tray,loss_counter,initial_pred\n"
   ]
  },
  {
   "cell_type": "code",
   "execution_count": 7,
   "id": "fcba87e6-a634-48c9-8136-1b20491cad89",
   "metadata": {},
   "outputs": [
    {
     "name": "stdout",
     "output_type": "stream",
     "text": [
      "Initial val : (700,)\n",
      "#---------- Epoch number : 0  -----------#\n",
      "#---------- Epoch number : 100  -----------#\n",
      "#---------- Epoch number : 200  -----------#\n",
      "#---------- Epoch number : 300  -----------#\n",
      "#---------- Epoch number : 400  -----------#\n",
      "#---------- Epoch number : 500  -----------#\n",
      "#---------- Epoch number : 600  -----------#\n",
      "#---------- Epoch number : 700  -----------#\n",
      "#---------- Epoch number : 800  -----------#\n",
      "#---------- Epoch number : 900  -----------#\n",
      "#---------- Epoch number : 1000  -----------#\n"
     ]
    }
   ],
   "source": [
    "#-----------------------------------------------------------------------------------------------------------------------\n",
    "#Defining some hyper-params\n",
    "n_estimators = 1001 #No of boosting steps\n",
    "alpha =0.01 #Learning rate\n",
    "\n",
    "#Training gradient boosting regression\n",
    "models_list,loss_counter,initial_pred = grad_boost_train(train_x=X_arr,\n",
    "                                                         train_y=y_arr,\n",
    "                                                         alpha=alpha,\n",
    "                                                         r_state=100,\n",
    "                                                         n_iters=n_estimators)\n"
   ]
  },
  {
   "cell_type": "markdown",
   "id": "abd81daa-9698-4b5a-9579-7c6b1a716462",
   "metadata": {},
   "source": [
    "### Plotting the Loss curve (There should be a decrease in training loss over boosting rounds)"
   ]
  },
  {
   "cell_type": "code",
   "execution_count": 8,
   "id": "30b1757c-ce00-4519-9cfb-20fa96618a6f",
   "metadata": {},
   "outputs": [
    {
     "data": {
      "text/plain": [
       "[Text(0.5, 0, 'Number of boosting rounds'),\n",
       " Text(0, 0.5, 'Loss'),\n",
       " Text(0.5, 1.0, 'Loss vs Boosting rounds plot')]"
      ]
     },
     "execution_count": 8,
     "metadata": {},
     "output_type": "execute_result"
    },
    {
     "data": {
      "image/png": "[encoded data removed]",
      "text/plain": [
       "<Figure size 640x480 with 1 Axes>"
      ]
     },
     "metadata": {},
     "output_type": "display_data"
    }
   ],
   "source": [
    "sns.set_style('darkgrid')\n",
    "ax = sns.lineplot(x=range(n_estimators),y=loss_counter)\n",
    "ax.set(xlabel='Number of boosting rounds',ylabel='Loss',title='Loss vs Boosting rounds plot')"
   ]
  },
  {
   "cell_type": "markdown",
   "id": "f050b883-8182-4f73-94d6-ba270945536b",
   "metadata": {},
   "source": [
    "### Predicting on the test dataset using the manual training above (Only the trained residual models are passed)"
   ]
  },
  {
   "cell_type": "code",
   "execution_count": 9,
   "id": "946bc052-2b23-405c-8da4-f086788be36e",
   "metadata": {},
   "outputs": [
    {
     "data": {
      "text/plain": [
       "(300, 1)"
      ]
     },
     "execution_count": 9,
     "metadata": {},
     "output_type": "execute_result"
    }
   ],
   "source": [
    "manual_gbm_pred = predict_grad_boost(models_tray=models_list, #Passing the fitted estimators into the predict function\n",
    "                                     alpha=alpha, #The alpha val used during training\n",
    "                                     test_x=X_test_arr) #Test dataset\n",
    "manual_gbm_pred.shape"
   ]
  },
  {
   "cell_type": "markdown",
   "id": "5af3d094-204b-42e5-aa22-33ba616647fe",
   "metadata": {},
   "source": [
    "### Evaluating the predictions from the manual gradient boosting model"
   ]
  },
  {
   "cell_type": "code",
   "execution_count": 30,
   "id": "14679779-7d04-4810-b4a7-63a2c3c42638",
   "metadata": {},
   "outputs": [
    {
     "name": "stdout",
     "output_type": "stream",
     "text": [
      "MSE of test set : 0.295785342825056\n",
      "RMSE of test set : 0.5438615107038335\n",
      "R2 score of test set : 0.6919340773160432\n"
     ]
    }
   ],
   "source": [
    "print('MSE of test set :',mean_squared_error(y_test_arr,manual_gbm_pred))\n",
    "print('RMSE of test set :',np.sqrt(mean_squared_error(y_test_arr,manual_gbm_pred)))\n",
    "print('R2 score of test set :',r2_score(y_test_arr,manual_gbm_pred))"
   ]
  },
  {
   "cell_type": "markdown",
   "id": "5c4469ad-8543-4897-b130-4a889ce4f58c",
   "metadata": {},
   "source": [
    "### Benchmarking against sklearn implementation of gradient boosting"
   ]
  },
  {
   "cell_type": "code",
   "execution_count": 31,
   "id": "b75d09c5-8b93-49b0-a7c0-83d8f112e6d0",
   "metadata": {},
   "outputs": [
    {
     "name": "stdout",
     "output_type": "stream",
     "text": [
      "MSE of test set : 0.33899806530461823\n",
      "RMSE of test set : 0.5822354036853292\n",
      "R2 score of test set : 0.6469272250656739\n"
     ]
    }
   ],
   "source": [
    "from sklearn.ensemble import GradientBoostingRegressor\n",
    "\n",
    "skl_gbm = GradientBoostingRegressor(random_state=100,n_estimators=1001,criterion='squared_error',\n",
    "                                    max_depth=2,min_samples_split=5,\n",
    "                                    min_samples_leaf=5,max_features=3)\n",
    "\n",
    "#-------------------------------------------------------------------------------\n",
    "skl_gbm.fit(X_arr,y_arr)\n",
    "skl_pred = skl_gbm.predict(X_test_arr)\n",
    "\n",
    "#-------------------------------------------------------------------------------\n",
    "print('MSE of test set :',mean_squared_error(y_test_arr,skl_pred))\n",
    "print('RMSE of test set :',np.sqrt(mean_squared_error(y_test_arr,skl_pred)))\n",
    "print('R2 score of test set :',r2_score(y_test_arr,skl_pred))"
   ]
  },
  {
   "cell_type": "markdown",
   "id": "f3bd4261-e257-4f68-8681-db8c948ab158",
   "metadata": {},
   "source": [
    "Final Comments :\n",
    "    \n",
    "The manual implementation of the gradient boosting algorithm is providing similar results to its sklearn counterpart \n"
   ]
  },
  {
   "cell_type": "markdown",
   "id": "b7619425-5429-434d-b3bc-e3a4e1213fb7",
   "metadata": {},
   "source": [
    "### Q3. Experiment with different hyperparameters such as learning rate, number of trees, and tree depth to optimise the performance of the model. Use grid search or random search to find the best hyperparameters\n"
   ]
  },
  {
   "cell_type": "code",
   "execution_count": 13,
   "id": "5b3cb084-eda3-485e-86a2-c30d089bd03a",
   "metadata": {},
   "outputs": [],
   "source": [
    "from sklearn.model_selection import RandomizedSearchCV\n",
    "model = GradientBoostingRegressor()\n",
    "params  = {\n",
    "    'loss':['squared_error', 'absolute_error'],\n",
    "    'learning_rate':[0.1,0.01,1],\n",
    "    'n_estimators':[10,20,40,50,70,80,100,120,150,200],\n",
    "    'criterion':['friedman_mse', 'squared_error'],\n",
    "    'min_samples_split':[2,4,6,8,10],\n",
    "    'min_samples_leaf': [1, 3, 4],\n",
    "    'max_depth':[1,2,4,6,8],\n",
    "    'max_features':['sqrt', 'log2']\n",
    "    }"
   ]
  },
  {
   "cell_type": "code",
   "execution_count": 14,
   "id": "69531648-9a2c-4e32-8994-dbe8cfeabf6b",
   "metadata": {},
   "outputs": [],
   "source": [
    "random_cv = RandomizedSearchCV(estimator = model,param_distributions = params,\n",
    "               n_iter = 100, cv = 5 ,verbose = 3, scoring='neg_mean_squared_error')"
   ]
  },
  {
   "cell_type": "code",
   "execution_count": 15,
   "id": "8f49cafd-358a-4f31-a76f-aaae4f8678b2",
   "metadata": {},
   "outputs": [
    {
     "name": "stdout",
     "output_type": "stream",
     "text": [
      "Fitting 5 folds for each of 100 candidates, totalling 500 fits\n",
      "[CV 1/5] END criterion=squared_error, learning_rate=0.01, loss=absolute_error, max_depth=4, max_features=log2, min_samples_leaf=3, min_samples_split=2, n_estimators=80;, score=-0.492 total time=   0.4s\n",
      "[CV 2/5] END criterion=squared_error, learning_rate=0.01, loss=absolute_error, max_depth=4, max_features=log2, min_samples_leaf=3, min_samples_split=2, n_estimators=80;, score=-0.325 total time=   0.4s\n",
      "[CV 3/5] END criterion=squared_error, learning_rate=0.01, loss=absolute_error, max_depth=4, max_features=log2, min_samples_leaf=3, min_samples_split=2, n_estimators=80;, score=-0.391 total time=   0.4s\n",
      "[CV 4/5] END criterion=squared_error, learning_rate=0.01, loss=absolute_error, max_depth=4, max_features=log2, min_samples_leaf=3, min_samples_split=2, n_estimators=80;, score=-0.532 total time=   0.4s\n",
      "[CV 5/5] END criterion=squared_error, learning_rate=0.01, loss=absolute_error, max_depth=4, max_features=log2, min_samples_leaf=3, min_samples_split=2, n_estimators=80;, score=-0.487 total time=   0.4s\n",
      "[CV 1/5] END criterion=friedman_mse, learning_rate=0.1, loss=squared_error, max_depth=8, max_features=sqrt, min_samples_leaf=4, min_samples_split=4, n_estimators=150;, score=-0.334 total time=   0.2s\n",
      "[CV 2/5] END criterion=friedman_mse, learning_rate=0.1, loss=squared_error, max_depth=8, max_features=sqrt, min_samples_leaf=4, min_samples_split=4, n_estimators=150;, score=-0.368 total time=   0.2s\n",
      "[CV 3/5] END criterion=friedman_mse, learning_rate=0.1, loss=squared_error, max_depth=8, max_features=sqrt, min_samples_leaf=4, min_samples_split=4, n_estimators=150;, score=-0.352 total time=   0.2s\n",
      "[CV 4/5] END criterion=friedman_mse, learning_rate=0.1, loss=squared_error, max_depth=8, max_features=sqrt, min_samples_leaf=4, min_samples_split=4, n_estimators=150;, score=-0.362 total time=   0.2s\n",
      "[CV 5/5] END criterion=friedman_mse, learning_rate=0.1, loss=squared_error, max_depth=8, max_features=sqrt, min_samples_leaf=4, min_samples_split=4, n_estimators=150;, score=-0.392 total time=   0.2s\n",
      "[CV 1/5] END criterion=squared_error, learning_rate=0.01, loss=squared_error, max_depth=2, max_features=sqrt, min_samples_leaf=4, min_samples_split=6, n_estimators=100;, score=-0.430 total time=   0.1s\n",
      "[CV 2/5] END criterion=squared_error, learning_rate=0.01, loss=squared_error, max_depth=2, max_features=sqrt, min_samples_leaf=4, min_samples_split=6, n_estimators=100;, score=-0.304 total time=   0.1s\n",
      "[CV 3/5] END criterion=squared_error, learning_rate=0.01, loss=squared_error, max_depth=2, max_features=sqrt, min_samples_leaf=4, min_samples_split=6, n_estimators=100;, score=-0.350 total time=   0.1s\n",
      "[CV 4/5] END criterion=squared_error, learning_rate=0.01, loss=squared_error, max_depth=2, max_features=sqrt, min_samples_leaf=4, min_samples_split=6, n_estimators=100;, score=-0.480 total time=   0.1s\n",
      "[CV 5/5] END criterion=squared_error, learning_rate=0.01, loss=squared_error, max_depth=2, max_features=sqrt, min_samples_leaf=4, min_samples_split=6, n_estimators=100;, score=-0.434 total time=   0.1s\n",
      "[CV 1/5] END criterion=squared_error, learning_rate=0.01, loss=squared_error, max_depth=8, max_features=log2, min_samples_leaf=3, min_samples_split=8, n_estimators=100;, score=-0.410 total time=   0.1s\n",
      "[CV 2/5] END criterion=squared_error, learning_rate=0.01, loss=squared_error, max_depth=8, max_features=log2, min_samples_leaf=3, min_samples_split=8, n_estimators=100;, score=-0.314 total time=   0.1s\n",
      "[CV 3/5] END criterion=squared_error, learning_rate=0.01, loss=squared_error, max_depth=8, max_features=log2, min_samples_leaf=3, min_samples_split=8, n_estimators=100;, score=-0.355 total time=   0.1s\n",
      "[CV 4/5] END criterion=squared_error, learning_rate=0.01, loss=squared_error, max_depth=8, max_features=log2, min_samples_leaf=3, min_samples_split=8, n_estimators=100;, score=-0.466 total time=   0.1s\n",
      "[CV 5/5] END criterion=squared_error, learning_rate=0.01, loss=squared_error, max_depth=8, max_features=log2, min_samples_leaf=3, min_samples_split=8, n_estimators=100;, score=-0.411 total time=   0.1s\n",
      "[CV 1/5] END criterion=squared_error, learning_rate=0.01, loss=absolute_error, max_depth=6, max_features=log2, min_samples_leaf=3, min_samples_split=4, n_estimators=50;, score=-0.625 total time=   0.5s\n",
      "[CV 2/5] END criterion=squared_error, learning_rate=0.01, loss=absolute_error, max_depth=6, max_features=log2, min_samples_leaf=3, min_samples_split=4, n_estimators=50;, score=-0.412 total time=   0.5s\n",
      "[CV 3/5] END criterion=squared_error, learning_rate=0.01, loss=absolute_error, max_depth=6, max_features=log2, min_samples_leaf=3, min_samples_split=4, n_estimators=50;, score=-0.485 total time=   0.5s\n",
      "[CV 4/5] END criterion=squared_error, learning_rate=0.01, loss=absolute_error, max_depth=6, max_features=log2, min_samples_leaf=3, min_samples_split=4, n_estimators=50;, score=-0.695 total time=   0.5s\n",
      "[CV 5/5] END criterion=squared_error, learning_rate=0.01, loss=absolute_error, max_depth=6, max_features=log2, min_samples_leaf=3, min_samples_split=4, n_estimators=50;, score=-0.617 total time=   0.6s\n",
      "[CV 1/5] END criterion=squared_error, learning_rate=0.1, loss=absolute_error, max_depth=1, max_features=log2, min_samples_leaf=4, min_samples_split=4, n_estimators=150;, score=-0.271 total time=   0.2s\n",
      "[CV 2/5] END criterion=squared_error, learning_rate=0.1, loss=absolute_error, max_depth=1, max_features=log2, min_samples_leaf=4, min_samples_split=4, n_estimators=150;, score=-0.262 total time=   0.2s\n",
      "[CV 3/5] END criterion=squared_error, learning_rate=0.1, loss=absolute_error, max_depth=1, max_features=log2, min_samples_leaf=4, min_samples_split=4, n_estimators=150;, score=-0.273 total time=   0.2s\n",
      "[CV 4/5] END criterion=squared_error, learning_rate=0.1, loss=absolute_error, max_depth=1, max_features=log2, min_samples_leaf=4, min_samples_split=4, n_estimators=150;, score=-0.309 total time=   0.2s\n",
      "[CV 5/5] END criterion=squared_error, learning_rate=0.1, loss=absolute_error, max_depth=1, max_features=log2, min_samples_leaf=4, min_samples_split=4, n_estimators=150;, score=-0.289 total time=   0.2s\n",
      "[CV 1/5] END criterion=squared_error, learning_rate=1, loss=squared_error, max_depth=8, max_features=log2, min_samples_leaf=4, min_samples_split=4, n_estimators=40;, score=-0.417 total time=   0.0s\n",
      "[CV 2/5] END criterion=squared_error, learning_rate=1, loss=squared_error, max_depth=8, max_features=log2, min_samples_leaf=4, min_samples_split=4, n_estimators=40;, score=-0.487 total time=   0.0s\n",
      "[CV 3/5] END criterion=squared_error, learning_rate=1, loss=squared_error, max_depth=8, max_features=log2, min_samples_leaf=4, min_samples_split=4, n_estimators=40;, score=-0.465 total time=   0.0s\n",
      "[CV 4/5] END criterion=squared_error, learning_rate=1, loss=squared_error, max_depth=8, max_features=log2, min_samples_leaf=4, min_samples_split=4, n_estimators=40;, score=-0.441 total time=   0.0s\n",
      "[CV 5/5] END criterion=squared_error, learning_rate=1, loss=squared_error, max_depth=8, max_features=log2, min_samples_leaf=4, min_samples_split=4, n_estimators=40;, score=-0.504 total time=   0.0s\n",
      "[CV 1/5] END criterion=squared_error, learning_rate=0.01, loss=absolute_error, max_depth=6, max_features=sqrt, min_samples_leaf=3, min_samples_split=6, n_estimators=20;, score=-0.847 total time=   0.2s\n",
      "[CV 2/5] END criterion=squared_error, learning_rate=0.01, loss=absolute_error, max_depth=6, max_features=sqrt, min_samples_leaf=3, min_samples_split=6, n_estimators=20;, score=-0.596 total time=   0.2s\n",
      "[CV 3/5] END criterion=squared_error, learning_rate=0.01, loss=absolute_error, max_depth=6, max_features=sqrt, min_samples_leaf=3, min_samples_split=6, n_estimators=20;, score=-0.651 total time=   0.2s\n",
      "[CV 4/5] END criterion=squared_error, learning_rate=0.01, loss=absolute_error, max_depth=6, max_features=sqrt, min_samples_leaf=3, min_samples_split=6, n_estimators=20;, score=-0.939 total time=   0.2s\n",
      "[CV 5/5] END criterion=squared_error, learning_rate=0.01, loss=absolute_error, max_depth=6, max_features=sqrt, min_samples_leaf=3, min_samples_split=6, n_estimators=20;, score=-0.855 total time=   0.2s\n",
      "[CV 1/5] END criterion=squared_error, learning_rate=0.1, loss=squared_error, max_depth=1, max_features=sqrt, min_samples_leaf=4, min_samples_split=10, n_estimators=20;, score=-0.406 total time=   0.0s\n",
      "[CV 2/5] END criterion=squared_error, learning_rate=0.1, loss=squared_error, max_depth=1, max_features=sqrt, min_samples_leaf=4, min_samples_split=10, n_estimators=20;, score=-0.290 total time=   0.0s\n",
      "[CV 3/5] END criterion=squared_error, learning_rate=0.1, loss=squared_error, max_depth=1, max_features=sqrt, min_samples_leaf=4, min_samples_split=10, n_estimators=20;, score=-0.327 total time=   0.0s\n",
      "[CV 4/5] END criterion=squared_error, learning_rate=0.1, loss=squared_error, max_depth=1, max_features=sqrt, min_samples_leaf=4, min_samples_split=10, n_estimators=20;, score=-0.454 total time=   0.0s\n",
      "[CV 5/5] END criterion=squared_error, learning_rate=0.1, loss=squared_error, max_depth=1, max_features=sqrt, min_samples_leaf=4, min_samples_split=10, n_estimators=20;, score=-0.422 total time=   0.0s\n",
      "[CV 1/5] END criterion=friedman_mse, learning_rate=0.1, loss=squared_error, max_depth=4, max_features=log2, min_samples_leaf=4, min_samples_split=10, n_estimators=40;, score=-0.280 total time=   0.0s\n",
      "[CV 2/5] END criterion=friedman_mse, learning_rate=0.1, loss=squared_error, max_depth=4, max_features=log2, min_samples_leaf=4, min_samples_split=10, n_estimators=40;, score=-0.276 total time=   0.0s\n",
      "[CV 3/5] END criterion=friedman_mse, learning_rate=0.1, loss=squared_error, max_depth=4, max_features=log2, min_samples_leaf=4, min_samples_split=10, n_estimators=40;, score=-0.291 total time=   0.0s\n",
      "[CV 4/5] END criterion=friedman_mse, learning_rate=0.1, loss=squared_error, max_depth=4, max_features=log2, min_samples_leaf=4, min_samples_split=10, n_estimators=40;, score=-0.302 total time=   0.0s\n",
      "[CV 5/5] END criterion=friedman_mse, learning_rate=0.1, loss=squared_error, max_depth=4, max_features=log2, min_samples_leaf=4, min_samples_split=10, n_estimators=40;, score=-0.299 total time=   0.0s\n",
      "[CV 1/5] END criterion=friedman_mse, learning_rate=0.1, loss=squared_error, max_depth=8, max_features=sqrt, min_samples_leaf=1, min_samples_split=8, n_estimators=120;, score=-0.373 total time=   0.1s\n",
      "[CV 2/5] END criterion=friedman_mse, learning_rate=0.1, loss=squared_error, max_depth=8, max_features=sqrt, min_samples_leaf=1, min_samples_split=8, n_estimators=120;, score=-0.412 total time=   0.1s\n",
      "[CV 3/5] END criterion=friedman_mse, learning_rate=0.1, loss=squared_error, max_depth=8, max_features=sqrt, min_samples_leaf=1, min_samples_split=8, n_estimators=120;, score=-0.473 total time=   0.1s\n",
      "[CV 4/5] END criterion=friedman_mse, learning_rate=0.1, loss=squared_error, max_depth=8, max_features=sqrt, min_samples_leaf=1, min_samples_split=8, n_estimators=120;, score=-0.394 total time=   0.1s\n",
      "[CV 5/5] END criterion=friedman_mse, learning_rate=0.1, loss=squared_error, max_depth=8, max_features=sqrt, min_samples_leaf=1, min_samples_split=8, n_estimators=120;, score=-0.453 total time=   0.1s\n",
      "[CV 1/5] END criterion=friedman_mse, learning_rate=1, loss=absolute_error, max_depth=2, max_features=log2, min_samples_leaf=4, min_samples_split=6, n_estimators=10;, score=-0.318 total time=   0.0s\n",
      "[CV 2/5] END criterion=friedman_mse, learning_rate=1, loss=absolute_error, max_depth=2, max_features=log2, min_samples_leaf=4, min_samples_split=6, n_estimators=10;, score=-0.278 total time=   0.0s\n",
      "[CV 3/5] END criterion=friedman_mse, learning_rate=1, loss=absolute_error, max_depth=2, max_features=log2, min_samples_leaf=4, min_samples_split=6, n_estimators=10;, score=-0.314 total time=   0.0s\n",
      "[CV 4/5] END criterion=friedman_mse, learning_rate=1, loss=absolute_error, max_depth=2, max_features=log2, min_samples_leaf=4, min_samples_split=6, n_estimators=10;, score=-0.316 total time=   0.0s\n",
      "[CV 5/5] END criterion=friedman_mse, learning_rate=1, loss=absolute_error, max_depth=2, max_features=log2, min_samples_leaf=4, min_samples_split=6, n_estimators=10;, score=-0.338 total time=   0.0s\n",
      "[CV 1/5] END criterion=friedman_mse, learning_rate=1, loss=squared_error, max_depth=2, max_features=sqrt, min_samples_leaf=3, min_samples_split=8, n_estimators=70;, score=-0.352 total time=   0.0s\n",
      "[CV 2/5] END criterion=friedman_mse, learning_rate=1, loss=squared_error, max_depth=2, max_features=sqrt, min_samples_leaf=3, min_samples_split=8, n_estimators=70;, score=-0.385 total time=   0.0s\n",
      "[CV 3/5] END criterion=friedman_mse, learning_rate=1, loss=squared_error, max_depth=2, max_features=sqrt, min_samples_leaf=3, min_samples_split=8, n_estimators=70;, score=-0.401 total time=   0.0s\n",
      "[CV 4/5] END criterion=friedman_mse, learning_rate=1, loss=squared_error, max_depth=2, max_features=sqrt, min_samples_leaf=3, min_samples_split=8, n_estimators=70;, score=-0.386 total time=   0.0s\n",
      "[CV 5/5] END criterion=friedman_mse, learning_rate=1, loss=squared_error, max_depth=2, max_features=sqrt, min_samples_leaf=3, min_samples_split=8, n_estimators=70;, score=-0.401 total time=   0.1s\n",
      "[CV 1/5] END criterion=friedman_mse, learning_rate=1, loss=squared_error, max_depth=8, max_features=log2, min_samples_leaf=4, min_samples_split=6, n_estimators=80;, score=-0.448 total time=   0.1s\n",
      "[CV 2/5] END criterion=friedman_mse, learning_rate=1, loss=squared_error, max_depth=8, max_features=log2, min_samples_leaf=4, min_samples_split=6, n_estimators=80;, score=-0.530 total time=   0.1s\n",
      "[CV 3/5] END criterion=friedman_mse, learning_rate=1, loss=squared_error, max_depth=8, max_features=log2, min_samples_leaf=4, min_samples_split=6, n_estimators=80;, score=-0.556 total time=   0.1s\n",
      "[CV 4/5] END criterion=friedman_mse, learning_rate=1, loss=squared_error, max_depth=8, max_features=log2, min_samples_leaf=4, min_samples_split=6, n_estimators=80;, score=-0.471 total time=   0.1s\n",
      "[CV 5/5] END criterion=friedman_mse, learning_rate=1, loss=squared_error, max_depth=8, max_features=log2, min_samples_leaf=4, min_samples_split=6, n_estimators=80;, score=-0.568 total time=   0.1s\n",
      "[CV 1/5] END criterion=friedman_mse, learning_rate=1, loss=squared_error, max_depth=1, max_features=sqrt, min_samples_leaf=4, min_samples_split=2, n_estimators=200;, score=-0.294 total time=   0.1s\n",
      "[CV 2/5] END criterion=friedman_mse, learning_rate=1, loss=squared_error, max_depth=1, max_features=sqrt, min_samples_leaf=4, min_samples_split=2, n_estimators=200;, score=-0.288 total time=   0.1s\n",
      "[CV 3/5] END criterion=friedman_mse, learning_rate=1, loss=squared_error, max_depth=1, max_features=sqrt, min_samples_leaf=4, min_samples_split=2, n_estimators=200;, score=-0.306 total time=   0.1s\n",
      "[CV 4/5] END criterion=friedman_mse, learning_rate=1, loss=squared_error, max_depth=1, max_features=sqrt, min_samples_leaf=4, min_samples_split=2, n_estimators=200;, score=-0.305 total time=   0.1s\n",
      "[CV 5/5] END criterion=friedman_mse, learning_rate=1, loss=squared_error, max_depth=1, max_features=sqrt, min_samples_leaf=4, min_samples_split=2, n_estimators=200;, score=-0.302 total time=   0.1s\n",
      "[CV 1/5] END criterion=friedman_mse, learning_rate=0.1, loss=squared_error, max_depth=6, max_features=sqrt, min_samples_leaf=1, min_samples_split=2, n_estimators=40;, score=-0.312 total time=   0.0s\n",
      "[CV 2/5] END criterion=friedman_mse, learning_rate=0.1, loss=squared_error, max_depth=6, max_features=sqrt, min_samples_leaf=1, min_samples_split=2, n_estimators=40;, score=-0.329 total time=   0.0s\n",
      "[CV 3/5] END criterion=friedman_mse, learning_rate=0.1, loss=squared_error, max_depth=6, max_features=sqrt, min_samples_leaf=1, min_samples_split=2, n_estimators=40;, score=-0.372 total time=   0.0s\n",
      "[CV 4/5] END criterion=friedman_mse, learning_rate=0.1, loss=squared_error, max_depth=6, max_features=sqrt, min_samples_leaf=1, min_samples_split=2, n_estimators=40;, score=-0.343 total time=   0.0s\n",
      "[CV 5/5] END criterion=friedman_mse, learning_rate=0.1, loss=squared_error, max_depth=6, max_features=sqrt, min_samples_leaf=1, min_samples_split=2, n_estimators=40;, score=-0.374 total time=   0.0s\n",
      "[CV 1/5] END criterion=friedman_mse, learning_rate=1, loss=squared_error, max_depth=1, max_features=sqrt, min_samples_leaf=3, min_samples_split=6, n_estimators=50;, score=-0.284 total time=   0.0s\n",
      "[CV 2/5] END criterion=friedman_mse, learning_rate=1, loss=squared_error, max_depth=1, max_features=sqrt, min_samples_leaf=3, min_samples_split=6, n_estimators=50;, score=-0.276 total time=   0.0s\n",
      "[CV 3/5] END criterion=friedman_mse, learning_rate=1, loss=squared_error, max_depth=1, max_features=sqrt, min_samples_leaf=3, min_samples_split=6, n_estimators=50;, score=-0.308 total time=   0.0s\n",
      "[CV 4/5] END criterion=friedman_mse, learning_rate=1, loss=squared_error, max_depth=1, max_features=sqrt, min_samples_leaf=3, min_samples_split=6, n_estimators=50;, score=-0.292 total time=   0.0s\n",
      "[CV 5/5] END criterion=friedman_mse, learning_rate=1, loss=squared_error, max_depth=1, max_features=sqrt, min_samples_leaf=3, min_samples_split=6, n_estimators=50;, score=-0.286 total time=   0.0s\n",
      "[CV 1/5] END criterion=friedman_mse, learning_rate=0.01, loss=squared_error, max_depth=6, max_features=log2, min_samples_leaf=3, min_samples_split=2, n_estimators=50;, score=-0.571 total time=   0.0s\n",
      "[CV 2/5] END criterion=friedman_mse, learning_rate=0.01, loss=squared_error, max_depth=6, max_features=log2, min_samples_leaf=3, min_samples_split=2, n_estimators=50;, score=-0.412 total time=   0.0s\n",
      "[CV 3/5] END criterion=friedman_mse, learning_rate=0.01, loss=squared_error, max_depth=6, max_features=log2, min_samples_leaf=3, min_samples_split=2, n_estimators=50;, score=-0.460 total time=   0.0s\n",
      "[CV 4/5] END criterion=friedman_mse, learning_rate=0.01, loss=squared_error, max_depth=6, max_features=log2, min_samples_leaf=3, min_samples_split=2, n_estimators=50;, score=-0.661 total time=   0.0s\n",
      "[CV 5/5] END criterion=friedman_mse, learning_rate=0.01, loss=squared_error, max_depth=6, max_features=log2, min_samples_leaf=3, min_samples_split=2, n_estimators=50;, score=-0.584 total time=   0.1s\n",
      "[CV 1/5] END criterion=friedman_mse, learning_rate=0.1, loss=squared_error, max_depth=2, max_features=log2, min_samples_leaf=1, min_samples_split=10, n_estimators=150;, score=-0.275 total time=   0.1s\n",
      "[CV 2/5] END criterion=friedman_mse, learning_rate=0.1, loss=squared_error, max_depth=2, max_features=log2, min_samples_leaf=1, min_samples_split=10, n_estimators=150;, score=-0.272 total time=   0.1s\n",
      "[CV 3/5] END criterion=friedman_mse, learning_rate=0.1, loss=squared_error, max_depth=2, max_features=log2, min_samples_leaf=1, min_samples_split=10, n_estimators=150;, score=-0.310 total time=   0.1s\n",
      "[CV 4/5] END criterion=friedman_mse, learning_rate=0.1, loss=squared_error, max_depth=2, max_features=log2, min_samples_leaf=1, min_samples_split=10, n_estimators=150;, score=-0.301 total time=   0.1s\n",
      "[CV 5/5] END criterion=friedman_mse, learning_rate=0.1, loss=squared_error, max_depth=2, max_features=log2, min_samples_leaf=1, min_samples_split=10, n_estimators=150;, score=-0.311 total time=   0.1s\n",
      "[CV 1/5] END criterion=squared_error, learning_rate=1, loss=absolute_error, max_depth=1, max_features=sqrt, min_samples_leaf=4, min_samples_split=4, n_estimators=40;, score=-0.280 total time=   0.1s\n",
      "[CV 2/5] END criterion=squared_error, learning_rate=1, loss=absolute_error, max_depth=1, max_features=sqrt, min_samples_leaf=4, min_samples_split=4, n_estimators=40;, score=-0.295 total time=   0.1s\n",
      "[CV 3/5] END criterion=squared_error, learning_rate=1, loss=absolute_error, max_depth=1, max_features=sqrt, min_samples_leaf=4, min_samples_split=4, n_estimators=40;, score=-0.292 total time=   0.1s\n",
      "[CV 4/5] END criterion=squared_error, learning_rate=1, loss=absolute_error, max_depth=1, max_features=sqrt, min_samples_leaf=4, min_samples_split=4, n_estimators=40;, score=-0.306 total time=   0.1s\n",
      "[CV 5/5] END criterion=squared_error, learning_rate=1, loss=absolute_error, max_depth=1, max_features=sqrt, min_samples_leaf=4, min_samples_split=4, n_estimators=40;, score=-0.306 total time=   0.1s\n",
      "[CV 1/5] END criterion=friedman_mse, learning_rate=0.01, loss=absolute_error, max_depth=1, max_features=sqrt, min_samples_leaf=3, min_samples_split=6, n_estimators=40;, score=-0.832 total time=   0.1s\n",
      "[CV 2/5] END criterion=friedman_mse, learning_rate=0.01, loss=absolute_error, max_depth=1, max_features=sqrt, min_samples_leaf=3, min_samples_split=6, n_estimators=40;, score=-0.595 total time=   0.1s\n",
      "[CV 3/5] END criterion=friedman_mse, learning_rate=0.01, loss=absolute_error, max_depth=1, max_features=sqrt, min_samples_leaf=3, min_samples_split=6, n_estimators=40;, score=-0.616 total time=   0.1s\n",
      "[CV 4/5] END criterion=friedman_mse, learning_rate=0.01, loss=absolute_error, max_depth=1, max_features=sqrt, min_samples_leaf=3, min_samples_split=6, n_estimators=40;, score=-0.937 total time=   0.1s\n",
      "[CV 5/5] END criterion=friedman_mse, learning_rate=0.01, loss=absolute_error, max_depth=1, max_features=sqrt, min_samples_leaf=3, min_samples_split=6, n_estimators=40;, score=-0.867 total time=   0.1s\n",
      "[CV 1/5] END criterion=squared_error, learning_rate=0.01, loss=squared_error, max_depth=6, max_features=sqrt, min_samples_leaf=4, min_samples_split=6, n_estimators=120;, score=-0.359 total time=   0.1s\n",
      "[CV 2/5] END criterion=squared_error, learning_rate=0.01, loss=squared_error, max_depth=6, max_features=sqrt, min_samples_leaf=4, min_samples_split=6, n_estimators=120;, score=-0.281 total time=   0.1s\n",
      "[CV 3/5] END criterion=squared_error, learning_rate=0.01, loss=squared_error, max_depth=6, max_features=sqrt, min_samples_leaf=4, min_samples_split=6, n_estimators=120;, score=-0.320 total time=   0.1s\n",
      "[CV 4/5] END criterion=squared_error, learning_rate=0.01, loss=squared_error, max_depth=6, max_features=sqrt, min_samples_leaf=4, min_samples_split=6, n_estimators=120;, score=-0.416 total time=   0.1s\n",
      "[CV 5/5] END criterion=squared_error, learning_rate=0.01, loss=squared_error, max_depth=6, max_features=sqrt, min_samples_leaf=4, min_samples_split=6, n_estimators=120;, score=-0.361 total time=   0.1s\n",
      "[CV 1/5] END criterion=friedman_mse, learning_rate=0.1, loss=squared_error, max_depth=8, max_features=log2, min_samples_leaf=3, min_samples_split=4, n_estimators=80;, score=-0.347 total time=   0.1s\n",
      "[CV 2/5] END criterion=friedman_mse, learning_rate=0.1, loss=squared_error, max_depth=8, max_features=log2, min_samples_leaf=3, min_samples_split=4, n_estimators=80;, score=-0.376 total time=   0.1s\n",
      "[CV 3/5] END criterion=friedman_mse, learning_rate=0.1, loss=squared_error, max_depth=8, max_features=log2, min_samples_leaf=3, min_samples_split=4, n_estimators=80;, score=-0.368 total time=   0.1s\n",
      "[CV 4/5] END criterion=friedman_mse, learning_rate=0.1, loss=squared_error, max_depth=8, max_features=log2, min_samples_leaf=3, min_samples_split=4, n_estimators=80;, score=-0.375 total time=   0.1s\n",
      "[CV 5/5] END criterion=friedman_mse, learning_rate=0.1, loss=squared_error, max_depth=8, max_features=log2, min_samples_leaf=3, min_samples_split=4, n_estimators=80;, score=-0.397 total time=   0.1s\n",
      "[CV 1/5] END criterion=friedman_mse, learning_rate=0.01, loss=squared_error, max_depth=8, max_features=sqrt, min_samples_leaf=1, min_samples_split=10, n_estimators=40;, score=-0.645 total time=   0.0s\n",
      "[CV 2/5] END criterion=friedman_mse, learning_rate=0.01, loss=squared_error, max_depth=8, max_features=sqrt, min_samples_leaf=1, min_samples_split=10, n_estimators=40;, score=-0.469 total time=   0.0s\n",
      "[CV 3/5] END criterion=friedman_mse, learning_rate=0.01, loss=squared_error, max_depth=8, max_features=sqrt, min_samples_leaf=1, min_samples_split=10, n_estimators=40;, score=-0.510 total time=   0.0s\n",
      "[CV 4/5] END criterion=friedman_mse, learning_rate=0.01, loss=squared_error, max_depth=8, max_features=sqrt, min_samples_leaf=1, min_samples_split=10, n_estimators=40;, score=-0.733 total time=   0.0s\n",
      "[CV 5/5] END criterion=friedman_mse, learning_rate=0.01, loss=squared_error, max_depth=8, max_features=sqrt, min_samples_leaf=1, min_samples_split=10, n_estimators=40;, score=-0.661 total time=   0.0s\n",
      "[CV 1/5] END criterion=friedman_mse, learning_rate=0.01, loss=squared_error, max_depth=1, max_features=log2, min_samples_leaf=1, min_samples_split=2, n_estimators=70;, score=-0.668 total time=   0.0s\n",
      "[CV 2/5] END criterion=friedman_mse, learning_rate=0.01, loss=squared_error, max_depth=1, max_features=log2, min_samples_leaf=1, min_samples_split=2, n_estimators=70;, score=-0.469 total time=   0.0s\n",
      "[CV 3/5] END criterion=friedman_mse, learning_rate=0.01, loss=squared_error, max_depth=1, max_features=log2, min_samples_leaf=1, min_samples_split=2, n_estimators=70;, score=-0.496 total time=   0.0s\n",
      "[CV 4/5] END criterion=friedman_mse, learning_rate=0.01, loss=squared_error, max_depth=1, max_features=log2, min_samples_leaf=1, min_samples_split=2, n_estimators=70;, score=-0.760 total time=   0.0s\n",
      "[CV 5/5] END criterion=friedman_mse, learning_rate=0.01, loss=squared_error, max_depth=1, max_features=log2, min_samples_leaf=1, min_samples_split=2, n_estimators=70;, score=-0.712 total time=   0.0s\n",
      "[CV 1/5] END criterion=squared_error, learning_rate=0.1, loss=absolute_error, max_depth=8, max_features=sqrt, min_samples_leaf=3, min_samples_split=6, n_estimators=20;, score=-0.334 total time=   0.3s\n",
      "[CV 2/5] END criterion=squared_error, learning_rate=0.1, loss=absolute_error, max_depth=8, max_features=sqrt, min_samples_leaf=3, min_samples_split=6, n_estimators=20;, score=-0.287 total time=   0.3s\n",
      "[CV 3/5] END criterion=squared_error, learning_rate=0.1, loss=absolute_error, max_depth=8, max_features=sqrt, min_samples_leaf=3, min_samples_split=6, n_estimators=20;, score=-0.310 total time=   0.3s\n",
      "[CV 4/5] END criterion=squared_error, learning_rate=0.1, loss=absolute_error, max_depth=8, max_features=sqrt, min_samples_leaf=3, min_samples_split=6, n_estimators=20;, score=-0.371 total time=   0.3s\n",
      "[CV 5/5] END criterion=squared_error, learning_rate=0.1, loss=absolute_error, max_depth=8, max_features=sqrt, min_samples_leaf=3, min_samples_split=6, n_estimators=20;, score=-0.342 total time=   0.3s\n",
      "[CV 1/5] END criterion=friedman_mse, learning_rate=0.1, loss=squared_error, max_depth=2, max_features=log2, min_samples_leaf=4, min_samples_split=10, n_estimators=150;, score=-0.275 total time=   0.1s\n",
      "[CV 2/5] END criterion=friedman_mse, learning_rate=0.1, loss=squared_error, max_depth=2, max_features=log2, min_samples_leaf=4, min_samples_split=10, n_estimators=150;, score=-0.273 total time=   0.1s\n",
      "[CV 3/5] END criterion=friedman_mse, learning_rate=0.1, loss=squared_error, max_depth=2, max_features=log2, min_samples_leaf=4, min_samples_split=10, n_estimators=150;, score=-0.288 total time=   0.1s\n",
      "[CV 4/5] END criterion=friedman_mse, learning_rate=0.1, loss=squared_error, max_depth=2, max_features=log2, min_samples_leaf=4, min_samples_split=10, n_estimators=150;, score=-0.298 total time=   0.1s\n",
      "[CV 5/5] END criterion=friedman_mse, learning_rate=0.1, loss=squared_error, max_depth=2, max_features=log2, min_samples_leaf=4, min_samples_split=10, n_estimators=150;, score=-0.306 total time=   0.1s\n",
      "[CV 1/5] END criterion=squared_error, learning_rate=0.1, loss=absolute_error, max_depth=6, max_features=sqrt, min_samples_leaf=1, min_samples_split=10, n_estimators=70;, score=-0.300 total time=   0.4s\n",
      "[CV 2/5] END criterion=squared_error, learning_rate=0.1, loss=absolute_error, max_depth=6, max_features=sqrt, min_samples_leaf=1, min_samples_split=10, n_estimators=70;, score=-0.284 total time=   0.4s\n",
      "[CV 3/5] END criterion=squared_error, learning_rate=0.1, loss=absolute_error, max_depth=6, max_features=sqrt, min_samples_leaf=1, min_samples_split=10, n_estimators=70;, score=-0.313 total time=   0.4s\n",
      "[CV 4/5] END criterion=squared_error, learning_rate=0.1, loss=absolute_error, max_depth=6, max_features=sqrt, min_samples_leaf=1, min_samples_split=10, n_estimators=70;, score=-0.333 total time=   0.4s\n",
      "[CV 5/5] END criterion=squared_error, learning_rate=0.1, loss=absolute_error, max_depth=6, max_features=sqrt, min_samples_leaf=1, min_samples_split=10, n_estimators=70;, score=-0.347 total time=   0.4s\n",
      "[CV 1/5] END criterion=friedman_mse, learning_rate=1, loss=absolute_error, max_depth=6, max_features=sqrt, min_samples_leaf=4, min_samples_split=6, n_estimators=70;, score=-0.406 total time=   0.5s\n",
      "[CV 2/5] END criterion=friedman_mse, learning_rate=1, loss=absolute_error, max_depth=6, max_features=sqrt, min_samples_leaf=4, min_samples_split=6, n_estimators=70;, score=-0.459 total time=   0.5s\n",
      "[CV 3/5] END criterion=friedman_mse, learning_rate=1, loss=absolute_error, max_depth=6, max_features=sqrt, min_samples_leaf=4, min_samples_split=6, n_estimators=70;, score=-0.425 total time=   0.5s\n",
      "[CV 4/5] END criterion=friedman_mse, learning_rate=1, loss=absolute_error, max_depth=6, max_features=sqrt, min_samples_leaf=4, min_samples_split=6, n_estimators=70;, score=-0.421 total time=   0.6s\n",
      "[CV 5/5] END criterion=friedman_mse, learning_rate=1, loss=absolute_error, max_depth=6, max_features=sqrt, min_samples_leaf=4, min_samples_split=6, n_estimators=70;, score=-0.460 total time=   0.5s\n",
      "[CV 1/5] END criterion=squared_error, learning_rate=0.01, loss=absolute_error, max_depth=4, max_features=sqrt, min_samples_leaf=4, min_samples_split=10, n_estimators=80;, score=-0.489 total time=   0.4s\n",
      "[CV 2/5] END criterion=squared_error, learning_rate=0.01, loss=absolute_error, max_depth=4, max_features=sqrt, min_samples_leaf=4, min_samples_split=10, n_estimators=80;, score=-0.325 total time=   0.4s\n",
      "[CV 3/5] END criterion=squared_error, learning_rate=0.01, loss=absolute_error, max_depth=4, max_features=sqrt, min_samples_leaf=4, min_samples_split=10, n_estimators=80;, score=-0.387 total time=   0.4s\n",
      "[CV 4/5] END criterion=squared_error, learning_rate=0.01, loss=absolute_error, max_depth=4, max_features=sqrt, min_samples_leaf=4, min_samples_split=10, n_estimators=80;, score=-0.533 total time=   0.4s\n",
      "[CV 5/5] END criterion=squared_error, learning_rate=0.01, loss=absolute_error, max_depth=4, max_features=sqrt, min_samples_leaf=4, min_samples_split=10, n_estimators=80;, score=-0.488 total time=   0.4s\n",
      "[CV 1/5] END criterion=squared_error, learning_rate=0.1, loss=squared_error, max_depth=6, max_features=sqrt, min_samples_leaf=1, min_samples_split=8, n_estimators=70;, score=-0.318 total time=   0.1s\n",
      "[CV 2/5] END criterion=squared_error, learning_rate=0.1, loss=squared_error, max_depth=6, max_features=sqrt, min_samples_leaf=1, min_samples_split=8, n_estimators=70;, score=-0.336 total time=   0.1s\n",
      "[CV 3/5] END criterion=squared_error, learning_rate=0.1, loss=squared_error, max_depth=6, max_features=sqrt, min_samples_leaf=1, min_samples_split=8, n_estimators=70;, score=-0.383 total time=   0.1s\n",
      "[CV 4/5] END criterion=squared_error, learning_rate=0.1, loss=squared_error, max_depth=6, max_features=sqrt, min_samples_leaf=1, min_samples_split=8, n_estimators=70;, score=-0.342 total time=   0.1s\n",
      "[CV 5/5] END criterion=squared_error, learning_rate=0.1, loss=squared_error, max_depth=6, max_features=sqrt, min_samples_leaf=1, min_samples_split=8, n_estimators=70;, score=-0.369 total time=   0.1s\n",
      "[CV 1/5] END criterion=friedman_mse, learning_rate=0.01, loss=absolute_error, max_depth=4, max_features=log2, min_samples_leaf=3, min_samples_split=4, n_estimators=120;, score=-0.390 total time=   0.6s\n",
      "[CV 2/5] END criterion=friedman_mse, learning_rate=0.01, loss=absolute_error, max_depth=4, max_features=log2, min_samples_leaf=3, min_samples_split=4, n_estimators=120;, score=-0.280 total time=   0.6s\n",
      "[CV 3/5] END criterion=friedman_mse, learning_rate=0.01, loss=absolute_error, max_depth=4, max_features=log2, min_samples_leaf=3, min_samples_split=4, n_estimators=120;, score=-0.328 total time=   0.6s\n",
      "[CV 4/5] END criterion=friedman_mse, learning_rate=0.01, loss=absolute_error, max_depth=4, max_features=log2, min_samples_leaf=3, min_samples_split=4, n_estimators=120;, score=-0.425 total time=   0.6s\n",
      "[CV 5/5] END criterion=friedman_mse, learning_rate=0.01, loss=absolute_error, max_depth=4, max_features=log2, min_samples_leaf=3, min_samples_split=4, n_estimators=120;, score=-0.388 total time=   0.6s\n",
      "[CV 1/5] END criterion=friedman_mse, learning_rate=0.01, loss=squared_error, max_depth=4, max_features=log2, min_samples_leaf=1, min_samples_split=8, n_estimators=20;, score=-0.816 total time=   0.0s\n",
      "[CV 2/5] END criterion=friedman_mse, learning_rate=0.01, loss=squared_error, max_depth=4, max_features=log2, min_samples_leaf=1, min_samples_split=8, n_estimators=20;, score=-0.582 total time=   0.0s\n",
      "[CV 3/5] END criterion=friedman_mse, learning_rate=0.01, loss=squared_error, max_depth=4, max_features=log2, min_samples_leaf=1, min_samples_split=8, n_estimators=20;, score=-0.637 total time=   0.0s\n",
      "[CV 4/5] END criterion=friedman_mse, learning_rate=0.01, loss=squared_error, max_depth=4, max_features=log2, min_samples_leaf=1, min_samples_split=8, n_estimators=20;, score=-0.921 total time=   0.0s\n",
      "[CV 5/5] END criterion=friedman_mse, learning_rate=0.01, loss=squared_error, max_depth=4, max_features=log2, min_samples_leaf=1, min_samples_split=8, n_estimators=20;, score=-0.831 total time=   0.0s\n",
      "[CV 1/5] END criterion=squared_error, learning_rate=0.1, loss=absolute_error, max_depth=6, max_features=sqrt, min_samples_leaf=1, min_samples_split=6, n_estimators=20;, score=-0.307 total time=   0.2s\n",
      "[CV 2/5] END criterion=squared_error, learning_rate=0.1, loss=absolute_error, max_depth=6, max_features=sqrt, min_samples_leaf=1, min_samples_split=6, n_estimators=20;, score=-0.276 total time=   0.2s\n",
      "[CV 3/5] END criterion=squared_error, learning_rate=0.1, loss=absolute_error, max_depth=6, max_features=sqrt, min_samples_leaf=1, min_samples_split=6, n_estimators=20;, score=-0.311 total time=   0.2s\n",
      "[CV 4/5] END criterion=squared_error, learning_rate=0.1, loss=absolute_error, max_depth=6, max_features=sqrt, min_samples_leaf=1, min_samples_split=6, n_estimators=20;, score=-0.356 total time=   0.2s\n",
      "[CV 5/5] END criterion=squared_error, learning_rate=0.1, loss=absolute_error, max_depth=6, max_features=sqrt, min_samples_leaf=1, min_samples_split=6, n_estimators=20;, score=-0.344 total time=   0.2s\n",
      "[CV 1/5] END criterion=friedman_mse, learning_rate=0.1, loss=squared_error, max_depth=8, max_features=sqrt, min_samples_leaf=1, min_samples_split=6, n_estimators=200;, score=-0.412 total time=   0.2s\n",
      "[CV 2/5] END criterion=friedman_mse, learning_rate=0.1, loss=squared_error, max_depth=8, max_features=sqrt, min_samples_leaf=1, min_samples_split=6, n_estimators=200;, score=-0.455 total time=   0.2s\n",
      "[CV 3/5] END criterion=friedman_mse, learning_rate=0.1, loss=squared_error, max_depth=8, max_features=sqrt, min_samples_leaf=1, min_samples_split=6, n_estimators=200;, score=-0.523 total time=   0.2s\n",
      "[CV 4/5] END criterion=friedman_mse, learning_rate=0.1, loss=squared_error, max_depth=8, max_features=sqrt, min_samples_leaf=1, min_samples_split=6, n_estimators=200;, score=-0.425 total time=   0.2s\n",
      "[CV 5/5] END criterion=friedman_mse, learning_rate=0.1, loss=squared_error, max_depth=8, max_features=sqrt, min_samples_leaf=1, min_samples_split=6, n_estimators=200;, score=-0.507 total time=   0.2s\n",
      "[CV 1/5] END criterion=squared_error, learning_rate=1, loss=squared_error, max_depth=4, max_features=log2, min_samples_leaf=1, min_samples_split=8, n_estimators=100;, score=-0.506 total time=   0.1s\n",
      "[CV 2/5] END criterion=squared_error, learning_rate=1, loss=squared_error, max_depth=4, max_features=log2, min_samples_leaf=1, min_samples_split=8, n_estimators=100;, score=-0.574 total time=   0.1s\n",
      "[CV 3/5] END criterion=squared_error, learning_rate=1, loss=squared_error, max_depth=4, max_features=log2, min_samples_leaf=1, min_samples_split=8, n_estimators=100;, score=-0.649 total time=   0.1s\n",
      "[CV 4/5] END criterion=squared_error, learning_rate=1, loss=squared_error, max_depth=4, max_features=log2, min_samples_leaf=1, min_samples_split=8, n_estimators=100;, score=-0.520 total time=   0.1s\n",
      "[CV 5/5] END criterion=squared_error, learning_rate=1, loss=squared_error, max_depth=4, max_features=log2, min_samples_leaf=1, min_samples_split=8, n_estimators=100;, score=-0.632 total time=   0.1s\n",
      "[CV 1/5] END criterion=squared_error, learning_rate=0.1, loss=squared_error, max_depth=4, max_features=log2, min_samples_leaf=4, min_samples_split=4, n_estimators=100;, score=-0.294 total time=   0.1s\n",
      "[CV 2/5] END criterion=squared_error, learning_rate=0.1, loss=squared_error, max_depth=4, max_features=log2, min_samples_leaf=4, min_samples_split=4, n_estimators=100;, score=-0.296 total time=   0.1s\n",
      "[CV 3/5] END criterion=squared_error, learning_rate=0.1, loss=squared_error, max_depth=4, max_features=log2, min_samples_leaf=4, min_samples_split=4, n_estimators=100;, score=-0.304 total time=   0.1s\n",
      "[CV 4/5] END criterion=squared_error, learning_rate=0.1, loss=squared_error, max_depth=4, max_features=log2, min_samples_leaf=4, min_samples_split=4, n_estimators=100;, score=-0.319 total time=   0.1s\n",
      "[CV 5/5] END criterion=squared_error, learning_rate=0.1, loss=squared_error, max_depth=4, max_features=log2, min_samples_leaf=4, min_samples_split=4, n_estimators=100;, score=-0.322 total time=   0.1s\n",
      "[CV 1/5] END criterion=squared_error, learning_rate=0.1, loss=squared_error, max_depth=2, max_features=sqrt, min_samples_leaf=1, min_samples_split=2, n_estimators=20;, score=-0.301 total time=   0.0s\n",
      "[CV 2/5] END criterion=squared_error, learning_rate=0.1, loss=squared_error, max_depth=2, max_features=sqrt, min_samples_leaf=1, min_samples_split=2, n_estimators=20;, score=-0.249 total time=   0.0s\n",
      "[CV 3/5] END criterion=squared_error, learning_rate=0.1, loss=squared_error, max_depth=2, max_features=sqrt, min_samples_leaf=1, min_samples_split=2, n_estimators=20;, score=-0.282 total time=   0.0s\n",
      "[CV 4/5] END criterion=squared_error, learning_rate=0.1, loss=squared_error, max_depth=2, max_features=sqrt, min_samples_leaf=1, min_samples_split=2, n_estimators=20;, score=-0.319 total time=   0.0s\n",
      "[CV 5/5] END criterion=squared_error, learning_rate=0.1, loss=squared_error, max_depth=2, max_features=sqrt, min_samples_leaf=1, min_samples_split=2, n_estimators=20;, score=-0.308 total time=   0.0s\n",
      "[CV 1/5] END criterion=friedman_mse, learning_rate=0.01, loss=squared_error, max_depth=1, max_features=sqrt, min_samples_leaf=3, min_samples_split=2, n_estimators=20;, score=-0.918 total time=   0.0s\n",
      "[CV 2/5] END criterion=friedman_mse, learning_rate=0.01, loss=squared_error, max_depth=1, max_features=sqrt, min_samples_leaf=3, min_samples_split=2, n_estimators=20;, score=-0.661 total time=   0.0s\n",
      "[CV 3/5] END criterion=friedman_mse, learning_rate=0.01, loss=squared_error, max_depth=1, max_features=sqrt, min_samples_leaf=3, min_samples_split=2, n_estimators=20;, score=-0.696 total time=   0.0s\n",
      "[CV 4/5] END criterion=friedman_mse, learning_rate=0.01, loss=squared_error, max_depth=1, max_features=sqrt, min_samples_leaf=3, min_samples_split=2, n_estimators=20;, score=-1.029 total time=   0.0s\n",
      "[CV 5/5] END criterion=friedman_mse, learning_rate=0.01, loss=squared_error, max_depth=1, max_features=sqrt, min_samples_leaf=3, min_samples_split=2, n_estimators=20;, score=-0.949 total time=   0.0s\n",
      "[CV 1/5] END criterion=friedman_mse, learning_rate=0.01, loss=squared_error, max_depth=2, max_features=log2, min_samples_leaf=1, min_samples_split=8, n_estimators=120;, score=-0.389 total time=   0.1s\n",
      "[CV 2/5] END criterion=friedman_mse, learning_rate=0.01, loss=squared_error, max_depth=2, max_features=log2, min_samples_leaf=1, min_samples_split=8, n_estimators=120;, score=-0.281 total time=   0.1s\n",
      "[CV 3/5] END criterion=friedman_mse, learning_rate=0.01, loss=squared_error, max_depth=2, max_features=log2, min_samples_leaf=1, min_samples_split=8, n_estimators=120;, score=-0.324 total time=   0.1s\n",
      "[CV 4/5] END criterion=friedman_mse, learning_rate=0.01, loss=squared_error, max_depth=2, max_features=log2, min_samples_leaf=1, min_samples_split=8, n_estimators=120;, score=-0.426 total time=   0.1s\n",
      "[CV 5/5] END criterion=friedman_mse, learning_rate=0.01, loss=squared_error, max_depth=2, max_features=log2, min_samples_leaf=1, min_samples_split=8, n_estimators=120;, score=-0.391 total time=   0.1s\n",
      "[CV 1/5] END criterion=squared_error, learning_rate=0.01, loss=squared_error, max_depth=2, max_features=log2, min_samples_leaf=1, min_samples_split=4, n_estimators=80;, score=-0.488 total time=   0.1s\n",
      "[CV 2/5] END criterion=squared_error, learning_rate=0.01, loss=squared_error, max_depth=2, max_features=log2, min_samples_leaf=1, min_samples_split=4, n_estimators=80;, score=-0.340 total time=   0.1s\n",
      "[CV 3/5] END criterion=squared_error, learning_rate=0.01, loss=squared_error, max_depth=2, max_features=log2, min_samples_leaf=1, min_samples_split=4, n_estimators=80;, score=-0.389 total time=   0.1s\n",
      "[CV 4/5] END criterion=squared_error, learning_rate=0.01, loss=squared_error, max_depth=2, max_features=log2, min_samples_leaf=1, min_samples_split=4, n_estimators=80;, score=-0.551 total time=   0.1s\n",
      "[CV 5/5] END criterion=squared_error, learning_rate=0.01, loss=squared_error, max_depth=2, max_features=log2, min_samples_leaf=1, min_samples_split=4, n_estimators=80;, score=-0.492 total time=   0.1s\n",
      "[CV 1/5] END criterion=friedman_mse, learning_rate=1, loss=absolute_error, max_depth=4, max_features=log2, min_samples_leaf=1, min_samples_split=2, n_estimators=120;, score=-0.400 total time=   0.3s\n",
      "[CV 2/5] END criterion=friedman_mse, learning_rate=1, loss=absolute_error, max_depth=4, max_features=log2, min_samples_leaf=1, min_samples_split=2, n_estimators=120;, score=-0.425 total time=   0.3s\n",
      "[CV 3/5] END criterion=friedman_mse, learning_rate=1, loss=absolute_error, max_depth=4, max_features=log2, min_samples_leaf=1, min_samples_split=2, n_estimators=120;, score=-0.493 total time=   0.3s\n",
      "[CV 4/5] END criterion=friedman_mse, learning_rate=1, loss=absolute_error, max_depth=4, max_features=log2, min_samples_leaf=1, min_samples_split=2, n_estimators=120;, score=-0.444 total time=   0.3s\n",
      "[CV 5/5] END criterion=friedman_mse, learning_rate=1, loss=absolute_error, max_depth=4, max_features=log2, min_samples_leaf=1, min_samples_split=2, n_estimators=120;, score=-0.473 total time=   0.4s\n",
      "[CV 1/5] END criterion=squared_error, learning_rate=0.01, loss=squared_error, max_depth=6, max_features=sqrt, min_samples_leaf=4, min_samples_split=10, n_estimators=50;, score=-0.568 total time=   0.0s\n",
      "[CV 2/5] END criterion=squared_error, learning_rate=0.01, loss=squared_error, max_depth=6, max_features=sqrt, min_samples_leaf=4, min_samples_split=10, n_estimators=50;, score=-0.412 total time=   0.1s\n",
      "[CV 3/5] END criterion=squared_error, learning_rate=0.01, loss=squared_error, max_depth=6, max_features=sqrt, min_samples_leaf=4, min_samples_split=10, n_estimators=50;, score=-0.458 total time=   0.0s\n",
      "[CV 4/5] END criterion=squared_error, learning_rate=0.01, loss=squared_error, max_depth=6, max_features=sqrt, min_samples_leaf=4, min_samples_split=10, n_estimators=50;, score=-0.661 total time=   0.0s\n",
      "[CV 5/5] END criterion=squared_error, learning_rate=0.01, loss=squared_error, max_depth=6, max_features=sqrt, min_samples_leaf=4, min_samples_split=10, n_estimators=50;, score=-0.576 total time=   0.0s\n",
      "[CV 1/5] END criterion=squared_error, learning_rate=0.01, loss=absolute_error, max_depth=2, max_features=log2, min_samples_leaf=1, min_samples_split=2, n_estimators=40;, score=-0.719 total time=   0.1s\n",
      "[CV 2/5] END criterion=squared_error, learning_rate=0.01, loss=absolute_error, max_depth=2, max_features=log2, min_samples_leaf=1, min_samples_split=2, n_estimators=40;, score=-0.517 total time=   0.1s\n",
      "[CV 3/5] END criterion=squared_error, learning_rate=0.01, loss=absolute_error, max_depth=2, max_features=log2, min_samples_leaf=1, min_samples_split=2, n_estimators=40;, score=-0.558 total time=   0.1s\n",
      "[CV 4/5] END criterion=squared_error, learning_rate=0.01, loss=absolute_error, max_depth=2, max_features=log2, min_samples_leaf=1, min_samples_split=2, n_estimators=40;, score=-0.831 total time=   0.1s\n",
      "[CV 5/5] END criterion=squared_error, learning_rate=0.01, loss=absolute_error, max_depth=2, max_features=log2, min_samples_leaf=1, min_samples_split=2, n_estimators=40;, score=-0.786 total time=   0.1s\n",
      "[CV 1/5] END criterion=friedman_mse, learning_rate=0.01, loss=absolute_error, max_depth=6, max_features=log2, min_samples_leaf=1, min_samples_split=2, n_estimators=70;, score=-0.538 total time=   0.7s\n",
      "[CV 2/5] END criterion=friedman_mse, learning_rate=0.01, loss=absolute_error, max_depth=6, max_features=log2, min_samples_leaf=1, min_samples_split=2, n_estimators=70;, score=-0.349 total time=   0.7s\n",
      "[CV 3/5] END criterion=friedman_mse, learning_rate=0.01, loss=absolute_error, max_depth=6, max_features=log2, min_samples_leaf=1, min_samples_split=2, n_estimators=70;, score=-0.431 total time=   0.7s\n",
      "[CV 4/5] END criterion=friedman_mse, learning_rate=0.01, loss=absolute_error, max_depth=6, max_features=log2, min_samples_leaf=1, min_samples_split=2, n_estimators=70;, score=-0.585 total time=   0.7s\n",
      "[CV 5/5] END criterion=friedman_mse, learning_rate=0.01, loss=absolute_error, max_depth=6, max_features=log2, min_samples_leaf=1, min_samples_split=2, n_estimators=70;, score=-0.528 total time=   0.7s\n",
      "[CV 1/5] END criterion=squared_error, learning_rate=0.1, loss=absolute_error, max_depth=6, max_features=log2, min_samples_leaf=3, min_samples_split=2, n_estimators=20;, score=-0.311 total time=   0.2s\n",
      "[CV 2/5] END criterion=squared_error, learning_rate=0.1, loss=absolute_error, max_depth=6, max_features=log2, min_samples_leaf=3, min_samples_split=2, n_estimators=20;, score=-0.265 total time=   0.2s\n",
      "[CV 3/5] END criterion=squared_error, learning_rate=0.1, loss=absolute_error, max_depth=6, max_features=log2, min_samples_leaf=3, min_samples_split=2, n_estimators=20;, score=-0.296 total time=   0.2s\n",
      "[CV 4/5] END criterion=squared_error, learning_rate=0.1, loss=absolute_error, max_depth=6, max_features=log2, min_samples_leaf=3, min_samples_split=2, n_estimators=20;, score=-0.353 total time=   0.2s\n",
      "[CV 5/5] END criterion=squared_error, learning_rate=0.1, loss=absolute_error, max_depth=6, max_features=log2, min_samples_leaf=3, min_samples_split=2, n_estimators=20;, score=-0.331 total time=   0.2s\n",
      "[CV 1/5] END criterion=friedman_mse, learning_rate=1, loss=absolute_error, max_depth=1, max_features=sqrt, min_samples_leaf=3, min_samples_split=8, n_estimators=200;, score=-0.288 total time=   0.3s\n",
      "[CV 2/5] END criterion=friedman_mse, learning_rate=1, loss=absolute_error, max_depth=1, max_features=sqrt, min_samples_leaf=3, min_samples_split=8, n_estimators=200;, score=-0.269 total time=   0.3s\n",
      "[CV 3/5] END criterion=friedman_mse, learning_rate=1, loss=absolute_error, max_depth=1, max_features=sqrt, min_samples_leaf=3, min_samples_split=8, n_estimators=200;, score=-0.303 total time=   0.3s\n",
      "[CV 4/5] END criterion=friedman_mse, learning_rate=1, loss=absolute_error, max_depth=1, max_features=sqrt, min_samples_leaf=3, min_samples_split=8, n_estimators=200;, score=-0.301 total time=   0.3s\n",
      "[CV 5/5] END criterion=friedman_mse, learning_rate=1, loss=absolute_error, max_depth=1, max_features=sqrt, min_samples_leaf=3, min_samples_split=8, n_estimators=200;, score=-0.309 total time=   0.3s\n",
      "[CV 1/5] END criterion=squared_error, learning_rate=0.1, loss=absolute_error, max_depth=6, max_features=sqrt, min_samples_leaf=1, min_samples_split=4, n_estimators=40;, score=-0.296 total time=   0.3s\n",
      "[CV 2/5] END criterion=squared_error, learning_rate=0.1, loss=absolute_error, max_depth=6, max_features=sqrt, min_samples_leaf=1, min_samples_split=4, n_estimators=40;, score=-0.278 total time=   0.3s\n",
      "[CV 3/5] END criterion=squared_error, learning_rate=0.1, loss=absolute_error, max_depth=6, max_features=sqrt, min_samples_leaf=1, min_samples_split=4, n_estimators=40;, score=-0.316 total time=   0.3s\n",
      "[CV 4/5] END criterion=squared_error, learning_rate=0.1, loss=absolute_error, max_depth=6, max_features=sqrt, min_samples_leaf=1, min_samples_split=4, n_estimators=40;, score=-0.331 total time=   0.3s\n",
      "[CV 5/5] END criterion=squared_error, learning_rate=0.1, loss=absolute_error, max_depth=6, max_features=sqrt, min_samples_leaf=1, min_samples_split=4, n_estimators=40;, score=-0.340 total time=   0.3s\n",
      "[CV 1/5] END criterion=squared_error, learning_rate=0.1, loss=squared_error, max_depth=8, max_features=log2, min_samples_leaf=3, min_samples_split=6, n_estimators=40;, score=-0.340 total time=   0.0s\n",
      "[CV 2/5] END criterion=squared_error, learning_rate=0.1, loss=squared_error, max_depth=8, max_features=log2, min_samples_leaf=3, min_samples_split=6, n_estimators=40;, score=-0.355 total time=   0.0s\n",
      "[CV 3/5] END criterion=squared_error, learning_rate=0.1, loss=squared_error, max_depth=8, max_features=log2, min_samples_leaf=3, min_samples_split=6, n_estimators=40;, score=-0.359 total time=   0.0s\n",
      "[CV 4/5] END criterion=squared_error, learning_rate=0.1, loss=squared_error, max_depth=8, max_features=log2, min_samples_leaf=3, min_samples_split=6, n_estimators=40;, score=-0.364 total time=   0.0s\n",
      "[CV 5/5] END criterion=squared_error, learning_rate=0.1, loss=squared_error, max_depth=8, max_features=log2, min_samples_leaf=3, min_samples_split=6, n_estimators=40;, score=-0.373 total time=   0.0s\n",
      "[CV 1/5] END criterion=friedman_mse, learning_rate=1, loss=squared_error, max_depth=2, max_features=sqrt, min_samples_leaf=1, min_samples_split=4, n_estimators=120;, score=-0.453 total time=   0.1s\n",
      "[CV 2/5] END criterion=friedman_mse, learning_rate=1, loss=squared_error, max_depth=2, max_features=sqrt, min_samples_leaf=1, min_samples_split=4, n_estimators=120;, score=-0.494 total time=   0.1s\n",
      "[CV 3/5] END criterion=friedman_mse, learning_rate=1, loss=squared_error, max_depth=2, max_features=sqrt, min_samples_leaf=1, min_samples_split=4, n_estimators=120;, score=-0.596 total time=   0.1s\n",
      "[CV 4/5] END criterion=friedman_mse, learning_rate=1, loss=squared_error, max_depth=2, max_features=sqrt, min_samples_leaf=1, min_samples_split=4, n_estimators=120;, score=-0.472 total time=   0.1s\n",
      "[CV 5/5] END criterion=friedman_mse, learning_rate=1, loss=squared_error, max_depth=2, max_features=sqrt, min_samples_leaf=1, min_samples_split=4, n_estimators=120;, score=-0.549 total time=   0.1s\n",
      "[CV 1/5] END criterion=squared_error, learning_rate=1, loss=absolute_error, max_depth=4, max_features=sqrt, min_samples_leaf=4, min_samples_split=6, n_estimators=40;, score=-0.341 total time=   0.2s\n",
      "[CV 2/5] END criterion=squared_error, learning_rate=1, loss=absolute_error, max_depth=4, max_features=sqrt, min_samples_leaf=4, min_samples_split=6, n_estimators=40;, score=-0.353 total time=   0.2s\n",
      "[CV 3/5] END criterion=squared_error, learning_rate=1, loss=absolute_error, max_depth=4, max_features=sqrt, min_samples_leaf=4, min_samples_split=6, n_estimators=40;, score=-0.373 total time=   0.2s\n",
      "[CV 4/5] END criterion=squared_error, learning_rate=1, loss=absolute_error, max_depth=4, max_features=sqrt, min_samples_leaf=4, min_samples_split=6, n_estimators=40;, score=-0.397 total time=   0.2s\n",
      "[CV 5/5] END criterion=squared_error, learning_rate=1, loss=absolute_error, max_depth=4, max_features=sqrt, min_samples_leaf=4, min_samples_split=6, n_estimators=40;, score=-0.400 total time=   0.2s\n",
      "[CV 1/5] END criterion=squared_error, learning_rate=0.1, loss=squared_error, max_depth=6, max_features=sqrt, min_samples_leaf=3, min_samples_split=4, n_estimators=40;, score=-0.314 total time=   0.0s\n",
      "[CV 2/5] END criterion=squared_error, learning_rate=0.1, loss=squared_error, max_depth=6, max_features=sqrt, min_samples_leaf=3, min_samples_split=4, n_estimators=40;, score=-0.318 total time=   0.0s\n",
      "[CV 3/5] END criterion=squared_error, learning_rate=0.1, loss=squared_error, max_depth=6, max_features=sqrt, min_samples_leaf=3, min_samples_split=4, n_estimators=40;, score=-0.334 total time=   0.0s\n",
      "[CV 4/5] END criterion=squared_error, learning_rate=0.1, loss=squared_error, max_depth=6, max_features=sqrt, min_samples_leaf=3, min_samples_split=4, n_estimators=40;, score=-0.339 total time=   0.0s\n",
      "[CV 5/5] END criterion=squared_error, learning_rate=0.1, loss=squared_error, max_depth=6, max_features=sqrt, min_samples_leaf=3, min_samples_split=4, n_estimators=40;, score=-0.343 total time=   0.0s\n",
      "[CV 1/5] END criterion=friedman_mse, learning_rate=0.01, loss=absolute_error, max_depth=2, max_features=log2, min_samples_leaf=4, min_samples_split=4, n_estimators=150;, score=-0.386 total time=   0.3s\n",
      "[CV 2/5] END criterion=friedman_mse, learning_rate=0.01, loss=absolute_error, max_depth=2, max_features=log2, min_samples_leaf=4, min_samples_split=4, n_estimators=150;, score=-0.270 total time=   0.3s\n",
      "[CV 3/5] END criterion=friedman_mse, learning_rate=0.01, loss=absolute_error, max_depth=2, max_features=log2, min_samples_leaf=4, min_samples_split=4, n_estimators=150;, score=-0.318 total time=   0.3s\n",
      "[CV 4/5] END criterion=friedman_mse, learning_rate=0.01, loss=absolute_error, max_depth=2, max_features=log2, min_samples_leaf=4, min_samples_split=4, n_estimators=150;, score=-0.418 total time=   0.3s\n",
      "[CV 5/5] END criterion=friedman_mse, learning_rate=0.01, loss=absolute_error, max_depth=2, max_features=log2, min_samples_leaf=4, min_samples_split=4, n_estimators=150;, score=-0.388 total time=   0.3s\n",
      "[CV 1/5] END criterion=squared_error, learning_rate=1, loss=absolute_error, max_depth=6, max_features=sqrt, min_samples_leaf=3, min_samples_split=8, n_estimators=200;, score=-0.432 total time=   1.4s\n",
      "[CV 2/5] END criterion=squared_error, learning_rate=1, loss=absolute_error, max_depth=6, max_features=sqrt, min_samples_leaf=3, min_samples_split=8, n_estimators=200;, score=-0.494 total time=   1.2s\n",
      "[CV 3/5] END criterion=squared_error, learning_rate=1, loss=absolute_error, max_depth=6, max_features=sqrt, min_samples_leaf=3, min_samples_split=8, n_estimators=200;, score=-0.428 total time=   1.3s\n",
      "[CV 4/5] END criterion=squared_error, learning_rate=1, loss=absolute_error, max_depth=6, max_features=sqrt, min_samples_leaf=3, min_samples_split=8, n_estimators=200;, score=-0.428 total time=   1.1s\n",
      "[CV 5/5] END criterion=squared_error, learning_rate=1, loss=absolute_error, max_depth=6, max_features=sqrt, min_samples_leaf=3, min_samples_split=8, n_estimators=200;, score=-0.489 total time=   1.2s\n",
      "[CV 1/5] END criterion=squared_error, learning_rate=1, loss=squared_error, max_depth=2, max_features=log2, min_samples_leaf=1, min_samples_split=4, n_estimators=70;, score=-0.387 total time=   0.1s\n",
      "[CV 2/5] END criterion=squared_error, learning_rate=1, loss=squared_error, max_depth=2, max_features=log2, min_samples_leaf=1, min_samples_split=4, n_estimators=70;, score=-0.444 total time=   0.0s\n",
      "[CV 3/5] END criterion=squared_error, learning_rate=1, loss=squared_error, max_depth=2, max_features=log2, min_samples_leaf=1, min_samples_split=4, n_estimators=70;, score=-0.467 total time=   0.0s\n",
      "[CV 4/5] END criterion=squared_error, learning_rate=1, loss=squared_error, max_depth=2, max_features=log2, min_samples_leaf=1, min_samples_split=4, n_estimators=70;, score=-0.403 total time=   0.0s\n",
      "[CV 5/5] END criterion=squared_error, learning_rate=1, loss=squared_error, max_depth=2, max_features=log2, min_samples_leaf=1, min_samples_split=4, n_estimators=70;, score=-0.512 total time=   0.0s\n",
      "[CV 1/5] END criterion=friedman_mse, learning_rate=0.1, loss=squared_error, max_depth=8, max_features=log2, min_samples_leaf=4, min_samples_split=2, n_estimators=20;, score=-0.325 total time=   0.0s\n",
      "[CV 2/5] END criterion=friedman_mse, learning_rate=0.1, loss=squared_error, max_depth=8, max_features=log2, min_samples_leaf=4, min_samples_split=2, n_estimators=20;, score=-0.300 total time=   0.0s\n",
      "[CV 3/5] END criterion=friedman_mse, learning_rate=0.1, loss=squared_error, max_depth=8, max_features=log2, min_samples_leaf=4, min_samples_split=2, n_estimators=20;, score=-0.318 total time=   0.0s\n",
      "[CV 4/5] END criterion=friedman_mse, learning_rate=0.1, loss=squared_error, max_depth=8, max_features=log2, min_samples_leaf=4, min_samples_split=2, n_estimators=20;, score=-0.359 total time=   0.0s\n",
      "[CV 5/5] END criterion=friedman_mse, learning_rate=0.1, loss=squared_error, max_depth=8, max_features=log2, min_samples_leaf=4, min_samples_split=2, n_estimators=20;, score=-0.338 total time=   0.0s\n",
      "[CV 1/5] END criterion=squared_error, learning_rate=0.1, loss=squared_error, max_depth=4, max_features=log2, min_samples_leaf=3, min_samples_split=2, n_estimators=50;, score=-0.282 total time=   0.0s\n",
      "[CV 2/5] END criterion=squared_error, learning_rate=0.1, loss=squared_error, max_depth=4, max_features=log2, min_samples_leaf=3, min_samples_split=2, n_estimators=50;, score=-0.284 total time=   0.0s\n",
      "[CV 3/5] END criterion=squared_error, learning_rate=0.1, loss=squared_error, max_depth=4, max_features=log2, min_samples_leaf=3, min_samples_split=2, n_estimators=50;, score=-0.300 total time=   0.0s\n",
      "[CV 4/5] END criterion=squared_error, learning_rate=0.1, loss=squared_error, max_depth=4, max_features=log2, min_samples_leaf=3, min_samples_split=2, n_estimators=50;, score=-0.308 total time=   0.0s\n",
      "[CV 5/5] END criterion=squared_error, learning_rate=0.1, loss=squared_error, max_depth=4, max_features=log2, min_samples_leaf=3, min_samples_split=2, n_estimators=50;, score=-0.312 total time=   0.0s\n",
      "[CV 1/5] END criterion=friedman_mse, learning_rate=0.01, loss=squared_error, max_depth=4, max_features=sqrt, min_samples_leaf=1, min_samples_split=10, n_estimators=100;, score=-0.388 total time=   0.1s\n",
      "[CV 2/5] END criterion=friedman_mse, learning_rate=0.01, loss=squared_error, max_depth=4, max_features=sqrt, min_samples_leaf=1, min_samples_split=10, n_estimators=100;, score=-0.289 total time=   0.1s\n",
      "[CV 3/5] END criterion=friedman_mse, learning_rate=0.01, loss=squared_error, max_depth=4, max_features=sqrt, min_samples_leaf=1, min_samples_split=10, n_estimators=100;, score=-0.336 total time=   0.1s\n",
      "[CV 4/5] END criterion=friedman_mse, learning_rate=0.01, loss=squared_error, max_depth=4, max_features=sqrt, min_samples_leaf=1, min_samples_split=10, n_estimators=100;, score=-0.445 total time=   0.1s\n",
      "[CV 5/5] END criterion=friedman_mse, learning_rate=0.01, loss=squared_error, max_depth=4, max_features=sqrt, min_samples_leaf=1, min_samples_split=10, n_estimators=100;, score=-0.398 total time=   0.1s\n",
      "[CV 1/5] END criterion=squared_error, learning_rate=1, loss=squared_error, max_depth=2, max_features=sqrt, min_samples_leaf=1, min_samples_split=10, n_estimators=150;, score=-0.487 total time=   0.1s\n",
      "[CV 2/5] END criterion=squared_error, learning_rate=1, loss=squared_error, max_depth=2, max_features=sqrt, min_samples_leaf=1, min_samples_split=10, n_estimators=150;, score=-0.507 total time=   0.1s\n",
      "[CV 3/5] END criterion=squared_error, learning_rate=1, loss=squared_error, max_depth=2, max_features=sqrt, min_samples_leaf=1, min_samples_split=10, n_estimators=150;, score=-0.587 total time=   0.1s\n",
      "[CV 4/5] END criterion=squared_error, learning_rate=1, loss=squared_error, max_depth=2, max_features=sqrt, min_samples_leaf=1, min_samples_split=10, n_estimators=150;, score=-0.454 total time=   0.1s\n",
      "[CV 5/5] END criterion=squared_error, learning_rate=1, loss=squared_error, max_depth=2, max_features=sqrt, min_samples_leaf=1, min_samples_split=10, n_estimators=150;, score=-0.559 total time=   0.1s\n",
      "[CV 1/5] END criterion=squared_error, learning_rate=0.1, loss=squared_error, max_depth=8, max_features=sqrt, min_samples_leaf=3, min_samples_split=4, n_estimators=80;, score=-0.347 total time=   0.1s\n",
      "[CV 2/5] END criterion=squared_error, learning_rate=0.1, loss=squared_error, max_depth=8, max_features=sqrt, min_samples_leaf=3, min_samples_split=4, n_estimators=80;, score=-0.376 total time=   0.1s\n",
      "[CV 3/5] END criterion=squared_error, learning_rate=0.1, loss=squared_error, max_depth=8, max_features=sqrt, min_samples_leaf=3, min_samples_split=4, n_estimators=80;, score=-0.368 total time=   0.1s\n",
      "[CV 4/5] END criterion=squared_error, learning_rate=0.1, loss=squared_error, max_depth=8, max_features=sqrt, min_samples_leaf=3, min_samples_split=4, n_estimators=80;, score=-0.375 total time=   0.1s\n",
      "[CV 5/5] END criterion=squared_error, learning_rate=0.1, loss=squared_error, max_depth=8, max_features=sqrt, min_samples_leaf=3, min_samples_split=4, n_estimators=80;, score=-0.397 total time=   0.1s\n",
      "[CV 1/5] END criterion=friedman_mse, learning_rate=1, loss=absolute_error, max_depth=1, max_features=sqrt, min_samples_leaf=3, min_samples_split=6, n_estimators=120;, score=-0.288 total time=   0.2s\n",
      "[CV 2/5] END criterion=friedman_mse, learning_rate=1, loss=absolute_error, max_depth=1, max_features=sqrt, min_samples_leaf=3, min_samples_split=6, n_estimators=120;, score=-0.269 total time=   0.2s\n",
      "[CV 3/5] END criterion=friedman_mse, learning_rate=1, loss=absolute_error, max_depth=1, max_features=sqrt, min_samples_leaf=3, min_samples_split=6, n_estimators=120;, score=-0.303 total time=   0.2s\n",
      "[CV 4/5] END criterion=friedman_mse, learning_rate=1, loss=absolute_error, max_depth=1, max_features=sqrt, min_samples_leaf=3, min_samples_split=6, n_estimators=120;, score=-0.301 total time=   0.2s\n",
      "[CV 5/5] END criterion=friedman_mse, learning_rate=1, loss=absolute_error, max_depth=1, max_features=sqrt, min_samples_leaf=3, min_samples_split=6, n_estimators=120;, score=-0.309 total time=   0.2s\n",
      "[CV 1/5] END criterion=squared_error, learning_rate=1, loss=absolute_error, max_depth=6, max_features=sqrt, min_samples_leaf=4, min_samples_split=4, n_estimators=70;, score=-0.406 total time=   0.6s\n",
      "[CV 2/5] END criterion=squared_error, learning_rate=1, loss=absolute_error, max_depth=6, max_features=sqrt, min_samples_leaf=4, min_samples_split=4, n_estimators=70;, score=-0.459 total time=   0.5s\n",
      "[CV 3/5] END criterion=squared_error, learning_rate=1, loss=absolute_error, max_depth=6, max_features=sqrt, min_samples_leaf=4, min_samples_split=4, n_estimators=70;, score=-0.425 total time=   0.5s\n",
      "[CV 4/5] END criterion=squared_error, learning_rate=1, loss=absolute_error, max_depth=6, max_features=sqrt, min_samples_leaf=4, min_samples_split=4, n_estimators=70;, score=-0.421 total time=   0.5s\n",
      "[CV 5/5] END criterion=squared_error, learning_rate=1, loss=absolute_error, max_depth=6, max_features=sqrt, min_samples_leaf=4, min_samples_split=4, n_estimators=70;, score=-0.460 total time=   0.5s\n",
      "[CV 1/5] END criterion=squared_error, learning_rate=0.01, loss=squared_error, max_depth=4, max_features=sqrt, min_samples_leaf=4, min_samples_split=10, n_estimators=70;, score=-0.475 total time=   0.1s\n",
      "[CV 2/5] END criterion=squared_error, learning_rate=0.01, loss=squared_error, max_depth=4, max_features=sqrt, min_samples_leaf=4, min_samples_split=10, n_estimators=70;, score=-0.343 total time=   0.1s\n",
      "[CV 3/5] END criterion=squared_error, learning_rate=0.01, loss=squared_error, max_depth=4, max_features=sqrt, min_samples_leaf=4, min_samples_split=10, n_estimators=70;, score=-0.391 total time=   0.1s\n",
      "[CV 4/5] END criterion=squared_error, learning_rate=0.01, loss=squared_error, max_depth=4, max_features=sqrt, min_samples_leaf=4, min_samples_split=10, n_estimators=70;, score=-0.546 total time=   0.1s\n",
      "[CV 5/5] END criterion=squared_error, learning_rate=0.01, loss=squared_error, max_depth=4, max_features=sqrt, min_samples_leaf=4, min_samples_split=10, n_estimators=70;, score=-0.483 total time=   0.1s\n",
      "[CV 1/5] END criterion=squared_error, learning_rate=1, loss=squared_error, max_depth=4, max_features=sqrt, min_samples_leaf=3, min_samples_split=4, n_estimators=10;, score=-0.333 total time=   0.0s\n",
      "[CV 2/5] END criterion=squared_error, learning_rate=1, loss=squared_error, max_depth=4, max_features=sqrt, min_samples_leaf=3, min_samples_split=4, n_estimators=10;, score=-0.338 total time=   0.0s\n",
      "[CV 3/5] END criterion=squared_error, learning_rate=1, loss=squared_error, max_depth=4, max_features=sqrt, min_samples_leaf=3, min_samples_split=4, n_estimators=10;, score=-0.341 total time=   0.0s\n",
      "[CV 4/5] END criterion=squared_error, learning_rate=1, loss=squared_error, max_depth=4, max_features=sqrt, min_samples_leaf=3, min_samples_split=4, n_estimators=10;, score=-0.329 total time=   0.0s\n",
      "[CV 5/5] END criterion=squared_error, learning_rate=1, loss=squared_error, max_depth=4, max_features=sqrt, min_samples_leaf=3, min_samples_split=4, n_estimators=10;, score=-0.341 total time=   0.0s\n",
      "[CV 1/5] END criterion=squared_error, learning_rate=0.1, loss=squared_error, max_depth=1, max_features=sqrt, min_samples_leaf=1, min_samples_split=2, n_estimators=70;, score=-0.271 total time=   0.0s\n",
      "[CV 2/5] END criterion=squared_error, learning_rate=0.1, loss=squared_error, max_depth=1, max_features=sqrt, min_samples_leaf=1, min_samples_split=2, n_estimators=70;, score=-0.254 total time=   0.0s\n",
      "[CV 3/5] END criterion=squared_error, learning_rate=0.1, loss=squared_error, max_depth=1, max_features=sqrt, min_samples_leaf=1, min_samples_split=2, n_estimators=70;, score=-0.279 total time=   0.0s\n",
      "[CV 4/5] END criterion=squared_error, learning_rate=0.1, loss=squared_error, max_depth=1, max_features=sqrt, min_samples_leaf=1, min_samples_split=2, n_estimators=70;, score=-0.285 total time=   0.0s\n",
      "[CV 5/5] END criterion=squared_error, learning_rate=0.1, loss=squared_error, max_depth=1, max_features=sqrt, min_samples_leaf=1, min_samples_split=2, n_estimators=70;, score=-0.289 total time=   0.0s\n",
      "[CV 1/5] END criterion=friedman_mse, learning_rate=0.01, loss=absolute_error, max_depth=1, max_features=log2, min_samples_leaf=4, min_samples_split=4, n_estimators=150;, score=-0.520 total time=   0.2s\n",
      "[CV 2/5] END criterion=friedman_mse, learning_rate=0.01, loss=absolute_error, max_depth=1, max_features=log2, min_samples_leaf=4, min_samples_split=4, n_estimators=150;, score=-0.376 total time=   0.2s\n",
      "[CV 3/5] END criterion=friedman_mse, learning_rate=0.01, loss=absolute_error, max_depth=1, max_features=log2, min_samples_leaf=4, min_samples_split=4, n_estimators=150;, score=-0.387 total time=   0.2s\n",
      "[CV 4/5] END criterion=friedman_mse, learning_rate=0.01, loss=absolute_error, max_depth=1, max_features=log2, min_samples_leaf=4, min_samples_split=4, n_estimators=150;, score=-0.605 total time=   0.2s\n",
      "[CV 5/5] END criterion=friedman_mse, learning_rate=0.01, loss=absolute_error, max_depth=1, max_features=log2, min_samples_leaf=4, min_samples_split=4, n_estimators=150;, score=-0.570 total time=   0.2s\n",
      "[CV 1/5] END criterion=friedman_mse, learning_rate=0.1, loss=absolute_error, max_depth=8, max_features=log2, min_samples_leaf=4, min_samples_split=6, n_estimators=40;, score=-0.314 total time=   0.5s\n",
      "[CV 2/5] END criterion=friedman_mse, learning_rate=0.1, loss=absolute_error, max_depth=8, max_features=log2, min_samples_leaf=4, min_samples_split=6, n_estimators=40;, score=-0.318 total time=   0.5s\n",
      "[CV 3/5] END criterion=friedman_mse, learning_rate=0.1, loss=absolute_error, max_depth=8, max_features=log2, min_samples_leaf=4, min_samples_split=6, n_estimators=40;, score=-0.323 total time=   0.4s\n",
      "[CV 4/5] END criterion=friedman_mse, learning_rate=0.1, loss=absolute_error, max_depth=8, max_features=log2, min_samples_leaf=4, min_samples_split=6, n_estimators=40;, score=-0.365 total time=   0.5s\n",
      "[CV 5/5] END criterion=friedman_mse, learning_rate=0.1, loss=absolute_error, max_depth=8, max_features=log2, min_samples_leaf=4, min_samples_split=6, n_estimators=40;, score=-0.339 total time=   0.5s\n",
      "[CV 1/5] END criterion=friedman_mse, learning_rate=0.01, loss=squared_error, max_depth=6, max_features=sqrt, min_samples_leaf=3, min_samples_split=6, n_estimators=50;, score=-0.571 total time=   0.0s\n",
      "[CV 2/5] END criterion=friedman_mse, learning_rate=0.01, loss=squared_error, max_depth=6, max_features=sqrt, min_samples_leaf=3, min_samples_split=6, n_estimators=50;, score=-0.412 total time=   0.0s\n",
      "[CV 3/5] END criterion=friedman_mse, learning_rate=0.01, loss=squared_error, max_depth=6, max_features=sqrt, min_samples_leaf=3, min_samples_split=6, n_estimators=50;, score=-0.460 total time=   0.0s\n",
      "[CV 4/5] END criterion=friedman_mse, learning_rate=0.01, loss=squared_error, max_depth=6, max_features=sqrt, min_samples_leaf=3, min_samples_split=6, n_estimators=50;, score=-0.661 total time=   0.0s\n",
      "[CV 5/5] END criterion=friedman_mse, learning_rate=0.01, loss=squared_error, max_depth=6, max_features=sqrt, min_samples_leaf=3, min_samples_split=6, n_estimators=50;, score=-0.584 total time=   0.0s\n",
      "[CV 1/5] END criterion=friedman_mse, learning_rate=0.1, loss=squared_error, max_depth=4, max_features=log2, min_samples_leaf=3, min_samples_split=6, n_estimators=200;, score=-0.318 total time=   0.2s\n",
      "[CV 2/5] END criterion=friedman_mse, learning_rate=0.1, loss=squared_error, max_depth=4, max_features=log2, min_samples_leaf=3, min_samples_split=6, n_estimators=200;, score=-0.332 total time=   0.2s\n",
      "[CV 3/5] END criterion=friedman_mse, learning_rate=0.1, loss=squared_error, max_depth=4, max_features=log2, min_samples_leaf=3, min_samples_split=6, n_estimators=200;, score=-0.333 total time=   0.2s\n",
      "[CV 4/5] END criterion=friedman_mse, learning_rate=0.1, loss=squared_error, max_depth=4, max_features=log2, min_samples_leaf=3, min_samples_split=6, n_estimators=200;, score=-0.347 total time=   0.2s\n",
      "[CV 5/5] END criterion=friedman_mse, learning_rate=0.1, loss=squared_error, max_depth=4, max_features=log2, min_samples_leaf=3, min_samples_split=6, n_estimators=200;, score=-0.361 total time=   0.2s\n",
      "[CV 1/5] END criterion=squared_error, learning_rate=0.1, loss=squared_error, max_depth=8, max_features=log2, min_samples_leaf=4, min_samples_split=10, n_estimators=80;, score=-0.323 total time=   0.1s\n",
      "[CV 2/5] END criterion=squared_error, learning_rate=0.1, loss=squared_error, max_depth=8, max_features=log2, min_samples_leaf=4, min_samples_split=10, n_estimators=80;, score=-0.349 total time=   0.1s\n",
      "[CV 3/5] END criterion=squared_error, learning_rate=0.1, loss=squared_error, max_depth=8, max_features=log2, min_samples_leaf=4, min_samples_split=10, n_estimators=80;, score=-0.343 total time=   0.1s\n",
      "[CV 4/5] END criterion=squared_error, learning_rate=0.1, loss=squared_error, max_depth=8, max_features=log2, min_samples_leaf=4, min_samples_split=10, n_estimators=80;, score=-0.353 total time=   0.1s\n",
      "[CV 5/5] END criterion=squared_error, learning_rate=0.1, loss=squared_error, max_depth=8, max_features=log2, min_samples_leaf=4, min_samples_split=10, n_estimators=80;, score=-0.369 total time=   0.1s\n",
      "[CV 1/5] END criterion=friedman_mse, learning_rate=1, loss=squared_error, max_depth=4, max_features=log2, min_samples_leaf=1, min_samples_split=2, n_estimators=100;, score=-0.517 total time=   0.1s\n",
      "[CV 2/5] END criterion=friedman_mse, learning_rate=1, loss=squared_error, max_depth=4, max_features=log2, min_samples_leaf=1, min_samples_split=2, n_estimators=100;, score=-0.577 total time=   0.1s\n",
      "[CV 3/5] END criterion=friedman_mse, learning_rate=1, loss=squared_error, max_depth=4, max_features=log2, min_samples_leaf=1, min_samples_split=2, n_estimators=100;, score=-0.654 total time=   0.1s\n",
      "[CV 4/5] END criterion=friedman_mse, learning_rate=1, loss=squared_error, max_depth=4, max_features=log2, min_samples_leaf=1, min_samples_split=2, n_estimators=100;, score=-0.522 total time=   0.1s\n",
      "[CV 5/5] END criterion=friedman_mse, learning_rate=1, loss=squared_error, max_depth=4, max_features=log2, min_samples_leaf=1, min_samples_split=2, n_estimators=100;, score=-0.637 total time=   0.1s\n",
      "[CV 1/5] END criterion=squared_error, learning_rate=1, loss=squared_error, max_depth=1, max_features=sqrt, min_samples_leaf=1, min_samples_split=6, n_estimators=100;, score=-0.291 total time=   0.1s\n",
      "[CV 2/5] END criterion=squared_error, learning_rate=1, loss=squared_error, max_depth=1, max_features=sqrt, min_samples_leaf=1, min_samples_split=6, n_estimators=100;, score=-0.278 total time=   0.1s\n",
      "[CV 3/5] END criterion=squared_error, learning_rate=1, loss=squared_error, max_depth=1, max_features=sqrt, min_samples_leaf=1, min_samples_split=6, n_estimators=100;, score=-0.310 total time=   0.1s\n",
      "[CV 4/5] END criterion=squared_error, learning_rate=1, loss=squared_error, max_depth=1, max_features=sqrt, min_samples_leaf=1, min_samples_split=6, n_estimators=100;, score=-0.293 total time=   0.1s\n",
      "[CV 5/5] END criterion=squared_error, learning_rate=1, loss=squared_error, max_depth=1, max_features=sqrt, min_samples_leaf=1, min_samples_split=6, n_estimators=100;, score=-0.290 total time=   0.1s\n",
      "[CV 1/5] END criterion=friedman_mse, learning_rate=0.1, loss=absolute_error, max_depth=6, max_features=sqrt, min_samples_leaf=4, min_samples_split=8, n_estimators=80;, score=-0.296 total time=   0.5s\n",
      "[CV 2/5] END criterion=friedman_mse, learning_rate=0.1, loss=absolute_error, max_depth=6, max_features=sqrt, min_samples_leaf=4, min_samples_split=8, n_estimators=80;, score=-0.314 total time=   0.5s\n",
      "[CV 3/5] END criterion=friedman_mse, learning_rate=0.1, loss=absolute_error, max_depth=6, max_features=sqrt, min_samples_leaf=4, min_samples_split=8, n_estimators=80;, score=-0.322 total time=   0.5s\n",
      "[CV 4/5] END criterion=friedman_mse, learning_rate=0.1, loss=absolute_error, max_depth=6, max_features=sqrt, min_samples_leaf=4, min_samples_split=8, n_estimators=80;, score=-0.353 total time=   0.5s\n",
      "[CV 5/5] END criterion=friedman_mse, learning_rate=0.1, loss=absolute_error, max_depth=6, max_features=sqrt, min_samples_leaf=4, min_samples_split=8, n_estimators=80;, score=-0.355 total time=   0.5s\n",
      "[CV 1/5] END criterion=squared_error, learning_rate=0.1, loss=squared_error, max_depth=6, max_features=log2, min_samples_leaf=1, min_samples_split=10, n_estimators=100;, score=-0.320 total time=   0.1s\n",
      "[CV 2/5] END criterion=squared_error, learning_rate=0.1, loss=squared_error, max_depth=6, max_features=log2, min_samples_leaf=1, min_samples_split=10, n_estimators=100;, score=-0.349 total time=   0.1s\n",
      "[CV 3/5] END criterion=squared_error, learning_rate=0.1, loss=squared_error, max_depth=6, max_features=log2, min_samples_leaf=1, min_samples_split=10, n_estimators=100;, score=-0.400 total time=   0.1s\n",
      "[CV 4/5] END criterion=squared_error, learning_rate=0.1, loss=squared_error, max_depth=6, max_features=log2, min_samples_leaf=1, min_samples_split=10, n_estimators=100;, score=-0.358 total time=   0.1s\n",
      "[CV 5/5] END criterion=squared_error, learning_rate=0.1, loss=squared_error, max_depth=6, max_features=log2, min_samples_leaf=1, min_samples_split=10, n_estimators=100;, score=-0.378 total time=   0.1s\n",
      "[CV 1/5] END criterion=squared_error, learning_rate=0.1, loss=absolute_error, max_depth=1, max_features=log2, min_samples_leaf=3, min_samples_split=2, n_estimators=120;, score=-0.273 total time=   0.2s\n",
      "[CV 2/5] END criterion=squared_error, learning_rate=0.1, loss=absolute_error, max_depth=1, max_features=log2, min_samples_leaf=3, min_samples_split=2, n_estimators=120;, score=-0.254 total time=   0.2s\n",
      "[CV 3/5] END criterion=squared_error, learning_rate=0.1, loss=absolute_error, max_depth=1, max_features=log2, min_samples_leaf=3, min_samples_split=2, n_estimators=120;, score=-0.274 total time=   0.2s\n",
      "[CV 4/5] END criterion=squared_error, learning_rate=0.1, loss=absolute_error, max_depth=1, max_features=log2, min_samples_leaf=3, min_samples_split=2, n_estimators=120;, score=-0.308 total time=   0.2s\n",
      "[CV 5/5] END criterion=squared_error, learning_rate=0.1, loss=absolute_error, max_depth=1, max_features=log2, min_samples_leaf=3, min_samples_split=2, n_estimators=120;, score=-0.289 total time=   0.2s\n",
      "[CV 1/5] END criterion=friedman_mse, learning_rate=0.1, loss=absolute_error, max_depth=1, max_features=log2, min_samples_leaf=4, min_samples_split=6, n_estimators=150;, score=-0.271 total time=   0.2s\n",
      "[CV 2/5] END criterion=friedman_mse, learning_rate=0.1, loss=absolute_error, max_depth=1, max_features=log2, min_samples_leaf=4, min_samples_split=6, n_estimators=150;, score=-0.262 total time=   0.2s\n",
      "[CV 3/5] END criterion=friedman_mse, learning_rate=0.1, loss=absolute_error, max_depth=1, max_features=log2, min_samples_leaf=4, min_samples_split=6, n_estimators=150;, score=-0.273 total time=   0.2s\n",
      "[CV 4/5] END criterion=friedman_mse, learning_rate=0.1, loss=absolute_error, max_depth=1, max_features=log2, min_samples_leaf=4, min_samples_split=6, n_estimators=150;, score=-0.309 total time=   0.2s\n",
      "[CV 5/5] END criterion=friedman_mse, learning_rate=0.1, loss=absolute_error, max_depth=1, max_features=log2, min_samples_leaf=4, min_samples_split=6, n_estimators=150;, score=-0.289 total time=   0.2s\n",
      "[CV 1/5] END criterion=friedman_mse, learning_rate=0.01, loss=absolute_error, max_depth=6, max_features=sqrt, min_samples_leaf=3, min_samples_split=10, n_estimators=120;, score=-0.391 total time=   1.1s\n",
      "[CV 2/5] END criterion=friedman_mse, learning_rate=0.01, loss=absolute_error, max_depth=6, max_features=sqrt, min_samples_leaf=3, min_samples_split=10, n_estimators=120;, score=-0.284 total time=   1.1s\n",
      "[CV 3/5] END criterion=friedman_mse, learning_rate=0.01, loss=absolute_error, max_depth=6, max_features=sqrt, min_samples_leaf=3, min_samples_split=10, n_estimators=120;, score=-0.332 total time=   1.1s\n",
      "[CV 4/5] END criterion=friedman_mse, learning_rate=0.01, loss=absolute_error, max_depth=6, max_features=sqrt, min_samples_leaf=3, min_samples_split=10, n_estimators=120;, score=-0.432 total time=   1.2s\n",
      "[CV 5/5] END criterion=friedman_mse, learning_rate=0.01, loss=absolute_error, max_depth=6, max_features=sqrt, min_samples_leaf=3, min_samples_split=10, n_estimators=120;, score=-0.385 total time=   1.1s\n",
      "[CV 1/5] END criterion=squared_error, learning_rate=0.1, loss=absolute_error, max_depth=1, max_features=log2, min_samples_leaf=3, min_samples_split=8, n_estimators=150;, score=-0.274 total time=   0.2s\n",
      "[CV 2/5] END criterion=squared_error, learning_rate=0.1, loss=absolute_error, max_depth=1, max_features=log2, min_samples_leaf=3, min_samples_split=8, n_estimators=150;, score=-0.255 total time=   0.2s\n",
      "[CV 3/5] END criterion=squared_error, learning_rate=0.1, loss=absolute_error, max_depth=1, max_features=log2, min_samples_leaf=3, min_samples_split=8, n_estimators=150;, score=-0.273 total time=   0.2s\n",
      "[CV 4/5] END criterion=squared_error, learning_rate=0.1, loss=absolute_error, max_depth=1, max_features=log2, min_samples_leaf=3, min_samples_split=8, n_estimators=150;, score=-0.309 total time=   0.2s\n",
      "[CV 5/5] END criterion=squared_error, learning_rate=0.1, loss=absolute_error, max_depth=1, max_features=log2, min_samples_leaf=3, min_samples_split=8, n_estimators=150;, score=-0.289 total time=   0.2s\n",
      "[CV 1/5] END criterion=squared_error, learning_rate=0.01, loss=squared_error, max_depth=2, max_features=sqrt, min_samples_leaf=4, min_samples_split=6, n_estimators=80;, score=-0.488 total time=   0.1s\n",
      "[CV 2/5] END criterion=squared_error, learning_rate=0.01, loss=squared_error, max_depth=2, max_features=sqrt, min_samples_leaf=4, min_samples_split=6, n_estimators=80;, score=-0.340 total time=   0.1s\n",
      "[CV 3/5] END criterion=squared_error, learning_rate=0.01, loss=squared_error, max_depth=2, max_features=sqrt, min_samples_leaf=4, min_samples_split=6, n_estimators=80;, score=-0.389 total time=   0.1s\n",
      "[CV 4/5] END criterion=squared_error, learning_rate=0.01, loss=squared_error, max_depth=2, max_features=sqrt, min_samples_leaf=4, min_samples_split=6, n_estimators=80;, score=-0.551 total time=   0.1s\n",
      "[CV 5/5] END criterion=squared_error, learning_rate=0.01, loss=squared_error, max_depth=2, max_features=sqrt, min_samples_leaf=4, min_samples_split=6, n_estimators=80;, score=-0.492 total time=   0.1s\n",
      "[CV 1/5] END criterion=friedman_mse, learning_rate=0.1, loss=absolute_error, max_depth=2, max_features=log2, min_samples_leaf=3, min_samples_split=6, n_estimators=70;, score=-0.287 total time=   0.1s\n",
      "[CV 2/5] END criterion=friedman_mse, learning_rate=0.1, loss=absolute_error, max_depth=2, max_features=log2, min_samples_leaf=3, min_samples_split=6, n_estimators=70;, score=-0.256 total time=   0.1s\n",
      "[CV 3/5] END criterion=friedman_mse, learning_rate=0.1, loss=absolute_error, max_depth=2, max_features=log2, min_samples_leaf=3, min_samples_split=6, n_estimators=70;, score=-0.282 total time=   0.1s\n",
      "[CV 4/5] END criterion=friedman_mse, learning_rate=0.1, loss=absolute_error, max_depth=2, max_features=log2, min_samples_leaf=3, min_samples_split=6, n_estimators=70;, score=-0.301 total time=   0.1s\n",
      "[CV 5/5] END criterion=friedman_mse, learning_rate=0.1, loss=absolute_error, max_depth=2, max_features=log2, min_samples_leaf=3, min_samples_split=6, n_estimators=70;, score=-0.290 total time=   0.1s\n",
      "[CV 1/5] END criterion=friedman_mse, learning_rate=0.1, loss=squared_error, max_depth=2, max_features=sqrt, min_samples_leaf=1, min_samples_split=10, n_estimators=20;, score=-0.301 total time=   0.0s\n",
      "[CV 2/5] END criterion=friedman_mse, learning_rate=0.1, loss=squared_error, max_depth=2, max_features=sqrt, min_samples_leaf=1, min_samples_split=10, n_estimators=20;, score=-0.249 total time=   0.0s\n",
      "[CV 3/5] END criterion=friedman_mse, learning_rate=0.1, loss=squared_error, max_depth=2, max_features=sqrt, min_samples_leaf=1, min_samples_split=10, n_estimators=20;, score=-0.282 total time=   0.0s\n",
      "[CV 4/5] END criterion=friedman_mse, learning_rate=0.1, loss=squared_error, max_depth=2, max_features=sqrt, min_samples_leaf=1, min_samples_split=10, n_estimators=20;, score=-0.319 total time=   0.0s\n",
      "[CV 5/5] END criterion=friedman_mse, learning_rate=0.1, loss=squared_error, max_depth=2, max_features=sqrt, min_samples_leaf=1, min_samples_split=10, n_estimators=20;, score=-0.308 total time=   0.0s\n",
      "[CV 1/5] END criterion=squared_error, learning_rate=1, loss=absolute_error, max_depth=6, max_features=sqrt, min_samples_leaf=3, min_samples_split=8, n_estimators=70;, score=-0.432 total time=   0.6s\n",
      "[CV 2/5] END criterion=squared_error, learning_rate=1, loss=absolute_error, max_depth=6, max_features=sqrt, min_samples_leaf=3, min_samples_split=8, n_estimators=70;, score=-0.486 total time=   0.5s\n",
      "[CV 3/5] END criterion=squared_error, learning_rate=1, loss=absolute_error, max_depth=6, max_features=sqrt, min_samples_leaf=3, min_samples_split=8, n_estimators=70;, score=-0.415 total time=   0.5s\n",
      "[CV 4/5] END criterion=squared_error, learning_rate=1, loss=absolute_error, max_depth=6, max_features=sqrt, min_samples_leaf=3, min_samples_split=8, n_estimators=70;, score=-0.428 total time=   0.4s\n",
      "[CV 5/5] END criterion=squared_error, learning_rate=1, loss=absolute_error, max_depth=6, max_features=sqrt, min_samples_leaf=3, min_samples_split=8, n_estimators=70;, score=-0.489 total time=   0.6s\n",
      "[CV 1/5] END criterion=squared_error, learning_rate=1, loss=absolute_error, max_depth=6, max_features=log2, min_samples_leaf=1, min_samples_split=6, n_estimators=50;, score=-0.478 total time=   0.3s\n",
      "[CV 2/5] END criterion=squared_error, learning_rate=1, loss=absolute_error, max_depth=6, max_features=log2, min_samples_leaf=1, min_samples_split=6, n_estimators=50;, score=-0.462 total time=   0.3s\n",
      "[CV 3/5] END criterion=squared_error, learning_rate=1, loss=absolute_error, max_depth=6, max_features=log2, min_samples_leaf=1, min_samples_split=6, n_estimators=50;, score=-0.492 total time=   0.2s\n",
      "[CV 4/5] END criterion=squared_error, learning_rate=1, loss=absolute_error, max_depth=6, max_features=log2, min_samples_leaf=1, min_samples_split=6, n_estimators=50;, score=-0.437 total time=   0.3s\n",
      "[CV 5/5] END criterion=squared_error, learning_rate=1, loss=absolute_error, max_depth=6, max_features=log2, min_samples_leaf=1, min_samples_split=6, n_estimators=50;, score=-0.538 total time=   0.3s\n",
      "[CV 1/5] END criterion=friedman_mse, learning_rate=1, loss=absolute_error, max_depth=6, max_features=log2, min_samples_leaf=1, min_samples_split=10, n_estimators=20;, score=-0.351 total time=   0.1s\n",
      "[CV 2/5] END criterion=friedman_mse, learning_rate=1, loss=absolute_error, max_depth=6, max_features=log2, min_samples_leaf=1, min_samples_split=10, n_estimators=20;, score=-0.366 total time=   0.1s\n",
      "[CV 3/5] END criterion=friedman_mse, learning_rate=1, loss=absolute_error, max_depth=6, max_features=log2, min_samples_leaf=1, min_samples_split=10, n_estimators=20;, score=-0.435 total time=   0.1s\n",
      "[CV 4/5] END criterion=friedman_mse, learning_rate=1, loss=absolute_error, max_depth=6, max_features=log2, min_samples_leaf=1, min_samples_split=10, n_estimators=20;, score=-0.413 total time=   0.1s\n",
      "[CV 5/5] END criterion=friedman_mse, learning_rate=1, loss=absolute_error, max_depth=6, max_features=log2, min_samples_leaf=1, min_samples_split=10, n_estimators=20;, score=-0.441 total time=   0.1s\n",
      "[CV 1/5] END criterion=squared_error, learning_rate=0.01, loss=absolute_error, max_depth=4, max_features=sqrt, min_samples_leaf=4, min_samples_split=8, n_estimators=10;, score=-0.951 total time=   0.1s\n",
      "[CV 2/5] END criterion=squared_error, learning_rate=0.01, loss=absolute_error, max_depth=4, max_features=sqrt, min_samples_leaf=4, min_samples_split=8, n_estimators=10;, score=-0.689 total time=   0.1s\n",
      "[CV 3/5] END criterion=squared_error, learning_rate=0.01, loss=absolute_error, max_depth=4, max_features=sqrt, min_samples_leaf=4, min_samples_split=8, n_estimators=10;, score=-0.736 total time=   0.1s\n",
      "[CV 4/5] END criterion=squared_error, learning_rate=0.01, loss=absolute_error, max_depth=4, max_features=sqrt, min_samples_leaf=4, min_samples_split=8, n_estimators=10;, score=-1.060 total time=   0.1s\n",
      "[CV 5/5] END criterion=squared_error, learning_rate=0.01, loss=absolute_error, max_depth=4, max_features=sqrt, min_samples_leaf=4, min_samples_split=8, n_estimators=10;, score=-0.974 total time=   0.1s\n",
      "[CV 1/5] END criterion=squared_error, learning_rate=0.1, loss=squared_error, max_depth=4, max_features=log2, min_samples_leaf=4, min_samples_split=10, n_estimators=40;, score=-0.280 total time=   0.0s\n",
      "[CV 2/5] END criterion=squared_error, learning_rate=0.1, loss=squared_error, max_depth=4, max_features=log2, min_samples_leaf=4, min_samples_split=10, n_estimators=40;, score=-0.276 total time=   0.0s\n",
      "[CV 3/5] END criterion=squared_error, learning_rate=0.1, loss=squared_error, max_depth=4, max_features=log2, min_samples_leaf=4, min_samples_split=10, n_estimators=40;, score=-0.291 total time=   0.0s\n",
      "[CV 4/5] END criterion=squared_error, learning_rate=0.1, loss=squared_error, max_depth=4, max_features=log2, min_samples_leaf=4, min_samples_split=10, n_estimators=40;, score=-0.302 total time=   0.0s\n",
      "[CV 5/5] END criterion=squared_error, learning_rate=0.1, loss=squared_error, max_depth=4, max_features=log2, min_samples_leaf=4, min_samples_split=10, n_estimators=40;, score=-0.299 total time=   0.0s\n",
      "[CV 1/5] END criterion=squared_error, learning_rate=1, loss=absolute_error, max_depth=1, max_features=sqrt, min_samples_leaf=3, min_samples_split=2, n_estimators=120;, score=-0.288 total time=   0.2s\n",
      "[CV 2/5] END criterion=squared_error, learning_rate=1, loss=absolute_error, max_depth=1, max_features=sqrt, min_samples_leaf=3, min_samples_split=2, n_estimators=120;, score=-0.269 total time=   0.2s\n",
      "[CV 3/5] END criterion=squared_error, learning_rate=1, loss=absolute_error, max_depth=1, max_features=sqrt, min_samples_leaf=3, min_samples_split=2, n_estimators=120;, score=-0.303 total time=   0.2s\n",
      "[CV 4/5] END criterion=squared_error, learning_rate=1, loss=absolute_error, max_depth=1, max_features=sqrt, min_samples_leaf=3, min_samples_split=2, n_estimators=120;, score=-0.301 total time=   0.2s\n",
      "[CV 5/5] END criterion=squared_error, learning_rate=1, loss=absolute_error, max_depth=1, max_features=sqrt, min_samples_leaf=3, min_samples_split=2, n_estimators=120;, score=-0.309 total time=   0.2s\n",
      "[CV 1/5] END criterion=friedman_mse, learning_rate=0.1, loss=absolute_error, max_depth=4, max_features=sqrt, min_samples_leaf=4, min_samples_split=8, n_estimators=70;, score=-0.290 total time=   0.3s\n",
      "[CV 2/5] END criterion=friedman_mse, learning_rate=0.1, loss=absolute_error, max_depth=4, max_features=sqrt, min_samples_leaf=4, min_samples_split=8, n_estimators=70;, score=-0.270 total time=   0.3s\n",
      "[CV 3/5] END criterion=friedman_mse, learning_rate=0.1, loss=absolute_error, max_depth=4, max_features=sqrt, min_samples_leaf=4, min_samples_split=8, n_estimators=70;, score=-0.301 total time=   0.3s\n",
      "[CV 4/5] END criterion=friedman_mse, learning_rate=0.1, loss=absolute_error, max_depth=4, max_features=sqrt, min_samples_leaf=4, min_samples_split=8, n_estimators=70;, score=-0.320 total time=   0.3s\n",
      "[CV 5/5] END criterion=friedman_mse, learning_rate=0.1, loss=absolute_error, max_depth=4, max_features=sqrt, min_samples_leaf=4, min_samples_split=8, n_estimators=70;, score=-0.316 total time=   0.3s\n",
      "[CV 1/5] END criterion=squared_error, learning_rate=0.01, loss=absolute_error, max_depth=2, max_features=sqrt, min_samples_leaf=4, min_samples_split=6, n_estimators=50;, score=-0.662 total time=   0.1s\n",
      "[CV 2/5] END criterion=squared_error, learning_rate=0.01, loss=absolute_error, max_depth=2, max_features=sqrt, min_samples_leaf=4, min_samples_split=6, n_estimators=50;, score=-0.469 total time=   0.1s\n",
      "[CV 3/5] END criterion=squared_error, learning_rate=0.01, loss=absolute_error, max_depth=2, max_features=sqrt, min_samples_leaf=4, min_samples_split=6, n_estimators=50;, score=-0.510 total time=   0.1s\n",
      "[CV 4/5] END criterion=squared_error, learning_rate=0.01, loss=absolute_error, max_depth=2, max_features=sqrt, min_samples_leaf=4, min_samples_split=6, n_estimators=50;, score=-0.770 total time=   0.1s\n",
      "[CV 5/5] END criterion=squared_error, learning_rate=0.01, loss=absolute_error, max_depth=2, max_features=sqrt, min_samples_leaf=4, min_samples_split=6, n_estimators=50;, score=-0.728 total time=   0.1s\n",
      "[CV 1/5] END criterion=friedman_mse, learning_rate=0.01, loss=squared_error, max_depth=2, max_features=log2, min_samples_leaf=4, min_samples_split=6, n_estimators=70;, score=-0.525 total time=   0.0s\n",
      "[CV 2/5] END criterion=friedman_mse, learning_rate=0.01, loss=squared_error, max_depth=2, max_features=log2, min_samples_leaf=4, min_samples_split=6, n_estimators=70;, score=-0.366 total time=   0.0s\n",
      "[CV 3/5] END criterion=friedman_mse, learning_rate=0.01, loss=squared_error, max_depth=2, max_features=log2, min_samples_leaf=4, min_samples_split=6, n_estimators=70;, score=-0.414 total time=   0.0s\n",
      "[CV 4/5] END criterion=friedman_mse, learning_rate=0.01, loss=squared_error, max_depth=2, max_features=log2, min_samples_leaf=4, min_samples_split=6, n_estimators=70;, score=-0.597 total time=   0.0s\n",
      "[CV 5/5] END criterion=friedman_mse, learning_rate=0.01, loss=squared_error, max_depth=2, max_features=log2, min_samples_leaf=4, min_samples_split=6, n_estimators=70;, score=-0.530 total time=   0.0s\n",
      "[CV 1/5] END criterion=squared_error, learning_rate=0.01, loss=squared_error, max_depth=2, max_features=sqrt, min_samples_leaf=3, min_samples_split=6, n_estimators=120;, score=-0.389 total time=   0.1s\n",
      "[CV 2/5] END criterion=squared_error, learning_rate=0.01, loss=squared_error, max_depth=2, max_features=sqrt, min_samples_leaf=3, min_samples_split=6, n_estimators=120;, score=-0.281 total time=   0.1s\n",
      "[CV 3/5] END criterion=squared_error, learning_rate=0.01, loss=squared_error, max_depth=2, max_features=sqrt, min_samples_leaf=3, min_samples_split=6, n_estimators=120;, score=-0.324 total time=   0.1s\n",
      "[CV 4/5] END criterion=squared_error, learning_rate=0.01, loss=squared_error, max_depth=2, max_features=sqrt, min_samples_leaf=3, min_samples_split=6, n_estimators=120;, score=-0.426 total time=   0.1s\n",
      "[CV 5/5] END criterion=squared_error, learning_rate=0.01, loss=squared_error, max_depth=2, max_features=sqrt, min_samples_leaf=3, min_samples_split=6, n_estimators=120;, score=-0.391 total time=   0.1s\n",
      "[CV 1/5] END criterion=friedman_mse, learning_rate=1, loss=squared_error, max_depth=6, max_features=log2, min_samples_leaf=1, min_samples_split=2, n_estimators=100;, score=-0.517 total time=   0.1s\n",
      "[CV 2/5] END criterion=friedman_mse, learning_rate=1, loss=squared_error, max_depth=6, max_features=log2, min_samples_leaf=1, min_samples_split=2, n_estimators=100;, score=-0.577 total time=   0.1s\n",
      "[CV 3/5] END criterion=friedman_mse, learning_rate=1, loss=squared_error, max_depth=6, max_features=log2, min_samples_leaf=1, min_samples_split=2, n_estimators=100;, score=-0.653 total time=   0.1s\n",
      "[CV 4/5] END criterion=friedman_mse, learning_rate=1, loss=squared_error, max_depth=6, max_features=log2, min_samples_leaf=1, min_samples_split=2, n_estimators=100;, score=-0.520 total time=   0.1s\n",
      "[CV 5/5] END criterion=friedman_mse, learning_rate=1, loss=squared_error, max_depth=6, max_features=log2, min_samples_leaf=1, min_samples_split=2, n_estimators=100;, score=-0.636 total time=   0.1s\n",
      "[CV 1/5] END criterion=friedman_mse, learning_rate=1, loss=squared_error, max_depth=1, max_features=sqrt, min_samples_leaf=3, min_samples_split=10, n_estimators=10;, score=-0.333 total time=   0.0s\n",
      "[CV 2/5] END criterion=friedman_mse, learning_rate=1, loss=squared_error, max_depth=1, max_features=sqrt, min_samples_leaf=3, min_samples_split=10, n_estimators=10;, score=-0.296 total time=   0.0s\n",
      "[CV 3/5] END criterion=friedman_mse, learning_rate=1, loss=squared_error, max_depth=1, max_features=sqrt, min_samples_leaf=3, min_samples_split=10, n_estimators=10;, score=-0.341 total time=   0.0s\n",
      "[CV 4/5] END criterion=friedman_mse, learning_rate=1, loss=squared_error, max_depth=1, max_features=sqrt, min_samples_leaf=3, min_samples_split=10, n_estimators=10;, score=-0.311 total time=   0.0s\n",
      "[CV 5/5] END criterion=friedman_mse, learning_rate=1, loss=squared_error, max_depth=1, max_features=sqrt, min_samples_leaf=3, min_samples_split=10, n_estimators=10;, score=-0.293 total time=   0.0s\n",
      "[CV 1/5] END criterion=friedman_mse, learning_rate=0.1, loss=absolute_error, max_depth=4, max_features=sqrt, min_samples_leaf=4, min_samples_split=2, n_estimators=150;, score=-0.296 total time=   0.6s\n",
      "[CV 2/5] END criterion=friedman_mse, learning_rate=0.1, loss=absolute_error, max_depth=4, max_features=sqrt, min_samples_leaf=4, min_samples_split=2, n_estimators=150;, score=-0.281 total time=   0.6s\n",
      "[CV 3/5] END criterion=friedman_mse, learning_rate=0.1, loss=absolute_error, max_depth=4, max_features=sqrt, min_samples_leaf=4, min_samples_split=2, n_estimators=150;, score=-0.325 total time=   0.5s\n",
      "[CV 4/5] END criterion=friedman_mse, learning_rate=0.1, loss=absolute_error, max_depth=4, max_features=sqrt, min_samples_leaf=4, min_samples_split=2, n_estimators=150;, score=-0.335 total time=   0.5s\n",
      "[CV 5/5] END criterion=friedman_mse, learning_rate=0.1, loss=absolute_error, max_depth=4, max_features=sqrt, min_samples_leaf=4, min_samples_split=2, n_estimators=150;, score=-0.367 total time=   0.6s\n",
      "[CV 1/5] END criterion=squared_error, learning_rate=1, loss=squared_error, max_depth=1, max_features=log2, min_samples_leaf=3, min_samples_split=8, n_estimators=150;, score=-0.290 total time=   0.1s\n",
      "[CV 2/5] END criterion=squared_error, learning_rate=1, loss=squared_error, max_depth=1, max_features=log2, min_samples_leaf=3, min_samples_split=8, n_estimators=150;, score=-0.285 total time=   0.1s\n",
      "[CV 3/5] END criterion=squared_error, learning_rate=1, loss=squared_error, max_depth=1, max_features=log2, min_samples_leaf=3, min_samples_split=8, n_estimators=150;, score=-0.306 total time=   0.1s\n",
      "[CV 4/5] END criterion=squared_error, learning_rate=1, loss=squared_error, max_depth=1, max_features=log2, min_samples_leaf=3, min_samples_split=8, n_estimators=150;, score=-0.297 total time=   0.1s\n",
      "[CV 5/5] END criterion=squared_error, learning_rate=1, loss=squared_error, max_depth=1, max_features=log2, min_samples_leaf=3, min_samples_split=8, n_estimators=150;, score=-0.296 total time=   0.1s\n",
      "[CV 1/5] END criterion=friedman_mse, learning_rate=1, loss=absolute_error, max_depth=2, max_features=log2, min_samples_leaf=1, min_samples_split=6, n_estimators=50;, score=-0.353 total time=   0.1s\n",
      "[CV 2/5] END criterion=friedman_mse, learning_rate=1, loss=absolute_error, max_depth=2, max_features=log2, min_samples_leaf=1, min_samples_split=6, n_estimators=50;, score=-0.289 total time=   0.1s\n",
      "[CV 3/5] END criterion=friedman_mse, learning_rate=1, loss=absolute_error, max_depth=2, max_features=log2, min_samples_leaf=1, min_samples_split=6, n_estimators=50;, score=-0.349 total time=   0.1s\n",
      "[CV 4/5] END criterion=friedman_mse, learning_rate=1, loss=absolute_error, max_depth=2, max_features=log2, min_samples_leaf=1, min_samples_split=6, n_estimators=50;, score=-0.313 total time=   0.1s\n",
      "[CV 5/5] END criterion=friedman_mse, learning_rate=1, loss=absolute_error, max_depth=2, max_features=log2, min_samples_leaf=1, min_samples_split=6, n_estimators=50;, score=-0.340 total time=   0.1s\n",
      "[CV 1/5] END criterion=friedman_mse, learning_rate=0.1, loss=squared_error, max_depth=6, max_features=log2, min_samples_leaf=4, min_samples_split=10, n_estimators=50;, score=-0.311 total time=   0.0s\n",
      "[CV 2/5] END criterion=friedman_mse, learning_rate=0.1, loss=squared_error, max_depth=6, max_features=log2, min_samples_leaf=4, min_samples_split=10, n_estimators=50;, score=-0.311 total time=   0.0s\n",
      "[CV 3/5] END criterion=friedman_mse, learning_rate=0.1, loss=squared_error, max_depth=6, max_features=log2, min_samples_leaf=4, min_samples_split=10, n_estimators=50;, score=-0.324 total time=   0.1s\n",
      "[CV 4/5] END criterion=friedman_mse, learning_rate=0.1, loss=squared_error, max_depth=6, max_features=log2, min_samples_leaf=4, min_samples_split=10, n_estimators=50;, score=-0.332 total time=   0.1s\n",
      "[CV 5/5] END criterion=friedman_mse, learning_rate=0.1, loss=squared_error, max_depth=6, max_features=log2, min_samples_leaf=4, min_samples_split=10, n_estimators=50;, score=-0.336 total time=   0.0s\n",
      "[CV 1/5] END criterion=squared_error, learning_rate=0.1, loss=absolute_error, max_depth=2, max_features=log2, min_samples_leaf=3, min_samples_split=10, n_estimators=20;, score=-0.328 total time=   0.0s\n",
      "[CV 2/5] END criterion=squared_error, learning_rate=0.1, loss=absolute_error, max_depth=2, max_features=log2, min_samples_leaf=3, min_samples_split=10, n_estimators=20;, score=-0.254 total time=   0.0s\n",
      "[CV 3/5] END criterion=squared_error, learning_rate=0.1, loss=absolute_error, max_depth=2, max_features=log2, min_samples_leaf=3, min_samples_split=10, n_estimators=20;, score=-0.288 total time=   0.0s\n",
      "[CV 4/5] END criterion=squared_error, learning_rate=0.1, loss=absolute_error, max_depth=2, max_features=log2, min_samples_leaf=3, min_samples_split=10, n_estimators=20;, score=-0.350 total time=   0.0s\n",
      "[CV 5/5] END criterion=squared_error, learning_rate=0.1, loss=absolute_error, max_depth=2, max_features=log2, min_samples_leaf=3, min_samples_split=10, n_estimators=20;, score=-0.334 total time=   0.0s\n",
      "[CV 1/5] END criterion=friedman_mse, learning_rate=0.1, loss=squared_error, max_depth=8, max_features=sqrt, min_samples_leaf=3, min_samples_split=8, n_estimators=50;, score=-0.336 total time=   0.1s\n",
      "[CV 2/5] END criterion=friedman_mse, learning_rate=0.1, loss=squared_error, max_depth=8, max_features=sqrt, min_samples_leaf=3, min_samples_split=8, n_estimators=50;, score=-0.357 total time=   0.1s\n",
      "[CV 3/5] END criterion=friedman_mse, learning_rate=0.1, loss=squared_error, max_depth=8, max_features=sqrt, min_samples_leaf=3, min_samples_split=8, n_estimators=50;, score=-0.365 total time=   0.1s\n",
      "[CV 4/5] END criterion=friedman_mse, learning_rate=0.1, loss=squared_error, max_depth=8, max_features=sqrt, min_samples_leaf=3, min_samples_split=8, n_estimators=50;, score=-0.362 total time=   0.1s\n",
      "[CV 5/5] END criterion=friedman_mse, learning_rate=0.1, loss=squared_error, max_depth=8, max_features=sqrt, min_samples_leaf=3, min_samples_split=8, n_estimators=50;, score=-0.373 total time=   0.1s\n",
      "[CV 1/5] END criterion=squared_error, learning_rate=1, loss=absolute_error, max_depth=6, max_features=log2, min_samples_leaf=1, min_samples_split=4, n_estimators=100;, score=-0.505 total time=   0.4s\n",
      "[CV 2/5] END criterion=squared_error, learning_rate=1, loss=absolute_error, max_depth=6, max_features=log2, min_samples_leaf=1, min_samples_split=4, n_estimators=100;, score=-0.534 total time=   0.4s\n",
      "[CV 3/5] END criterion=squared_error, learning_rate=1, loss=absolute_error, max_depth=6, max_features=log2, min_samples_leaf=1, min_samples_split=4, n_estimators=100;, score=-0.563 total time=   0.4s\n",
      "[CV 4/5] END criterion=squared_error, learning_rate=1, loss=absolute_error, max_depth=6, max_features=log2, min_samples_leaf=1, min_samples_split=4, n_estimators=100;, score=-0.503 total time=   0.4s\n",
      "[CV 5/5] END criterion=squared_error, learning_rate=1, loss=absolute_error, max_depth=6, max_features=log2, min_samples_leaf=1, min_samples_split=4, n_estimators=100;, score=-0.602 total time=   0.4s\n"
     ]
    },
    {
     "data": {
      "text/html": [
       "<style>#sk-container-id-1 {color: black;background-color: white;}#sk-container-id-1 pre{padding: 0;}#sk-container-id-1 div.sk-toggleable {background-color: white;}#sk-container-id-1 label.sk-toggleable__label {cursor: pointer;display: block;width: 100%;margin-bottom: 0;padding: 0.3em;box-sizing: border-box;text-align: center;}#sk-container-id-1 label.sk-toggleable__label-arrow:before {content: \"▸\";float: left;margin-right: 0.25em;color: #696969;}#sk-container-id-1 label.sk-toggleable__label-arrow:hover:before {color: black;}#sk-container-id-1 div.sk-estimator:hover label.sk-toggleable__label-arrow:before {color: black;}#sk-container-id-1 div.sk-toggleable__content {max-height: 0;max-width: 0;overflow: hidden;text-align: left;background-color: #f0f8ff;}#sk-container-id-1 div.sk-toggleable__content pre {margin: 0.2em;color: black;border-radius: 0.25em;background-color: #f0f8ff;}#sk-container-id-1 input.sk-toggleable__control:checked~div.sk-toggleable__content {max-height: 200px;max-width: 100%;overflow: auto;}#sk-container-id-1 input.sk-toggleable__control:checked~label.sk-toggleable__label-arrow:before {content: \"▾\";}#sk-container-id-1 div.sk-estimator input.sk-toggleable__control:checked~label.sk-toggleable__label {background-color: #d4ebff;}#sk-container-id-1 div.sk-label input.sk-toggleable__control:checked~label.sk-toggleable__label {background-color: #d4ebff;}#sk-container-id-1 input.sk-hidden--visually {border: 0;clip: rect(1px 1px 1px 1px);clip: rect(1px, 1px, 1px, 1px);height: 1px;margin: -1px;overflow: hidden;padding: 0;position: absolute;width: 1px;}#sk-container-id-1 div.sk-estimator {font-family: monospace;background-color: #f0f8ff;border: 1px dotted black;border-radius: 0.25em;box-sizing: border-box;margin-bottom: 0.5em;}#sk-container-id-1 div.sk-estimator:hover {background-color: #d4ebff;}#sk-container-id-1 div.sk-parallel-item::after {content: \"\";width: 100%;border-bottom: 1px solid gray;flex-grow: 1;}#sk-container-id-1 div.sk-label:hover label.sk-toggleable__label {background-color: #d4ebff;}#sk-container-id-1 div.sk-serial::before {content: \"\";position: absolute;border-left: 1px solid gray;box-sizing: border-box;top: 0;bottom: 0;left: 50%;z-index: 0;}#sk-container-id-1 div.sk-serial {display: flex;flex-direction: column;align-items: center;background-color: white;padding-right: 0.2em;padding-left: 0.2em;position: relative;}#sk-container-id-1 div.sk-item {position: relative;z-index: 1;}#sk-container-id-1 div.sk-parallel {display: flex;align-items: stretch;justify-content: center;background-color: white;position: relative;}#sk-container-id-1 div.sk-item::before, #sk-container-id-1 div.sk-parallel-item::before {content: \"\";position: absolute;border-left: 1px solid gray;box-sizing: border-box;top: 0;bottom: 0;left: 50%;z-index: -1;}#sk-container-id-1 div.sk-parallel-item {display: flex;flex-direction: column;z-index: 1;position: relative;background-color: white;}#sk-container-id-1 div.sk-parallel-item:first-child::after {align-self: flex-end;width: 50%;}#sk-container-id-1 div.sk-parallel-item:last-child::after {align-self: flex-start;width: 50%;}#sk-container-id-1 div.sk-parallel-item:only-child::after {width: 0;}#sk-container-id-1 div.sk-dashed-wrapped {border: 1px dashed gray;margin: 0 0.4em 0.5em 0.4em;box-sizing: border-box;padding-bottom: 0.4em;background-color: white;}#sk-container-id-1 div.sk-label label {font-family: monospace;font-weight: bold;display: inline-block;line-height: 1.2em;}#sk-container-id-1 div.sk-label-container {text-align: center;}#sk-container-id-1 div.sk-container {/* jupyter's `normalize.less` sets `[hidden] { display: none; }` but bootstrap.min.css set `[hidden] { display: none !important; }` so we also need the `!important` here to be able to override the default hidden behavior on the sphinx rendered scikit-learn.org. See: https://github.com/scikit-learn/scikit-learn/issues/21755 */display: inline-block !important;position: relative;}#sk-container-id-1 div.sk-text-repr-fallback {display: none;}</style><div id=\"sk-container-id-1\" class=\"sk-top-container\"><div class=\"sk-text-repr-fallback\"><pre>RandomizedSearchCV(cv=5, estimator=GradientBoostingRegressor(), n_iter=100,\n",
       "                   param_distributions={&#x27;criterion&#x27;: [&#x27;friedman_mse&#x27;,\n",
       "                                                      &#x27;squared_error&#x27;],\n",
       "                                        &#x27;learning_rate&#x27;: [0.1, 0.01, 1],\n",
       "                                        &#x27;loss&#x27;: [&#x27;squared_error&#x27;,\n",
       "                                                 &#x27;absolute_error&#x27;],\n",
       "                                        &#x27;max_depth&#x27;: [1, 2, 4, 6, 8],\n",
       "                                        &#x27;max_features&#x27;: [&#x27;sqrt&#x27;, &#x27;log2&#x27;],\n",
       "                                        &#x27;min_samples_leaf&#x27;: [1, 3, 4],\n",
       "                                        &#x27;min_samples_split&#x27;: [2, 4, 6, 8, 10],\n",
       "                                        &#x27;n_estimators&#x27;: [10, 20, 40, 50, 70, 80,\n",
       "                                                         100, 120, 150, 200]},\n",
       "                   scoring=&#x27;neg_mean_squared_error&#x27;, verbose=3)</pre><b>In a Jupyter environment, please rerun this cell to show the HTML representation or trust the notebook. <br />On GitHub, the HTML representation is unable to render, please try loading this page with nbviewer.org.</b></div><div class=\"sk-container\" hidden><div class=\"sk-item sk-dashed-wrapped\"><div class=\"sk-label-container\"><div class=\"sk-label sk-toggleable\"><input class=\"sk-toggleable__control sk-hidden--visually\" id=\"sk-estimator-id-1\" type=\"checkbox\" ><label for=\"sk-estimator-id-1\" class=\"sk-toggleable__label sk-toggleable__label-arrow\">RandomizedSearchCV</label><div class=\"sk-toggleable__content\"><pre>RandomizedSearchCV(cv=5, estimator=GradientBoostingRegressor(), n_iter=100,\n",
       "                   param_distributions={&#x27;criterion&#x27;: [&#x27;friedman_mse&#x27;,\n",
       "                                                      &#x27;squared_error&#x27;],\n",
       "                                        &#x27;learning_rate&#x27;: [0.1, 0.01, 1],\n",
       "                                        &#x27;loss&#x27;: [&#x27;squared_error&#x27;,\n",
       "                                                 &#x27;absolute_error&#x27;],\n",
       "                                        &#x27;max_depth&#x27;: [1, 2, 4, 6, 8],\n",
       "                                        &#x27;max_features&#x27;: [&#x27;sqrt&#x27;, &#x27;log2&#x27;],\n",
       "                                        &#x27;min_samples_leaf&#x27;: [1, 3, 4],\n",
       "                                        &#x27;min_samples_split&#x27;: [2, 4, 6, 8, 10],\n",
       "                                        &#x27;n_estimators&#x27;: [10, 20, 40, 50, 70, 80,\n",
       "                                                         100, 120, 150, 200]},\n",
       "                   scoring=&#x27;neg_mean_squared_error&#x27;, verbose=3)</pre></div></div></div><div class=\"sk-parallel\"><div class=\"sk-parallel-item\"><div class=\"sk-item\"><div class=\"sk-label-container\"><div class=\"sk-label sk-toggleable\"><input class=\"sk-toggleable__control sk-hidden--visually\" id=\"sk-estimator-id-2\" type=\"checkbox\" ><label for=\"sk-estimator-id-2\" class=\"sk-toggleable__label sk-toggleable__label-arrow\">estimator: GradientBoostingRegressor</label><div class=\"sk-toggleable__content\"><pre>GradientBoostingRegressor()</pre></div></div></div><div class=\"sk-serial\"><div class=\"sk-item\"><div class=\"sk-estimator sk-toggleable\"><input class=\"sk-toggleable__control sk-hidden--visually\" id=\"sk-estimator-id-3\" type=\"checkbox\" ><label for=\"sk-estimator-id-3\" class=\"sk-toggleable__label sk-toggleable__label-arrow\">GradientBoostingRegressor</label><div class=\"sk-toggleable__content\"><pre>GradientBoostingRegressor()</pre></div></div></div></div></div></div></div></div></div></div>"
      ],
      "text/plain": [
       "RandomizedSearchCV(cv=5, estimator=GradientBoostingRegressor(), n_iter=100,\n",
       "                   param_distributions={'criterion': ['friedman_mse',\n",
       "                                                      'squared_error'],\n",
       "                                        'learning_rate': [0.1, 0.01, 1],\n",
       "                                        'loss': ['squared_error',\n",
       "                                                 'absolute_error'],\n",
       "                                        'max_depth': [1, 2, 4, 6, 8],\n",
       "                                        'max_features': ['sqrt', 'log2'],\n",
       "                                        'min_samples_leaf': [1, 3, 4],\n",
       "                                        'min_samples_split': [2, 4, 6, 8, 10],\n",
       "                                        'n_estimators': [10, 20, 40, 50, 70, 80,\n",
       "                                                         100, 120, 150, 200]},\n",
       "                   scoring='neg_mean_squared_error', verbose=3)"
      ]
     },
     "execution_count": 15,
     "metadata": {},
     "output_type": "execute_result"
    }
   ],
   "source": [
    "random_cv.fit(X_arr,y_arr)"
   ]
  },
  {
   "cell_type": "code",
   "execution_count": 18,
   "id": "e7ca0c26-09f8-4ac4-b8d2-70e98a110f78",
   "metadata": {},
   "outputs": [
    {
     "data": {
      "text/plain": [
       "{'n_estimators': 70,\n",
       " 'min_samples_split': 2,\n",
       " 'min_samples_leaf': 1,\n",
       " 'max_features': 'sqrt',\n",
       " 'max_depth': 1,\n",
       " 'loss': 'squared_error',\n",
       " 'learning_rate': 0.1,\n",
       " 'criterion': 'squared_error'}"
      ]
     },
     "execution_count": 18,
     "metadata": {},
     "output_type": "execute_result"
    }
   ],
   "source": [
    "random_cv.best_params_"
   ]
  },
  {
   "cell_type": "code",
   "execution_count": 21,
   "id": "25307b95-372a-41b7-bb14-5c99803cd386",
   "metadata": {},
   "outputs": [
    {
     "data": {
      "text/html": [
       "<style>#sk-container-id-2 {color: black;background-color: white;}#sk-container-id-2 pre{padding: 0;}#sk-container-id-2 div.sk-toggleable {background-color: white;}#sk-container-id-2 label.sk-toggleable__label {cursor: pointer;display: block;width: 100%;margin-bottom: 0;padding: 0.3em;box-sizing: border-box;text-align: center;}#sk-container-id-2 label.sk-toggleable__label-arrow:before {content: \"▸\";float: left;margin-right: 0.25em;color: #696969;}#sk-container-id-2 label.sk-toggleable__label-arrow:hover:before {color: black;}#sk-container-id-2 div.sk-estimator:hover label.sk-toggleable__label-arrow:before {color: black;}#sk-container-id-2 div.sk-toggleable__content {max-height: 0;max-width: 0;overflow: hidden;text-align: left;background-color: #f0f8ff;}#sk-container-id-2 div.sk-toggleable__content pre {margin: 0.2em;color: black;border-radius: 0.25em;background-color: #f0f8ff;}#sk-container-id-2 input.sk-toggleable__control:checked~div.sk-toggleable__content {max-height: 200px;max-width: 100%;overflow: auto;}#sk-container-id-2 input.sk-toggleable__control:checked~label.sk-toggleable__label-arrow:before {content: \"▾\";}#sk-container-id-2 div.sk-estimator input.sk-toggleable__control:checked~label.sk-toggleable__label {background-color: #d4ebff;}#sk-container-id-2 div.sk-label input.sk-toggleable__control:checked~label.sk-toggleable__label {background-color: #d4ebff;}#sk-container-id-2 input.sk-hidden--visually {border: 0;clip: rect(1px 1px 1px 1px);clip: rect(1px, 1px, 1px, 1px);height: 1px;margin: -1px;overflow: hidden;padding: 0;position: absolute;width: 1px;}#sk-container-id-2 div.sk-estimator {font-family: monospace;background-color: #f0f8ff;border: 1px dotted black;border-radius: 0.25em;box-sizing: border-box;margin-bottom: 0.5em;}#sk-container-id-2 div.sk-estimator:hover {background-color: #d4ebff;}#sk-container-id-2 div.sk-parallel-item::after {content: \"\";width: 100%;border-bottom: 1px solid gray;flex-grow: 1;}#sk-container-id-2 div.sk-label:hover label.sk-toggleable__label {background-color: #d4ebff;}#sk-container-id-2 div.sk-serial::before {content: \"\";position: absolute;border-left: 1px solid gray;box-sizing: border-box;top: 0;bottom: 0;left: 50%;z-index: 0;}#sk-container-id-2 div.sk-serial {display: flex;flex-direction: column;align-items: center;background-color: white;padding-right: 0.2em;padding-left: 0.2em;position: relative;}#sk-container-id-2 div.sk-item {position: relative;z-index: 1;}#sk-container-id-2 div.sk-parallel {display: flex;align-items: stretch;justify-content: center;background-color: white;position: relative;}#sk-container-id-2 div.sk-item::before, #sk-container-id-2 div.sk-parallel-item::before {content: \"\";position: absolute;border-left: 1px solid gray;box-sizing: border-box;top: 0;bottom: 0;left: 50%;z-index: -1;}#sk-container-id-2 div.sk-parallel-item {display: flex;flex-direction: column;z-index: 1;position: relative;background-color: white;}#sk-container-id-2 div.sk-parallel-item:first-child::after {align-self: flex-end;width: 50%;}#sk-container-id-2 div.sk-parallel-item:last-child::after {align-self: flex-start;width: 50%;}#sk-container-id-2 div.sk-parallel-item:only-child::after {width: 0;}#sk-container-id-2 div.sk-dashed-wrapped {border: 1px dashed gray;margin: 0 0.4em 0.5em 0.4em;box-sizing: border-box;padding-bottom: 0.4em;background-color: white;}#sk-container-id-2 div.sk-label label {font-family: monospace;font-weight: bold;display: inline-block;line-height: 1.2em;}#sk-container-id-2 div.sk-label-container {text-align: center;}#sk-container-id-2 div.sk-container {/* jupyter's `normalize.less` sets `[hidden] { display: none; }` but bootstrap.min.css set `[hidden] { display: none !important; }` so we also need the `!important` here to be able to override the default hidden behavior on the sphinx rendered scikit-learn.org. See: https://github.com/scikit-learn/scikit-learn/issues/21755 */display: inline-block !important;position: relative;}#sk-container-id-2 div.sk-text-repr-fallback {display: none;}</style><div id=\"sk-container-id-2\" class=\"sk-top-container\"><div class=\"sk-text-repr-fallback\"><pre>GradientBoostingRegressor(criterion=&#x27;squared_error&#x27;, max_depth=1,\n",
       "                          max_features=&#x27;sqrt&#x27;, n_estimators=70)</pre><b>In a Jupyter environment, please rerun this cell to show the HTML representation or trust the notebook. <br />On GitHub, the HTML representation is unable to render, please try loading this page with nbviewer.org.</b></div><div class=\"sk-container\" hidden><div class=\"sk-item\"><div class=\"sk-estimator sk-toggleable\"><input class=\"sk-toggleable__control sk-hidden--visually\" id=\"sk-estimator-id-4\" type=\"checkbox\" checked><label for=\"sk-estimator-id-4\" class=\"sk-toggleable__label sk-toggleable__label-arrow\">GradientBoostingRegressor</label><div class=\"sk-toggleable__content\"><pre>GradientBoostingRegressor(criterion=&#x27;squared_error&#x27;, max_depth=1,\n",
       "                          max_features=&#x27;sqrt&#x27;, n_estimators=70)</pre></div></div></div></div></div>"
      ],
      "text/plain": [
       "GradientBoostingRegressor(criterion='squared_error', max_depth=1,\n",
       "                          max_features='sqrt', n_estimators=70)"
      ]
     },
     "execution_count": 21,
     "metadata": {},
     "output_type": "execute_result"
    }
   ],
   "source": [
    "random_cv.best_estimator_"
   ]
  },
  {
   "cell_type": "code",
   "execution_count": 22,
   "id": "1a02f08d-ba1d-46b9-8c22-6205a781ce15",
   "metadata": {},
   "outputs": [],
   "source": [
    "GB = random_cv.best_estimator_"
   ]
  },
  {
   "cell_type": "code",
   "execution_count": 23,
   "id": "5a16e89b-4463-4b0f-a474-e43cb32ba96e",
   "metadata": {},
   "outputs": [
    {
     "data": {
      "text/html": [
       "<style>#sk-container-id-3 {color: black;background-color: white;}#sk-container-id-3 pre{padding: 0;}#sk-container-id-3 div.sk-toggleable {background-color: white;}#sk-container-id-3 label.sk-toggleable__label {cursor: pointer;display: block;width: 100%;margin-bottom: 0;padding: 0.3em;box-sizing: border-box;text-align: center;}#sk-container-id-3 label.sk-toggleable__label-arrow:before {content: \"▸\";float: left;margin-right: 0.25em;color: #696969;}#sk-container-id-3 label.sk-toggleable__label-arrow:hover:before {color: black;}#sk-container-id-3 div.sk-estimator:hover label.sk-toggleable__label-arrow:before {color: black;}#sk-container-id-3 div.sk-toggleable__content {max-height: 0;max-width: 0;overflow: hidden;text-align: left;background-color: #f0f8ff;}#sk-container-id-3 div.sk-toggleable__content pre {margin: 0.2em;color: black;border-radius: 0.25em;background-color: #f0f8ff;}#sk-container-id-3 input.sk-toggleable__control:checked~div.sk-toggleable__content {max-height: 200px;max-width: 100%;overflow: auto;}#sk-container-id-3 input.sk-toggleable__control:checked~label.sk-toggleable__label-arrow:before {content: \"▾\";}#sk-container-id-3 div.sk-estimator input.sk-toggleable__control:checked~label.sk-toggleable__label {background-color: #d4ebff;}#sk-container-id-3 div.sk-label input.sk-toggleable__control:checked~label.sk-toggleable__label {background-color: #d4ebff;}#sk-container-id-3 input.sk-hidden--visually {border: 0;clip: rect(1px 1px 1px 1px);clip: rect(1px, 1px, 1px, 1px);height: 1px;margin: -1px;overflow: hidden;padding: 0;position: absolute;width: 1px;}#sk-container-id-3 div.sk-estimator {font-family: monospace;background-color: #f0f8ff;border: 1px dotted black;border-radius: 0.25em;box-sizing: border-box;margin-bottom: 0.5em;}#sk-container-id-3 div.sk-estimator:hover {background-color: #d4ebff;}#sk-container-id-3 div.sk-parallel-item::after {content: \"\";width: 100%;border-bottom: 1px solid gray;flex-grow: 1;}#sk-container-id-3 div.sk-label:hover label.sk-toggleable__label {background-color: #d4ebff;}#sk-container-id-3 div.sk-serial::before {content: \"\";position: absolute;border-left: 1px solid gray;box-sizing: border-box;top: 0;bottom: 0;left: 50%;z-index: 0;}#sk-container-id-3 div.sk-serial {display: flex;flex-direction: column;align-items: center;background-color: white;padding-right: 0.2em;padding-left: 0.2em;position: relative;}#sk-container-id-3 div.sk-item {position: relative;z-index: 1;}#sk-container-id-3 div.sk-parallel {display: flex;align-items: stretch;justify-content: center;background-color: white;position: relative;}#sk-container-id-3 div.sk-item::before, #sk-container-id-3 div.sk-parallel-item::before {content: \"\";position: absolute;border-left: 1px solid gray;box-sizing: border-box;top: 0;bottom: 0;left: 50%;z-index: -1;}#sk-container-id-3 div.sk-parallel-item {display: flex;flex-direction: column;z-index: 1;position: relative;background-color: white;}#sk-container-id-3 div.sk-parallel-item:first-child::after {align-self: flex-end;width: 50%;}#sk-container-id-3 div.sk-parallel-item:last-child::after {align-self: flex-start;width: 50%;}#sk-container-id-3 div.sk-parallel-item:only-child::after {width: 0;}#sk-container-id-3 div.sk-dashed-wrapped {border: 1px dashed gray;margin: 0 0.4em 0.5em 0.4em;box-sizing: border-box;padding-bottom: 0.4em;background-color: white;}#sk-container-id-3 div.sk-label label {font-family: monospace;font-weight: bold;display: inline-block;line-height: 1.2em;}#sk-container-id-3 div.sk-label-container {text-align: center;}#sk-container-id-3 div.sk-container {/* jupyter's `normalize.less` sets `[hidden] { display: none; }` but bootstrap.min.css set `[hidden] { display: none !important; }` so we also need the `!important` here to be able to override the default hidden behavior on the sphinx rendered scikit-learn.org. See: https://github.com/scikit-learn/scikit-learn/issues/21755 */display: inline-block !important;position: relative;}#sk-container-id-3 div.sk-text-repr-fallback {display: none;}</style><div id=\"sk-container-id-3\" class=\"sk-top-container\"><div class=\"sk-text-repr-fallback\"><pre>GradientBoostingRegressor(criterion=&#x27;squared_error&#x27;, max_depth=1,\n",
       "                          max_features=&#x27;sqrt&#x27;, n_estimators=70)</pre><b>In a Jupyter environment, please rerun this cell to show the HTML representation or trust the notebook. <br />On GitHub, the HTML representation is unable to render, please try loading this page with nbviewer.org.</b></div><div class=\"sk-container\" hidden><div class=\"sk-item\"><div class=\"sk-estimator sk-toggleable\"><input class=\"sk-toggleable__control sk-hidden--visually\" id=\"sk-estimator-id-5\" type=\"checkbox\" checked><label for=\"sk-estimator-id-5\" class=\"sk-toggleable__label sk-toggleable__label-arrow\">GradientBoostingRegressor</label><div class=\"sk-toggleable__content\"><pre>GradientBoostingRegressor(criterion=&#x27;squared_error&#x27;, max_depth=1,\n",
       "                          max_features=&#x27;sqrt&#x27;, n_estimators=70)</pre></div></div></div></div></div>"
      ],
      "text/plain": [
       "GradientBoostingRegressor(criterion='squared_error', max_depth=1,\n",
       "                          max_features='sqrt', n_estimators=70)"
      ]
     },
     "execution_count": 23,
     "metadata": {},
     "output_type": "execute_result"
    }
   ],
   "source": [
    "GB.fit(X_arr,y_arr)"
   ]
  },
  {
   "cell_type": "code",
   "execution_count": 24,
   "id": "e86cd0dd-a7cf-4cd1-aba9-3408d78af3b6",
   "metadata": {},
   "outputs": [],
   "source": [
    "y_pred_best=GB.predict(X_test_arr)"
   ]
  },
  {
   "cell_type": "code",
   "execution_count": 29,
   "id": "fc629df4-c36e-46bf-a104-45432b35efe4",
   "metadata": {},
   "outputs": [
    {
     "name": "stdout",
     "output_type": "stream",
     "text": [
      "MSE of test set : 0.28526996724985204\n",
      "RMSE of test set : 0.5341067002480422\n",
      "R2 score of test set : 0.7028860360845326\n"
     ]
    }
   ],
   "source": [
    "print('MSE of test set :',mean_squared_error(y_test_arr,y_pred_best))\n",
    "print('RMSE of test set :',np.sqrt(mean_squared_error(y_test_arr,y_pred_best)))\n",
    "print('R2 score of test set :',r2_score(y_test_arr,y_pred_best))"
   ]
  },
  {
   "cell_type": "markdown",
   "id": "188c4fd8-9c1b-49bb-99c0-5be9045063c0",
   "metadata": {},
   "source": [
    "### Hence, after hyperparameter tuning we got an R2 score of 0.7028860360845326\n"
   ]
  },
  {
   "cell_type": "code",
   "execution_count": null,
   "id": "57d2b8be-d097-437c-a3de-45da605abec0",
   "metadata": {},
   "outputs": [],
   "source": []
  },
  {
   "cell_type": "code",
   "execution_count": null,
   "id": "c38b0afd-7250-4c81-8d3b-5c06e7aef2cb",
   "metadata": {},
   "outputs": [],
   "source": []
  },
  {
   "cell_type": "markdown",
   "id": "be5995a1-a0a6-44a5-a2ca-0568445fbe8d",
   "metadata": {},
   "source": [
    "### Q4. What is a weak learner in Gradient Boosting?\n"
   ]
  },
  {
   "cell_type": "markdown",
   "id": "7fa02a9e-1061-439f-bd3f-c54be2d12c32",
   "metadata": {},
   "source": [
    "- In the context of Gradient Boosting, a weak learner refers to a machine learning model or algorithm that is only slightly better than random guessing for the given problem. Weak learners are typically simple models with limited complexity, such as shallow decision trees or linear models.\n",
    "\n",
    "- Weak learners are deliberately chosen to be weak because the strength of the Gradient Boosting algorithm comes from the ensemble of multiple such weak learners. These weak learners focus on correcting the errors made by previous models in the ensemble.\n",
    "\n"
   ]
  },
  {
   "cell_type": "markdown",
   "id": "27df3160-d433-4005-a36d-84d98e0632ae",
   "metadata": {},
   "source": [
    "### Q5. What is the intuition behind the Gradient Boosting algorithm?\n"
   ]
  },
  {
   "cell_type": "markdown",
   "id": "17c474f0-5347-412b-8bd4-10b3f07eacc8",
   "metadata": {},
   "source": [
    "\n",
    "   - The intuition behind the Gradient Boosting algorithm can be summarized as follows:\n",
    "\n",
    "   1. **Iterative Error Correction:** Gradient Boosting is an ensemble technique that aims to create a strong predictive model by combining multiple weak learners. It works iteratively, where each weak learner focuses on correcting the errors made by the previous ones.\n",
    "\n",
    "   2. **Sequential Learning:** Weak learners are added sequentially to the ensemble. The first learner starts with an initial approximation, and each subsequent learner tries to reduce the errors (residuals) of the ensemble up to that point.\n",
    "\n",
    "   3. **Gradient Descent:** Gradient Boosting uses a gradient descent-like approach to minimize the loss function. The new learners are fit to the gradients of the loss function with respect to the ensemble's predictions. This guides the algorithm to move in the direction that reduces the errors.\n",
    "\n",
    "   4. **Model Combination:** The final prediction is the result of combining the predictions from all weak learners. Each weak learner contributes a part of the prediction, and they are weighted based on their performance.\n",
    "\n",
    "   5. **Strong Predictive Power:** The ensemble of weak learners, when combined, provides a strong predictive model capable of capturing complex relationships in the data and minimizing the prediction error.\n",
    "\n",
    "   6. **Robustness:** Gradient Boosting is robust against overfitting because of its sequential and iterative nature. It can learn from errors made by earlier learners and, in some cases, outperform other machine learning algorithms.\n",
    "\n",
    "   Overall, Gradient Boosting's success lies in its ability to combine simple models in a way that creates a highly accurate and robust predictive model for both classification and regression tasks."
   ]
  },
  {
   "cell_type": "markdown",
   "id": "bb44910d-449e-4942-8a4b-3b93c01284cf",
   "metadata": {},
   "source": [
    "### Q6. How does Gradient Boosting algorithm build an ensemble of weak learners?\n"
   ]
  },
  {
   "cell_type": "markdown",
   "id": "4e5c6474-6052-41d5-a922-0cb28aff76b0",
   "metadata": {},
   "source": [
    "\n",
    "   - Gradient Boosting builds an ensemble of weak learners in an iterative and sequential manner. Here's how the algorithm constructs the ensemble:\n",
    "\n",
    "   1. **Initialization:** Gradient Boosting starts with an initial weak learner, which can be a simple model like a shallow decision tree. The initial model serves as the first base learner in the ensemble.\n",
    "\n",
    "   2. **Error Calculation:** The algorithm calculates the errors or residuals between the actual target values and the predictions made by the initial model. These errors represent the discrepancies between the model's predictions and the true values.\n",
    "\n",
    "   3. **Training New Learners:** A new weak learner (e.g., another decision tree) is trained to predict these errors, focusing on the areas where the initial model performed poorly. The new learner is designed to correct the errors made by the previous model.\n",
    "\n",
    "   4. **Updating Predictions:** The predictions from the new weak learner are added to the predictions of the initial model. This updated ensemble of models aims to provide better predictions, with the new learner addressing the errors made by the previous one.\n",
    "\n",
    "   5. **Gradient Descent:** Gradient Boosting uses a gradient descent-like approach to optimize the ensemble's predictions. It adjusts the new learner's parameters to minimize the loss function, guiding the model in the direction that reduces the errors.\n",
    "\n",
    "   6. **Iterative Process:** Steps 3 to 5 are repeated for a predefined number of iterations or until a specified stopping criteria are met. Each iteration introduces a new learner that refines the predictions.\n",
    "\n",
    "   7. **Combining Predictions:** The final prediction is the result of combining the predictions from all weak learners. Each learner contributes to the overall prediction, and their contributions are weighted based on their performance in reducing errors.\n",
    "\n"
   ]
  },
  {
   "cell_type": "markdown",
   "id": "72663007-e383-4138-ae87-fd657cc13a4c",
   "metadata": {},
   "source": [
    "### Q7. What are the steps involved in constructing the mathematical intuition of Gradient Boosting algorithm?"
   ]
  },
  {
   "cell_type": "markdown",
   "id": "5785b939-9afc-4a3b-8f6c-0c0cd0611f52",
   "metadata": {},
   "source": [
    "\n",
    "   - The mathematical intuition behind Gradient Boosting can be summarized in the following steps:\n",
    "\n",
    "   1. **Initialization:** Start with an initial approximation, which can be a simple model like a decision tree with limited depth.\n",
    "\n",
    "   2. **Error Calculation:** Calculate the errors or residuals by finding the differences between the actual target values and the predictions made by the initial model.\n",
    "\n",
    "   3. **Gradient Calculation:** Compute the gradient (partial derivatives) of the loss function with respect to the model's predictions. This gradient represents how the loss would change with small adjustments to the model's predictions.\n",
    "\n",
    "   4. **Training New Learner:** Train a new weak learner (e.g., another decision tree) to predict the negative gradient, aiming to reduce the errors. This learner is fitted to the residuals of the loss function.\n",
    "\n",
    "   5. **Update Predictions:** Add the predictions from the new learner to the initial model's predictions. This combined model is closer to the true target values than the initial model.\n",
    "\n",
    "   6. **Gradient Descent:** The new learner is fitted in the direction of the negative gradient, which minimizes the loss function. It adjusts its parameters to reduce the errors further.\n",
    "\n",
    "   7. **Iterative Process:** Steps 3 to 6 are repeated for a predefined number of iterations. Each new learner focuses on the remaining errors not yet captured by the ensemble.\n",
    "\n",
    "   8. **Final Prediction:** The final prediction is the result of combining the predictions from all the learners in the ensemble. The weights of these predictions are determined based on the performance of each learner.\n",
    "\n",
    "By following these steps, the Gradient Boosting algorithm constructs an ensemble of weak learners that, when combined, provides a powerful and accurate predictive model."
   ]
  },
  {
   "cell_type": "code",
   "execution_count": null,
   "id": "847b57c4-7792-44ac-bc8c-921a50e4d1c7",
   "metadata": {},
   "outputs": [],
   "source": []
  },
  {
   "cell_type": "code",
   "execution_count": null,
   "id": "44fb719d-ded6-4d1e-a430-048d33464ece",
   "metadata": {},
   "outputs": [],
   "source": []
  },
  {
   "cell_type": "code",
   "execution_count": null,
   "id": "6a847d3b-95d0-4150-b72d-62e66e6e186e",
   "metadata": {},
   "outputs": [],
   "source": []
  },
  {
   "cell_type": "code",
   "execution_count": null,
   "id": "162123ed-b95a-4544-b837-4c83e5210023",
   "metadata": {},
   "outputs": [],
   "source": []
  },
  {
   "cell_type": "code",
   "execution_count": null,
   "id": "215bd006-2fa1-4633-ac46-3b6b64f77dae",
   "metadata": {},
   "outputs": [],
   "source": []
  },
  {
   "cell_type": "code",
   "execution_count": null,
   "id": "63abcade-82c2-4bf0-8a40-55aff48a432e",
   "metadata": {},
   "outputs": [],
   "source": []
  },
  {
   "cell_type": "code",
   "execution_count": null,
   "id": "27f2898c-9c50-4153-ae0f-a1779ff4238d",
   "metadata": {},
   "outputs": [],
   "source": []
  },
  {
   "cell_type": "code",
   "execution_count": null,
   "id": "97052348-9005-45a8-a8a9-fbf33df3cfbc",
   "metadata": {},
   "outputs": [],
   "source": []
  },
  {
   "cell_type": "code",
   "execution_count": null,
   "id": "333daa94-2418-4f80-a764-6a5cf6fba84e",
   "metadata": {},
   "outputs": [],
   "source": []
  },
  {
   "cell_type": "code",
   "execution_count": null,
   "id": "91c2fd02-9441-4889-ae95-877b90314cbd",
   "metadata": {},
   "outputs": [],
   "source": []
  },
  {
   "cell_type": "code",
   "execution_count": null,
   "id": "3fa1be89-dfae-4979-ab4d-27a8f9bb7f6f",
   "metadata": {},
   "outputs": [],
   "source": []
  },
  {
   "cell_type": "code",
   "execution_count": null,
   "id": "1dfa0302-ffc0-497b-a2ea-07a198768c7e",
   "metadata": {},
   "outputs": [],
   "source": []
  }
 ],
 "metadata": {
  "kernelspec": {
   "display_name": "Python 3 (ipykernel)",
   "language": "python",
   "name": "python3"
  },
  "language_info": {
   "codemirror_mode": {
    "name": "ipython",
    "version": 3
   },
   "file_extension": ".py",
   "mimetype": "text/x-python",
   "name": "python",
   "nbconvert_exporter": "python",
   "pygments_lexer": "ipython3",
   "version": "3.10.8"
  }
 },
 "nbformat": 4,
 "nbformat_minor": 5
}
