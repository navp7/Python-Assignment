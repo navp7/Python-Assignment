{
 "cells": [
  {
   "cell_type": "markdown",
   "id": "37772388-42d3-421b-8be6-7fb8bd1bfe7c",
   "metadata": {},
   "source": [
    "## 17 Feb Assignment"
   ]
  },
  {
   "cell_type": "markdown",
   "id": "5f9fb5c6-7b0b-4c46-8f9c-0b8fa463056c",
   "metadata": {},
   "source": [
    "### Q1. What is MongoDB? Explain non-relational databases in short. In which scenarios it is preferred to use MongoDB over SQL databases?"
   ]
  },
  {
   "cell_type": "markdown",
   "id": "d5106703-bcfe-424c-b4e5-5b0c06906881",
   "metadata": {},
   "source": [
    "#### Ans:\n",
    "\n",
    "#### MongoDB is a popular document-oriented NoSQL database that provides high scalability, flexibility, and performance. It is designed to store, retrieve, and manage unstructured or semi-structured data as documents in a flexible and dynamic schema.\n",
    "\n",
    "#### Non-relational databases, also known as NoSQL (Not Only SQL) databases, are databases that do not adhere to the traditional relational database model. Unlike SQL databases, which store data in rigidly structured tables with predefined schemas, NoSQL databases offer a more flexible approach to data storage. \n",
    "\n",
    "#### When considering whether to use MongoDB over SQL databases, some scenarios where MongoDB is often preferred include:\n",
    "\n",
    "#### Rapidly Evolving Data: If your application deals with data that evolves frequently and does not fit well into a fixed schema, MongoDB's dynamic schema and flexible document model can be advantageous.\n",
    "\n",
    "#### Scalability and High Traffic: MongoDB's distributed architecture and horizontal scalability make it suitable for applications with rapidly growing data volumes and high concurrency requirements.\n",
    "\n",
    "#### Unstructured or Semi-structured Data: If your data is unstructured or semi-structured, such as social media feeds, sensor data, or user-generated content, MongoDB's document-oriented approach can provide a more natural and efficient way to handle such data.\n",
    "\n",
    "#### Real-time Analytics: MongoDB's ability to store and process large volumes of data in real-time makes it a suitable choice for applications that require real-time analytics, data exploration, and fast data retrieval.\n",
    "\n",
    "#### Agile Development: MongoDB's flexible schema and support for dynamic changes make it well-suited for agile development methodologies, allowing developers to iterate quickly and adapt to changing requirements."
   ]
  },
  {
   "cell_type": "markdown",
   "id": "e628a01b-45ef-4302-b07d-9bc6c2be90c5",
   "metadata": {},
   "source": [
    "### Q2. State and Explain the features of MongoDB."
   ]
  },
  {
   "cell_type": "markdown",
   "id": "87ac5287-6c0a-45cc-a47e-0c4802cda908",
   "metadata": {},
   "source": [
    "#### Ans:\n",
    "\n",
    "#### MongoDB is a popular NoSQL document-oriented database known for its flexibility, scalability, and performance. It offers several features that make it a preferred choice for many applications. Here are some key features of MongoDB:\n",
    "\n",
    "1. Document Model: MongoDB stores data in a flexible, JSON-like document format called BSON (Binary JSON). Each document can have a different structure, allowing for easy representation of complex, hierarchical, and unstructured data.\n",
    "\n",
    "2. Schema Flexibility: MongoDB has a dynamic schema, meaning that documents in a collection do not need to adhere to a predefined structure. Fields can be added, modified, or removed from documents without affecting other documents in the collection. This schema flexibility provides agility in development and supports evolving data models.\n",
    "\n",
    "3. Scalability and High Availability: MongoDB is designed for scalability and high availability. It supports horizontal scaling through sharding, allowing data to be distributed across multiple servers or clusters. It can handle large amounts of data and high traffic loads by automatically balancing the data and providing automatic failover and replica sets for high availability.\n",
    "\n",
    "4. Indexing and Querying: MongoDB supports indexing on fields to improve query performance. It provides various types of indexes, including single-field indexes, compound indexes, geospatial indexes, and text indexes. MongoDB's powerful query language allows for complex queries and supports advanced operations like aggregation, sorting, and filtering.\n",
    "\n",
    "5. Replication and Fault Tolerance: MongoDB supports replica sets, which are self-healing clusters of database nodes. Replica sets provide automatic failover, data redundancy, and fault tolerance, ensuring data availability even in the event of hardware failures or network issues.\n",
    "\n",
    "6. Ad Hoc Queries and Aggregation: MongoDB's query language provides powerful and flexible ad hoc querying capabilities. It supports a rich set of operators, expressions, and functions for querying and manipulating data. MongoDB also offers a robust aggregation framework for performing complex analytics and data processing operations on the server side.\n",
    "\n",
    "7. Full-text Search: MongoDB includes a full-text search feature that allows for efficient text search and indexing. It supports linguistic analysis, text scoring, and relevance ranking, making it suitable for applications that require advanced search capabilities.\n",
    "\n",
    "8. GridFS: MongoDB's GridFS is a file storage system that allows you to store and retrieve large files (exceeding the BSON document size limit of 16MB) as chunks. It enables efficient management of large binary data, such as images, videos, and audio files, within the database.\n",
    "\n",
    "9. Rich Ecosystem and Community: MongoDB has a thriving community and a rich ecosystem of tools, libraries, and frameworks. It provides official drivers for various programming languages, integration with popular data processing frameworks, and comprehensive documentation and support resources.\n",
    "\n",
    "#### These features of MongoDB make it well-suited for a wide range of applications, including content management systems, real-time analytics, IoT platforms, mobile applications, and more. Its flexibility, scalability, and powerful querying capabilities make it a popular choice for developers seeking a robust NoSQL database solution."
   ]
  },
  {
   "cell_type": "markdown",
   "id": "b981ed79-b29b-4794-a8bb-373a2e95c783",
   "metadata": {},
   "source": [
    "### Q3. Write a code to connect MongoDB to Python. Also, create a database and a collection in MongoDB."
   ]
  },
  {
   "cell_type": "code",
   "execution_count": 3,
   "id": "75a34682-e333-48d0-bcc0-83f75e93868f",
   "metadata": {},
   "outputs": [
    {
     "name": "stdout",
     "output_type": "stream",
     "text": [
      "{'_id': ObjectId('64789c63e2e4d6f3b6e980a4'), 'name': 'John Doe', 'age': 30, 'city': 'New York'}\n"
     ]
    }
   ],
   "source": [
    "# Code\n",
    "\n",
    "import pymongo \n",
    "\n",
    "# Establishing the connection to MongoDB\n",
    "client = pymongo.MongoClient(\"mongodb+srv://<username>:<password>@cluster0.0iyu8a9.mongodb.net/?retryWrites=true&w=majority\")\n",
    "db = client.test\n",
    "\n",
    "# Creating/connecting to a database\n",
    "mydb = client[\"17FebAssign\"]\n",
    "\n",
    "# Creating/connecting to a collection\n",
    "mycollection = mydb[\"mycollection\"]\n",
    "\n",
    "# Inserting a document into the collection\n",
    "data = {\"name\": \"John Doe\", \"age\": 30, \"city\": \"New York\"}\n",
    "mycollection.insert_one(data)\n",
    "\n",
    "# Retrieving all documents from the collection\n",
    "documents = mycollection.find()\n",
    "\n",
    "# Displaying the retrieved documents\n",
    "for document in documents:\n",
    "    print(document)\n",
    "\n",
    "# Closing the connection\n",
    "client.close()\n"
   ]
  },
  {
   "cell_type": "markdown",
   "id": "f0c64763-a944-4b72-821c-b533558dd5e7",
   "metadata": {},
   "source": [
    "### Q4. Using the database and the collection created in question number 3, write a code to insert one record, and insert many records. Use the find() and find_one() methods to print the inserted record."
   ]
  },
  {
   "cell_type": "code",
   "execution_count": 4,
   "id": "0d54d9d0-6735-4c2e-9541-d91ff72a7938",
   "metadata": {},
   "outputs": [
    {
     "name": "stdout",
     "output_type": "stream",
     "text": [
      "Inserted Record:\n",
      "64789d0ce2e4d6f3b6e980a6\n",
      "Inserted Records:\n",
      "[ObjectId('64789d0de2e4d6f3b6e980a7'), ObjectId('64789d0de2e4d6f3b6e980a8'), ObjectId('64789d0de2e4d6f3b6e980a9')]\n",
      "All Records:\n",
      "{'_id': ObjectId('64789c63e2e4d6f3b6e980a4'), 'name': 'John Doe', 'age': 30, 'city': 'New York'}\n",
      "{'_id': ObjectId('64789d0ce2e4d6f3b6e980a6'), 'name': 'Alice', 'age': 25, 'city': 'London'}\n",
      "{'_id': ObjectId('64789d0de2e4d6f3b6e980a7'), 'name': 'Bob', 'age': 30, 'city': 'Paris'}\n",
      "{'_id': ObjectId('64789d0de2e4d6f3b6e980a8'), 'name': 'Charlie', 'age': 35, 'city': 'Berlin'}\n",
      "{'_id': ObjectId('64789d0de2e4d6f3b6e980a9'), 'name': 'David', 'age': 40, 'city': 'Madrid'}\n",
      "One Record:\n",
      "{'_id': ObjectId('64789c63e2e4d6f3b6e980a4'), 'name': 'John Doe', 'age': 30, 'city': 'New York'}\n"
     ]
    }
   ],
   "source": [
    "# Code\n",
    "\n",
    "import pymongo \n",
    "\n",
    "# Establishing the connection to MongoDB\n",
    "client = pymongo.MongoClient(\"mongodb+srv://<username>:<password>@cluster0.0iyu8a9.mongodb.net/?retryWrites=true&w=majority\")\n",
    "db = client.test\n",
    "\n",
    "# Creating/connecting to a database\n",
    "mydb = client[\"17FebAssign\"]\n",
    "\n",
    "# Creating/connecting to a collection\n",
    "mycollection = mydb[\"mycollection\"]\n",
    "\n",
    "# Inserting one record\n",
    "record_one = {\"name\": \"Alice\", \"age\": 25, \"city\": \"London\"}\n",
    "inserted_record_one = mycollection.insert_one(record_one)\n",
    "print(\"Inserted Record:\")\n",
    "print(inserted_record_one.inserted_id)\n",
    "\n",
    "# Inserting multiple records\n",
    "records_many = [\n",
    "    {\"name\": \"Bob\", \"age\": 30, \"city\": \"Paris\"},\n",
    "    {\"name\": \"Charlie\", \"age\": 35, \"city\": \"Berlin\"},\n",
    "    {\"name\": \"David\", \"age\": 40, \"city\": \"Madrid\"}\n",
    "]\n",
    "inserted_records_many = mycollection.insert_many(records_many)\n",
    "print(\"Inserted Records:\")\n",
    "print(inserted_records_many.inserted_ids)\n",
    "\n",
    "# Retrieving all records from the collection using find()\n",
    "all_records = mycollection.find()\n",
    "print(\"All Records:\")\n",
    "for record in all_records:\n",
    "    print(record)\n",
    "\n",
    "# Retrieving one record using find_one()\n",
    "one_record = mycollection.find_one()\n",
    "print(\"One Record:\")\n",
    "print(one_record)\n",
    "\n",
    "# Closing the connection\n",
    "client.close()\n"
   ]
  },
  {
   "cell_type": "markdown",
   "id": "4e90db99-15d7-4052-8f3d-b639f1220bd4",
   "metadata": {},
   "source": [
    "### Q5. Explain how you can use the find() method to query the MongoDB database. Write a simple code to demonstrate this."
   ]
  },
  {
   "cell_type": "markdown",
   "id": "54d219a5-7346-4278-8d57-24c0cf9d0ea5",
   "metadata": {},
   "source": [
    "#### In MongoDB, the `find()` method is used to query the database and retrieve documents that match specified criteria. It allows you to filter and retrieve data based on various conditions. Here's how you can use the `find()` method to query a MongoDB database:\n",
    "\n",
    "1. Connect to MongoDB and select the appropriate database and collection.\n",
    "2. Use the `find()` method on the collection object and pass in the query criteria as a parameter. The query criteria can be specified using a JSON-like syntax.\n",
    "3. Iterate over the cursor object returned by the `find()` method to access the matching documents.\n",
    "\n",
    "#### Here's a simple code example that demonstrates the usage of the `find()` method:"
   ]
  },
  {
   "cell_type": "code",
   "execution_count": 6,
   "id": "e0f57e08-9218-40e1-ba05-2564ea9be6c4",
   "metadata": {},
   "outputs": [
    {
     "name": "stdout",
     "output_type": "stream",
     "text": [
      "{'_id': ObjectId('64789d0de2e4d6f3b6e980a8'), 'name': 'Charlie', 'age': 35, 'city': 'Berlin'}\n"
     ]
    }
   ],
   "source": [
    "# Code\n",
    "\n",
    "import pymongo \n",
    "\n",
    "# Establishing the connection to MongoDB\n",
    "client = pymongo.MongoClient(\"mongodb+srv://<username>:<password>@cluster0.0iyu8a9.mongodb.net/?retryWrites=true&w=majority\")\n",
    "db = client.test\n",
    "\n",
    "# Creating/connecting to a database\n",
    "mydb = client[\"17FebAssign\"]\n",
    "\n",
    "# Creating/connecting to a collection\n",
    "mycollection = mydb[\"mycollection\"]\n",
    "\n",
    "# Querying the database using find()\n",
    "query = {\"age\": 35}  \n",
    "cursor = mycollection.find(query)\n",
    "\n",
    "# Iterating over the cursor and printing the matching documents\n",
    "for document in cursor:\n",
    "    print(document)\n",
    "\n",
    "# Closing the connection\n",
    "client.close()\n"
   ]
  },
  {
   "cell_type": "markdown",
   "id": "525fcd25-cd7d-4820-a990-1424d39defad",
   "metadata": {},
   "source": [
    "### Q6. Explain the sort() method. Give an example to demonstrate sorting in MongoDB."
   ]
  },
  {
   "cell_type": "markdown",
   "id": "1db5f196-1ed8-42f0-bbe7-58d8798dbce5",
   "metadata": {},
   "source": [
    "#### Ans:\n",
    "\n",
    "#### In MongoDB, the sort() method is used to sort the results of a query in ascending or descending order based on one or more fields. It allows you to retrieve documents from a collection in a specific order.\n",
    "\n",
    "#### The sort() method takes a field or a combination of fields as its parameter and applies the sorting based on those fields. The field(s) can be specified using a JSON-like syntax, and you can specify the sort order as ascending (1) or descending (-1).\n",
    "\n",
    "#### Here's an example to demonstrate sorting in MongoDB using the sort() method:"
   ]
  },
  {
   "cell_type": "code",
   "execution_count": 7,
   "id": "6bee39de-d75c-48a6-8090-72ef70354ef1",
   "metadata": {},
   "outputs": [
    {
     "name": "stdout",
     "output_type": "stream",
     "text": [
      "{'_id': ObjectId('64789d0de2e4d6f3b6e980a9'), 'name': 'David', 'age': 40, 'city': 'Madrid'}\n",
      "{'_id': ObjectId('64789d0de2e4d6f3b6e980a8'), 'name': 'Charlie', 'age': 35, 'city': 'Berlin'}\n",
      "{'_id': ObjectId('64789c63e2e4d6f3b6e980a4'), 'name': 'John Doe', 'age': 30, 'city': 'New York'}\n",
      "{'_id': ObjectId('64789d0de2e4d6f3b6e980a7'), 'name': 'Bob', 'age': 30, 'city': 'Paris'}\n",
      "{'_id': ObjectId('64789d0ce2e4d6f3b6e980a6'), 'name': 'Alice', 'age': 25, 'city': 'London'}\n"
     ]
    }
   ],
   "source": [
    "import pymongo \n",
    "\n",
    "# Establishing the connection to MongoDB\n",
    "client = pymongo.MongoClient(\"mongodb+srv://<username>:<password>@cluster0.0iyu8a9.mongodb.net/?retryWrites=true&w=majority\")\n",
    "db = client.test\n",
    "\n",
    "# Creating/connecting to a database\n",
    "mydb = client[\"17FebAssign\"]\n",
    "\n",
    "# Creating/connecting to a collection\n",
    "mycollection = mydb[\"mycollection\"]\n",
    "# Querying the database and sorting the results\n",
    "query = {}  # Empty query to retrieve all documents\n",
    "sort_field = \"age\"  # Sorting based on the \"age\" field\n",
    "sort_order = -1  # Descending order\n",
    "cursor = mycollection.find(query).sort(sort_field, sort_order)\n",
    "\n",
    "# Iterating over the cursor and printing the sorted documents\n",
    "for document in cursor:\n",
    "    print(document)\n",
    "\n",
    "# Closing the connection\n",
    "client.close()\n"
   ]
  },
  {
   "cell_type": "markdown",
   "id": "671fd0d1-95dc-4939-a427-bbff7e71af47",
   "metadata": {},
   "source": [
    "### Q7. Explain why delete_one(), delete_many(), and drop() is used."
   ]
  },
  {
   "cell_type": "markdown",
   "id": "83015386-5420-4fb3-b0b6-1ee42d5df9da",
   "metadata": {},
   "source": [
    "#### Ans: \n",
    "\n",
    "#### In MongoDB, the `delete_one()`, `delete_many()`, and `drop()` methods are used to remove documents or collections from the database. Each method serves a different purpose:\n",
    "\n",
    "####  1. `delete_one()`: This method is used to delete a single document that matches a specified filter. It removes the first document that satisfies the criteria. If multiple documents match the filter, only the first one encountered will be deleted.\n",
    "\n",
    "####    Example:\n",
    "   ```python\n",
    "   result = mycollection.delete_one({\"name\": \"John\"})\n",
    "   ```\n",
    "\n",
    "#### 2. `delete_many()`: This method is used to delete multiple documents that match a specified filter. It removes all the documents that satisfy the criteria.\n",
    "\n",
    "####    Example:\n",
    "   ```python\n",
    "   result = mycollection.delete_many({\"age\": {\"$gt\": 30}})\n",
    "   ```\n",
    "\n",
    "####    In the example above, all documents with an \"age\" greater than 30 would be deleted.\n",
    "\n",
    "#### 3. `drop()`: This method is used to remove an entire collection from the database. It permanently deletes the collection and all its documents. After calling `drop()`, the collection will no longer exist.\n",
    "\n",
    "####    Example:\n",
    "   ```python\n",
    "   mycollection.drop()\n",
    "   ```\n",
    "\n",
    "####    The `drop()` method does not take any parameters. It simply removes the entire collection.\n",
    "\n",
    "#### These methods provide flexibility and control when it comes to deleting data in MongoDB. \n",
    "\n",
    "#### - `delete_one()` is useful when you want to remove a specific document based on certain criteria, such as deleting a single user record.\n",
    "#### - `delete_many()` is handy for removing multiple documents that match a specific condition, like deleting all records with an age greater than a certain value.\n",
    "#### - `drop()` is used when you want to completely remove a collection, which can be useful when you no longer need the collection or want to start fresh.\n",
    "\n"
   ]
  }
 ],
 "metadata": {
  "kernelspec": {
   "display_name": "Python 3 (ipykernel)",
   "language": "python",
   "name": "python3"
  },
  "language_info": {
   "codemirror_mode": {
    "name": "ipython",
    "version": 3
   },
   "file_extension": ".py",
   "mimetype": "text/x-python",
   "name": "python",
   "nbconvert_exporter": "python",
   "pygments_lexer": "ipython3",
   "version": "3.10.8"
  }
 },
 "nbformat": 4,
 "nbformat_minor": 5
}
