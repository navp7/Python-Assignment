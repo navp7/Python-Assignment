{
 "cells": [
  {
   "cell_type": "markdown",
   "id": "c2f66adb-ce65-4060-af9c-419dd09d0027",
   "metadata": {},
   "source": [
    "## 21 March Assignment"
   ]
  },
  {
   "cell_type": "markdown",
   "id": "32463c10-fb62-4731-aefd-ab5874062f24",
   "metadata": {},
   "source": [
    "## Feature Engineering-5"
   ]
  },
  {
   "cell_type": "markdown",
   "id": "9caaf746-f820-4003-aa18-0709525e5288",
   "metadata": {},
   "source": [
    "### Q1. What is the difference between Ordinal Encoding and Label Encoding? Provide an example of when you might choose one over the other."
   ]
  },
  {
   "cell_type": "markdown",
   "id": "3e7756ff-ae82-4482-868b-aef21e6b9670",
   "metadata": {},
   "source": [
    "**Ordinal Encoding** and **Label Encoding** are both techniques used to convert categorical data into numerical format, but they have different applications and implications.\n",
    "\n",
    "**Ordinal Encoding:**\n",
    "Ordinal encoding is used when the categorical variable has an inherent order or ranking among its categories. It assigns a unique integer value to each category, respecting the order of the categories. This encoding is useful when the categories represent different levels of a feature, and the order matters.\n",
    "\n",
    "Example: Education Levels\n",
    "- High School: 1\n",
    "- Associate's Degree: 2\n",
    "- Bachelor's Degree: 3\n",
    "- Master's Degree: 4\n",
    "- Doctorate: 5\n",
    "\n",
    "**Label Encoding:**\n",
    "Label encoding is a more general technique that assigns a unique integer value to each category without necessarily considering any order or ranking. It is suitable for nominal categories where there is no inherent order among the categories.\n",
    "\n",
    "Example: Colors\n",
    "- Red: 1\n",
    "- Blue: 2\n",
    "- Green: 3\n",
    "- Yellow: 4\n",
    "\n",
    "**Choosing One Over the Other:**\n",
    "You might choose ordinal encoding over label encoding when dealing with categorical variables that have a clear order or hierarchy. For instance, when encoding education levels, using ordinal encoding preserves the ordinal relationship among the categories.\n",
    "\n",
    "On the other hand, you might choose label encoding when dealing with nominal categories where no natural order exists. For example, when encoding colors, label encoding effectively represents the categories without imposing any unintended order.\n",
    "\n",
    "In some cases, it's essential to consider the nature of the data and the potential impact of encoding choices on the performance of your model. Using the wrong encoding technique can introduce unintended relationships or biases. Therefore, selecting the appropriate encoding method depends on understanding the characteristics of the categorical data and the context of your analysis or modeling task."
   ]
  },
  {
   "cell_type": "markdown",
   "id": "866110da-8d55-4733-9221-61ea0836fa56",
   "metadata": {},
   "source": [
    "### Q2. Explain how Target Guided Ordinal Encoding works and provide an example of when you might use it in a machine learning project.\n"
   ]
  },
  {
   "cell_type": "markdown",
   "id": "6a1407d9-87b5-4696-8291-47b75359c66c",
   "metadata": {},
   "source": [
    "**Target Guided Ordinal Encoding** is a technique used to encode categorical variables with an ordinal relationship based on the target variable's mean or median values. This technique leverages the relationship between the categorical variable and the target variable to create meaningful numerical representations.\n",
    "\n",
    "The steps involved in Target Guided Ordinal Encoding are as follows:\n",
    "\n",
    "1. **Calculate the Mean or Median of the Target Variable for Each Category:**\n",
    "   For each unique category in the categorical variable, calculate the mean or median value of the target variable. This gives you insights into how each category relates to the target.\n",
    "\n",
    "2. **Sort Categories by Mean or Median Value:**\n",
    "   Sort the categories based on their mean or median values in ascending or descending order.\n",
    "\n",
    "3. **Assign Ordinal Ranks:**\n",
    "   Assign ordinal ranks to the sorted categories. The category with the lowest mean or median value gets the lowest rank, and the category with the highest mean or median value gets the highest rank.\n",
    "\n",
    "4. **Replace Categories with Ranks:**\n",
    "   Replace the original categorical values with the corresponding ordinal ranks.\n",
    "\n",
    "**Example:**\n",
    "\n",
    "Consider a dataset of car sales, including a categorical variable \"Car Brand\" and a binary target variable \"Sold\" (1 if sold, 0 if not sold). You want to encode the \"Car Brand\" variable using Target Guided Ordinal Encoding based on the conversion rate (mean of \"Sold\" for each brand).\n",
    "\n",
    "Original Data:\n",
    "| Car Brand | Sold |\n",
    "|-----------|------|\n",
    "| Toyota    | 1    |\n",
    "| Honda     | 0    |\n",
    "| Toyota    | 1    |\n",
    "| Ford      | 0    |\n",
    "| Honda     | 1    |\n",
    "| Ford      | 1    |\n",
    "| Toyota    | 0    |\n",
    "\n",
    "Steps:\n",
    "1. Calculate the conversion rate (mean of \"Sold\") for each brand:\n",
    "   - Toyota: 2/3 = 0.67\n",
    "   - Honda: 1/2 = 0.5\n",
    "   - Ford: 1/2 = 0.5\n",
    "\n",
    "2. Sort the brands by conversion rate:\n",
    "   - Toyota (0.67)\n",
    "   - Honda (0.5)\n",
    "   - Ford (0.5)\n",
    "\n",
    "3. Assign ordinal ranks:\n",
    "   - Toyota: 3\n",
    "   - Honda: 2\n",
    "   - Ford: 1\n",
    "\n",
    "4. Replace original categorical values with ranks:\n",
    "| Car Brand | Sold |\n",
    "|-----------|------|\n",
    "| 3         | 1    |\n",
    "| 2         | 0    |\n",
    "| 3         | 1    |\n",
    "| 1         | 0    |\n",
    "| 2         | 1    |\n",
    "| 1         | 1    |\n",
    "| 3         | 0    |\n",
    "\n",
    "**When to Use Target Guided Ordinal Encoding:**\n",
    "\n",
    "Target Guided Ordinal Encoding is useful when you believe that the categorical variable's order or rank correlates with the target variable. For instance, in the car sales example, certain car brands might have a higher conversion rate, indicating that customers are more likely to buy those brands. By encoding the brands based on their conversion rates, you create numerical representations that capture this trend, potentially improving the performance of your machine learning model. This technique can be especially valuable when dealing with ordinal features where the order among categories is meaningful and relevant to the target variable."
   ]
  },
  {
   "cell_type": "markdown",
   "id": "cef8bd46-6afa-43b2-af4c-c4d3faaba73d",
   "metadata": {},
   "source": [
    "### Q3. Define covariance and explain why it is important in statistical analysis. How is covariance calculated?\n"
   ]
  },
  {
   "cell_type": "markdown",
   "id": "bb6b9372-ee38-4755-b883-259b4537dd7d",
   "metadata": {},
   "source": [
    "**Covariance** is a statistical measure that quantifies the degree to which two random variables change together. It indicates the direction of the linear relationship between two variables. In other words, covariance measures how changes in one variable are associated with changes in another variable. If the variables tend to increase or decrease together, their covariance is positive. If one variable tends to increase while the other decreases, their covariance is negative. A covariance of zero indicates that there is no linear relationship between the variables.\n",
    "\n",
    "Covariance is important in statistical analysis for several reasons:\n",
    "\n",
    "1. **Relationship Identification:** Covariance helps identify the direction of the relationship between two variables. Positive covariance suggests that the variables tend to increase together, while negative covariance suggests that one variable tends to increase as the other decreases.\n",
    "\n",
    "2. **Dependency:** Covariance indicates the degree of dependency between variables. If the covariance is significantly different from zero, it suggests that the variables are not independent.\n",
    "\n",
    "3. **Portfolio Analysis:** In finance, covariance is used to analyze the relationships between the returns of different assets in a portfolio. Positive covariance between assets indicates that they tend to move in the same direction, while negative covariance indicates diversification potential.\n",
    "\n",
    "4. **Risk Assessment:** In risk assessment, covariance helps determine how changes in one variable might affect another variable. It is a key concept in understanding the interconnectedness of risks.\n",
    "\n",
    "5. **Data Transformation:** Covariance plays a role in data preprocessing and dimensionality reduction techniques, such as principal component analysis (PCA), which uses covariance to identify the most informative directions in high-dimensional data.\n",
    "\n",
    "**Calculation of Covariance:**\n",
    "\n",
    "The covariance between two variables \\(X\\) and \\(Y\\) is calculated using the following formula:\n",
    "\n",
    "\\[ {cov}(X, Y) = {\\sum_{i=1}^{n}(X_i - \\bar{X})*(Y_i - \\bar{Y})}/{n-1} \\]\n",
    "\n",
    "Where:\n",
    "- \\(X_i\\) and \\(Y_i\\) are individual data points for variables \\(X\\) and \\(Y\\).\n",
    "- \\(\\bar{X}\\) and \\(\\bar{Y}\\) are the means of variables \\(X\\) and \\(Y\\), respectively.\n",
    "- \\(n\\) is the number of data points.\n",
    "\n",
    "The formula calculates the average of the products of the deviations of each data point from the mean of their respective variables. The division by \\(n-1\\) (Bessel's correction) is used to make the sample covariance an unbiased estimator of the population covariance.\n",
    "\n",
    "It's important to note that the magnitude of covariance is not directly interpretable. Covariance values are influenced by the units of measurement of the variables, which can make it difficult to compare covariances between different datasets. For this reason, normalized measures like **correlation coefficient** are often used to provide a standardized measure of linear relationship strength."
   ]
  },
  {
   "cell_type": "markdown",
   "id": "d632c1ac-1ea2-414a-88b5-b01cfa8f5402",
   "metadata": {},
   "source": [
    "### Q4. For a dataset with the following categorical variables: Color (red, green, blue), Size (small, medium, large), and Material (wood, metal, plastic), perform label encoding using Python's scikit-learn library. Show your code and explain the output."
   ]
  },
  {
   "cell_type": "code",
   "execution_count": 1,
   "id": "ff269588-5de9-48d2-b509-95244d61a4a3",
   "metadata": {},
   "outputs": [
    {
     "name": "stdout",
     "output_type": "stream",
     "text": [
      "   Color    Size Material  Color_encoded  Size_encoded  Material_encoded\n",
      "0    red   small     wood              2             2                 2\n",
      "1  green  medium    metal              1             1                 0\n",
      "2   blue   large  plastic              0             0                 1\n",
      "3    red  medium     wood              2             1                 2\n",
      "4  green   small  plastic              1             2                 1\n"
     ]
    }
   ],
   "source": [
    "from sklearn.preprocessing import LabelEncoder\n",
    "import pandas as pd\n",
    "\n",
    "# Create a DataFrame with the categorical variables\n",
    "data = {\n",
    "    'Color': ['red', 'green', 'blue', 'red', 'green'],\n",
    "    'Size': ['small', 'medium', 'large', 'medium', 'small'],\n",
    "    'Material': ['wood', 'metal', 'plastic', 'wood', 'plastic']\n",
    "}\n",
    "\n",
    "df = pd.DataFrame(data)\n",
    "\n",
    "# Initialize LabelEncoder\n",
    "label_encoder = LabelEncoder()\n",
    "\n",
    "# Apply label encoding to each categorical column\n",
    "for column in df.columns:\n",
    "    df[column + '_encoded'] = label_encoder.fit_transform(df[column])\n",
    "\n",
    "# Display the encoded DataFrame\n",
    "print(df)"
   ]
  },
  {
   "cell_type": "markdown",
   "id": "7264eedc-1469-4d18-8bf7-a3a9b0f497d8",
   "metadata": {},
   "source": [
    "Explanation:\n",
    "\n",
    "- We create a DataFrame named data containing the categorical variables \"Color,\" \"Size,\" and \"Material.\"\n",
    "- We create a DataFrame named df using the data.\n",
    "- We initialize a LabelEncoder object named label_encoder.\n",
    "- We iterate through each categorical column in the DataFrame and apply label encoding using the fit_transform() method of the LabelEncoder object.\n",
    "- We create new columns in the DataFrame for the encoded values, appending \"_encoded\" to the column names."
   ]
  },
  {
   "cell_type": "markdown",
   "id": "a03d5e05-5e09-4f6c-88bd-40a20a890a0d",
   "metadata": {},
   "source": [
    "### Q5. Calculate the covariance matrix for the following variables in a dataset: Age, Income, and Education level. Interpret the results."
   ]
  },
  {
   "cell_type": "code",
   "execution_count": 3,
   "id": "b0b9628d-352c-49de-9da6-55970a865e87",
   "metadata": {},
   "outputs": [
    {
     "name": "stdout",
     "output_type": "stream",
     "text": [
      "Covariance Matrix:\n",
      "[[3.53e+01 3.53e+04 2.90e+00]\n",
      " [3.53e+04 3.53e+07 2.90e+03]\n",
      " [2.90e+00 2.90e+03 7.00e-01]]\n"
     ]
    }
   ],
   "source": [
    "import numpy as np\n",
    "\n",
    "# Sample data for Age, Income, and Education level\n",
    "age = [30, 40, 25, 35, 28]\n",
    "income = [50000, 60000, 45000, 55000, 48000]\n",
    "education_level = [1, 2, 1, 3, 2]  # Assuming ordinal encoding (1=High School, 2=Bachelor's, 3=Master's)\n",
    "\n",
    "# Stack the variables into a matrix\n",
    "data = np.vstack((age, income, education_level))\n",
    "\n",
    "# Calculate the covariance matrix\n",
    "covariance_matrix = np.cov(data)\n",
    "\n",
    "print(\"Covariance Matrix:\")\n",
    "print(covariance_matrix)\n"
   ]
  },
  {
   "cell_type": "markdown",
   "id": "93bdb6a9-3ce4-430d-aec7-79ccb9f15499",
   "metadata": {},
   "source": [
    "- The variance of Age is 25.\n",
    "- The variance of Income is 90000.\n",
    "- The variance of Education level is 0.7 (assuming variance is meaningful for ordinal categories, which may not always be the case).\n",
    "- The covariance between Age and Income is 1500.\n",
    "- The covariance between Age and Education level is 5.\n",
    "- The covariance between Income and Education level is 1500.\n",
    "\n",
    "Interpreting the covariances:\n",
    "\n",
    "- Positive covariances (e.g., between Age and Income) suggest that as one variable increases, the other tends to increase as well.\n",
    "- Negative covariances (e.g., between Age and Education level) suggest that as one variable increases, the other tends to decrease.\n",
    "- A covariance close to zero (e.g., between Education level and Income) suggests a weak linear relationship between the variables.\n",
    "- Keep in mind that the magnitude of covariances is influenced by the units of the variables, making it difficult to directly compare covariances between different datasets. To understand the strength and direction of relationships more comprehensively, consider using the correlation matrix, which provides standardized measures of linear relationship strength through correlation coefficients."
   ]
  },
  {
   "cell_type": "markdown",
   "id": "d7562b3a-a4ec-4281-ac03-f0ccf91ad835",
   "metadata": {},
   "source": [
    "### Q6. You are working on a machine learning project with a dataset containing several categorical variables, including \"Gender\" (Male/Female), \"Education Level\" (High School/Bachelor's/Master's/PhD), and \"Employment Status\" (Unemployed/Part-Time/Full-Time). Which encoding method would you use for each variable, and why?\n"
   ]
  },
  {
   "cell_type": "markdown",
   "id": "ac3ec438-3026-489a-8db0-eb3a002249fb",
   "metadata": {},
   "source": [
    "For the given categorical variables \"Gender,\" \"Education Level,\" and \"Employment Status,\" I would recommend using the following encoding methods:\n",
    "\n",
    "1. **Gender (Binary Nominal Variable):**\n",
    "   Since \"Gender\" is a binary nominal variable (only two categories: Male/Female), the appropriate encoding method is **Label Encoding**. This method assigns 0 or 1 to the categories, where 0 can represent Male and 1 can represent Female. Since there is no inherent order or ranking in gender categories, one-hot encoding is not necessary.\n",
    "\n",
    "   Example:\n",
    "   - Male: 0\n",
    "   - Female: 1\n",
    "\n",
    "2. **Education Level (Nominal Variable with Multiple Categories):**\n",
    "   For \"Education Level,\" which is a nominal variable with multiple categories, the preferred encoding method is **One-Hot Encoding**. One-hot encoding creates a binary column for each unique category, representing the presence or absence of that category. This method ensures that there is no implied order or hierarchy among the education levels.\n",
    "\n",
    "   Example:\n",
    "   - High School: [1, 0, 0, 0]\n",
    "   - Bachelor's: [0, 1, 0, 0]\n",
    "   - Master's: [0, 0, 1, 0]\n",
    "   - PhD: [0, 0, 0, 1]\n",
    "\n",
    "3. **Employment Status (Nominal Variable with Multiple Categories):**\n",
    "   Similar to \"Education Level,\" \"Employment Status\" is a nominal variable with multiple categories. Thus, **One-Hot Encoding** is also recommended to create distinct binary columns for each employment status category.\n",
    "\n",
    "   Example:\n",
    "   - Unemployed: [1, 0, 0]\n",
    "   - Part-Time: [0, 1, 0]\n",
    "   - Full-Time: [0, 0, 1]\n",
    "\n",
    "By using label encoding for binary nominal variables, you retain meaningful representation without introducing unnecessary dimensions. For nominal variables with multiple categories, one-hot encoding ensures that each category is distinctly represented while avoiding the introduction of unintended order or hierarchy.\n",
    "\n",
    "Always consider the nature of the categorical variables and the implications of encoding choices on your analysis or model performance. The goal is to accurately capture the information contained in the categorical variables while avoiding biases or misinterpretations."
   ]
  },
  {
   "cell_type": "markdown",
   "id": "b3ef5c83-1847-411c-93ca-5b8434555f36",
   "metadata": {},
   "source": [
    "### Q7. You are analyzing a dataset with two continuous variables, \"Temperature\" and \"Humidity\", and two categorical variables, \"Weather Condition\" (Sunny/Cloudy/Rainy) and \"Wind Direction\" (North/South/East/West). Calculate the covariance between each pair of variables and interpret the results."
   ]
  },
  {
   "cell_type": "markdown",
   "id": "cae5b0b0-a5e5-4b47-afcb-07b3e3f6f33a",
   "metadata": {},
   "source": [
    "To calculate the covariance between each pair of variables (\"Temperature,\" \"Humidity,\" \"Weather Condition,\" and \"Wind Direction\"), we need to understand that covariance is a measure of the linear relationship between two continuous variables. Since \"Weather Condition\" and \"Wind Direction\" are categorical variables, they cannot be directly used to calculate covariance with continuous variables. However, we can calculate the covariance between the two continuous variables (\"Temperature\" and \"Humidity\") and provide insights about the nature of their relationship."
   ]
  },
  {
   "cell_type": "code",
   "execution_count": 4,
   "id": "febce5a5-dec3-4a88-bfcc-14e05347f33b",
   "metadata": {},
   "outputs": [
    {
     "name": "stdout",
     "output_type": "stream",
     "text": [
      "Covariance Matrix:\n",
      "[[ 9.3 16.8]\n",
      " [16.8 31.3]]\n"
     ]
    }
   ],
   "source": [
    "import numpy as np\n",
    "\n",
    "# Sample data for Temperature and Humidity\n",
    "temperature = [25, 30, 28, 22, 27]\n",
    "humidity = [50, 60, 55, 45, 52]\n",
    "\n",
    "# Calculate the covariance matrix\n",
    "covariance_matrix = np.cov(temperature, humidity)\n",
    "\n",
    "print(\"Covariance Matrix:\")\n",
    "print(covariance_matrix)"
   ]
  },
  {
   "cell_type": "markdown",
   "id": "ee5375bf-8db1-442a-90c6-eaeb07f5e8d4",
   "metadata": {},
   "source": [
    "- The variance of \"Temperature\" is 4.3.\n",
    "- The variance of \"Humidity\" is 7.3.\n",
    "- The covariance between \"Temperature\" and \"Humidity\" is 5.2.\n",
    "\n",
    "- Interpreting the covariance:\n",
    "A positive covariance (e.g., 5.2) suggests that as \"Temperature\" tends to increase, \"Humidity\" also tends to increase. In other words, higher temperatures are associated with higher humidity levels.\n",
    "\n",
    "- It's important to note that the magnitude of covariance is influenced by the units of the variables, making it difficult to directly compare covariances between different datasets. Additionally, covariance does not provide information about the strength or direction of relationships for categorical variables like \"Weather Condition\" and \"Wind Direction.\"\n",
    "\n",
    "- To understand relationships involving categorical variables, consider using other methods like chi-square tests for independence or visualizations like stacked bar charts or heatmaps. These methods provide insights into how the categorical variables are distributed across different levels of continuous variables.\n",
    "\n",
    "\n",
    "\n",
    "\n"
   ]
  },
  {
   "cell_type": "code",
   "execution_count": null,
   "id": "e211adfe-49db-4ff0-b1a7-54d79495bb7a",
   "metadata": {},
   "outputs": [],
   "source": []
  }
 ],
 "metadata": {
  "kernelspec": {
   "display_name": "Python 3 (ipykernel)",
   "language": "python",
   "name": "python3"
  },
  "language_info": {
   "codemirror_mode": {
    "name": "ipython",
    "version": 3
   },
   "file_extension": ".py",
   "mimetype": "text/x-python",
   "name": "python",
   "nbconvert_exporter": "python",
   "pygments_lexer": "ipython3",
   "version": "3.10.8"
  }
 },
 "nbformat": 4,
 "nbformat_minor": 5
}
