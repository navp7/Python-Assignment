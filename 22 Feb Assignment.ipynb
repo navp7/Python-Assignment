{
 "cells": [
  {
   "cell_type": "markdown",
   "id": "a0534b63-b622-4467-bc32-749bd1c1d07e",
   "metadata": {},
   "source": [
    "## 22 Feb Assignment"
   ]
  },
  {
   "cell_type": "markdown",
   "id": "935ecc5a-e8a5-44bf-9936-e822e96db084",
   "metadata": {},
   "source": [
    "### Q1. Create a Pandas Series that contains the following data: 4, 8, 15, 16, 23, and 42. Then, print the series."
   ]
  },
  {
   "cell_type": "code",
   "execution_count": 9,
   "id": "d037a8f4-2ab6-4150-be21-d076bc89a57e",
   "metadata": {},
   "outputs": [
    {
     "name": "stdout",
     "output_type": "stream",
     "text": [
      "0     4\n",
      "1     8\n",
      "2    15\n",
      "3    16\n",
      "4    23\n",
      "5    42\n",
      "dtype: int64\n"
     ]
    }
   ],
   "source": [
    "#Code:\n",
    "\n",
    "import pandas as pd\n",
    "\n",
    "s = {\"0\":4, \"1\":8, \"2\":15,\"3\":16, \"4\":23, \"5\":42}\n",
    "p=pd.Series(s)\n",
    "print(p)"
   ]
  },
  {
   "cell_type": "markdown",
   "id": "e90185d9-aef2-4b8b-ae2f-df0f07f11b87",
   "metadata": {},
   "source": [
    "### Q2. Create a variable of list type containing 10 elements in it, and apply pandas.Series function on the variable print it."
   ]
  },
  {
   "cell_type": "code",
   "execution_count": 10,
   "id": "4c742ef0-406f-4b9c-8817-bf1a5dcfe7f1",
   "metadata": {},
   "outputs": [
    {
     "name": "stdout",
     "output_type": "stream",
     "text": [
      "0            Science\n",
      "1            English\n",
      "2              Hindi\n",
      "3              Maths\n",
      "4          Geography\n",
      "5            History\n",
      "6     Social Science\n",
      "7                 PT\n",
      "8    Value Education\n",
      "9          Computers\n",
      "dtype: object\n"
     ]
    }
   ],
   "source": [
    "#Code:\n",
    "\n",
    "import pandas as pd\n",
    "\n",
    "sub_list = ['Science','English','Hindi','Maths','Geography','History','Social Science','PT','Value Education','Computers']\n",
    "\n",
    "my_series = pd.Series(sub_list)\n",
    "\n",
    "print(my_series)"
   ]
  },
  {
   "cell_type": "markdown",
   "id": "a4d67d97-86ef-4de0-93a4-05b8a702ed3b",
   "metadata": {},
   "source": [
    "### Q3. Create a Pandas DataFrame that contains the following data: \n",
    "#### Name: Alice Bob Claire\n",
    "#### Age: 25 30 27\n",
    "#### Gender: Female Male Female"
   ]
  },
  {
   "cell_type": "code",
   "execution_count": 15,
   "id": "63072be9-5c50-4c8e-9b58-7507d66ea366",
   "metadata": {},
   "outputs": [
    {
     "data": {
      "text/html": [
       "<div>\n",
       "<style scoped>\n",
       "    .dataframe tbody tr th:only-of-type {\n",
       "        vertical-align: middle;\n",
       "    }\n",
       "\n",
       "    .dataframe tbody tr th {\n",
       "        vertical-align: top;\n",
       "    }\n",
       "\n",
       "    .dataframe thead th {\n",
       "        text-align: right;\n",
       "    }\n",
       "</style>\n",
       "<table border=\"1\" class=\"dataframe\">\n",
       "  <thead>\n",
       "    <tr style=\"text-align: right;\">\n",
       "      <th></th>\n",
       "      <th>Name</th>\n",
       "      <th>Age</th>\n",
       "      <th>Gender</th>\n",
       "    </tr>\n",
       "  </thead>\n",
       "  <tbody>\n",
       "    <tr>\n",
       "      <th>0</th>\n",
       "      <td>Alice</td>\n",
       "      <td>25</td>\n",
       "      <td>Female</td>\n",
       "    </tr>\n",
       "    <tr>\n",
       "      <th>1</th>\n",
       "      <td>Bob</td>\n",
       "      <td>30</td>\n",
       "      <td>Male</td>\n",
       "    </tr>\n",
       "    <tr>\n",
       "      <th>2</th>\n",
       "      <td>Claire</td>\n",
       "      <td>27</td>\n",
       "      <td>Female</td>\n",
       "    </tr>\n",
       "  </tbody>\n",
       "</table>\n",
       "</div>"
      ],
      "text/plain": [
       "     Name  Age  Gender\n",
       "0   Alice   25  Female\n",
       "1     Bob   30    Male\n",
       "2  Claire   27  Female"
      ]
     },
     "execution_count": 15,
     "metadata": {},
     "output_type": "execute_result"
    }
   ],
   "source": [
    "# Code:\n",
    "\n",
    "import pandas as pd\n",
    "\n",
    "data = {\"Name\" : [\"Alice\", \"Bob\" , \"Claire\"] , \"Age\" : [25, 30, 27], \"Gender\": [\"Female\",\"Male\", \"Female\"]}\n",
    "pd.DataFrame(data)"
   ]
  },
  {
   "cell_type": "markdown",
   "id": "bf47ae5f-62f7-4d23-815a-461e74056460",
   "metadata": {},
   "source": [
    "## Q4. What is ‘DataFrame’ in pandas and how is it different from pandas.series? Explain with an example."
   ]
  },
  {
   "cell_type": "markdown",
   "id": "0ffb4648-04f0-48e7-9d3f-5cfc1414a29b",
   "metadata": {},
   "source": [
    "#### Ans:\n",
    "#### In pandas, a DataFrame is a two-dimensional data structure that is designed to handle tabular data. It can be thought of as a collection of Series objects, where each Series represents a column of data. In other words, a DataFrame is a table-like structure that contains rows and columns.\n",
    "\n",
    "#### On the other hand, a Series is a one-dimensional labeled array that can hold any data type. It can be seen as a single column of data in a DataFrame. A DataFrame can contain multiple Series objects, each representing a different column."
   ]
  },
  {
   "cell_type": "code",
   "execution_count": 16,
   "id": "44c8aa12-1551-4d1e-b563-6c8ae9cbef81",
   "metadata": {},
   "outputs": [
    {
     "name": "stdout",
     "output_type": "stream",
     "text": [
      "    Name  Age  Grade\n",
      "0   John   18     85\n",
      "1  Alice   19     92\n",
      "2    Bob   17     78\n",
      "3  Emily   18     88\n"
     ]
    }
   ],
   "source": [
    "import pandas as pd\n",
    "\n",
    "# Creating a DataFrame\n",
    "data = {\n",
    "    'Name': ['John', 'Alice', 'Bob', 'Emily'],\n",
    "    'Age': [18, 19, 17, 18],\n",
    "    'Grade': [85, 92, 78, 88]\n",
    "}\n",
    "\n",
    "df = pd.DataFrame(data)\n",
    "print(df)"
   ]
  },
  {
   "cell_type": "markdown",
   "id": "5dbd6c81-4188-48b1-abbd-9a13ffc2a5a0",
   "metadata": {},
   "source": [
    "#### In the above example, we create a DataFrame named df using a dictionary. The keys of the dictionary represent column names ('Name', 'Age', 'Grade'), and the corresponding values are lists that contain the data for each column. Each column is a Series object, and together they form the DataFrame.\n",
    "\n",
    "#### We can access individual columns of the DataFrame as Series objects. "
   ]
  },
  {
   "cell_type": "code",
   "execution_count": 17,
   "id": "35ccd293-3c08-4b18-b6e6-e1c82b27be4e",
   "metadata": {},
   "outputs": [
    {
     "name": "stdout",
     "output_type": "stream",
     "text": [
      "0     John\n",
      "1    Alice\n",
      "2      Bob\n",
      "3    Emily\n",
      "Name: Name, dtype: object\n"
     ]
    }
   ],
   "source": [
    "name_series = df['Name']\n",
    "print(name_series)"
   ]
  },
  {
   "cell_type": "markdown",
   "id": "353b6e16-7add-4b4d-8b7c-c77c76fc2cb2",
   "metadata": {},
   "source": [
    "#### Here, name_series is a Series object containing the names of the students. It has the same length as the DataFrame, and the index labels correspond to the row labels of the DataFrame."
   ]
  },
  {
   "cell_type": "markdown",
   "id": "496fbda7-b05f-4daf-96a7-4548a8bf54d6",
   "metadata": {},
   "source": [
    "### Q5. What are some common functions you can use to manipulate data in a Pandas DataFrame? Can you give an example of when you might use one of these functions?"
   ]
  },
  {
   "cell_type": "markdown",
   "id": "c981bd94-b50a-4498-89bd-fbf9140c912d",
   "metadata": {},
   "source": [
    "#### Pandas provides a wide range of functions to manipulate and analyze data in a DataFrame. Here are some commonly used functions:\n",
    "\n",
    "#### 1. head() and tail(): These functions allow you to view the first few rows (head()) or the last few rows (tail()) of a DataFrame. They are useful for quickly inspecting the data."
   ]
  },
  {
   "cell_type": "code",
   "execution_count": 21,
   "id": "5701b2f2-a6dc-45ce-aeda-035f6b9ad7d8",
   "metadata": {},
   "outputs": [
    {
     "name": "stdout",
     "output_type": "stream",
     "text": [
      "   Name  Age      City\n",
      "0  John   25  New York\n",
      "1  Emma   28    London\n",
      "    Name  Age    City\n",
      "1   Emma   28  London\n",
      "2  Peter   30   Paris\n"
     ]
    }
   ],
   "source": [
    "import pandas as pd\n",
    "\n",
    "# Creating a DataFrame\n",
    "data = {'Name': ['John', 'Emma', 'Peter'],\n",
    "        'Age': [25, 28, 30],\n",
    "        'City': ['New York', 'London', 'Paris']}\n",
    "df = pd.DataFrame(data)\n",
    "\n",
    "print(df.head(2))\n",
    "print(df.tail(2))"
   ]
  },
  {
   "cell_type": "markdown",
   "id": "be94dfd0-c7b9-41bb-aa87-98f834d14284",
   "metadata": {},
   "source": [
    "#### 2. describe(): This function generates descriptive statistics of the DataFrame, such as count, mean, standard deviation, minimum, maximum, and quartiles for each numeric column."
   ]
  },
  {
   "cell_type": "code",
   "execution_count": 19,
   "id": "7345ffe6-ef2c-4f5f-87c7-cefb682c0f57",
   "metadata": {},
   "outputs": [
    {
     "name": "stdout",
     "output_type": "stream",
     "text": [
      "             Age\n",
      "count   3.000000\n",
      "mean   27.666667\n",
      "std     2.516611\n",
      "min    25.000000\n",
      "25%    26.500000\n",
      "50%    28.000000\n",
      "75%    29.000000\n",
      "max    30.000000\n"
     ]
    }
   ],
   "source": [
    "print(df.describe())"
   ]
  },
  {
   "cell_type": "markdown",
   "id": "be9ccc47-10d6-4af2-bb7d-e9702c9ccf6c",
   "metadata": {},
   "source": [
    "#### 3. info(): This function provides a summary of the DataFrame, including the column names, data types, and non-null values. It is helpful for understanding the structure of the DataFrame."
   ]
  },
  {
   "cell_type": "code",
   "execution_count": 20,
   "id": "d43696ff-d068-4b46-9183-565bce02c68d",
   "metadata": {},
   "outputs": [
    {
     "name": "stdout",
     "output_type": "stream",
     "text": [
      "<class 'pandas.core.frame.DataFrame'>\n",
      "RangeIndex: 3 entries, 0 to 2\n",
      "Data columns (total 3 columns):\n",
      " #   Column  Non-Null Count  Dtype \n",
      "---  ------  --------------  ----- \n",
      " 0   Name    3 non-null      object\n",
      " 1   Age     3 non-null      int64 \n",
      " 2   City    3 non-null      object\n",
      "dtypes: int64(1), object(2)\n",
      "memory usage: 200.0+ bytes\n"
     ]
    }
   ],
   "source": [
    "df.info()"
   ]
  },
  {
   "cell_type": "markdown",
   "id": "9d3959c0-76f8-4f5f-83b2-62cfff6cda73",
   "metadata": {},
   "source": [
    "### Q6. Which of the following is mutable in nature Series, DataFrame, Panel?"
   ]
  },
  {
   "cell_type": "markdown",
   "id": "6620e6cf-edc6-45a4-b8ee-44bb6edad0f1",
   "metadata": {},
   "source": [
    "#### Ans:\n",
    "\n",
    "#### A DataFrame in pandas is mutable, meaning that you can modify its content by adding, updating, or deleting rows or columns. You can change the values of individual cells, add new columns, remove existing columns, and perform various other operations to manipulate the DataFrame.\n",
    "\n",
    "#### On the other hand, both Series and Panel in pandas are considered immutable. Once created, their values cannot be changed directly. If you want to modify a Series or Panel, you typically need to create a new object with the desired modifications."
   ]
  },
  {
   "cell_type": "markdown",
   "id": "317de0a6-1385-4758-8a9f-69b42cd56272",
   "metadata": {},
   "source": [
    "### Q7. Create a DataFrame using multiple Series. Explain with an example."
   ]
  },
  {
   "cell_type": "code",
   "execution_count": null,
   "id": "e968b621-1234-481d-8104-99f8dacbad2f",
   "metadata": {},
   "outputs": [],
   "source": [
    "#Code:\n",
    "\n",
    "import pandas as pd\n",
    "\n",
    "# Create Series objects\n",
    "avenger_series = pd.Series(['Captian America', 'Iron Man', 'Hulk', 'Thor', 'Black Widow'])\n",
    "tool_series = pd.Series(['Shield', 'Suit', 'Gamma', 'Hammer', 'MMA'])\n",
    "colour_series = pd.Series(['Blue', 'Red', 'Green', 'Red-Blue', 'Black'])\n",
    "\n",
    "# Create DataFrame from the Series\n",
    "data = {'Name': avenger_series, 'Age': age_series, 'City': city_series}\n",
    "df = pd.DataFrame(data)\n",
    "\n",
    "# Print the DataFrame\n",
    "print(df)"
   ]
  }
 ],
 "metadata": {
  "kernelspec": {
   "display_name": "Python 3 (ipykernel)",
   "language": "python",
   "name": "python3"
  },
  "language_info": {
   "codemirror_mode": {
    "name": "ipython",
    "version": 3
   },
   "file_extension": ".py",
   "mimetype": "text/x-python",
   "name": "python",
   "nbconvert_exporter": "python",
   "pygments_lexer": "ipython3",
   "version": "3.10.8"
  }
 },
 "nbformat": 4,
 "nbformat_minor": 5
}
