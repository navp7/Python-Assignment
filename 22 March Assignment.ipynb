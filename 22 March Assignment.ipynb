{
 "cells": [
  {
   "cell_type": "markdown",
   "id": "3c1b4cb6-2803-490b-8b21-3629259c73a8",
   "metadata": {},
   "source": [
    "## 22 March Assignment"
   ]
  },
  {
   "cell_type": "markdown",
   "id": "4865a1d7-f7db-4ac6-87a7-b179f26d7361",
   "metadata": {},
   "source": [
    "## Feature Engineering-6"
   ]
  },
  {
   "cell_type": "markdown",
   "id": "1e558f49-61e2-46db-b508-4917caf55b33",
   "metadata": {},
   "source": [
    "### Q1. Pearson correlation coefficient is a measure of the linear relationship between two variables. Suppose you have collected data on the amount of time students spend studying for an exam and their final exam scores. Calculate the Pearson correlation coefficient between these two variables and interpret the result.\n",
    "\n",
    "\n",
    "\n",
    "\n"
   ]
  },
  {
   "cell_type": "markdown",
   "id": "f80c8e94-ffa7-45d8-aa7b-52024e4ae268",
   "metadata": {},
   "source": [
    "To calculate the Pearson correlation coefficient between two variables, \"amount of time students spend studying for an exam\" and \"final exam scores,\" you can use the following formula:\n",
    "\n",
    "\\[ \\text{Pearson Correlation Coefficient (r)} = \\frac{\\sum{(x_i - \\bar{x})(y_i - \\bar{y})}}{\\sqrt{\\sum{(x_i - \\bar{x})^2} \\sum{(y_i - \\bar{y})^2}}}\\]\n",
    "\n",
    "Where:\n",
    "- \\( x_i \\) and \\( y_i \\) are the individual data points for the two variables.\n",
    "- \\( \\bar{x} \\) and \\( \\bar{y} \\) are the means of the two variables.\n",
    "- The summation is carried out over all data points.\n",
    "\n",
    "You can calculate the Pearson correlation coefficient using Python and NumPy as follows:"
   ]
  },
  {
   "cell_type": "code",
   "execution_count": 1,
   "id": "df9544a9-b0ca-4441-902d-1d8f9a440648",
   "metadata": {},
   "outputs": [
    {
     "name": "stdout",
     "output_type": "stream",
     "text": [
      "Pearson Correlation Coefficient: 0.9324324324324325\n"
     ]
    }
   ],
   "source": [
    "###python\n",
    "import numpy as np\n",
    "\n",
    "# Sample data for time spent studying and exam scores\n",
    "time_spent = [5, 8, 3, 6, 7]\n",
    "exam_scores = [75, 85, 60, 70, 80]\n",
    "\n",
    "# Calculate means\n",
    "mean_time_spent = np.mean(time_spent)\n",
    "mean_exam_scores = np.mean(exam_scores)\n",
    "\n",
    "# Calculate the Pearson correlation coefficient\n",
    "numerator = np.sum((np.array(time_spent) - mean_time_spent) * (np.array(exam_scores) - mean_exam_scores))\n",
    "denominator = np.sqrt(np.sum((np.array(time_spent) - mean_time_spent)**2) * np.sum((np.array(exam_scores) - mean_exam_scores)**2))\n",
    "pearson_corr_coefficient = numerator / denominator\n",
    "\n",
    "print(\"Pearson Correlation Coefficient:\", pearson_corr_coefficient)"
   ]
  },
  {
   "cell_type": "markdown",
   "id": "75e4a8eb-6a31-4ad4-976a-1788715553f4",
   "metadata": {},
   "source": [
    "Interpretation of the Pearson correlation coefficient:\n",
    "The Pearson correlation coefficient (\\(r\\)) ranges between -1 and 1. Here's how to interpret the result:\n",
    "\n",
    "- \\(r = 1\\): A perfect positive linear correlation. As time spent studying increases, exam scores also increase.\n",
    "- \\(r > 0\\): A positive linear correlation. More time spent studying tends to be associated with higher exam scores.\n",
    "- \\(r = 0\\): No linear correlation. Time spent studying and exam scores are not linearly related.\n",
    "- \\(r < 0\\): A negative linear correlation. More time spent studying tends to be associated with lower exam scores.\n",
    "- \\(r = -1\\): A perfect negative linear correlation. As time spent studying increases, exam scores decrease.\n",
    "\n",
    "For example, if the calculated \\(r\\) is 0.85, it suggests a strong positive linear correlation between time spent studying and exam scores. Students who spend more time studying tend to have higher exam scores.\n",
    "\n",
    "Keep in mind that the Pearson correlation coefficient measures only linear relationships and may not capture nonlinear associations between variables. Additionally, correlation does not imply causation, so further analysis is required to understand the underlying factors that contribute to the observed relationship."
   ]
  },
  {
   "cell_type": "markdown",
   "id": "9118839a-cb16-41a7-9a46-516a47386fda",
   "metadata": {},
   "source": [
    "### Q2. Spearman's rank correlation is a measure of the monotonic relationship between two variables. Suppose you have collected data on the amount of sleep individuals get each night and their overall job satisfaction level on a scale of 1 to 10. Calculate the Spearman's rank correlation between these two variables and interpret the result.\n"
   ]
  },
  {
   "cell_type": "markdown",
   "id": "d5daef08-7891-49c6-b2fe-491c9ae34f2a",
   "metadata": {},
   "source": [
    "To calculate Spearman's rank correlation between two variables, \"amount of sleep individuals get each night\" and \"overall job satisfaction level on a scale of 1 to 10,\" follow these steps:\n",
    "\n",
    "1. Rank the data for both variables separately.\n",
    "2. Calculate the differences between the ranks for each data point.\n",
    "3. Square the rank differences.\n",
    "4. Calculate the Spearman's rank correlation coefficient using the formula:\n",
    "\n",
    "\\[ \\text{Spearman's Rank Correlation (ρ)} = 1 - \\frac{6\\sum{d_i^2}}{n(n^2-1)} \\]\n",
    "\n",
    "Where:\n",
    "- \\( d_i \\) is the difference between the ranks of each data point.\n",
    "- \\( n \\) is the number of data points.\n",
    "\n",
    "Here's how you can calculate Spearman's rank correlation using Python and NumPy:"
   ]
  },
  {
   "cell_type": "code",
   "execution_count": 2,
   "id": "9603e5a6-9698-4ec2-a15a-97c3d2803018",
   "metadata": {},
   "outputs": [
    {
     "name": "stdout",
     "output_type": "stream",
     "text": [
      "Spearman's Rank Correlation: 0.6\n"
     ]
    }
   ],
   "source": [
    "### python\n",
    "import numpy as np\n",
    "\n",
    "# Sample data for sleep and job satisfaction\n",
    "sleep = [6, 7, 5, 8, 6]\n",
    "job_satisfaction = [8, 7, 6, 9, 7]\n",
    "\n",
    "# Calculate ranks for each variable\n",
    "sleep_ranks = np.argsort(np.argsort(sleep))\n",
    "job_satisfaction_ranks = np.argsort(np.argsort(job_satisfaction))\n",
    "\n",
    "# Calculate the rank differences\n",
    "rank_diff = sleep_ranks - job_satisfaction_ranks\n",
    "\n",
    "# Calculate the Spearman's rank correlation coefficient\n",
    "n = len(sleep)\n",
    "spearman_corr_coefficient = 1 - (6 * np.sum(rank_diff**2)) / (n * (n**2 - 1))\n",
    "\n",
    "print(\"Spearman's Rank Correlation:\", spearman_corr_coefficient)"
   ]
  },
  {
   "cell_type": "markdown",
   "id": "4e31d591-e4d9-4912-aaa6-979d67d8852a",
   "metadata": {},
   "source": [
    "Interpretation of the Spearman's rank correlation:\n",
    "Spearman's rank correlation (\\(ρ\\)) ranges between -1 and 1. Here's how to interpret the result:\n",
    "\n",
    "- \\(ρ = 1\\): Perfect monotonic positive correlation. As one variable increases, the other variable also increases monotonically.\n",
    "- \\(ρ > 0\\): Monotonic positive correlation. Higher amounts of sleep tend to be associated with higher job satisfaction levels, but not necessarily linearly.\n",
    "- \\(ρ = 0\\): No monotonic correlation. There's no consistent monotonic relationship between the variables.\n",
    "- \\(ρ < 0\\): Monotonic negative correlation. Higher amounts of sleep tend to be associated with lower job satisfaction levels, but not necessarily linearly.\n",
    "- \\(ρ = -1\\): Perfect monotonic negative correlation. As one variable increases, the other variable decreases monotonically.\n",
    "\n",
    "For example, if the calculated \\(ρ\\) is 0.6, it suggests a moderate positive monotonic correlation between the amount of sleep individuals get and their overall job satisfaction level. More sleep tends to be associated with higher job satisfaction, although the relationship may not be strictly linear.\n",
    "\n",
    "Spearman's rank correlation is particularly useful when dealing with ordinal or non-linear relationships and when the assumption of linearity is not met. It measures the strength and direction of monotonic relationships between variables."
   ]
  },
  {
   "cell_type": "markdown",
   "id": "9b9ac18c-d8e3-4335-aee5-7bf4fdc6528b",
   "metadata": {},
   "source": [
    "### Q3. Suppose you are conducting a study to examine the relationship between the number of hours of exercise per week and body mass index (BMI) in a sample of adults. You collected data on both variables for 50 participants. Calculate the Pearson correlation coefficient and the Spearman's rank correlation between these two variables and compare the results."
   ]
  },
  {
   "cell_type": "code",
   "execution_count": 3,
   "id": "e1b2af9d-3556-4c3d-a562-a4bfadd4e02c",
   "metadata": {},
   "outputs": [
    {
     "name": "stdout",
     "output_type": "stream",
     "text": [
      "Pearson Correlation Coefficient: 0.9648199555800469\n",
      "Spearman's Rank Correlation: 0.9657018541535369\n"
     ]
    }
   ],
   "source": [
    "import numpy as np\n",
    "from scipy.stats import pearsonr, spearmanr\n",
    "\n",
    "# Sample data for exercise hours and BMI\n",
    "exercise_hours = [2, 4, 3, 5, 1, 2, 3, 4, 2, 5,\n",
    "                  0, 1, 2, 3, 4, 2, 3, 4, 5, 1,\n",
    "                  2, 3, 4, 5, 0, 2, 3, 4, 2, 5,\n",
    "                  1, 2, 3, 4, 2, 3, 4, 5, 0, 1,\n",
    "                  2, 3, 4, 2, 3, 4, 5, 1, 2, 3]\n",
    "\n",
    "bmi = [22.5, 24.7, 21.8, 26.5, 19.2, 20.1, 23.0, 25.8, 20.9, 27.3,\n",
    "       18.6, 20.5, 23.2, 24.9, 26.1, 21.3, 23.4, 25.7, 28.2, 19.8,\n",
    "       20.7, 24.3, 26.8, 28.5, 17.9, 21.0, 22.8, 25.1, 21.1, 27.9,\n",
    "       19.7, 22.2, 24.6, 26.0, 20.8, 23.3, 24.8, 27.0, 18.5, 20.2,\n",
    "       21.9, 24.1, 25.6, 21.2, 23.5, 25.3, 26.6, 19.5, 22.0, 23.9]\n",
    "\n",
    "# Calculate Pearson correlation coefficient\n",
    "pearson_corr_coefficient, _ = pearsonr(exercise_hours, bmi)\n",
    "\n",
    "# Calculate Spearman's rank correlation\n",
    "spearman_corr_coefficient, _ = spearmanr(exercise_hours, bmi)\n",
    "\n",
    "print(\"Pearson Correlation Coefficient:\", pearson_corr_coefficient)\n",
    "print(\"Spearman's Rank Correlation:\", spearman_corr_coefficient)"
   ]
  },
  {
   "cell_type": "markdown",
   "id": "5223e23d-0ce7-4b4a-8935-a91d0cd611f4",
   "metadata": {},
   "source": [
    "Comparison of results:\n",
    "The Pearson correlation coefficient measures linear relationships, while Spearman's rank correlation measures monotonic relationships. Here's how to interpret the results:\n",
    "\n",
    "If both correlation coefficients are similar and positive (e.g., both around 0.8):\n",
    "This suggests a strong positive linear and monotonic relationship between exercise hours and BMI. Participants who exercise more tend to have lower BMI, and the relationship is consistent across both linear and monotonic measures.\n",
    "\n",
    "If the Pearson correlation coefficient is high (positive) and the Spearman's rank correlation is lower (positive but not as high):\n",
    "This suggests a strong positive linear relationship between exercise hours and BMI. However, the monotonic relationship might be slightly weaker due to potential non-linearities.\n",
    "\n",
    "If the Pearson correlation coefficient is low (close to 0) and the Spearman's rank correlation is moderate (positive):\n",
    "This suggests a weak linear relationship between exercise hours and BMI, but a moderate monotonic relationship. This could be due to non-linearities or outliers that affect the Pearson correlation more.\n",
    "\n",
    "If the Spearman's rank correlation is high (positive) and the Pearson correlation coefficient is low (close to 0):\n",
    "This suggests a strong monotonic relationship, but not necessarily linear. The relationship may be affected by non-linear patterns in the data.\n",
    "\n",
    "Keep in mind that both correlation coefficients have their own strengths and limitations, and their interpretation should be based on the context of the data and the research question."
   ]
  },
  {
   "cell_type": "markdown",
   "id": "8645363d-5c68-467d-b1d1-1f2a4be72dbc",
   "metadata": {},
   "source": [
    "### Q4. A researcher is interested in examining the relationship between the number of hours individuals spend watching television per day and their level of physical activity. The researcher collected data on both variables from a sample of 50 participants. Calculate the Pearson correlation coefficient between these two variables."
   ]
  },
  {
   "cell_type": "code",
   "execution_count": 4,
   "id": "1d8b24a3-0c4b-42a7-ac4b-1b28ccf58fa1",
   "metadata": {},
   "outputs": [
    {
     "name": "stdout",
     "output_type": "stream",
     "text": [
      "Pearson Correlation Coefficient: -0.6971275728037658\n"
     ]
    }
   ],
   "source": [
    "import numpy as np\n",
    "from scipy.stats import pearsonr\n",
    "\n",
    "# Sample data for hours of TV watching and physical activity level\n",
    "tv_hours = [3, 2, 4, 5, 4, 6, 3, 2, 1, 4,\n",
    "            5, 2, 3, 1, 4, 6, 2, 3, 5, 4,\n",
    "            4, 2, 3, 5, 3, 6, 4, 2, 1, 5,\n",
    "            5, 2, 3, 4, 4, 6, 3, 2, 1, 4,\n",
    "            5, 2, 3, 5, 4, 6, 3, 2, 1, 4]\n",
    "\n",
    "physical_activity = [2, 4, 3, 1, 3, 1, 2, 4, 5, 3,\n",
    "                     1, 4, 2, 5, 3, 1, 4, 2, 1, 3,\n",
    "                     3, 4, 2, 1, 3, 1, 2, 4, 5, 3,\n",
    "                     1, 4, 2, 5, 3, 1, 4, 2, 1, 3,\n",
    "                     3, 4, 2, 1, 3, 1, 2, 4, 5, 3]\n",
    "\n",
    "# Calculate Pearson correlation coefficient\n",
    "pearson_corr_coefficient, _ = pearsonr(tv_hours, physical_activity)\n",
    "\n",
    "print(\"Pearson Correlation Coefficient:\", pearson_corr_coefficient)\n"
   ]
  },
  {
   "cell_type": "markdown",
   "id": "9b5cbf8a-38b0-41d5-a2bb-7c3fd6c58943",
   "metadata": {},
   "source": [
    "r is -0.69, it suggests a moderate negative linear correlation between the number of hours individuals spend watching television per day and their level of physical activity. Those who spend more time watching TV tend to have lower physical activity levels."
   ]
  },
  {
   "cell_type": "markdown",
   "id": "4ec3bfec-305d-4017-a4f0-6b10bfe196b3",
   "metadata": {},
   "source": [
    "### Q5. A survey was conducted to examine the relationship between age and preference for a particular brand of soft drink. The survey results are shown below:\n",
    "| Age(Year) | Brand |\n",
    "|-----------|------|\n",
    "| 25        | Coke |\n",
    "| 42        | Pepsi|\n",
    "| 37        | Mountain dew   |\n",
    "| 19        | Coke |\n",
    "| 31        |Pepsi |\n",
    "| 28        | Coke |\n",
    "\n",
    "### Calculate Spearman Rank Coeffiecient & interpret the result."
   ]
  },
  {
   "cell_type": "code",
   "execution_count": 5,
   "id": "f6db2ec9-cb58-4aa6-aac2-64c808a15cfd",
   "metadata": {},
   "outputs": [
    {
     "name": "stdout",
     "output_type": "stream",
     "text": [
      "Spearman's Rank Correlation Coefficient: 0.8332380897952965\n"
     ]
    }
   ],
   "source": [
    "import numpy as np\n",
    "from scipy.stats import spearmanr\n",
    "\n",
    "# Sample data\n",
    "ages = [25, 42, 37, 19, 31, 28]\n",
    "brands = ['Coke', 'Pepsi', 'Mountain dew', 'Coke', 'Pepsi', 'Coke']\n",
    "\n",
    "# Convert brand names to numerical ranks\n",
    "brand_ranks = {brand: rank for rank, brand in enumerate(sorted(set(brands)), start=1)}\n",
    "numerical_brands = [brand_ranks[brand] for brand in brands]\n",
    "\n",
    "# Calculate Spearman's rank correlation\n",
    "spearman_corr_coefficient, _ = spearmanr(ages, numerical_brands)\n",
    "\n",
    "print(\"Spearman's Rank Correlation Coefficient:\", spearman_corr_coefficient)"
   ]
  },
  {
   "cell_type": "markdown",
   "id": "8d069117-dbad-4d61-9d1e-f5f84a852db7",
   "metadata": {},
   "source": [
    "### Q6. A company is interested in examining the relationship between the number of sales calls made per day and the number of sales made per week. The company collected data on both variables from a sample of 30 sales representatives. Calculate the Pearson correlation coefficient between these two variables."
   ]
  },
  {
   "cell_type": "code",
   "execution_count": 6,
   "id": "64bc3b7e-89e5-4bc6-a6eb-c3c0c535ca99",
   "metadata": {},
   "outputs": [
    {
     "name": "stdout",
     "output_type": "stream",
     "text": [
      "Pearson Correlation Coefficient: 0.9757740084876352\n"
     ]
    }
   ],
   "source": [
    "import numpy as np\n",
    "from scipy.stats import pearsonr\n",
    "\n",
    "# Sample data for sales calls per day and sales per week\n",
    "sales_calls_per_day = [20, 15, 18, 25, 22, 24, 19, 17, 21, 23,\n",
    "                       16, 14, 18, 26, 20, 21, 23, 22, 19, 15,\n",
    "                       17, 20, 22, 16, 24, 18, 15, 23, 25, 21]\n",
    "\n",
    "sales_per_week = [120, 90, 110, 160, 140, 150, 130, 100, 125, 135,\n",
    "                  80, 70, 110, 165, 115, 125, 140, 130, 110, 85,\n",
    "                  100, 120, 140, 95, 155, 105, 90, 140, 150, 130]\n",
    "\n",
    "# Calculate Pearson correlation coefficient\n",
    "pearson_corr_coefficient, _ = pearsonr(sales_calls_per_day, sales_per_week)\n",
    "\n",
    "print(\"Pearson Correlation Coefficient:\", pearson_corr_coefficient)\n"
   ]
  },
  {
   "cell_type": "markdown",
   "id": "f2162f65-1f15-4fe2-8494-2e7ce5b28047",
   "metadata": {},
   "source": [
    "the calculated r is 0.975, it suggests a strong positive linear correlation between the number of sales calls made per day and the number of sales made per week. Sales representatives who make more sales calls tend to achieve higher sales numbers per week."
   ]
  },
  {
   "cell_type": "code",
   "execution_count": null,
   "id": "4cb51e9b-8f06-48fa-9f83-05765c163667",
   "metadata": {},
   "outputs": [],
   "source": []
  }
 ],
 "metadata": {
  "kernelspec": {
   "display_name": "Python 3 (ipykernel)",
   "language": "python",
   "name": "python3"
  },
  "language_info": {
   "codemirror_mode": {
    "name": "ipython",
    "version": 3
   },
   "file_extension": ".py",
   "mimetype": "text/x-python",
   "name": "python",
   "nbconvert_exporter": "python",
   "pygments_lexer": "ipython3",
   "version": "3.10.8"
  }
 },
 "nbformat": 4,
 "nbformat_minor": 5
}
