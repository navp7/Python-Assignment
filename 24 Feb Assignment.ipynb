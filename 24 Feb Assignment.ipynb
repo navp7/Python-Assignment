{
 "cells": [
  {
   "cell_type": "markdown",
   "id": "2d7e48f5-31e9-4f57-9611-61ca5eea3b1b",
   "metadata": {},
   "source": [
    "## 24 Feb Assignment"
   ]
  },
  {
   "cell_type": "markdown",
   "id": "53580940-32b2-4f21-a45f-63a64df1f6f8",
   "metadata": {},
   "source": [
    "### Q1. List any five functions of the pandas library with execution."
   ]
  },
  {
   "cell_type": "code",
   "execution_count": 11,
   "id": "2133a1b4-a713-48cc-a9eb-9da999f37cd2",
   "metadata": {},
   "outputs": [
    {
     "name": "stdout",
     "output_type": "stream",
     "text": [
      "    col_1 col_2\n",
      "0       3     a\n",
      "1       2     b\n",
      "2       1     c\n",
      "3       0     d\n",
      "4       9     e\n",
      "5       3     f\n",
      "6       4     g\n",
      "7       5     h\n",
      "8       5     i\n",
      "9       5     j\n",
      "10      4     k\n"
     ]
    }
   ],
   "source": [
    "# Consider the following data set as an example:\n",
    "import pandas as pd\n",
    "data = {'col_1': [3, 2, 1, 0,9,3,4,5,5,5,4], 'col_2': ['a', 'b', 'c', 'd', 'e', 'f', 'g', 'h', 'i', 'j', 'k']}\n",
    "df=pd.DataFrame(data)\n",
    "print(df)"
   ]
  },
  {
   "cell_type": "markdown",
   "id": "637a2732-2e8e-4c82-a2c0-00bd34ed3e68",
   "metadata": {},
   "source": [
    "#### 1. head(): This function returns the first few rows of a DataFrame, allowing you to quickly inspect the data."
   ]
  },
  {
   "cell_type": "code",
   "execution_count": 12,
   "id": "8daab8d3-62fd-43a1-b9ee-31a8fb634596",
   "metadata": {},
   "outputs": [
    {
     "name": "stdout",
     "output_type": "stream",
     "text": [
      "   col_1 col_2\n",
      "0      3     a\n",
      "1      2     b\n",
      "2      1     c\n",
      "3      0     d\n",
      "4      9     e\n"
     ]
    }
   ],
   "source": [
    "print(df.head())"
   ]
  },
  {
   "cell_type": "markdown",
   "id": "b22a4339-40c3-4c21-9099-a2d61e440102",
   "metadata": {},
   "source": [
    "#### 2. info(): This function provides a summary of the DataFrame, including column names, data types, and non-null values."
   ]
  },
  {
   "cell_type": "code",
   "execution_count": 14,
   "id": "8128b7ea-1ab2-40f1-9485-8a52be54aabf",
   "metadata": {},
   "outputs": [
    {
     "name": "stdout",
     "output_type": "stream",
     "text": [
      "<class 'pandas.core.frame.DataFrame'>\n",
      "RangeIndex: 11 entries, 0 to 10\n",
      "Data columns (total 2 columns):\n",
      " #   Column  Non-Null Count  Dtype \n",
      "---  ------  --------------  ----- \n",
      " 0   col_1   11 non-null     int64 \n",
      " 1   col_2   11 non-null     object\n",
      "dtypes: int64(1), object(1)\n",
      "memory usage: 304.0+ bytes\n",
      "None\n"
     ]
    }
   ],
   "source": [
    "print(df.info())"
   ]
  },
  {
   "cell_type": "markdown",
   "id": "5d1aacea-cdeb-400a-a399-376da81f93a8",
   "metadata": {},
   "source": [
    "#### 3. describe(): This function generates descriptive statistics of the DataFrame, such as count, mean, standard deviation, minimum, maximum, and quartiles for each numeric column."
   ]
  },
  {
   "cell_type": "code",
   "execution_count": 15,
   "id": "46fbd06c-20b9-4d57-ad5b-816665b597b1",
   "metadata": {},
   "outputs": [
    {
     "name": "stdout",
     "output_type": "stream",
     "text": [
      "           col_1\n",
      "count  11.000000\n",
      "mean    3.727273\n",
      "std     2.412091\n",
      "min     0.000000\n",
      "25%     2.500000\n",
      "50%     4.000000\n",
      "75%     5.000000\n",
      "max     9.000000\n"
     ]
    }
   ],
   "source": [
    "print(df.describe())"
   ]
  },
  {
   "cell_type": "markdown",
   "id": "cec76778-b8e4-4137-b11f-75b34ae642b7",
   "metadata": {},
   "source": [
    "#### 4. groupby(): This function is used for grouping data based on one or more columns and allows you to perform operations on subsets of data."
   ]
  },
  {
   "cell_type": "code",
   "execution_count": 31,
   "id": "8c057ea9-6050-4e77-94b8-9387c083db21",
   "metadata": {},
   "outputs": [
    {
     "name": "stdout",
     "output_type": "stream",
     "text": [
      "col_1\n",
      "0     0\n",
      "1     1\n",
      "2     2\n",
      "3     6\n",
      "4     8\n",
      "5    15\n",
      "9     9\n",
      "Name: col_1, dtype: int64\n"
     ]
    }
   ],
   "source": [
    "grp = df.groupby('col_1')['col_1'].sum()\n",
    "print(grp)"
   ]
  },
  {
   "cell_type": "markdown",
   "id": "e1d01329-4f37-40dc-8d11-b66c7a28cf67",
   "metadata": {},
   "source": [
    "#### 5. sort_values(): This function is used to sort a DataFrame based on one or more columns."
   ]
  },
  {
   "cell_type": "code",
   "execution_count": 33,
   "id": "563838d0-2708-48e4-82ad-f033b00407bc",
   "metadata": {},
   "outputs": [
    {
     "name": "stdout",
     "output_type": "stream",
     "text": [
      "    col_1 col_2\n",
      "3       0     d\n",
      "2       1     c\n",
      "1       2     b\n",
      "0       3     a\n",
      "5       3     f\n",
      "6       4     g\n",
      "10      4     k\n",
      "7       5     h\n",
      "8       5     i\n",
      "9       5     j\n",
      "4       9     e\n"
     ]
    }
   ],
   "source": [
    "sort = df.sort_values('col_1')\n",
    "print(sort)"
   ]
  },
  {
   "cell_type": "code",
   "execution_count": null,
   "id": "6ea8a10e-57cc-44a4-8d9e-4a979a7fb7ec",
   "metadata": {},
   "outputs": [],
   "source": []
  },
  {
   "cell_type": "markdown",
   "id": "c982f523-81e3-410a-8a61-9f34f553f000",
   "metadata": {},
   "source": [
    "### Q2. Given a Pandas DataFrame df with columns 'A', 'B', and 'C', write a Python function to re-index the DataFrame with a new index that starts from 1 and increments by 2 for each row."
   ]
  },
  {
   "cell_type": "code",
   "execution_count": 2,
   "id": "b848079f-2eb3-469e-ab8c-1e053b211bce",
   "metadata": {},
   "outputs": [
    {
     "data": {
      "text/html": [
       "<div>\n",
       "<style scoped>\n",
       "    .dataframe tbody tr th:only-of-type {\n",
       "        vertical-align: middle;\n",
       "    }\n",
       "\n",
       "    .dataframe tbody tr th {\n",
       "        vertical-align: top;\n",
       "    }\n",
       "\n",
       "    .dataframe thead th {\n",
       "        text-align: right;\n",
       "    }\n",
       "</style>\n",
       "<table border=\"1\" class=\"dataframe\">\n",
       "  <thead>\n",
       "    <tr style=\"text-align: right;\">\n",
       "      <th></th>\n",
       "      <th>A</th>\n",
       "      <th>B</th>\n",
       "      <th>C</th>\n",
       "    </tr>\n",
       "  </thead>\n",
       "  <tbody>\n",
       "    <tr>\n",
       "      <th>0</th>\n",
       "      <td>1</td>\n",
       "      <td>9</td>\n",
       "      <td>1</td>\n",
       "    </tr>\n",
       "    <tr>\n",
       "      <th>1</th>\n",
       "      <td>2</td>\n",
       "      <td>8</td>\n",
       "      <td>5</td>\n",
       "    </tr>\n",
       "    <tr>\n",
       "      <th>2</th>\n",
       "      <td>3</td>\n",
       "      <td>7</td>\n",
       "      <td>4</td>\n",
       "    </tr>\n",
       "    <tr>\n",
       "      <th>3</th>\n",
       "      <td>4</td>\n",
       "      <td>6</td>\n",
       "      <td>9</td>\n",
       "    </tr>\n",
       "    <tr>\n",
       "      <th>4</th>\n",
       "      <td>5</td>\n",
       "      <td>5</td>\n",
       "      <td>6</td>\n",
       "    </tr>\n",
       "    <tr>\n",
       "      <th>5</th>\n",
       "      <td>6</td>\n",
       "      <td>4</td>\n",
       "      <td>7</td>\n",
       "    </tr>\n",
       "  </tbody>\n",
       "</table>\n",
       "</div>"
      ],
      "text/plain": [
       "   A  B  C\n",
       "0  1  9  1\n",
       "1  2  8  5\n",
       "2  3  7  4\n",
       "3  4  6  9\n",
       "4  5  5  6\n",
       "5  6  4  7"
      ]
     },
     "execution_count": 2,
     "metadata": {},
     "output_type": "execute_result"
    }
   ],
   "source": [
    "import pandas as pd\n",
    "data = {'A': [1,2,3,4,5,6], 'B': [9,8,7,6,5,4], 'C': [1,5,4,9,6,7]}\n",
    "df1 = pd.DataFrame(data)\n",
    "df1"
   ]
  },
  {
   "cell_type": "code",
   "execution_count": 5,
   "id": "ef8388c4-68b4-446f-82ad-ff86173c6c9b",
   "metadata": {},
   "outputs": [
    {
     "name": "stdout",
     "output_type": "stream",
     "text": [
      "     A    B    C\n",
      "1  2.0  8.0  5.0\n",
      "3  4.0  6.0  9.0\n",
      "5  6.0  4.0  7.0\n",
      "7  NaN  NaN  NaN\n",
      "9  NaN  NaN  NaN\n"
     ]
    }
   ],
   "source": [
    "new_index = df1.reindex(index=[1,3,5,7,9], columns=None)\n",
    "print(new_index)"
   ]
  },
  {
   "cell_type": "code",
   "execution_count": null,
   "id": "da2d80a5-0bef-409e-950a-30c87a10bea3",
   "metadata": {},
   "outputs": [],
   "source": []
  },
  {
   "cell_type": "markdown",
   "id": "718e1e36-bfed-456b-8489-4f0ceec728fb",
   "metadata": {},
   "source": [
    "### Q3. You have a Pandas DataFrame df with a column named 'Values'. Write a Python function that iterates over the DataFrame and calculates the sum of the first three values in the 'Values' column. The function should print the sum to the console."
   ]
  },
  {
   "cell_type": "code",
   "execution_count": 24,
   "id": "f6e4dde6-7936-4679-b65d-fb6121ddb0c3",
   "metadata": {},
   "outputs": [
    {
     "name": "stdout",
     "output_type": "stream",
     "text": [
      "   Values\n",
      "0      10\n",
      "1      20\n",
      "2      30\n",
      "3      40\n",
      "4      50\n",
      "--------------------\n",
      "Sum: Values    60\n",
      "dtype: int64\n"
     ]
    }
   ],
   "source": [
    "#Code\n",
    "\n",
    "import pandas as pd\n",
    "data1 = {'Values': [10, 20, 30, 40, 50]}\n",
    "df2 = pd.DataFrame(data1)\n",
    "s = df2.loc[[0, 1, 2]].sum()\n",
    "print(df2)\n",
    "print(\"--------------------\")\n",
    "print('Sum:', s)"
   ]
  },
  {
   "cell_type": "code",
   "execution_count": null,
   "id": "e874dceb-4d49-41b6-a7aa-ce726f95ede8",
   "metadata": {},
   "outputs": [],
   "source": []
  },
  {
   "cell_type": "markdown",
   "id": "642fc46e-6514-45fe-bfa4-71bf78881ee5",
   "metadata": {},
   "source": [
    "### Q4. Given a Pandas DataFrame df with a column 'Text', write a Python function to create a new column 'Word_Count' that contains the number of words in each row of the 'Text' column."
   ]
  },
  {
   "cell_type": "code",
   "execution_count": 29,
   "id": "11b3a964-878f-4ab5-a8d3-96f3037f870e",
   "metadata": {},
   "outputs": [
    {
     "name": "stdout",
     "output_type": "stream",
     "text": [
      "                                                Text  word_count\n",
      "0  Python is an interpreted, object-oriented, hig...          48\n",
      "1  Python is simple, easy to learn syntax emphasi...          17\n",
      "2  Python supports modules and packages, which en...          12\n",
      "3  The Python interpreter and the extensive stand...          26\n"
     ]
    }
   ],
   "source": [
    "#Code:\n",
    "\n",
    "import pandas as pd\n",
    "data3 = {\"Text\": ['Python is an interpreted, object-oriented, high-level programming language with dynamic semantics. Its high-level built in data structures, combined with dynamic typing and dynamic binding, make it very attractive for Rapid Application Development, as well as for use as a scripting or glue language to connect existing components together.','Python is simple, easy to learn syntax emphasizes readability and therefore reduces the cost of program maintenance.','Python supports modules and packages, which encourages program modularity and code reuse.','The Python interpreter and the extensive standard library are available in source or binary form without charge for all major platforms, and can be freely distributed.']}\n",
    "df4 = pd.DataFrame(data3)\n",
    "df4['word_count'] = df4['Text'].apply(lambda x : len(x.split()))\n",
    "print(df4)"
   ]
  },
  {
   "cell_type": "code",
   "execution_count": null,
   "id": "b7a84c17-e43d-44b9-91bc-9081acbf5d9d",
   "metadata": {},
   "outputs": [],
   "source": []
  },
  {
   "cell_type": "markdown",
   "id": "04d860a9-0d11-4a95-b190-d76ae6a425dc",
   "metadata": {},
   "source": [
    "### Q5. How are DataFrame.size() and DataFrame.shape() different?"
   ]
  },
  {
   "cell_type": "markdown",
   "id": "22af6c7d-47cb-49ba-8cfa-e0acc9654a5d",
   "metadata": {},
   "source": [
    "The DataFrame.size and DataFrame.shape are both attributes in pandas DataFrame, but they represent different aspects of the DataFrame.\n",
    "\n",
    "1. DataFrame.size: DataFrame.size represents the total number of elements in the DataFrame. It gives you the count of all cells in the DataFrame, including both rows and columns. The size is calculated as the product of the number of rows (DataFrame.shape[0]) and the number of columns (DataFrame.shape[1]).\n",
    "\n",
    "Example:\n",
    "```python\n",
    "import pandas as pd\n",
    "\n",
    "data = {'Name': ['John', 'Emma', 'Peter'],\n",
    "        'Age': [25, 28, 30],\n",
    "        'City': ['New York', 'London', 'Paris']}\n",
    "df = pd.DataFrame(data)\n",
    "\n",
    "print(df.size)\n",
    "```\n",
    "Output:\n",
    "```\n",
    "9\n",
    "```\n",
    "\n",
    "In this example, the DataFrame df has 3 rows and 3 columns, so the total number of elements is 9.\n",
    "\n",
    "2. DataFrame.shape: DataFrame.shape returns a tuple representing the dimensions of the DataFrame. It provides information about the number of rows and columns in the DataFrame.\n",
    "\n",
    "Example:\n",
    "```python\n",
    "import pandas as pd\n",
    "\n",
    "data = {'Name': ['John', 'Emma', 'Peter'],\n",
    "        'Age': [25, 28, 30],\n",
    "        'City': ['New York', 'London', 'Paris']}\n",
    "df = pd.DataFrame(data)\n",
    "\n",
    "print(df.shape)\n",
    "```\n",
    "Output:\n",
    "```\n",
    "(3, 3)\n",
    "```\n",
    "\n",
    "In this example, the DataFrame df has 3 rows and 3 columns, so the shape is represented as (3, 3).\n",
    "\n",
    "In summary, the key difference between DataFrame.size and DataFrame.shape is that DataFrame.size gives the total number of elements (cells) in the DataFrame, while DataFrame.shape provides the dimensions (number of rows and columns) of the DataFrame as a tuple."
   ]
  },
  {
   "cell_type": "code",
   "execution_count": null,
   "id": "67a21af4-6584-4240-a17c-94a862a28f42",
   "metadata": {},
   "outputs": [],
   "source": []
  },
  {
   "cell_type": "markdown",
   "id": "d0bee53a-72a2-40ac-a207-40415af0ae7b",
   "metadata": {},
   "source": [
    "### Q6. Which function of pandas do we use to read an excel file?"
   ]
  },
  {
   "cell_type": "markdown",
   "id": "3756f58f-2696-466a-b95c-2ce80d511a27",
   "metadata": {},
   "source": [
    "#### Ans:  The function used is : `read_excel('filename')`"
   ]
  },
  {
   "cell_type": "code",
   "execution_count": null,
   "id": "86465fb9-d855-480d-99f3-cbf941c22d88",
   "metadata": {},
   "outputs": [],
   "source": []
  },
  {
   "cell_type": "markdown",
   "id": "75e77208-c4da-45c2-bc70-b2a27bef99dd",
   "metadata": {},
   "source": [
    "### Q7. You have a Pandas DataFrame df that contains a column named 'Email' that contains email addresses in the format 'username@domain.com'. Write a Python function that creates a new column 'Username' in df that contains only the username part of each email address."
   ]
  },
  {
   "cell_type": "code",
   "execution_count": 36,
   "id": "581980c1-bb73-4c79-95b1-d8603b39f241",
   "metadata": {},
   "outputs": [
    {
     "data": {
      "text/html": [
       "<div>\n",
       "<style scoped>\n",
       "    .dataframe tbody tr th:only-of-type {\n",
       "        vertical-align: middle;\n",
       "    }\n",
       "\n",
       "    .dataframe tbody tr th {\n",
       "        vertical-align: top;\n",
       "    }\n",
       "\n",
       "    .dataframe thead th {\n",
       "        text-align: right;\n",
       "    }\n",
       "</style>\n",
       "<table border=\"1\" class=\"dataframe\">\n",
       "  <thead>\n",
       "    <tr style=\"text-align: right;\">\n",
       "      <th></th>\n",
       "      <th>Email</th>\n",
       "      <th>Username</th>\n",
       "    </tr>\n",
       "  </thead>\n",
       "  <tbody>\n",
       "    <tr>\n",
       "      <th>0</th>\n",
       "      <td>zayoku-vaso14@mail.com</td>\n",
       "      <td>zayoku-vaso14</td>\n",
       "    </tr>\n",
       "    <tr>\n",
       "      <th>1</th>\n",
       "      <td>mic-uvebaxo97@outlook.com</td>\n",
       "      <td>mic-uvebaxo97</td>\n",
       "    </tr>\n",
       "    <tr>\n",
       "      <th>2</th>\n",
       "      <td>kajuloh-iku91@yahoo.com</td>\n",
       "      <td>kajuloh-iku91</td>\n",
       "    </tr>\n",
       "    <tr>\n",
       "      <th>3</th>\n",
       "      <td>yutipo_mobu8@outlook.com</td>\n",
       "      <td>yutipo_mobu8</td>\n",
       "    </tr>\n",
       "    <tr>\n",
       "      <th>4</th>\n",
       "      <td>secux-imeci37@aol.com</td>\n",
       "      <td>secux-imeci37</td>\n",
       "    </tr>\n",
       "    <tr>\n",
       "      <th>5</th>\n",
       "      <td>xuxu-kenoje20@gmail.com</td>\n",
       "      <td>xuxu-kenoje20</td>\n",
       "    </tr>\n",
       "    <tr>\n",
       "      <th>6</th>\n",
       "      <td>nis-irotiko43@aol.com</td>\n",
       "      <td>nis-irotiko43</td>\n",
       "    </tr>\n",
       "  </tbody>\n",
       "</table>\n",
       "</div>"
      ],
      "text/plain": [
       "                       Email       Username\n",
       "0     zayoku-vaso14@mail.com  zayoku-vaso14\n",
       "1  mic-uvebaxo97@outlook.com  mic-uvebaxo97\n",
       "2    kajuloh-iku91@yahoo.com  kajuloh-iku91\n",
       "3   yutipo_mobu8@outlook.com   yutipo_mobu8\n",
       "4      secux-imeci37@aol.com  secux-imeci37\n",
       "5    xuxu-kenoje20@gmail.com  xuxu-kenoje20\n",
       "6      nis-irotiko43@aol.com  nis-irotiko43"
      ]
     },
     "execution_count": 36,
     "metadata": {},
     "output_type": "execute_result"
    }
   ],
   "source": [
    "#Code\n",
    "import pandas as pd\n",
    "data4 = {\"Email\" : ['zayoku-vaso14@mail.com', 'mic-uvebaxo97@outlook.com','kajuloh-iku91@yahoo.com',\n",
    "'yutipo_mobu8@outlook.com','secux-imeci37@aol.com','xuxu-kenoje20@gmail.com','nis-irotiko43@aol.com']}\n",
    "df5 = pd.DataFrame(data4)\n",
    "df5['Username']= df5['Email'].apply(lambda x : x.split('@')[0])\n",
    "df5"
   ]
  },
  {
   "cell_type": "markdown",
   "id": "ab7f1d59-baa9-48bb-b176-d009a55296ab",
   "metadata": {},
   "source": [
    "### Q8. You have a Pandas DataFrame df with columns 'A', 'B', and 'C'. Write a Python function that selects all rows where the value in column 'A' is greater than 5 and the value in column 'B' is less than 10. The function should return a new DataFrame that contains only the selected rows."
   ]
  },
  {
   "cell_type": "code",
   "execution_count": 10,
   "id": "f92d60ac-dbd8-4caf-a95c-d1676e84e3a0",
   "metadata": {},
   "outputs": [
    {
     "data": {
      "text/html": [
       "<div>\n",
       "<style scoped>\n",
       "    .dataframe tbody tr th:only-of-type {\n",
       "        vertical-align: middle;\n",
       "    }\n",
       "\n",
       "    .dataframe tbody tr th {\n",
       "        vertical-align: top;\n",
       "    }\n",
       "\n",
       "    .dataframe thead th {\n",
       "        text-align: right;\n",
       "    }\n",
       "</style>\n",
       "<table border=\"1\" class=\"dataframe\">\n",
       "  <thead>\n",
       "    <tr style=\"text-align: right;\">\n",
       "      <th></th>\n",
       "      <th>A</th>\n",
       "      <th>B</th>\n",
       "      <th>C</th>\n",
       "    </tr>\n",
       "  </thead>\n",
       "  <tbody>\n",
       "    <tr>\n",
       "      <th>1</th>\n",
       "      <td>8</td>\n",
       "      <td>2</td>\n",
       "      <td>7</td>\n",
       "    </tr>\n",
       "    <tr>\n",
       "      <th>2</th>\n",
       "      <td>6</td>\n",
       "      <td>9</td>\n",
       "      <td>4</td>\n",
       "    </tr>\n",
       "    <tr>\n",
       "      <th>4</th>\n",
       "      <td>9</td>\n",
       "      <td>1</td>\n",
       "      <td>2</td>\n",
       "    </tr>\n",
       "  </tbody>\n",
       "</table>\n",
       "</div>"
      ],
      "text/plain": [
       "   A  B  C\n",
       "1  8  2  7\n",
       "2  6  9  4\n",
       "4  9  1  2"
      ]
     },
     "execution_count": 10,
     "metadata": {},
     "output_type": "execute_result"
    }
   ],
   "source": [
    "# Code \n",
    "\n",
    "import pandas as pd\n",
    "\n",
    "data = {'A': [3,8,6,2,9],\n",
    "        'B': [5,2,9,3,1],\n",
    "        'C': [1,7,4,5,2]}\n",
    "df = pd.DataFrame(data)\n",
    "\n",
    "df_new = (df['A'] > 5) & (df['B'] < 10)\n",
    "df[df_new]"
   ]
  },
  {
   "cell_type": "markdown",
   "id": "333fcfb4-6664-417b-8176-fb1cb09d7d37",
   "metadata": {},
   "source": [
    "### Q9. Given a Pandas DataFrame df with a column 'Values', write a Python function to calculate the mean, median, and standard deviation of the values in the 'Values' column."
   ]
  },
  {
   "cell_type": "code",
   "execution_count": 17,
   "id": "c0904bd1-40fd-46c4-91bf-d03ed8337aa8",
   "metadata": {},
   "outputs": [
    {
     "name": "stdout",
     "output_type": "stream",
     "text": [
      "Mean: Values    30.0\n",
      "dtype: float64\n",
      "--------------------\n",
      "Median: Values    30.0\n",
      "dtype: float64\n",
      "--------------------\n",
      "Mode:    Values\n",
      "0      10\n",
      "1      20\n",
      "2      30\n",
      "3      40\n",
      "4      50\n"
     ]
    }
   ],
   "source": [
    "# Code\n",
    "\n",
    "import pandas as pd\n",
    "data1 = {'Values': [10, 20, 30, 40, 50]}\n",
    "df2 = pd.DataFrame(data1)\n",
    "print('Mean:', df2.mean())\n",
    "print(\"--------------------\")\n",
    "print('Median:', df2.median())\n",
    "print(\"--------------------\")\n",
    "print('Mode:', df2.mode())"
   ]
  },
  {
   "cell_type": "markdown",
   "id": "53590cfe-1e9d-4f19-9953-fe35a323147b",
   "metadata": {},
   "source": [
    "### Q10. Given a Pandas DataFrame df with a column 'Sales' and a column 'Date', write a Python function to create a new column 'MovingAverage' that contains the moving average of the sales for the past 7 days for each row in the DataFrame. The moving average should be calculated using a window of size 7 and should include the current day."
   ]
  },
  {
   "cell_type": "code",
   "execution_count": 27,
   "id": "00eaf4b6-585b-4c2d-98e3-afbcf556ccbe",
   "metadata": {},
   "outputs": [
    {
     "data": {
      "text/html": [
       "<div>\n",
       "<style scoped>\n",
       "    .dataframe tbody tr th:only-of-type {\n",
       "        vertical-align: middle;\n",
       "    }\n",
       "\n",
       "    .dataframe tbody tr th {\n",
       "        vertical-align: top;\n",
       "    }\n",
       "\n",
       "    .dataframe thead th {\n",
       "        text-align: right;\n",
       "    }\n",
       "</style>\n",
       "<table border=\"1\" class=\"dataframe\">\n",
       "  <thead>\n",
       "    <tr style=\"text-align: right;\">\n",
       "      <th></th>\n",
       "      <th>Date</th>\n",
       "      <th>Sales</th>\n",
       "      <th>MovingAverage</th>\n",
       "    </tr>\n",
       "  </thead>\n",
       "  <tbody>\n",
       "    <tr>\n",
       "      <th>0</th>\n",
       "      <td>2023-01-01</td>\n",
       "      <td>18000</td>\n",
       "      <td>18000.000000</td>\n",
       "    </tr>\n",
       "    <tr>\n",
       "      <th>1</th>\n",
       "      <td>2023-01-02</td>\n",
       "      <td>20000</td>\n",
       "      <td>19000.000000</td>\n",
       "    </tr>\n",
       "    <tr>\n",
       "      <th>2</th>\n",
       "      <td>2023-01-03</td>\n",
       "      <td>15000</td>\n",
       "      <td>17666.666667</td>\n",
       "    </tr>\n",
       "    <tr>\n",
       "      <th>3</th>\n",
       "      <td>2023-01-04</td>\n",
       "      <td>14000</td>\n",
       "      <td>16750.000000</td>\n",
       "    </tr>\n",
       "    <tr>\n",
       "      <th>4</th>\n",
       "      <td>2023-01-05</td>\n",
       "      <td>11000</td>\n",
       "      <td>15600.000000</td>\n",
       "    </tr>\n",
       "    <tr>\n",
       "      <th>5</th>\n",
       "      <td>2023-01-06</td>\n",
       "      <td>16000</td>\n",
       "      <td>15666.666667</td>\n",
       "    </tr>\n",
       "    <tr>\n",
       "      <th>6</th>\n",
       "      <td>2023-01-07</td>\n",
       "      <td>13000</td>\n",
       "      <td>15285.714286</td>\n",
       "    </tr>\n",
       "  </tbody>\n",
       "</table>\n",
       "</div>"
      ],
      "text/plain": [
       "         Date  Sales  MovingAverage\n",
       "0  2023-01-01  18000   18000.000000\n",
       "1  2023-01-02  20000   19000.000000\n",
       "2  2023-01-03  15000   17666.666667\n",
       "3  2023-01-04  14000   16750.000000\n",
       "4  2023-01-05  11000   15600.000000\n",
       "5  2023-01-06  16000   15666.666667\n",
       "6  2023-01-07  13000   15285.714286"
      ]
     },
     "execution_count": 27,
     "metadata": {},
     "output_type": "execute_result"
    }
   ],
   "source": [
    "# Code:\n",
    "\n",
    "import pandas as pd\n",
    "\n",
    "data = {'Date': ['2023-01-01','2023-01-02','2023-01-03','2023-01-04','2023-01-05','2023-01-06','2023-01-07'],\n",
    "        'Sales': [18000, 20000, 15000,14000,11000,16000,13000]}\n",
    "df = pd.DataFrame(data)\n",
    "df['MovingAverage']=df['Sales'].rolling(window=7, min_periods=1).mean()\n",
    "df"
   ]
  },
  {
   "cell_type": "code",
   "execution_count": null,
   "id": "1d037f6e-7d50-4215-a907-9cb0759738d5",
   "metadata": {},
   "outputs": [],
   "source": []
  },
  {
   "cell_type": "markdown",
   "id": "7ff0d691-4dae-4482-9675-9f9f6d32e7ed",
   "metadata": {},
   "source": [
    "### Q11. You have a Pandas DataFrame df with a column 'Date'. Write a Python function that creates a new column 'Weekday' in the DataFrame. The 'Weekday' column should contain the weekday name (e.g. Monday, Tuesday) corresponding to each date in the 'Date' column."
   ]
  },
  {
   "cell_type": "code",
   "execution_count": 48,
   "id": "66c90a0f-fc1b-4481-91f1-883248c8d96b",
   "metadata": {},
   "outputs": [
    {
     "name": "stdout",
     "output_type": "stream",
     "text": [
      "        Date    Weekday\n",
      "0 2023-01-01     Sunday\n",
      "1 2023-01-02     Monday\n",
      "2 2023-01-03    Tuesday\n",
      "3 2023-01-04  Wednesday\n",
      "4 2023-01-05   Thursday\n"
     ]
    }
   ],
   "source": [
    "# Code:\n",
    "\n",
    "import pandas as pd\n",
    "import calendar\n",
    "from datetime import date\n",
    "\n",
    "data = {'Date': ['2023-01-01','2023-01-02','2023-01-03','2023-01-04','2023-01-05']}\n",
    "df = pd.DataFrame(data)\n",
    "df['Date'] = pd.to_datetime(df['Date'])\n",
    "df['Weekday'] = df['Date'].apply(lambda x: x.strftime('%A'))\n",
    "print(df)"
   ]
  },
  {
   "cell_type": "code",
   "execution_count": null,
   "id": "b85111a7-0f75-41f3-bd9d-9c63bb82782a",
   "metadata": {},
   "outputs": [],
   "source": []
  },
  {
   "cell_type": "markdown",
   "id": "ad39da25-6965-4e10-97bd-f952242461dd",
   "metadata": {},
   "source": [
    "### Q12. Given a Pandas DataFrame df with a column 'Date' that contains timestamps, write a Python function to select all rows where the date is between '2023-01-01' and '2023-01-31'."
   ]
  },
  {
   "cell_type": "code",
   "execution_count": 58,
   "id": "d1dd5109-5553-42e5-b0f5-a364ed6f9afa",
   "metadata": {},
   "outputs": [
    {
     "name": "stdout",
     "output_type": "stream",
     "text": [
      "         Date\n",
      "0  2023-01-01\n",
      "1  2023-01-15\n",
      "2  2023-01-20\n",
      "3  2023-01-31\n",
      "7  2023-01-09\n"
     ]
    }
   ],
   "source": [
    "# Code:\n",
    "\n",
    "import pandas as pd\n",
    "data = {'Date': ['2023-01-01', '2023-01-15', '2023-01-20', '2023-01-31', '2023-02-05','2023-03-20', '2023-04-31', '2023-01-09']}\n",
    "df = pd.DataFrame(data)\n",
    "df = df[(df['Date']>='2023-01-01') & (df['Date']<='2023-01-31')]\n",
    "print(df)"
   ]
  },
  {
   "cell_type": "code",
   "execution_count": null,
   "id": "b56316cf-3e73-4992-b3fb-00a8d54ead62",
   "metadata": {},
   "outputs": [],
   "source": []
  },
  {
   "cell_type": "markdown",
   "id": "278ea4ee-83ce-424d-a19a-66d15caa6a14",
   "metadata": {},
   "source": [
    "### Q13. To use the basic functions of pandas, what is the first and foremost necessary library that needs to be imported?"
   ]
  },
  {
   "cell_type": "markdown",
   "id": "07f5027a-b5e5-4b2b-b18e-db1415d30891",
   "metadata": {},
   "source": [
    "#### Ans:  To import the pandas library, one can use:\n",
    "####            `import pandas as pd`"
   ]
  },
  {
   "cell_type": "code",
   "execution_count": null,
   "id": "c7d59424-4783-4a6a-91c4-1ecc57a7f4c9",
   "metadata": {},
   "outputs": [],
   "source": []
  }
 ],
 "metadata": {
  "kernelspec": {
   "display_name": "Python 3 (ipykernel)",
   "language": "python",
   "name": "python3"
  },
  "language_info": {
   "codemirror_mode": {
    "name": "ipython",
    "version": 3
   },
   "file_extension": ".py",
   "mimetype": "text/x-python",
   "name": "python",
   "nbconvert_exporter": "python",
   "pygments_lexer": "ipython3",
   "version": "3.10.8"
  }
 },
 "nbformat": 4,
 "nbformat_minor": 5
}
