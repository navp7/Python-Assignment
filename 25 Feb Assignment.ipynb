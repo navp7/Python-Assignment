{
 "cells": [
  {
   "cell_type": "markdown",
   "id": "15acf75f-6008-4e93-97de-49b133436fc9",
   "metadata": {},
   "source": [
    "## 25 Feb Assignment"
   ]
  },
  {
   "cell_type": "markdown",
   "id": "1e1faf60-0865-4213-9896-bb0e3703deaf",
   "metadata": {},
   "source": [
    "### Consider following code to answer further questions:\n",
    "\n",
    "import pandas as pd\n",
    "\n",
    "course_name = [‘Data Science’, ‘Machine Learning’, ‘Big Data’, ‘Data Engineer’]\n",
    "\n",
    "duration = [2,3,6,4]\n",
    "\n",
    "df = pd.DataFrame(data = {‘course_name’ : course_name, ‘duration’ : duration})"
   ]
  },
  {
   "cell_type": "markdown",
   "id": "a7504e38-2c1a-48f1-a8f5-2437dfcc0c49",
   "metadata": {},
   "source": [
    "### Q1. Write a code to print the data present in the second row of the dataframe, df."
   ]
  },
  {
   "cell_type": "code",
   "execution_count": 11,
   "id": "c4bec492-237c-431d-a1a6-2ce82bb69b7f",
   "metadata": {},
   "outputs": [
    {
     "name": "stdout",
     "output_type": "stream",
     "text": [
      "        course_name  duration\n",
      "1  Machine Learning         3\n"
     ]
    }
   ],
   "source": [
    "# Code:\n",
    "\n",
    "import pandas as pd\n",
    "0\n",
    "course_name = ['Data Science', 'Machine Learning', 'Big Data', 'Data Engineer']\n",
    "\n",
    "duration = [2,3,6,4]\n",
    "\n",
    "df = pd.DataFrame(data = {'course_name' : course_name, 'duration' : duration})\n",
    "\n",
    "print(df.iloc[[1]])"
   ]
  },
  {
   "cell_type": "code",
   "execution_count": null,
   "id": "e6abf1d8-7998-417d-bb25-6bcafcef6a98",
   "metadata": {},
   "outputs": [],
   "source": []
  },
  {
   "cell_type": "markdown",
   "id": "99e81a9a-5c9f-4d3d-a5ef-92972ac6a918",
   "metadata": {},
   "source": [
    "### Q2. What is the difference between the functions loc and iloc in pandas.DataFrame?"
   ]
  },
  {
   "cell_type": "markdown",
   "id": "60ba3173-15fa-498d-ada0-901b22fbd1c4",
   "metadata": {},
   "source": [
    "#### Ans. \n",
    "\n",
    "#### The difference between loc[] vs iloc[] is described by how you select rows and columns from pandas DataFrame.\n",
    "#### 1. loc[] is used to select rows and columns by Names/Labels\n",
    "#### 2. iloc[] is used to select rows and columns by Integer Index/Position. zero based index position."
   ]
  },
  {
   "cell_type": "code",
   "execution_count": null,
   "id": "2b1f1f7d-56ed-48f5-9e3d-5f8ad9c90deb",
   "metadata": {},
   "outputs": [],
   "source": []
  },
  {
   "cell_type": "markdown",
   "id": "42587105-0cb4-4bf4-854f-e9282bb11e40",
   "metadata": {},
   "source": [
    "### Q3. Reindex the given dataframe using a variable, reindex = [3,0,1,2] and store it in the variable, new_df then find the output for both new_df.loc[2] and new_df.iloc[2]. Did you observe any difference in both the outputs? If so then explain it."
   ]
  },
  {
   "cell_type": "code",
   "execution_count": 22,
   "id": "28278e92-a481-49c0-b264-2c937085f5e7",
   "metadata": {},
   "outputs": [
    {
     "name": "stdout",
     "output_type": "stream",
     "text": [
      "        course_name  duration\n",
      "3     Data Engineer         4\n",
      "0      Data Science         2\n",
      "1  Machine Learning         3\n",
      "2          Big Data         6\n",
      "------------------\n",
      "course_name    Big Data\n",
      "duration              6\n",
      "Name: 2, dtype: object\n",
      "------------------\n",
      "course_name    Machine Learning\n",
      "duration                      3\n",
      "Name: 1, dtype: object\n"
     ]
    }
   ],
   "source": [
    "# Code:\n",
    "\n",
    "import pandas as pd\n",
    "0\n",
    "course_name = ['Data Science', 'Machine Learning', 'Big Data', 'Data Engineer']\n",
    "\n",
    "duration = [2,3,6,4]\n",
    "\n",
    "df = pd.DataFrame(data = {'course_name' : course_name, 'duration' : duration})\n",
    "new_df = df.reindex([3,0,1,2])\n",
    "print(new_df)\n",
    "print('------------------')\n",
    "print(new_df.loc[2])\n",
    "print('------------------')\n",
    "print(new_df.iloc[2])"
   ]
  },
  {
   "cell_type": "markdown",
   "id": "dabb7bac-107d-4dea-bcfe-d51238bf9976",
   "metadata": {},
   "source": [
    "#### Yes there is a difference in both output.\n",
    "#### As we can see for `new_df.iloc[2]` the row value of integer index '2' is obtained.\n",
    "#### While for `new_df.loc[2]` the row value of Label '2' is obtained."
   ]
  },
  {
   "cell_type": "markdown",
   "id": "2565a6bf-442d-429d-9faf-519acc13e790",
   "metadata": {},
   "source": []
  },
  {
   "cell_type": "markdown",
   "id": "975e2ba2-6f2f-4dbb-8694-ba3bb648db02",
   "metadata": {},
   "source": [
    "### Q4. Write a code to find the following statistical measurements for the above dataframe df1:\n",
    "### (i) mean of each and every column present in the dataframe.\n",
    "### (ii) standard deviation of column, ‘column_2’"
   ]
  },
  {
   "cell_type": "code",
   "execution_count": 34,
   "id": "5b7c7d01-1cc6-408a-8726-eda7539709a1",
   "metadata": {},
   "outputs": [
    {
     "name": "stdout",
     "output_type": "stream",
     "text": [
      "   column_1  column_2  column_3  column_4  column_5  column_6\n",
      "1  0.653270  0.730150  0.560616  0.206164  0.955147  0.735680\n",
      "2  0.600405  0.754092  0.336444  0.386844  0.019703  0.971878\n",
      "3  0.864844  0.160086  0.597448  0.629800  0.227019  0.643705\n",
      "4  0.253471  0.210083  0.216239  0.884346  0.270754  0.304146\n",
      "5  0.806439  0.166426  0.849288  0.808535  0.853521  0.404350\n",
      "6  0.057177  0.084394  0.873376  0.810169  0.293676  0.403940\n",
      "------------------\n",
      "Mean of every column: column_1    0.539268\n",
      "column_2    0.350872\n",
      "column_3    0.572235\n",
      "column_4    0.620976\n",
      "column_5    0.436637\n",
      "column_6    0.577283\n",
      "dtype: float64\n",
      "------------------\n",
      "Standard deviation of column_2: 0.35087182459204946\n"
     ]
    }
   ],
   "source": [
    "#Code\n",
    "\n",
    "import pandas as pd\n",
    "import numpy as np\n",
    "columns = ['column_1', 'column_2', 'column_3', 'column_4', 'column_5', 'column_6']\n",
    "indices = [1,2,3,4,5,6]\n",
    "#Creating a dataframe:\n",
    "df1 = pd.DataFrame(np.random.rand(6,6), columns = columns, index = indices)\n",
    "print(df1)\n",
    "print('------------------')\n",
    "print('Mean of every column:',df1.mean())\n",
    "print('------------------')\n",
    "print('Standard deviation of column_2:',df1['column_2'].mean())"
   ]
  },
  {
   "cell_type": "markdown",
   "id": "fbb3f6ac-abd6-4780-8085-483552407c57",
   "metadata": {},
   "source": [
    "### Q5. Replace the data present in the second row of column, ‘column_2’ by a string variable then find the mean of column, column_2. If you are getting errors in executing it then explain why.\n",
    "\n",
    "[Hint: To replace the data use df1.loc[] and equate this to string data of your choice.]"
   ]
  },
  {
   "cell_type": "code",
   "execution_count": 35,
   "id": "8084b269-b103-4319-a301-a0fc71395f88",
   "metadata": {},
   "outputs": [
    {
     "name": "stdout",
     "output_type": "stream",
     "text": [
      "   column_1  column_2  column_3  column_4  column_5  column_6\n",
      "1  0.060360  0.551710  0.611923  0.236407  0.499137  0.269313\n",
      "2  0.289546  0.377375  0.929357  0.869145  0.724544  0.180429\n",
      "3  0.210162  0.347270  0.498393  0.877822  0.671842  0.578987\n",
      "4  0.619887  0.771150  0.688247  0.023610  0.816636  0.224063\n",
      "5  0.112813  0.426908  0.245684  0.715266  0.008552  0.088555\n",
      "6  0.680218  0.391265  0.407766  0.180439  0.246428  0.990137\n"
     ]
    }
   ],
   "source": [
    "#Code\n",
    "\n",
    "import pandas as pd\n",
    "import numpy as np\n",
    "columns = ['column_1', 'column_2', 'column_3', 'column_4', 'column_5', 'column_6']\n",
    "indices = [1,2,3,4,5,6]\n",
    "#Creating a dataframe:\n",
    "df1 = pd.DataFrame(np.random.rand(6,6), columns = columns, index = indices)\n",
    "print(df1)"
   ]
  },
  {
   "cell_type": "code",
   "execution_count": 42,
   "id": "29728dd1-220c-4674-9a55-a4557f7703c6",
   "metadata": {},
   "outputs": [
    {
     "name": "stderr",
     "output_type": "stream",
     "text": [
      "/tmp/ipykernel_70/609029184.py:2: FutureWarning: The default value of numeric_only in DataFrame.mean is deprecated. In a future version, it will default to False. In addition, specifying 'numeric_only=None' is deprecated. Select only valid columns or specify the value of numeric_only to silence this warning.\n",
      "  df1.mean()\n"
     ]
    },
    {
     "data": {
      "text/plain": [
       "column_1    0.328831\n",
       "column_3    0.563562\n",
       "column_4    0.483781\n",
       "column_5    0.494523\n",
       "column_6    0.388581\n",
       "dtype: float64"
      ]
     },
     "execution_count": 42,
     "metadata": {},
     "output_type": "execute_result"
    }
   ],
   "source": [
    "df1['column_2'].loc[[2]] = 'Nav'\n",
    "df1.mean()"
   ]
  },
  {
   "cell_type": "markdown",
   "id": "9153d324-859b-4e25-b67a-90542fdb7f3c",
   "metadata": {},
   "source": [
    "### Error is shown beacuse there is a string character in column_2. So we can't obtain mean for strings. Hence, we find mean for every coulumns expect coulumn_2"
   ]
  },
  {
   "cell_type": "code",
   "execution_count": null,
   "id": "3471cc86-0d72-4730-8f3f-27cccbef8c5f",
   "metadata": {},
   "outputs": [],
   "source": []
  },
  {
   "cell_type": "markdown",
   "id": "ff5a81f0-aea7-4d0b-a837-05442ef9ca20",
   "metadata": {},
   "source": [
    "### Q6. What do you understand about the windows function in pandas and list the types of windows functions?"
   ]
  },
  {
   "cell_type": "markdown",
   "id": "73969fff-ae92-459a-9801-9f1b871be850",
   "metadata": {},
   "source": [
    "In pandas, the `rolling()` function is used to perform rolling window calculations on time series or other ordered data. A rolling window calculation applies a function to a specified window of data points and generates an output series with the results.\n",
    "\n",
    "The `rolling()` function is typically used in conjunction with an aggregation function to compute statistics such as moving averages, cumulative sums, or other window-based calculations.\n",
    "\n",
    "Here's the general syntax for using the `rolling()` function:\n",
    "\n",
    "```python\n",
    "data_frame.rolling(window, [parameters]).<aggregation_function>\n",
    "```\n",
    "\n",
    "where:\n",
    "- `data_frame` is the pandas DataFrame or Series on which the rolling window calculation is performed.\n",
    "- `window` specifies the size of the window, indicating the number of data points included in each calculation.\n",
    "- `[parameters]` (optional) includes additional parameters that can be specified depending on the aggregation function.\n",
    "- `<aggregation_function>` is the function applied to each window of data points.\n",
    "\n",
    "There are various types of aggregation functions that can be used with the `rolling()` function. Some commonly used ones include:\n",
    "\n",
    "1. `mean()`: Computes the rolling mean for each window.\n",
    "2. `sum()`: Calculates the rolling sum for each window.\n",
    "3. `min()`: Finds the minimum value within each window.\n",
    "4. `max()`: Finds the maximum value within each window.\n",
    "5. `count()`: Counts the number of non-null values within each window.\n",
    "6. `std()`: Calculates the rolling standard deviation for each window.\n",
    "7. `var()`: Computes the rolling variance for each window.\n",
    "8. `apply()`: Applies a custom function to each window.\n",
    "\n",
    "These are just a few examples, and there are other aggregation functions available in pandas that can be used with `rolling()`.\n",
    "\n",
    "It's important to note that the `rolling()` function operates on ordered data, such as time series data, where the order of the observations matters."
   ]
  },
  {
   "cell_type": "code",
   "execution_count": null,
   "id": "cc4f886d-5071-4091-b91c-49e0e177a7fd",
   "metadata": {},
   "outputs": [],
   "source": []
  },
  {
   "cell_type": "markdown",
   "id": "1dd5cbb9-6637-4ebf-9170-b2d39ffdaa0e",
   "metadata": {},
   "source": [
    "### Q7. Write a code to print only the current month and year at the time of answering this question.\n",
    "[Hint: Use pandas.datetime function]"
   ]
  },
  {
   "cell_type": "code",
   "execution_count": 45,
   "id": "23794d84-93e2-4bec-aa29-3baed02d460c",
   "metadata": {},
   "outputs": [
    {
     "name": "stdout",
     "output_type": "stream",
     "text": [
      "Current Month: 7\n",
      "Current Year: 2023\n"
     ]
    },
    {
     "name": "stderr",
     "output_type": "stream",
     "text": [
      "/tmp/ipykernel_70/777620451.py:4: FutureWarning: The pandas.datetime class is deprecated and will be removed from pandas in a future version. Import from datetime module instead.\n",
      "  current_date = pd.datetime.now()\n"
     ]
    }
   ],
   "source": [
    "# Code:\n",
    "from datetime import date\n",
    "import pandas as pd\n",
    "current_date = pd.datetime.now()\n",
    "current_month = current_date.month\n",
    "current_year = current_date.year\n",
    "\n",
    "print(\"Current Month:\", current_month)\n",
    "print(\"Current Year:\", current_year)"
   ]
  },
  {
   "cell_type": "code",
   "execution_count": null,
   "id": "851761f1-2697-4423-bc25-fecf382d3b5e",
   "metadata": {},
   "outputs": [],
   "source": []
  },
  {
   "cell_type": "markdown",
   "id": "c00212ae-be47-4b57-b8c7-bf330623f55a",
   "metadata": {},
   "source": [
    "### Q8. Write a Python program that takes in two dates as input (in the format YYYY-MM-DD) and calculates the difference between them in days, hours, and minutes using Pandas time delta. The program should prompt the user to enter the dates and display the result."
   ]
  },
  {
   "cell_type": "code",
   "execution_count": 2,
   "id": "e0587aa3-a9aa-4e88-8368-302c7e500925",
   "metadata": {},
   "outputs": [
    {
     "name": "stdin",
     "output_type": "stream",
     "text": [
      "Enter the first date (YYYY-MM-DD):  2024-10-12\n",
      "Enter the second date (YYYY-MM-DD):  2025-05-30\n"
     ]
    },
    {
     "name": "stdout",
     "output_type": "stream",
     "text": [
      "Difference:\n",
      "Days: 230\n",
      "Hours: 0\n",
      "Minutes: 0\n"
     ]
    }
   ],
   "source": [
    "# Code\n",
    "\n",
    "import pandas as pd\n",
    "date1 = input(\"Enter the first date (YYYY-MM-DD): \")\n",
    "date2 = input(\"Enter the second date (YYYY-MM-DD): \")\n",
    "\n",
    "timestamp1 = pd.Timestamp(date1)\n",
    "timestamp2 = pd.Timestamp(date2)\n",
    "\n",
    "time_diff = timestamp2 - timestamp1\n",
    "days = time_diff.days\n",
    "hours = time_diff.seconds // 3600\n",
    "minutes = (time_diff.seconds // 60) % 60\n",
    "\n",
    "# Display the result\n",
    "print(\"Difference:\")\n",
    "print(\"Days:\", days)\n",
    "print(\"Hours:\", hours)\n",
    "print(\"Minutes:\", minutes)"
   ]
  },
  {
   "cell_type": "code",
   "execution_count": null,
   "id": "23eff45d-a4c3-4b8b-9a29-3c65b8483ed4",
   "metadata": {},
   "outputs": [],
   "source": []
  },
  {
   "cell_type": "markdown",
   "id": "369136a4-d6ce-4af2-95f5-3269a619253a",
   "metadata": {},
   "source": [
    "### Q9. Write a Python program that reads a CSV file containing categorical data and converts a specified column to a categorical data type. The program should prompt the user to enter the file path, column name, and category order, and then display the sorted data."
   ]
  },
  {
   "cell_type": "code",
   "execution_count": 29,
   "id": "1ba9e8f8-1762-4a3a-b29f-19e02374e2f6",
   "metadata": {},
   "outputs": [
    {
     "name": "stdin",
     "output_type": "stream",
     "text": [
      "Enter the file path: addresses.csv\n",
      "Enter the column name: State\n",
      "Enter the category order:  NJ NJ SD CO PA SD\n"
     ]
    },
    {
     "name": "stdout",
     "output_type": "stream",
     "text": [
      "                    Name   Surname                              Add1  \\\n",
      "0                   John       Doe                 120 jefferson st.   \n",
      "2          John \"Da Man\"    Repici                 120 Jefferson St.   \n",
      "1                   Jack  McGinnis                      220 hobo Av.   \n",
      "4                    NaN  Blankman                               NaN   \n",
      "5  Joan \"the bone\", Anne       Jet               9th, at Terrace plc   \n",
      "3                Stephen     Tyler  7452 Terrace \"At the Plaza\" road   \n",
      "\n",
      "          Add2 State  Pincode  \n",
      "0    Riverside    NJ     8075  \n",
      "2    Riverside    NJ     8075  \n",
      "1        Phila    PA     9119  \n",
      "4     SomeTown    SD      298  \n",
      "5  Desert City    CO      123  \n",
      "3     SomeTown    SD    91234  \n"
     ]
    }
   ],
   "source": [
    "# Code:\n",
    "\n",
    "import pandas as pd\n",
    "address = input(\"Enter the file path:\")\n",
    "col_name = input (\"Enter the column name:\")\n",
    "cat_name = input (\"Enter the category order:\").split(',')\n",
    "\n",
    "\n",
    "df = pd.read_csv(address)\n",
    "cat_df = pd.Categorical(df[col_name] ,categories=cat_name, ordered = True)\n",
    "sorted_data = df.sort_values(col_name)\n",
    "print(sorted_data)"
   ]
  },
  {
   "cell_type": "code",
   "execution_count": null,
   "id": "5698667d-84f2-4fd3-9404-fb9ae0cb7458",
   "metadata": {},
   "outputs": [],
   "source": []
  },
  {
   "cell_type": "markdown",
   "id": "9f22cbd1-eee7-44c1-93f1-c48b3501a314",
   "metadata": {},
   "source": [
    "### Q10. Write a Python program that reads a CSV file containing sales data for different products and visualizes the data using a stacked bar chart to show the sales of each product category over time. The program should prompt the user to enter the file path and display the chart."
   ]
  },
  {
   "cell_type": "code",
   "execution_count": 1,
   "id": "179a82a2-1fe9-47e0-bbdf-5e5c03b0f672",
   "metadata": {},
   "outputs": [
    {
     "name": "stdin",
     "output_type": "stream",
     "text": [
      "Enter the file path/name: sales_data.csv\n"
     ]
    },
    {
     "ename": "NameError",
     "evalue": "name 'plt' is not defined",
     "output_type": "error",
     "traceback": [
      "\u001b[0;31m---------------------------------------------------------------------------\u001b[0m",
      "\u001b[0;31mNameError\u001b[0m                                 Traceback (most recent call last)",
      "Cell \u001b[0;32mIn[1], line 11\u001b[0m\n\u001b[1;32m      8\u001b[0m gp \u001b[38;5;241m=\u001b[39m df\u001b[38;5;241m.\u001b[39mgroupby([\u001b[38;5;124m'\u001b[39m\u001b[38;5;124mCategory\u001b[39m\u001b[38;5;124m'\u001b[39m,\u001b[38;5;124m'\u001b[39m\u001b[38;5;124mDate\u001b[39m\u001b[38;5;124m'\u001b[39m])[\u001b[38;5;124m'\u001b[39m\u001b[38;5;124mSales\u001b[39m\u001b[38;5;124m'\u001b[39m]\u001b[38;5;241m.\u001b[39msum()\u001b[38;5;241m.\u001b[39munstack()\n\u001b[1;32m      9\u001b[0m gp\u001b[38;5;241m.\u001b[39mplot(kind\u001b[38;5;241m=\u001b[39m\u001b[38;5;124m'\u001b[39m\u001b[38;5;124mbar\u001b[39m\u001b[38;5;124m'\u001b[39m, stacked\u001b[38;5;241m=\u001b[39m\u001b[38;5;28;01mTrue\u001b[39;00m)\n\u001b[0;32m---> 11\u001b[0m \u001b[43mplt\u001b[49m\u001b[38;5;241m.\u001b[39mtitle(\u001b[38;5;124m'\u001b[39m\u001b[38;5;124mSales by Product Category\u001b[39m\u001b[38;5;124m'\u001b[39m)\n\u001b[1;32m     12\u001b[0m plt\u001b[38;5;241m.\u001b[39mxlabel(\u001b[38;5;124m'\u001b[39m\u001b[38;5;124mDate\u001b[39m\u001b[38;5;124m'\u001b[39m)\n\u001b[1;32m     13\u001b[0m plt\u001b[38;5;241m.\u001b[39mylabel(\u001b[38;5;124m'\u001b[39m\u001b[38;5;124mSales\u001b[39m\u001b[38;5;124m'\u001b[39m)\n",
      "\u001b[0;31mNameError\u001b[0m: name 'plt' is not defined"
     ]
    },
    {
     "data": {
      "image/png": "[encoded data removed]",
      "text/plain": [
       "<Figure size 640x480 with 1 Axes>"
      ]
     },
     "metadata": {},
     "output_type": "display_data"
    }
   ],
   "source": [
    "import pandas as pd\n",
    "\n",
    "file_name = input('Enter the file path/name:')\n",
    "\n",
    "df = pd.read_csv(file_name)\n",
    "\n",
    "df['Date'] = pd.to_datetime(df['Date'])\n",
    "gp = df.groupby(['Category','Date'])['Sales'].sum().unstack()\n",
    "gp.plot(kind='bar', stacked=True)\n",
    "\n",
    "plt.title('Sales by Product Category')\n",
    "plt.xlabel('Date')\n",
    "plt.ylabel('Sales')\n",
    "\n",
    "\n",
    "plt.show()"
   ]
  },
  {
   "cell_type": "code",
   "execution_count": null,
   "id": "55612237-8492-47bd-a12f-0203f52c364e",
   "metadata": {},
   "outputs": [],
   "source": []
  },
  {
   "cell_type": "markdown",
   "id": "4cb912d5-3751-42e5-8d61-baaa7bb38dac",
   "metadata": {},
   "source": [
    "### Q11. You are given a CSV file containing student data that includes the student ID and their test score. Write a Python program that reads the CSV file, calculates the mean, median, and mode of the test scores, and displays the results in a table.\n",
    "\n",
    "### The program should do the following:\n",
    "1. Prompt the user to enter the file path of the CSV file containing the student data\n",
    "2. Read the CSV file into a Pandas DataFrame\n",
    "3. Calculate the mean, median, and mode of the test scores using Pandas tools\n",
    "4. Display the mean, median, and mode in a table."
   ]
  },
  {
   "cell_type": "code",
   "execution_count": 8,
   "id": "96be444a-e741-4c74-a3ab-212ed522c250",
   "metadata": {},
   "outputs": [
    {
     "name": "stdin",
     "output_type": "stream",
     "text": [
      "Enter the file path/name: student_data.csv\n"
     ]
    },
    {
     "name": "stdout",
     "output_type": "stream",
     "text": [
      "   Student ID  Test Score\n",
      "0           1          85\n",
      "1           2          90\n",
      "2           3          80\n",
      "3           4          75\n",
      "4           5          85\n",
      "5           6          82\n",
      "6           7          78\n",
      "7           8          85\n",
      "8           9          90\n",
      "9          10          85\n",
      "  Statistic  Value\n",
      "0      Mean   83.5\n",
      "1      Mode   85.0\n",
      "2    Median   85.0\n"
     ]
    }
   ],
   "source": [
    "import pandas as pd\n",
    "\n",
    "file_name = input('Enter the file path/name:')\n",
    "\n",
    "df = pd.read_csv(file_name)\n",
    "stats = {\"Statistic\": ['Mean', 'Mode' , 'Median'],\n",
    "         \"Value\": [df['Test Score'].mean(), df['Test Score'].mode().values[0], df['Test Score'].median()] }\n",
    "\n",
    "new_df = pd.DataFrame(stats)\n",
    "print(new_df)"
   ]
  },
  {
   "cell_type": "code",
   "execution_count": null,
   "id": "f1252d6d-7770-4175-bb1a-3e4e96db2300",
   "metadata": {},
   "outputs": [],
   "source": []
  }
 ],
 "metadata": {
  "kernelspec": {
   "display_name": "Python 3 (ipykernel)",
   "language": "python",
   "name": "python3"
  },
  "language_info": {
   "codemirror_mode": {
    "name": "ipython",
    "version": 3
   },
   "file_extension": ".py",
   "mimetype": "text/x-python",
   "name": "python",
   "nbconvert_exporter": "python",
   "pygments_lexer": "ipython3",
   "version": "3.10.8"
  }
 },
 "nbformat": 4,
 "nbformat_minor": 5
}
