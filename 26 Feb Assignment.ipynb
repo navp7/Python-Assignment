{
 "cells": [
  {
   "cell_type": "markdown",
   "id": "02a66d18-6cba-461a-9a81-96f16e6a13e8",
   "metadata": {},
   "source": [
    "## 26 Feb Assignment"
   ]
  },
  {
   "cell_type": "markdown",
   "id": "8a3baef2-0632-4f23-986f-5113cc3fff38",
   "metadata": {},
   "source": [
    "### Consider the below code to answer further questions:\n",
    "\n",
    "### import numpy as np\n",
    "### list_ = [ ‘1’ , ’2’ , ‘3’ , ‘4’ , ‘5’ ]\n",
    "### array_list = np.array(object = list_)"
   ]
  },
  {
   "cell_type": "markdown",
   "id": "61e7414f-c72b-41ad-86b2-a690512ebe79",
   "metadata": {},
   "source": [
    "### Q1. Is there any difference in the data type of variables list_ and array_list? If there is then write a code to print the data types of both the variables."
   ]
  },
  {
   "cell_type": "markdown",
   "id": "de8bbe6f-7f05-42a5-8fa1-8e76b4f018bb",
   "metadata": {},
   "source": [
    "#### Yes, there is a difference in both data types.\n",
    "#### `list_` is a list object, and the elements inside it are strings. The data type is `list`.\n",
    "\n",
    "#### `array_list` is a NumPy array created from `list_` object. The elements in `array_list` will also be stored as strings but the data type is `numpy.ndarray`"
   ]
  },
  {
   "cell_type": "code",
   "execution_count": 12,
   "id": "9fefb822-61f1-470c-a90f-572da689e563",
   "metadata": {},
   "outputs": [
    {
     "name": "stdout",
     "output_type": "stream",
     "text": [
      "Data type of list_ <class 'list'>\n",
      "Data type of array_list <class 'numpy.ndarray'>\n"
     ]
    }
   ],
   "source": [
    "#Code:\n",
    "import numpy as np\n",
    "list_ = [ '1' , '2' , '3' , '4' , '5' ]\n",
    "array_list = np.array(object = list_)\n",
    "print('Data type of list_',type(list_))\n",
    "print('Data type of array_list',type(array_list))"
   ]
  },
  {
   "cell_type": "code",
   "execution_count": null,
   "id": "e754df8d-fc05-4ac0-8325-2062cf6aeecc",
   "metadata": {},
   "outputs": [],
   "source": []
  },
  {
   "cell_type": "markdown",
   "id": "67edb460-44be-4a7e-a8c8-f928de18438b",
   "metadata": {},
   "source": [
    "### Q2. Write a code to print the data type of each and every element of both the variables list_ and array_list."
   ]
  },
  {
   "cell_type": "code",
   "execution_count": 15,
   "id": "8c511d1d-0ffa-4376-9d24-51cb93c2ec40",
   "metadata": {},
   "outputs": [
    {
     "name": "stdout",
     "output_type": "stream",
     "text": [
      "Data types of elements in list_:\n",
      "<class 'str'>\n",
      "<class 'str'>\n",
      "<class 'str'>\n",
      "<class 'str'>\n",
      "<class 'str'>\n",
      "-----------------------\n",
      "Data types of elements in array_list:\n",
      "<class 'numpy.str_'>\n",
      "<class 'numpy.str_'>\n",
      "<class 'numpy.str_'>\n",
      "<class 'numpy.str_'>\n",
      "<class 'numpy.str_'>\n"
     ]
    }
   ],
   "source": [
    "#Code:\n",
    "import numpy as np\n",
    "list_ = [ '1' , '2' , '3' , '4' , '5' ]\n",
    "array_list = np.array(object = list_)\n",
    "\n",
    "print(\"Data types of elements in list_:\")\n",
    "for element in list_:\n",
    "    print(type(element))\n",
    "print('-----------------------')\n",
    "print(\"Data types of elements in array_list:\")\n",
    "for element in array_list:\n",
    "    print(type(element))"
   ]
  },
  {
   "cell_type": "code",
   "execution_count": null,
   "id": "4ff57317-f1be-4ed4-bc23-023c4934d8aa",
   "metadata": {},
   "outputs": [],
   "source": []
  },
  {
   "cell_type": "markdown",
   "id": "54c24600-9147-4a4d-858b-d42ff941ab39",
   "metadata": {},
   "source": [
    "### Q3. Considering the following changes in the variable, array_list:\n",
    "\n",
    "### array_list = np.array(object = list_, dtype = int)\n",
    "\n",
    "### Will there be any difference in the data type of the elements present in both the variables, list_ and array_list? If so then print the data types of each and every element present in both the variables, list_ and array_list."
   ]
  },
  {
   "cell_type": "code",
   "execution_count": 16,
   "id": "e44da412-709b-4792-a5f1-75231c26f4f6",
   "metadata": {},
   "outputs": [
    {
     "name": "stdout",
     "output_type": "stream",
     "text": [
      "Data types of elements in list_:\n",
      "<class 'str'>\n",
      "<class 'str'>\n",
      "<class 'str'>\n",
      "<class 'str'>\n",
      "<class 'str'>\n",
      "-----------------------\n",
      "Data types of elements in array_list:\n",
      "<class 'numpy.int64'>\n",
      "<class 'numpy.int64'>\n",
      "<class 'numpy.int64'>\n",
      "<class 'numpy.int64'>\n",
      "<class 'numpy.int64'>\n"
     ]
    }
   ],
   "source": [
    "#Code:\n",
    "import numpy as np\n",
    "list_ = [ '1' , '2' , '3' , '4' , '5' ]\n",
    "array_list = np.array(object = list_, dtype = int)\n",
    "\n",
    "print(\"Data types of elements in list_:\")\n",
    "for element in list_:\n",
    "    print(type(element))\n",
    "print('-----------------------')\n",
    "print(\"Data types of elements in array_list:\")\n",
    "for element in array_list:\n",
    "    print(type(element))"
   ]
  },
  {
   "cell_type": "markdown",
   "id": "0e48103d-14d9-424f-aec3-c0cbf14b4bfc",
   "metadata": {},
   "source": [
    "#### Yes, there is a difference in both data types.\n",
    "#### `list_` is a list object, and the elements inside it are strings. The data type is list.\n",
    "#### `array_list` is a NumPy array created from list_ object. The elements in array_list will be now stored as integers because of `'dtype=int'` but the data type for `array_list` is numpy.ndarray"
   ]
  },
  {
   "cell_type": "code",
   "execution_count": null,
   "id": "ab5d407f-1f6c-41d7-8d39-ce4757d2d58c",
   "metadata": {},
   "outputs": [],
   "source": []
  },
  {
   "cell_type": "markdown",
   "id": "e732ea8c-670e-40f3-887e-8f7fb9c78144",
   "metadata": {},
   "source": [
    "### Consider the below code to answer further questions:\n",
    "\n",
    "### import numpy as np\n",
    "### num_list = [ [ 1 , 2 , 3 ] , [ 4 , 5 , 6 ] ]\n",
    "### num_array = np.array(object = num_list)"
   ]
  },
  {
   "cell_type": "markdown",
   "id": "e140c99c-2fa6-43b0-9f0d-769eb374b771",
   "metadata": {},
   "source": [
    "### Q4. Write a code to find the following characteristics of variable, num_array:\n",
    "### (i) shape\n",
    "### (ii) size"
   ]
  },
  {
   "cell_type": "code",
   "execution_count": 23,
   "id": "cb06c735-3afa-4b18-94b7-eae7d0ac8b0d",
   "metadata": {},
   "outputs": [
    {
     "name": "stdout",
     "output_type": "stream",
     "text": [
      "Shape of Array: (2, 3)\n",
      "Size of Array: 6\n"
     ]
    }
   ],
   "source": [
    "#Code:\n",
    "\n",
    "import numpy as np\n",
    "num_list = [ [ 1 , 2 , 3 ] , [ 4 , 5 , 6 ] ]\n",
    "num_array = np.array(object = num_list)\n",
    "\n",
    "print('Shape of Array:',np.shape(num_array))\n",
    "print('Size of Array:',np.size(num_array))"
   ]
  },
  {
   "cell_type": "code",
   "execution_count": null,
   "id": "854d4fd6-516e-49cf-a625-98b565696340",
   "metadata": {},
   "outputs": [],
   "source": []
  },
  {
   "cell_type": "markdown",
   "id": "b166a082-6c30-4332-bf2c-e9c93458f8b0",
   "metadata": {},
   "source": [
    "### Q5. Write a code to create numpy array of 3*3 matrix containing zeros only, using a numpy array creation function."
   ]
  },
  {
   "cell_type": "code",
   "execution_count": 26,
   "id": "7a778f6d-02d9-478c-9692-c5f675c714e1",
   "metadata": {},
   "outputs": [
    {
     "name": "stdout",
     "output_type": "stream",
     "text": [
      "[[0. 0. 0.]\n",
      " [0. 0. 0.]\n",
      " [0. 0. 0.]]\n"
     ]
    }
   ],
   "source": [
    "import numpy as np\n",
    "arr=np.zeros([3,3])\n",
    "print(arr)"
   ]
  },
  {
   "cell_type": "code",
   "execution_count": null,
   "id": "79481484-18aa-4c44-9502-74cb5dd2ef3d",
   "metadata": {},
   "outputs": [],
   "source": []
  },
  {
   "cell_type": "markdown",
   "id": "0f9a579e-ad2d-49b5-a078-13d689be56ab",
   "metadata": {},
   "source": [
    "### Q6. Create an identity matrix of shape (5,5) using numpy functions?"
   ]
  },
  {
   "cell_type": "code",
   "execution_count": 29,
   "id": "d3b9a8b5-abc4-4233-9b16-a1dc4aaf7bb6",
   "metadata": {},
   "outputs": [
    {
     "name": "stdout",
     "output_type": "stream",
     "text": [
      "[[1. 0. 0. 0. 0.]\n",
      " [0. 1. 0. 0. 0.]\n",
      " [0. 0. 1. 0. 0.]\n",
      " [0. 0. 0. 1. 0.]\n",
      " [0. 0. 0. 0. 1.]]\n"
     ]
    }
   ],
   "source": [
    "import numpy as np\n",
    "arr=np.eye(5,5)\n",
    "print(arr)"
   ]
  },
  {
   "cell_type": "code",
   "execution_count": null,
   "id": "ed76248f-18cc-4e0e-b90e-d3919d206068",
   "metadata": {},
   "outputs": [],
   "source": []
  }
 ],
 "metadata": {
  "kernelspec": {
   "display_name": "Python 3 (ipykernel)",
   "language": "python",
   "name": "python3"
  },
  "language_info": {
   "codemirror_mode": {
    "name": "ipython",
    "version": 3
   },
   "file_extension": ".py",
   "mimetype": "text/x-python",
   "name": "python",
   "nbconvert_exporter": "python",
   "pygments_lexer": "ipython3",
   "version": "3.10.8"
  }
 },
 "nbformat": 4,
 "nbformat_minor": 5
}
