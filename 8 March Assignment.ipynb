{
 "cells": [
  {
   "cell_type": "markdown",
   "id": "ce8864ca-d49d-4e24-b1ad-7ffb24d9febb",
   "metadata": {},
   "source": [
    "## 8 March Assignment"
   ]
  },
  {
   "cell_type": "markdown",
   "id": "ee72884a-7afb-401b-8b50-66901c328452",
   "metadata": {},
   "source": [
    "## Statistics Advance-1"
   ]
  },
  {
   "cell_type": "markdown",
   "id": "39f6d086-03f9-4312-b38a-b081446c5849",
   "metadata": {},
   "source": [
    "### Q1. What is the Probability density function?"
   ]
  },
  {
   "cell_type": "markdown",
   "id": "ed3e74ac-4a1a-4bff-b4f0-4bc9b6050052",
   "metadata": {},
   "source": [
    "The Probability Density Function (PDF) is a fundamental concept in probability theory and statistics. It is used to describe the likelihood of a continuous random variable taking on a specific value within a certain range. In other words, it defines the probability distribution of a continuous random variable.\n",
    "\n",
    "The PDF, denoted as f(x), gives the relative likelihood of the random variable X falling within a particular interval [a, b] as:\n",
    "\n",
    "P(a ≤ X ≤ b) = ∫(a to b) f(x) dx\n",
    "\n",
    "Here, P(a ≤ X ≤ b) represents the probability that the value of X lies between a and b, and the integral ∫(a to b) f(x) dx calculates the area under the curve of the PDF between a and b.\n",
    "\n",
    "Some properties of a probability density function are:\n",
    "\n",
    "1. f(x) is always non-negative: f(x) ≥ 0 for all x.\n",
    "2. The total area under the curve is equal to 1: ∫(-∞ to ∞) f(x) dx = 1.\n",
    "3. The probability that X takes any specific value is zero, as the area under a single point on the continuous distribution is zero.\n",
    "\n",
    "Different probability distributions have different PDFs. For example, the PDF of a continuous uniform distribution over the interval [a, b] is a constant function between a and b and zero outside that range. The PDF of a normal (Gaussian) distribution has a bell-shaped curve, and the specific shape depends on its mean and standard deviation."
   ]
  },
  {
   "cell_type": "markdown",
   "id": "57bcb88c-bc30-46ae-8c19-68d424ccd186",
   "metadata": {},
   "source": [
    "### Q2. What are the types of Probability distribution?"
   ]
  },
  {
   "cell_type": "markdown",
   "id": "cd132e02-4ab7-4ddd-8673-62b32a8be6fe",
   "metadata": {},
   "source": [
    "Probability distributions categorize the possible outcomes of a random variable and their associated probabilities. There are two main types of probability distributions: discrete probability distributions and continuous probability distributions. Within these categories, several common distributions are used to model different types of data. Here are some of the most well-known distributions:\n",
    "\n",
    "1. Discrete Probability Distributions:\n",
    "   - Bernoulli distribution: Models a single trial with two possible outcomes (e.g., success/failure, yes/no) with a fixed probability of success.\n",
    "   - Binomial distribution: Represents the number of successes in a fixed number of independent Bernoulli trials.\n",
    "   - Poisson distribution: Models the number of events that occur in a fixed interval of time or space when the events occur at a constant rate and independently of the time since the last event.\n",
    "   - Geometric distribution: Represents the number of trials required to achieve the first success in a sequence of independent Bernoulli trials.\n",
    "   - Hypergeometric distribution: Represents the probability of selecting a specific number of successes in a fixed sample without replacement from a finite population with specific success and failure counts.\n",
    "\n",
    "2. Continuous Probability Distributions:\n",
    "   - Normal (Gaussian) distribution: One of the most widely used distributions, characterized by a symmetric bell-shaped curve. It is used to model various natural phenomena and is central to many statistical methods.\n",
    "   - Uniform distribution: Assumes that all values within a specified range are equally likely to occur.\n",
    "   - Exponential distribution: Represents the time between events in a Poisson process, where events occur at a constant rate independently of the time since the last event.\n",
    "   - Beta distribution: A versatile distribution often used as a prior distribution for probabilities in Bayesian statistics.\n",
    "   - Gamma distribution: Generalizes the exponential distribution and is used to model waiting times or durations.\n",
    "   - Chi-squared distribution: Used in hypothesis testing and confidence interval construction for the variance of a normal population.\n",
    "   - Student's t-distribution: Used in hypothesis testing when the sample size is small, and the population variance is unknown.\n",
    "\n",
    "These are just a few examples of probability distributions. There are many other specialized distributions used in various fields of science and engineering to model specific types of data."
   ]
  },
  {
   "cell_type": "markdown",
   "id": "eb44e39d-4fc4-4f6d-a6ad-58c29a607b58",
   "metadata": {},
   "source": [
    "### Q3. Write a Python function to calculate the probability density function of a normal distribution with  given mean and standard deviation at a given point."
   ]
  },
  {
   "cell_type": "code",
   "execution_count": 1,
   "id": "6e7a880a-571f-4235-b6c7-5a9a49922e9f",
   "metadata": {},
   "outputs": [
    {
     "name": "stdout",
     "output_type": "stream",
     "text": [
      "The PDF at x = 6.5 is: 0.15056871607740221\n"
     ]
    }
   ],
   "source": [
    "import math\n",
    "\n",
    "def normal_pdf(x, mean, std_dev):\n",
    "    \"\"\"\n",
    "    Calculate the (PDF) of a normal distribution at a given point.\n",
    "    Parameters:\n",
    "        x : The value at which to calculate the PDF.\n",
    "        mean : The mean (average) of the normal distribution.\n",
    "        std_dev : The standard deviation of the normal distribution.\n",
    "    \"\"\"\n",
    "    coefficient = 1 / (std_dev * math.sqrt(2 * math.pi))\n",
    "    exponent = -0.5 * ((x - mean) / std_dev) ** 2\n",
    "    pdf_value = coefficient * math.exp(exponent)\n",
    "    return pdf_value\n",
    "\n",
    "# Example:\n",
    "mean = 5.0\n",
    "std_dev = 2.0\n",
    "x_value = 6.5\n",
    "pdf_at_x = normal_pdf(x_value, mean, std_dev)\n",
    "print(f\"The PDF at x = {x_value} is: {pdf_at_x}\")\n"
   ]
  },
  {
   "cell_type": "markdown",
   "id": "acac724b-0f53-4e70-a322-8496ae034d01",
   "metadata": {},
   "source": [
    "### Q4. What are the properties of Binomial distribution? Give two examples of events where binomial distribution can be applied."
   ]
  },
  {
   "cell_type": "markdown",
   "id": "75b4310a-7301-4596-bff6-4cd139985c2d",
   "metadata": {},
   "source": [
    "The Binomial distribution is a discrete probability distribution that models the number of successes in a fixed number of independent Bernoulli trials, where each trial has only two possible outcomes: success (S) or failure (F). The properties of the Binomial distribution are as follows:\n",
    "\n",
    "1. The trials are independent: The outcome of one trial does not affect the outcome of another trial.\n",
    "2. Each trial has two outcomes: Success (S) with probability \\( p \\) and failure (F) with probability \\( 1 - p \\).\n",
    "3. The number of trials, denoted as \\( n \\), is fixed and known.\n",
    "4. The random variable \\( X \\) represents the number of successes in \\( n \\) trials.\n",
    "5. The probability of obtaining exactly \\( k \\) successes in \\( n \\) trials is given by the probability mass function:\n",
    "\n",
    "\\[ P(X = k) = \\binom{n}{k} \\cdot p^k \\cdot (1 - p)^{n-k} \\]\n",
    "\n",
    "Where:\n",
    "- \\( k \\) is the number of successes (0 ≤ \\( k \\) ≤ \\( n \\)).\n",
    "- \\( p \\) is the probability of success in a single trial.\n",
    "- \\( 1 - p \\) is the probability of failure in a single trial.\n",
    "- \\( \\binom{n}{k} \\) is the binomial coefficient, given by \\( \\frac{n!}{k!(n-k)!} \\), which represents the number of ways to choose \\( k \\) successes from \\( n \\) trials.\n",
    "\n",
    "Two examples of events where the Binomial distribution can be applied are:\n",
    "\n",
    "1. Coin Flipping: Consider flipping a fair coin \\( n \\) times. Each flip has two possible outcomes: heads (success) or tails (failure). The probability of getting heads in a single flip is \\( p = \\frac{1}{2} \\), and the probability of getting tails is \\( 1 - p = \\frac{1}{2} \\). The number of heads obtained in \\( n \\) flips follows a Binomial distribution.\n",
    "\n",
    "2. Quality Control: In a manufacturing process, a company might test a random sample of \\( n \\) products from a large batch. Each product in the sample can be classified as either defective (success) or non-defective (failure). The probability of a product being defective is \\( p \\), and the probability of a product being non-defective is \\( 1 - p \\). The number of defective products in the sample follows a Binomial distribution.\n",
    "\n",
    "In both examples, the Binomial distribution helps to analyze the probability of obtaining a specific number of successes (heads or defective products) in a fixed number of trials (coin flips or product tests)."
   ]
  },
  {
   "cell_type": "markdown",
   "id": "cef88f45-2906-4ec1-bd43-46328e0ce08e",
   "metadata": {},
   "source": [
    "### Q5. Generate a random sample of size 1000 from a binomial distribution with probability of success 0.4 and plot a histogram of the results using matplotlib."
   ]
  },
  {
   "cell_type": "code",
   "execution_count": 9,
   "id": "cbba848b-aabe-4aa9-8ebb-3086f476c2e0",
   "metadata": {},
   "outputs": [
    {
     "data": {
      "image/png": "[encoded data removed]",
      "text/plain": [
       "<Figure size 640x480 with 1 Axes>"
      ]
     },
     "metadata": {},
     "output_type": "display_data"
    }
   ],
   "source": [
    "import numpy as np\n",
    "import matplotlib.pyplot as plt\n",
    "\n",
    "# Generate the random sample from a binomial distribution\n",
    "sample = np.random.binomial(1, 0.4, 1000)\n",
    "\n",
    "# Plot the histogram\n",
    "plt.hist(sample, bins=2, edgecolor='black', alpha=0.7)\n",
    "plt.xlabel('Outcome')\n",
    "plt.ylabel('Frequency')\n",
    "plt.xticks([0, 1], ['Failure', 'Success'])\n",
    "plt.title('Histogram from Binomial Distribution')\n",
    "plt.show()"
   ]
  },
  {
   "cell_type": "markdown",
   "id": "519ed0e1-ede2-4e4a-9abd-32f14041ffab",
   "metadata": {},
   "source": [
    "### Q6. Write a Python function to calculate the cumulative distribution function of a Poisson distribution with given mean at a given point."
   ]
  },
  {
   "cell_type": "code",
   "execution_count": null,
   "id": "28b5393c-d674-46c4-a89d-99daabaaa89b",
   "metadata": {},
   "outputs": [],
   "source": [
    "import math\n",
    "\n",
    "def poisson_cdf(k, mean):\n",
    "    \"\"\"\n",
    "    Calculate the CDF of a Poisson distribution at a given point.\n",
    "\n",
    "    Parameters:\n",
    "        k (int): The value at which to calculate the CDF.\n",
    "        mean (float): The mean of the Poisson distribution.\n",
    "    \"\"\"\n",
    "    cdf_value = 0\n",
    "    for i in range(k + 1):\n",
    "        cdf_value += (math.exp(-mean) * mean ** i) / math.factorial(i)\n",
    "    return cdf_value\n",
    "\n",
    "# Example:\n",
    "mean = 3.5\n",
    "k_value = 2\n",
    "cdf_at_k = poisson_cdf(k_value, mean)\n",
    "print(f\"The CDF at k = {k_value} is: {cdf_at_k}\")\n"
   ]
  },
  {
   "cell_type": "markdown",
   "id": "dd392ce8-21cb-4c74-ad25-88e66565352a",
   "metadata": {},
   "source": [
    "### Q7. How Binomial distribution different from Poisson distribution?"
   ]
  },
  {
   "cell_type": "markdown",
   "id": "a90810f1-73af-4cca-b627-6d7093a54c66",
   "metadata": {},
   "source": [
    "The Binomial distribution and the Poisson distribution are both probability distributions used to model the number of successes in a fixed number of trials, but they have some key differences:\n",
    "\n",
    "1. Nature of Trials:\n",
    "   - Binomial Distribution: The Binomial distribution models the number of successes in a fixed number of independent Bernoulli trials. Each trial has only two possible outcomes: success (S) or failure (F).\n",
    "   - Poisson Distribution: The Poisson distribution models the number of events that occur in a fixed interval of time or space, given a constant rate of occurrence and independence between events.\n",
    "\n",
    "2. Number of Trials:\n",
    "   - Binomial Distribution: The number of trials, denoted as \\( n \\), is fixed and known in advance.\n",
    "   - Poisson Distribution: The Poisson distribution is used when the number of trials is large or is theoretically infinite, making it suitable for rare events occurring in a continuous flow.\n",
    "\n",
    "3. Possible Outcomes:\n",
    "   - Binomial Distribution: In each trial, there are only two possible outcomes: success or failure, represented by binary values (usually 0 and 1).\n",
    "   - Poisson Distribution: The Poisson distribution deals with count data, where the number of events can take any non-negative integer value.\n",
    "\n",
    "4. Parameters:\n",
    "   - Binomial Distribution: The Binomial distribution is characterized by two parameters: the probability of success in a single trial (\\( p \\)) and the number of trials (\\( n \\)).\n",
    "   - Poisson Distribution: The Poisson distribution is characterized by a single parameter, the average rate of events (\\( \\lambda \\)) occurring in a fixed interval of time or space.\n",
    "\n",
    "5. Assumptions:\n",
    "   - Binomial Distribution: The trials in the Binomial distribution are assumed to be independent and identically distributed (i.i.d.), and the probability of success (\\( p \\)) remains constant throughout all trials.\n",
    "   - Poisson Distribution: The Poisson distribution assumes that the events occur independently of each other and that the average rate of events remains constant over time or space.\n",
    "\n",
    "6. Shape of Distribution:\n",
    "   - Binomial Distribution: The Binomial distribution is discrete and represented by a histogram with distinct bars.\n",
    "   - Poisson Distribution: The Poisson distribution is also discrete, but it becomes increasingly similar to a continuous distribution as the mean (\\( \\lambda \\)) increases.\n",
    "\n",
    "In summary, the Binomial distribution is used to model the number of successes in a fixed number of independent trials with two possible outcomes, while the Poisson distribution is used to model the number of rare events occurring in a fixed interval, assuming a constant rate of occurrence and independence between events."
   ]
  },
  {
   "cell_type": "markdown",
   "id": "1011149f-cad4-4262-a496-27765feecb62",
   "metadata": {},
   "source": [
    "### Q8. Generate a random sample of size 1000 from a Poisson distribution with mean 5 and calculate the sample mean and variance."
   ]
  },
  {
   "cell_type": "code",
   "execution_count": 22,
   "id": "64a106e8-ed26-4120-90a3-276b6859a3cd",
   "metadata": {},
   "outputs": [
    {
     "name": "stdout",
     "output_type": "stream",
     "text": [
      "Sample Mean: 4.943\n",
      "Sample Variance: 4.972723723723724\n"
     ]
    }
   ],
   "source": [
    "import numpy as np\n",
    "\n",
    "size = 1000\n",
    "mean = 5\n",
    "sample = np.random.poisson(mean, size)\n",
    "\n",
    "# sample mean and variance\n",
    "sample_mean = np.mean(sample)\n",
    "sample_variance = np.var(sample, ddof=1)\n",
    "\n",
    "print(\"Sample Mean:\", sample_mean)\n",
    "print(\"Sample Variance:\", sample_variance)"
   ]
  },
  {
   "cell_type": "markdown",
   "id": "c8397960-4359-4cec-a5ed-6e72c9d16bf4",
   "metadata": {},
   "source": [
    "### Q9. How mean and variance are related in Binomial distribution and Poisson distribution?"
   ]
  },
  {
   "cell_type": "markdown",
   "id": "a17520fa-e9c2-49a9-8b7e-a296acdb99c1",
   "metadata": {},
   "source": [
    "In both the Binomial distribution and the Poisson distribution, the mean and variance are related in a specific way. Let's explore this relationship for each distribution:\n",
    "\n",
    "1. Binomial Distribution:\n",
    "   - Mean: The mean of a Binomial distribution with parameters \\(n\\) (number of trials) and \\(p\\) (probability of success in a single trial) is given by \\(np\\). This means the expected number of successes in \\(n\\) trials is \\(np\\).\n",
    "   - Variance: The variance of a Binomial distribution is given by \\(np(1-p)\\).\n",
    "\n",
    "2. Poisson Distribution:\n",
    "   - Mean: The mean of a Poisson distribution is denoted by \\(\\lambda\\). It represents the average rate of events occurring in a fixed interval of time or space. In this case, the mean is equal to both the expected value and the variance.\n",
    "   - Variance: The variance of a Poisson distribution is also denoted by \\(\\lambda\\).\n",
    "\n",
    "The relationship between the mean and variance in both distributions is that they are equal. Therefore, for a Binomial distribution with parameters \\(n\\) and \\(p\\), the mean and variance are both \\(np\\). Similarly, for a Poisson distribution with mean \\(\\lambda\\), both the mean and variance are \\(\\lambda\\).\n",
    "\n",
    "Mathematically, for both distributions:\n",
    "\\[ \\text{Mean} = \\text{Variance} = \\lambda = np \\]\n",
    "\n",
    "This relationship is not a coincidence but has a deeper theoretical significance. In both distributions, the variance is determined by the average rate of occurrence (\\(np\\) for the Binomial distribution and \\(\\lambda\\) for the Poisson distribution). When the average rate is relatively small compared to the number of trials (\\(n\\) for the Binomial distribution), the distributions become increasingly skewed, and the variance becomes smaller than the mean. However, as the average rate increases and approaches the number of trials (or becomes larger for the Poisson distribution), the distributions become more symmetric and the variance approaches the mean.\n",
    "\n",
    "This relationship between mean and variance is a key characteristic of the Binomial and Poisson distributions and is crucial in understanding their properties and behavior."
   ]
  },
  {
   "cell_type": "markdown",
   "id": "67594966-b2fb-43ac-9bab-bdd41b2d65e4",
   "metadata": {},
   "source": [
    "### Q10. In normal distribution with respect to mean position, where does the least frequent data appear?"
   ]
  },
  {
   "cell_type": "markdown",
   "id": "5a9618cb-d745-4a8c-8794-18d2f8658922",
   "metadata": {},
   "source": [
    "In a normal distribution, the least frequent data appears in the tails of the distribution, farthest away from the mean position. The normal distribution is symmetric, and the majority of the data is concentrated around the mean, with progressively fewer data points as we move towards the tails.\n",
    "\n",
    "The normal distribution follows a bell-shaped curve, with the mean (\\(\\mu\\)) as the center of the curve. As we move away from the mean towards the tails, the probability density decreases, indicating that data points in the tails are less likely to occur.\n",
    "\n",
    "In a standard normal distribution (a specific type of normal distribution with a mean of 0 and a standard deviation of 1), approximately 68% of the data lies within one standard deviation of the mean, about 95% within two standard deviations, and nearly 99.7% within three standard deviations.\n",
    "\n",
    "Remember, the least frequent data points are in the extreme tails of the normal distribution, while the most frequent data points are close to the mean. The tails represent the less probable and more extreme outcomes, while the center represents the most probable outcomes."
   ]
  },
  {
   "cell_type": "code",
   "execution_count": null,
   "id": "91da2063-95a9-4353-a095-59bff822fc77",
   "metadata": {},
   "outputs": [],
   "source": []
  }
 ],
 "metadata": {
  "kernelspec": {
   "display_name": "Python 3 (ipykernel)",
   "language": "python",
   "name": "python3"
  },
  "language_info": {
   "codemirror_mode": {
    "name": "ipython",
    "version": 3
   },
   "file_extension": ".py",
   "mimetype": "text/x-python",
   "name": "python",
   "nbconvert_exporter": "python",
   "pygments_lexer": "ipython3",
   "version": "3.10.8"
  }
 },
 "nbformat": 4,
 "nbformat_minor": 5
}
