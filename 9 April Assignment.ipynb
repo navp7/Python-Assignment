{
 "cells": [
  {
   "cell_type": "markdown",
   "id": "d8fa8da4-9dab-4505-9130-4c85c0e3cd17",
   "metadata": {},
   "source": [
    "# Naïve bayes-1"
   ]
  },
  {
   "cell_type": "markdown",
   "id": "8243b2dc-72f3-4347-9946-f67dbaca8fe0",
   "metadata": {},
   "source": [
    "### Q1. What is Bayes' theorem?\n"
   ]
  },
  {
   "cell_type": "markdown",
   "id": "552ace14-44f2-427e-8235-cd0887c8fe22",
   "metadata": {},
   "source": [
    "Bayes' theorem is a fundamental concept in probability theory and statistics. It provides a way to update or revise the probability for a hypothesis based on new evidence. It's particularly useful in situations where we want to make inferences about the likelihood of an event occurring, given prior knowledge and new data. Bayes' theorem allows us to incorporate prior beliefs or information and combine it with new evidence to arrive at a more informed and updated probability estimate."
   ]
  },
  {
   "cell_type": "markdown",
   "id": "5bea8592-bf4a-459d-9718-0786898e13d4",
   "metadata": {},
   "source": [
    "### Q2. What is the formula for Bayes' theorem?\n"
   ]
  },
  {
   "attachments": {
    "1bb91769-1ad9-4813-b91b-f50ab1dac10d.png": {
     "image/png": "[encoded data removed]"
    }
   },
   "cell_type": "markdown",
   "id": "5571ffa3-309c-47a5-9df3-12f7c4c01043",
   "metadata": {},
   "source": [
    "The formula for Bayes' theorem is as follows:\n",
    "\n",
    "![image.png](attachment:1bb91769-1ad9-4813-b91b-f50ab1dac10d.png)\n",
    "\n",
    "- \\(P(A|B)\\) represents the conditional probability of A given B.\n",
    "- \\(P(B|A)\\) represents the conditional probability of B given A.\n",
    "- \\(P(A)\\) is the prior probability of A.\n",
    "- \\(P(B)\\) is the prior probability of B."
   ]
  },
  {
   "cell_type": "markdown",
   "id": "1d04df24-dcd9-49b2-8b1e-317f84fa53c9",
   "metadata": {},
   "source": [
    "### 3. How is Bayes' theorem used in practice?\n"
   ]
  },
  {
   "cell_type": "markdown",
   "id": "f47ecbc2-7ad2-4062-b137-7653d84fc930",
   "metadata": {},
   "source": [
    "Bayes' theorem is used in various fields and practical applications, including:\n",
    "\n",
    "Statistics and Probability: Bayes' theorem is a fundamental concept in Bayesian statistics, which is a branch of statistics that uses probability to update and refine our beliefs about the likelihood of different outcomes.\n",
    "\n",
    "Machine Learning: Bayesian methods are used in machine learning for classification tasks, such as spam detection and text classification. In these applications, Bayes' theorem is used to calculate the probability of a particular class or label given observed features.\n",
    "\n",
    "Medical Diagnosis: Bayes' theorem is used in medical diagnosis to update the probability of a disease given new test results and a prior estimate of the patient's risk.\n",
    "\n",
    "Natural Language Processing: In language models and speech recognition systems, Bayes' theorem can be used to estimate the most likely word or phrase given the context and previous words.\n",
    "\n",
    "Finance: In finance, Bayes' theorem is used for risk assessment, portfolio management, and prediction of financial events.\n",
    "\n",
    "A/B Testing: It is used to analyze the results of A/B tests in marketing and website optimization. It helps to determine the significance of observed differences between two versions of a webpage or product."
   ]
  },
  {
   "cell_type": "markdown",
   "id": "3abae9d0-718a-40d7-9fcb-4f98c102153b",
   "metadata": {},
   "source": [
    "### Q4. What is the relationship between Bayes' theorem and conditional probability?\n"
   ]
  },
  {
   "cell_type": "markdown",
   "id": "62aeeff3-2b18-417d-bdff-01af9beffc29",
   "metadata": {},
   "source": [
    "Bayes' theorem and conditional probability are closely related concepts. Bayes' theorem is a mathematical formula used to calculate conditional probabilities. Specifically, it provides a way to update the probability of an event (A) occurring given new evidence (B). In the formula:\n",
    "\n",
    "![image.png](attachment:1bb91769-1ad9-4813-b91b-f50ab1dac10d.png)\n",
    "\n",
    "- \\(P(A|B)\\) represents the conditional probability of A given B.\n",
    "- \\(P(B|A)\\) represents the conditional probability of B given A.\n",
    "- \\(P(A)\\) is the prior probability of A.\n",
    "- \\(P(B)\\) is the prior probability of B.\n",
    "\n",
    "So, Bayes' theorem allows us to calculate the conditional probability \\(P(A|B)\\) based on the conditional probability \\(P(B|A)\\), the prior probability of A, and the prior probability of B."
   ]
  },
  {
   "cell_type": "markdown",
   "id": "b9515868-7e32-41e9-a4a0-cfe3bb7e90fa",
   "metadata": {},
   "source": [
    "### Q5. How do you choose which type of Naive Bayes classifier to use for any given problem?"
   ]
  },
  {
   "cell_type": "markdown",
   "id": "19242a1c-00d1-44a8-b3b7-009cfbd67177",
   "metadata": {},
   "source": [
    "Naive Bayes is a family of classification algorithms, and there are several variants of Naive Bayes classifiers, including Gaussian Naive Bayes, Multinomial Naive Bayes, and Bernoulli Naive Bayes. The choice of which type of Naive Bayes classifier to use depends on the nature of your data and the specific problem you are trying to solve:\n",
    "\n",
    "1. **Gaussian Naive Bayes:** This variant is suitable for continuous or real-valued features that are assumed to follow a Gaussian (normal) distribution. It's often used in problems where the feature distribution is approximately normal, such as in some natural language processing tasks or when dealing with sensor data.\n",
    "\n",
    "2. **Multinomial Naive Bayes:** This variant is commonly used for text classification tasks, especially when working with discrete data such as word counts or term frequencies. It assumes that features are drawn from a multinomial distribution, making it suitable for problems involving count data.\n",
    "\n",
    "3. **Bernoulli Naive Bayes:** This variant is used when dealing with binary data, where features are either present (1) or absent (0). It's often used for document classification tasks when representing documents as binary vectors (bag of words), where each term is either present or not in the document.\n",
    "\n",
    "The choice of the Naive Bayes variant depends on the type of data and the assumptions about the feature distributions in your specific problem. If you have a good understanding of the data and its distribution, you can choose the most appropriate variant. Additionally, it's a good practice to experiment with different Naive Bayes classifiers and evaluate their performance to determine which one works best for your particular task."
   ]
  },
  {
   "cell_type": "markdown",
   "id": "01abe356-e633-4479-b02f-857f4f0ef1b9",
   "metadata": {},
   "source": [
    "### You have a dataset with two features, X1 and X2, and two possible classes, A and B. You want to use Naive Bayes to classify a new instance with features X1 = 3 and X2 = 4. The following table shows the frequency of each feature value for each class:\n",
    "\n",
    "### Class X1=1 X1=2 X1=3 X2=1 X2=2 X2=3 X2=4\n",
    " ###   A 3 3 4 4 3 3 3\n",
    " ###   B 2 2 1 2 2 2 3\n",
    "\n",
    "### Assuming equal prior probabilities for each class, which class would Naive Bayes predict the new instance to belong to?"
   ]
  },
  {
   "cell_type": "markdown",
   "id": "81b52e19-0133-4627-92e7-a735cda01581",
   "metadata": {},
   "source": [
    "Let's calculate the probabilities for both classes:\n",
    "\n",
    "For Class A:\n",
    "- \\(P(X1 = 3 | A) = \\frac{4}{10}\\)\n",
    "- \\(P(X2 = 4 | A) = \\frac{3}{10}\\)\n",
    "\n",
    "For Class B:\n",
    "- \\(P(X1 = 3 | B) = \\frac{1}{9}\\)\n",
    "- \\(P(X2 = 4 | B) = \\frac{3}{9}\\)\n",
    "\n",
    "Since you have equal prior probabilities for each class (P(A) = P(B)), you can use these conditional probabilities to calculate the likelihood of each class given the new instance:\n",
    "\n",
    "For Class A:\n",
    "\\(P(A | X1 = 3, X2 = 4) \\propto P(X1 = 3 | A) * P(X2 = 4 | A) = \\frac{4}{10} * \\frac{3}{10} = \\frac{12}{100}\\)\n",
    "\n",
    "For Class B:\n",
    "\\(P(B | X1 = 3, X2 = 4) \\propto P(X1 = 3 | B) * P(X2 = 4 | B) = \\frac{1}{9} * \\frac{3}{9} = \\frac{3}{81}\\)\n",
    "\n",
    "To make a prediction, normalize these probabilities by dividing by their sum:\n",
    "\n",
    "\\(P(A | X1 = 3, X2 = 4) = \\frac{\\frac{12}{100}}{\\frac{12}{100} + \\frac{3}{81}}\\)\n",
    "\n",
    "\\(P(B | X1 = 3, X2 = 4) = \\frac{\\frac{3}{81}}{\\frac{12}{100} + \\frac{3}{81}}\\)\n",
    "\n",
    "Now, calculate these probabilities:\n",
    "\n",
    "\\(P(A | X1 = 3, X2 = 4) \\approx 0.9851\\)\n",
    "\n",
    "\\(P(B | X1 = 3, X2 = 4) \\approx 0.0149\\)\n",
    "\n",
    "Naive Bayes predicts the new instance to belong to Class A since it has a much higher probability.\n",
    "\n",
    "So, the Naive Bayes classifier would predict that the new instance with features X1 = 3 and X2 = 4 belongs to Class A."
   ]
  },
  {
   "cell_type": "code",
   "execution_count": null,
   "id": "885ec800-5c0e-4809-9323-bd166d04639f",
   "metadata": {},
   "outputs": [],
   "source": []
  }
 ],
 "metadata": {
  "kernelspec": {
   "display_name": "Python 3 (ipykernel)",
   "language": "python",
   "name": "python3"
  },
  "language_info": {
   "codemirror_mode": {
    "name": "ipython",
    "version": 3
   },
   "file_extension": ".py",
   "mimetype": "text/x-python",
   "name": "python",
   "nbconvert_exporter": "python",
   "pygments_lexer": "ipython3",
   "version": "3.10.8"
  }
 },
 "nbformat": 4,
 "nbformat_minor": 5
}
